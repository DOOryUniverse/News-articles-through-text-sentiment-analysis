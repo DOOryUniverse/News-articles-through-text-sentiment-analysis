{
  "nbformat": 4,
  "nbformat_minor": 0,
  "metadata": {
    "colab": {
      "name": "테슬라 추가 한달 추가한것 .ipynb",
      "provenance": []
    },
    "kernelspec": {
      "name": "python3",
      "display_name": "Python 3"
    },
    "language_info": {
      "name": "python"
    }
  },
  "cells": [
    {
      "cell_type": "code",
      "metadata": {
        "id": "waxbog10fG5R"
      },
      "source": [
        "import requests\n",
        "import json\n",
        "import numpy as np\n",
        "import pandas as pd\n",
        "import nltk \n",
        "import matplotlib\n",
        "from nltk.tokenize import sent_tokenize, word_tokenize\n",
        "from nltk.corpus import stopwords\n",
        "from string import punctuation\n",
        "import re\n",
        "import numpy as np\n",
        "from nltk.tokenize import RegexpTokenizer\n",
        "from nltk.stem import WordNetLemmatizer"
      ],
      "execution_count": null,
      "outputs": []
    },
    {
      "cell_type": "code",
      "metadata": {
        "colab": {
          "base_uri": "https://localhost:8080/"
        },
        "id": "VnteCraifQjZ",
        "outputId": "ff6cf4a7-d07d-42ba-e4f1-0c8fa68d6132"
      },
      "source": [
        "import nltk\n",
        "\n",
        "nltk.download('all')"
      ],
      "execution_count": null,
      "outputs": [
        {
          "output_type": "stream",
          "text": [
            "[nltk_data] Downloading collection 'all'\n",
            "[nltk_data]    | \n",
            "[nltk_data]    | Downloading package abc to /root/nltk_data...\n",
            "[nltk_data]    |   Unzipping corpora/abc.zip.\n",
            "[nltk_data]    | Downloading package alpino to /root/nltk_data...\n",
            "[nltk_data]    |   Unzipping corpora/alpino.zip.\n",
            "[nltk_data]    | Downloading package biocreative_ppi to\n",
            "[nltk_data]    |     /root/nltk_data...\n",
            "[nltk_data]    |   Unzipping corpora/biocreative_ppi.zip.\n",
            "[nltk_data]    | Downloading package brown to /root/nltk_data...\n",
            "[nltk_data]    |   Unzipping corpora/brown.zip.\n",
            "[nltk_data]    | Downloading package brown_tei to /root/nltk_data...\n",
            "[nltk_data]    |   Unzipping corpora/brown_tei.zip.\n",
            "[nltk_data]    | Downloading package cess_cat to /root/nltk_data...\n",
            "[nltk_data]    |   Unzipping corpora/cess_cat.zip.\n",
            "[nltk_data]    | Downloading package cess_esp to /root/nltk_data...\n",
            "[nltk_data]    |   Unzipping corpora/cess_esp.zip.\n",
            "[nltk_data]    | Downloading package chat80 to /root/nltk_data...\n",
            "[nltk_data]    |   Unzipping corpora/chat80.zip.\n",
            "[nltk_data]    | Downloading package city_database to\n",
            "[nltk_data]    |     /root/nltk_data...\n",
            "[nltk_data]    |   Unzipping corpora/city_database.zip.\n",
            "[nltk_data]    | Downloading package cmudict to /root/nltk_data...\n",
            "[nltk_data]    |   Unzipping corpora/cmudict.zip.\n",
            "[nltk_data]    | Downloading package comparative_sentences to\n",
            "[nltk_data]    |     /root/nltk_data...\n",
            "[nltk_data]    |   Unzipping corpora/comparative_sentences.zip.\n",
            "[nltk_data]    | Downloading package comtrans to /root/nltk_data...\n",
            "[nltk_data]    | Downloading package conll2000 to /root/nltk_data...\n",
            "[nltk_data]    |   Unzipping corpora/conll2000.zip.\n",
            "[nltk_data]    | Downloading package conll2002 to /root/nltk_data...\n",
            "[nltk_data]    |   Unzipping corpora/conll2002.zip.\n",
            "[nltk_data]    | Downloading package conll2007 to /root/nltk_data...\n",
            "[nltk_data]    | Downloading package crubadan to /root/nltk_data...\n",
            "[nltk_data]    |   Unzipping corpora/crubadan.zip.\n",
            "[nltk_data]    | Downloading package dependency_treebank to\n",
            "[nltk_data]    |     /root/nltk_data...\n",
            "[nltk_data]    |   Unzipping corpora/dependency_treebank.zip.\n",
            "[nltk_data]    | Downloading package dolch to /root/nltk_data...\n",
            "[nltk_data]    |   Unzipping corpora/dolch.zip.\n",
            "[nltk_data]    | Downloading package europarl_raw to\n",
            "[nltk_data]    |     /root/nltk_data...\n",
            "[nltk_data]    |   Unzipping corpora/europarl_raw.zip.\n",
            "[nltk_data]    | Downloading package floresta to /root/nltk_data...\n",
            "[nltk_data]    |   Unzipping corpora/floresta.zip.\n",
            "[nltk_data]    | Downloading package framenet_v15 to\n",
            "[nltk_data]    |     /root/nltk_data...\n",
            "[nltk_data]    |   Unzipping corpora/framenet_v15.zip.\n",
            "[nltk_data]    | Downloading package framenet_v17 to\n",
            "[nltk_data]    |     /root/nltk_data...\n",
            "[nltk_data]    |   Unzipping corpora/framenet_v17.zip.\n",
            "[nltk_data]    | Downloading package gazetteers to /root/nltk_data...\n",
            "[nltk_data]    |   Unzipping corpora/gazetteers.zip.\n",
            "[nltk_data]    | Downloading package genesis to /root/nltk_data...\n",
            "[nltk_data]    |   Unzipping corpora/genesis.zip.\n",
            "[nltk_data]    | Downloading package gutenberg to /root/nltk_data...\n",
            "[nltk_data]    |   Unzipping corpora/gutenberg.zip.\n",
            "[nltk_data]    | Downloading package ieer to /root/nltk_data...\n",
            "[nltk_data]    |   Unzipping corpora/ieer.zip.\n",
            "[nltk_data]    | Downloading package inaugural to /root/nltk_data...\n",
            "[nltk_data]    |   Unzipping corpora/inaugural.zip.\n",
            "[nltk_data]    | Downloading package indian to /root/nltk_data...\n",
            "[nltk_data]    |   Unzipping corpora/indian.zip.\n",
            "[nltk_data]    | Downloading package jeita to /root/nltk_data...\n",
            "[nltk_data]    | Downloading package kimmo to /root/nltk_data...\n",
            "[nltk_data]    |   Unzipping corpora/kimmo.zip.\n",
            "[nltk_data]    | Downloading package knbc to /root/nltk_data...\n",
            "[nltk_data]    | Downloading package lin_thesaurus to\n",
            "[nltk_data]    |     /root/nltk_data...\n",
            "[nltk_data]    |   Unzipping corpora/lin_thesaurus.zip.\n",
            "[nltk_data]    | Downloading package mac_morpho to /root/nltk_data...\n",
            "[nltk_data]    |   Unzipping corpora/mac_morpho.zip.\n",
            "[nltk_data]    | Downloading package machado to /root/nltk_data...\n",
            "[nltk_data]    | Downloading package masc_tagged to /root/nltk_data...\n",
            "[nltk_data]    | Downloading package moses_sample to\n",
            "[nltk_data]    |     /root/nltk_data...\n",
            "[nltk_data]    |   Unzipping models/moses_sample.zip.\n",
            "[nltk_data]    | Downloading package movie_reviews to\n",
            "[nltk_data]    |     /root/nltk_data...\n",
            "[nltk_data]    |   Unzipping corpora/movie_reviews.zip.\n",
            "[nltk_data]    | Downloading package names to /root/nltk_data...\n",
            "[nltk_data]    |   Unzipping corpora/names.zip.\n",
            "[nltk_data]    | Downloading package nombank.1.0 to /root/nltk_data...\n",
            "[nltk_data]    | Downloading package nps_chat to /root/nltk_data...\n",
            "[nltk_data]    |   Unzipping corpora/nps_chat.zip.\n",
            "[nltk_data]    | Downloading package omw to /root/nltk_data...\n",
            "[nltk_data]    |   Unzipping corpora/omw.zip.\n",
            "[nltk_data]    | Downloading package opinion_lexicon to\n",
            "[nltk_data]    |     /root/nltk_data...\n",
            "[nltk_data]    |   Unzipping corpora/opinion_lexicon.zip.\n",
            "[nltk_data]    | Downloading package paradigms to /root/nltk_data...\n",
            "[nltk_data]    |   Unzipping corpora/paradigms.zip.\n",
            "[nltk_data]    | Downloading package pil to /root/nltk_data...\n",
            "[nltk_data]    |   Unzipping corpora/pil.zip.\n",
            "[nltk_data]    | Downloading package pl196x to /root/nltk_data...\n",
            "[nltk_data]    |   Unzipping corpora/pl196x.zip.\n",
            "[nltk_data]    | Downloading package ppattach to /root/nltk_data...\n",
            "[nltk_data]    |   Unzipping corpora/ppattach.zip.\n",
            "[nltk_data]    | Downloading package problem_reports to\n",
            "[nltk_data]    |     /root/nltk_data...\n",
            "[nltk_data]    |   Unzipping corpora/problem_reports.zip.\n",
            "[nltk_data]    | Downloading package propbank to /root/nltk_data...\n",
            "[nltk_data]    | Downloading package ptb to /root/nltk_data...\n",
            "[nltk_data]    |   Unzipping corpora/ptb.zip.\n",
            "[nltk_data]    | Downloading package product_reviews_1 to\n",
            "[nltk_data]    |     /root/nltk_data...\n",
            "[nltk_data]    |   Unzipping corpora/product_reviews_1.zip.\n",
            "[nltk_data]    | Downloading package product_reviews_2 to\n",
            "[nltk_data]    |     /root/nltk_data...\n",
            "[nltk_data]    |   Unzipping corpora/product_reviews_2.zip.\n",
            "[nltk_data]    | Downloading package pros_cons to /root/nltk_data...\n",
            "[nltk_data]    |   Unzipping corpora/pros_cons.zip.\n",
            "[nltk_data]    | Downloading package qc to /root/nltk_data...\n",
            "[nltk_data]    |   Unzipping corpora/qc.zip.\n",
            "[nltk_data]    | Downloading package reuters to /root/nltk_data...\n",
            "[nltk_data]    | Downloading package rte to /root/nltk_data...\n",
            "[nltk_data]    |   Unzipping corpora/rte.zip.\n",
            "[nltk_data]    | Downloading package semcor to /root/nltk_data...\n",
            "[nltk_data]    | Downloading package senseval to /root/nltk_data...\n",
            "[nltk_data]    |   Unzipping corpora/senseval.zip.\n",
            "[nltk_data]    | Downloading package sentiwordnet to\n",
            "[nltk_data]    |     /root/nltk_data...\n",
            "[nltk_data]    |   Unzipping corpora/sentiwordnet.zip.\n",
            "[nltk_data]    | Downloading package sentence_polarity to\n",
            "[nltk_data]    |     /root/nltk_data...\n",
            "[nltk_data]    |   Unzipping corpora/sentence_polarity.zip.\n",
            "[nltk_data]    | Downloading package shakespeare to /root/nltk_data...\n",
            "[nltk_data]    |   Unzipping corpora/shakespeare.zip.\n",
            "[nltk_data]    | Downloading package sinica_treebank to\n",
            "[nltk_data]    |     /root/nltk_data...\n",
            "[nltk_data]    |   Unzipping corpora/sinica_treebank.zip.\n",
            "[nltk_data]    | Downloading package smultron to /root/nltk_data...\n",
            "[nltk_data]    |   Unzipping corpora/smultron.zip.\n",
            "[nltk_data]    | Downloading package state_union to /root/nltk_data...\n",
            "[nltk_data]    |   Unzipping corpora/state_union.zip.\n",
            "[nltk_data]    | Downloading package stopwords to /root/nltk_data...\n",
            "[nltk_data]    |   Unzipping corpora/stopwords.zip.\n",
            "[nltk_data]    | Downloading package subjectivity to\n",
            "[nltk_data]    |     /root/nltk_data...\n",
            "[nltk_data]    |   Unzipping corpora/subjectivity.zip.\n",
            "[nltk_data]    | Downloading package swadesh to /root/nltk_data...\n",
            "[nltk_data]    |   Unzipping corpora/swadesh.zip.\n",
            "[nltk_data]    | Downloading package switchboard to /root/nltk_data...\n",
            "[nltk_data]    |   Unzipping corpora/switchboard.zip.\n",
            "[nltk_data]    | Downloading package timit to /root/nltk_data...\n",
            "[nltk_data]    |   Unzipping corpora/timit.zip.\n",
            "[nltk_data]    | Downloading package toolbox to /root/nltk_data...\n",
            "[nltk_data]    |   Unzipping corpora/toolbox.zip.\n",
            "[nltk_data]    | Downloading package treebank to /root/nltk_data...\n",
            "[nltk_data]    |   Unzipping corpora/treebank.zip.\n",
            "[nltk_data]    | Downloading package twitter_samples to\n",
            "[nltk_data]    |     /root/nltk_data...\n",
            "[nltk_data]    |   Unzipping corpora/twitter_samples.zip.\n",
            "[nltk_data]    | Downloading package udhr to /root/nltk_data...\n",
            "[nltk_data]    |   Unzipping corpora/udhr.zip.\n",
            "[nltk_data]    | Downloading package udhr2 to /root/nltk_data...\n",
            "[nltk_data]    |   Unzipping corpora/udhr2.zip.\n",
            "[nltk_data]    | Downloading package unicode_samples to\n",
            "[nltk_data]    |     /root/nltk_data...\n",
            "[nltk_data]    |   Unzipping corpora/unicode_samples.zip.\n",
            "[nltk_data]    | Downloading package universal_treebanks_v20 to\n",
            "[nltk_data]    |     /root/nltk_data...\n",
            "[nltk_data]    | Downloading package verbnet to /root/nltk_data...\n",
            "[nltk_data]    |   Unzipping corpora/verbnet.zip.\n",
            "[nltk_data]    | Downloading package verbnet3 to /root/nltk_data...\n",
            "[nltk_data]    |   Unzipping corpora/verbnet3.zip.\n",
            "[nltk_data]    | Downloading package webtext to /root/nltk_data...\n",
            "[nltk_data]    |   Unzipping corpora/webtext.zip.\n",
            "[nltk_data]    | Downloading package wordnet to /root/nltk_data...\n",
            "[nltk_data]    |   Unzipping corpora/wordnet.zip.\n",
            "[nltk_data]    | Downloading package wordnet_ic to /root/nltk_data...\n",
            "[nltk_data]    |   Unzipping corpora/wordnet_ic.zip.\n",
            "[nltk_data]    | Downloading package words to /root/nltk_data...\n",
            "[nltk_data]    |   Unzipping corpora/words.zip.\n",
            "[nltk_data]    | Downloading package ycoe to /root/nltk_data...\n",
            "[nltk_data]    |   Unzipping corpora/ycoe.zip.\n",
            "[nltk_data]    | Downloading package rslp to /root/nltk_data...\n",
            "[nltk_data]    |   Unzipping stemmers/rslp.zip.\n",
            "[nltk_data]    | Downloading package maxent_treebank_pos_tagger to\n",
            "[nltk_data]    |     /root/nltk_data...\n",
            "[nltk_data]    |   Unzipping taggers/maxent_treebank_pos_tagger.zip.\n",
            "[nltk_data]    | Downloading package universal_tagset to\n",
            "[nltk_data]    |     /root/nltk_data...\n",
            "[nltk_data]    |   Unzipping taggers/universal_tagset.zip.\n",
            "[nltk_data]    | Downloading package maxent_ne_chunker to\n",
            "[nltk_data]    |     /root/nltk_data...\n",
            "[nltk_data]    |   Unzipping chunkers/maxent_ne_chunker.zip.\n",
            "[nltk_data]    | Downloading package punkt to /root/nltk_data...\n",
            "[nltk_data]    |   Unzipping tokenizers/punkt.zip.\n",
            "[nltk_data]    | Downloading package book_grammars to\n",
            "[nltk_data]    |     /root/nltk_data...\n",
            "[nltk_data]    |   Unzipping grammars/book_grammars.zip.\n",
            "[nltk_data]    | Downloading package sample_grammars to\n",
            "[nltk_data]    |     /root/nltk_data...\n",
            "[nltk_data]    |   Unzipping grammars/sample_grammars.zip.\n",
            "[nltk_data]    | Downloading package spanish_grammars to\n",
            "[nltk_data]    |     /root/nltk_data...\n",
            "[nltk_data]    |   Unzipping grammars/spanish_grammars.zip.\n",
            "[nltk_data]    | Downloading package basque_grammars to\n",
            "[nltk_data]    |     /root/nltk_data...\n",
            "[nltk_data]    |   Unzipping grammars/basque_grammars.zip.\n",
            "[nltk_data]    | Downloading package large_grammars to\n",
            "[nltk_data]    |     /root/nltk_data...\n",
            "[nltk_data]    |   Unzipping grammars/large_grammars.zip.\n",
            "[nltk_data]    | Downloading package tagsets to /root/nltk_data...\n",
            "[nltk_data]    |   Unzipping help/tagsets.zip.\n",
            "[nltk_data]    | Downloading package snowball_data to\n",
            "[nltk_data]    |     /root/nltk_data...\n",
            "[nltk_data]    | Downloading package bllip_wsj_no_aux to\n",
            "[nltk_data]    |     /root/nltk_data...\n",
            "[nltk_data]    |   Unzipping models/bllip_wsj_no_aux.zip.\n",
            "[nltk_data]    | Downloading package word2vec_sample to\n",
            "[nltk_data]    |     /root/nltk_data...\n",
            "[nltk_data]    |   Unzipping models/word2vec_sample.zip.\n",
            "[nltk_data]    | Downloading package panlex_swadesh to\n",
            "[nltk_data]    |     /root/nltk_data...\n",
            "[nltk_data]    | Downloading package mte_teip5 to /root/nltk_data...\n",
            "[nltk_data]    |   Unzipping corpora/mte_teip5.zip.\n",
            "[nltk_data]    | Downloading package averaged_perceptron_tagger to\n",
            "[nltk_data]    |     /root/nltk_data...\n",
            "[nltk_data]    |   Unzipping taggers/averaged_perceptron_tagger.zip.\n",
            "[nltk_data]    | Downloading package averaged_perceptron_tagger_ru to\n",
            "[nltk_data]    |     /root/nltk_data...\n",
            "[nltk_data]    |   Unzipping\n",
            "[nltk_data]    |       taggers/averaged_perceptron_tagger_ru.zip.\n",
            "[nltk_data]    | Downloading package perluniprops to\n",
            "[nltk_data]    |     /root/nltk_data...\n",
            "[nltk_data]    |   Unzipping misc/perluniprops.zip.\n",
            "[nltk_data]    | Downloading package nonbreaking_prefixes to\n",
            "[nltk_data]    |     /root/nltk_data...\n",
            "[nltk_data]    |   Unzipping corpora/nonbreaking_prefixes.zip.\n",
            "[nltk_data]    | Downloading package vader_lexicon to\n",
            "[nltk_data]    |     /root/nltk_data...\n",
            "[nltk_data]    | Downloading package porter_test to /root/nltk_data...\n",
            "[nltk_data]    |   Unzipping stemmers/porter_test.zip.\n",
            "[nltk_data]    | Downloading package wmt15_eval to /root/nltk_data...\n",
            "[nltk_data]    |   Unzipping models/wmt15_eval.zip.\n",
            "[nltk_data]    | Downloading package mwa_ppdb to /root/nltk_data...\n",
            "[nltk_data]    |   Unzipping misc/mwa_ppdb.zip.\n",
            "[nltk_data]    | \n",
            "[nltk_data]  Done downloading collection all\n"
          ],
          "name": "stdout"
        },
        {
          "output_type": "execute_result",
          "data": {
            "text/plain": [
              "True"
            ]
          },
          "metadata": {
            "tags": []
          },
          "execution_count": 2
        }
      ]
    },
    {
      "cell_type": "code",
      "metadata": {
        "id": "ZlbrgT2NfkpG"
      },
      "source": [
        "url = 'https://newsapi.org/v2/everything?'\n",
        "api_key = 'f51de79da1804680885d379ad2f4cb68'"
      ],
      "execution_count": null,
      "outputs": []
    },
    {
      "cell_type": "code",
      "metadata": {
        "id": "9F0VwvmZgR-s"
      },
      "source": [
        "# function to take raw data from the API and process it into a list inorder to trnasform it into a pandas dataframe\n",
        "def get_articles(file): \n",
        "    article_results = [] \n",
        "    for i in range(len(file)):\n",
        "        article_dict = {}\n",
        "        article_dict['title'] = file[i]['title']\n",
        "        article_dict['author'] = file[i]['author']\n",
        "        article_dict['source'] = file[i]['source']\n",
        "        article_dict['description'] = file[i]['description']\n",
        "        article_dict['content'] = file[i]['content']\n",
        "        article_dict['pub_date'] = file[i]['publishedAt']\n",
        "        article_dict['url'] = file[i][\"url\"]\n",
        "        article_dict['photo_url'] = file[i]['urlToImage']\n",
        "        article_results.append(article_dict)\n",
        "    return article_results"
      ],
      "execution_count": null,
      "outputs": []
    },
    {
      "cell_type": "code",
      "metadata": {
        "colab": {
          "base_uri": "https://localhost:8080/",
          "height": 655
        },
        "id": "xAdXGS8ngWWC",
        "outputId": "a2427230-c76f-4b8f-f842-f346f1e8eb6c"
      },
      "source": [
        "# Collecting the first 100 articles about ireland to check the API and the working of the function \n",
        "parameters_headlines = {\n",
        "    'q': 'Tesla',\n",
        "    'sortBy':'popularity',\n",
        "    'pageSize': 100,\n",
        "    'apiKey': api_key,\n",
        "    'language': 'en',\n",
        "    'from' : '2021-04-13'    \n",
        "}\n",
        "# making the API call \n",
        "response_headline = requests.get(url, params = parameters_headlines)\n",
        "response_json_headline = response_headline.json()\n",
        "responses = response_json_headline['articles']\n",
        "# transforminf the data from JSON dictionary to a pandas data frame\n",
        "news_articles_df = pd.DataFrame(get_articles(responses))\n",
        "# printing the head to check the format and the working of the get_articles function\n",
        "news_articles_df.head()"
      ],
      "execution_count": null,
      "outputs": [
        {
          "output_type": "execute_result",
          "data": {
            "text/html": [
              "<div>\n",
              "<style scoped>\n",
              "    .dataframe tbody tr th:only-of-type {\n",
              "        vertical-align: middle;\n",
              "    }\n",
              "\n",
              "    .dataframe tbody tr th {\n",
              "        vertical-align: top;\n",
              "    }\n",
              "\n",
              "    .dataframe thead th {\n",
              "        text-align: right;\n",
              "    }\n",
              "</style>\n",
              "<table border=\"1\" class=\"dataframe\">\n",
              "  <thead>\n",
              "    <tr style=\"text-align: right;\">\n",
              "      <th></th>\n",
              "      <th>title</th>\n",
              "      <th>author</th>\n",
              "      <th>source</th>\n",
              "      <th>description</th>\n",
              "      <th>content</th>\n",
              "      <th>pub_date</th>\n",
              "      <th>url</th>\n",
              "      <th>photo_url</th>\n",
              "    </tr>\n",
              "  </thead>\n",
              "  <tbody>\n",
              "    <tr>\n",
              "      <th>0</th>\n",
              "      <td>Tesla 'suspends' Bitcoin car purchases citing ...</td>\n",
              "      <td>https://www.engadget.com/about/editors/richard...</td>\n",
              "      <td>{'id': 'engadget', 'name': 'Engadget'}</td>\n",
              "      <td>You can't buy a Tesla with Bitcoin anymore..</td>\n",
              "      <td>Just weeks after Tesla started accepting Bitco...</td>\n",
              "      <td>2021-05-12T22:17:08Z</td>\n",
              "      <td>https://www.engadget.com/elon-musk-bitcoin-221...</td>\n",
              "      <td>https://s.yimg.com/os/creatr-uploaded-images/2...</td>\n",
              "    </tr>\n",
              "    <tr>\n",
              "      <th>1</th>\n",
              "      <td>Tesla's Powerwall+ is a higher-power battery f...</td>\n",
              "      <td>https://www.engadget.com/about/editors/mariell...</td>\n",
              "      <td>{'id': 'engadget', 'name': 'Engadget'}</td>\n",
              "      <td>Tesla has started sending potential customers ...</td>\n",
              "      <td>It looks like Tesla has started sending potent...</td>\n",
              "      <td>2021-05-01T15:44:50Z</td>\n",
              "      <td>https://www.engadget.com/tesla-powerwall-plus-...</td>\n",
              "      <td>https://s.yimg.com/os/creatr-uploaded-images/2...</td>\n",
              "    </tr>\n",
              "    <tr>\n",
              "      <th>2</th>\n",
              "      <td>Elon Musk: Data recovered 'so far' shows Autop...</td>\n",
              "      <td>https://www.engadget.com/about/editors/mat-smith</td>\n",
              "      <td>{'id': 'engadget', 'name': 'Engadget'}</td>\n",
              "      <td>Tesla 'technoking' Elon Musk said that so far,...</td>\n",
              "      <td>This weekend two men aged 59 and 69 died when ...</td>\n",
              "      <td>2021-04-20T01:12:33Z</td>\n",
              "      <td>https://www.engadget.com/tesla-crash-texas-011...</td>\n",
              "      <td>https://s.yimg.com/os/creatr-uploaded-images/2...</td>\n",
              "    </tr>\n",
              "    <tr>\n",
              "      <th>3</th>\n",
              "      <td>The Morning After: Amazon cancels its 'Lord of...</td>\n",
              "      <td>https://www.engadget.com/about/editors/mat-smith</td>\n",
              "      <td>{'id': 'engadget', 'name': 'Engadget'}</td>\n",
              "      <td>Today’s headlines: New York caps the cost of b...</td>\n",
              "      <td>Amazon told Bloomberg thatit has canned its Lo...</td>\n",
              "      <td>2021-04-19T11:30:30Z</td>\n",
              "      <td>https://www.engadget.com/the-morning-after-ama...</td>\n",
              "      <td>https://s.yimg.com/os/creatr-uploaded-images/2...</td>\n",
              "    </tr>\n",
              "    <tr>\n",
              "      <th>4</th>\n",
              "      <td>Riding in the Lucid Air luxury EV</td>\n",
              "      <td>https://www.engadget.com/about/editors/roberto...</td>\n",
              "      <td>{'id': 'engadget', 'name': 'Engadget'}</td>\n",
              "      <td>Ahead of beginning the deliveries of the Lucid...</td>\n",
              "      <td>Ahead of beginning the deliveries of the Lucid...</td>\n",
              "      <td>2021-04-21T14:00:41Z</td>\n",
              "      <td>https://www.engadget.com/lucid-air-grand-touri...</td>\n",
              "      <td>https://s.yimg.com/os/creatr-uploaded-images/2...</td>\n",
              "    </tr>\n",
              "  </tbody>\n",
              "</table>\n",
              "</div>"
            ],
            "text/plain": [
              "                                               title  ...                                          photo_url\n",
              "0  Tesla 'suspends' Bitcoin car purchases citing ...  ...  https://s.yimg.com/os/creatr-uploaded-images/2...\n",
              "1  Tesla's Powerwall+ is a higher-power battery f...  ...  https://s.yimg.com/os/creatr-uploaded-images/2...\n",
              "2  Elon Musk: Data recovered 'so far' shows Autop...  ...  https://s.yimg.com/os/creatr-uploaded-images/2...\n",
              "3  The Morning After: Amazon cancels its 'Lord of...  ...  https://s.yimg.com/os/creatr-uploaded-images/2...\n",
              "4                  Riding in the Lucid Air luxury EV  ...  https://s.yimg.com/os/creatr-uploaded-images/2...\n",
              "\n",
              "[5 rows x 8 columns]"
            ]
          },
          "metadata": {
            "tags": []
          },
          "execution_count": 9
        }
      ]
    },
    {
      "cell_type": "code",
      "metadata": {
        "id": "DpCOTSTVgm4w"
      },
      "source": [
        "responses = list() # stores responses for various news sources\n",
        "domains = ['wsj.com','aljazeera.com','bbc.co.uk','techcrunch.com', 'nytimes.com','bloomberg.com','businessinsider.com',\n",
        "             'cbc.ca','cnbc.com','cnn.com','ew.com','espn.go.com','espncricinfo.com','foxnews.com', 'apnews.com',\n",
        "             'news.nationalgeographic.com','nymag.com','reuters.com','rte.ie','thehindu.com','huffingtonpost.com',\n",
        "             'irishtimes.com','timesofindia.indiatimes.com','washingtonpost.com','time.com','medicalnewstoday.com',\n",
        "             'ndtv.com','theguardian.com','dailymail.co.uk','firstpost.com','thejournal.ie', 'hindustantimes.com',\n",
        "             'economist.com','news.vice.com','usatoday.com','telegraph.co.uk','metro.co.uk','mirror.co.uk','news.google.com']\n",
        "for domain in domains:\n",
        "    parameters_headlines = {\n",
        "    'domains':format(domain),\n",
        "    'sortBy':'popularity',\n",
        "    'pageSize': 100,\n",
        "    'apiKey': api_key,\n",
        "    'language': 'en',\n",
        "    'from' : '2021-04-13'    \n",
        "    }\n",
        "    rr = requests.get(url, params = parameters_headlines)\n",
        "    data = rr.json()\n",
        "    responses = data[\"articles\"]\n",
        "    news_articles_df=news_articles_df.append(pd.DataFrame(get_articles(responses)))"
      ],
      "execution_count": null,
      "outputs": []
    },
    {
      "cell_type": "code",
      "metadata": {
        "colab": {
          "base_uri": "https://localhost:8080/",
          "height": 674
        },
        "id": "J_JramMjgyFW",
        "outputId": "0ccf4eba-313c-4468-aaf8-2e8f065a29a7"
      },
      "source": [
        "print(news_articles_df.shape)\n",
        "news_articles_df.head()"
      ],
      "execution_count": null,
      "outputs": [
        {
          "output_type": "stream",
          "text": [
            "(2905, 8)\n"
          ],
          "name": "stdout"
        },
        {
          "output_type": "execute_result",
          "data": {
            "text/html": [
              "<div>\n",
              "<style scoped>\n",
              "    .dataframe tbody tr th:only-of-type {\n",
              "        vertical-align: middle;\n",
              "    }\n",
              "\n",
              "    .dataframe tbody tr th {\n",
              "        vertical-align: top;\n",
              "    }\n",
              "\n",
              "    .dataframe thead th {\n",
              "        text-align: right;\n",
              "    }\n",
              "</style>\n",
              "<table border=\"1\" class=\"dataframe\">\n",
              "  <thead>\n",
              "    <tr style=\"text-align: right;\">\n",
              "      <th></th>\n",
              "      <th>title</th>\n",
              "      <th>author</th>\n",
              "      <th>source</th>\n",
              "      <th>description</th>\n",
              "      <th>content</th>\n",
              "      <th>pub_date</th>\n",
              "      <th>url</th>\n",
              "      <th>photo_url</th>\n",
              "    </tr>\n",
              "  </thead>\n",
              "  <tbody>\n",
              "    <tr>\n",
              "      <th>0</th>\n",
              "      <td>Tesla 'suspends' Bitcoin car purchases citing ...</td>\n",
              "      <td>https://www.engadget.com/about/editors/richard...</td>\n",
              "      <td>{'id': 'engadget', 'name': 'Engadget'}</td>\n",
              "      <td>You can't buy a Tesla with Bitcoin anymore..</td>\n",
              "      <td>Just weeks after Tesla started accepting Bitco...</td>\n",
              "      <td>2021-05-12T22:17:08Z</td>\n",
              "      <td>https://www.engadget.com/elon-musk-bitcoin-221...</td>\n",
              "      <td>https://s.yimg.com/os/creatr-uploaded-images/2...</td>\n",
              "    </tr>\n",
              "    <tr>\n",
              "      <th>1</th>\n",
              "      <td>Tesla's Powerwall+ is a higher-power battery f...</td>\n",
              "      <td>https://www.engadget.com/about/editors/mariell...</td>\n",
              "      <td>{'id': 'engadget', 'name': 'Engadget'}</td>\n",
              "      <td>Tesla has started sending potential customers ...</td>\n",
              "      <td>It looks like Tesla has started sending potent...</td>\n",
              "      <td>2021-05-01T15:44:50Z</td>\n",
              "      <td>https://www.engadget.com/tesla-powerwall-plus-...</td>\n",
              "      <td>https://s.yimg.com/os/creatr-uploaded-images/2...</td>\n",
              "    </tr>\n",
              "    <tr>\n",
              "      <th>2</th>\n",
              "      <td>Elon Musk: Data recovered 'so far' shows Autop...</td>\n",
              "      <td>https://www.engadget.com/about/editors/mat-smith</td>\n",
              "      <td>{'id': 'engadget', 'name': 'Engadget'}</td>\n",
              "      <td>Tesla 'technoking' Elon Musk said that so far,...</td>\n",
              "      <td>This weekend two men aged 59 and 69 died when ...</td>\n",
              "      <td>2021-04-20T01:12:33Z</td>\n",
              "      <td>https://www.engadget.com/tesla-crash-texas-011...</td>\n",
              "      <td>https://s.yimg.com/os/creatr-uploaded-images/2...</td>\n",
              "    </tr>\n",
              "    <tr>\n",
              "      <th>3</th>\n",
              "      <td>The Morning After: Amazon cancels its 'Lord of...</td>\n",
              "      <td>https://www.engadget.com/about/editors/mat-smith</td>\n",
              "      <td>{'id': 'engadget', 'name': 'Engadget'}</td>\n",
              "      <td>Today’s headlines: New York caps the cost of b...</td>\n",
              "      <td>Amazon told Bloomberg thatit has canned its Lo...</td>\n",
              "      <td>2021-04-19T11:30:30Z</td>\n",
              "      <td>https://www.engadget.com/the-morning-after-ama...</td>\n",
              "      <td>https://s.yimg.com/os/creatr-uploaded-images/2...</td>\n",
              "    </tr>\n",
              "    <tr>\n",
              "      <th>4</th>\n",
              "      <td>Riding in the Lucid Air luxury EV</td>\n",
              "      <td>https://www.engadget.com/about/editors/roberto...</td>\n",
              "      <td>{'id': 'engadget', 'name': 'Engadget'}</td>\n",
              "      <td>Ahead of beginning the deliveries of the Lucid...</td>\n",
              "      <td>Ahead of beginning the deliveries of the Lucid...</td>\n",
              "      <td>2021-04-21T14:00:41Z</td>\n",
              "      <td>https://www.engadget.com/lucid-air-grand-touri...</td>\n",
              "      <td>https://s.yimg.com/os/creatr-uploaded-images/2...</td>\n",
              "    </tr>\n",
              "  </tbody>\n",
              "</table>\n",
              "</div>"
            ],
            "text/plain": [
              "                                               title  ...                                          photo_url\n",
              "0  Tesla 'suspends' Bitcoin car purchases citing ...  ...  https://s.yimg.com/os/creatr-uploaded-images/2...\n",
              "1  Tesla's Powerwall+ is a higher-power battery f...  ...  https://s.yimg.com/os/creatr-uploaded-images/2...\n",
              "2  Elon Musk: Data recovered 'so far' shows Autop...  ...  https://s.yimg.com/os/creatr-uploaded-images/2...\n",
              "3  The Morning After: Amazon cancels its 'Lord of...  ...  https://s.yimg.com/os/creatr-uploaded-images/2...\n",
              "4                  Riding in the Lucid Air luxury EV  ...  https://s.yimg.com/os/creatr-uploaded-images/2...\n",
              "\n",
              "[5 rows x 8 columns]"
            ]
          },
          "metadata": {
            "tags": []
          },
          "execution_count": 12
        }
      ]
    },
    {
      "cell_type": "code",
      "metadata": {
        "id": "urNrZqPyg0cJ"
      },
      "source": [
        "# function to exatract just the name of the source of the news article and exclude other details\n",
        "def source_getter(df):\n",
        "    source = []\n",
        "    for source_dict in df['source']:\n",
        "        source.append(source_dict['name'])\n",
        "    df['source'] = source #append the source to the df"
      ],
      "execution_count": null,
      "outputs": []
    },
    {
      "cell_type": "code",
      "metadata": {
        "id": "zBfWO8jjg2q4"
      },
      "source": [
        "source_getter(news_articles_df)"
      ],
      "execution_count": null,
      "outputs": []
    },
    {
      "cell_type": "code",
      "metadata": {
        "id": "ijbe4NF4g57Q"
      },
      "source": [
        "news_articles_df['pub_date'] = pd.to_datetime(news_articles_df['pub_date']).apply(lambda x: x.date())"
      ],
      "execution_count": null,
      "outputs": []
    },
    {
      "cell_type": "code",
      "metadata": {
        "colab": {
          "base_uri": "https://localhost:8080/"
        },
        "id": "DNTlQShWg9Ua",
        "outputId": "eb9bdbe3-85b1-4280-e038-60883b89a4a9"
      },
      "source": [
        "#look for missing data\n",
        "news_articles_df.isnull().sum()"
      ],
      "execution_count": null,
      "outputs": [
        {
          "output_type": "execute_result",
          "data": {
            "text/plain": [
              "title            0\n",
              "author         250\n",
              "source           0\n",
              "description      2\n",
              "content          0\n",
              "pub_date         0\n",
              "url              0\n",
              "photo_url       24\n",
              "dtype: int64"
            ]
          },
          "metadata": {
            "tags": []
          },
          "execution_count": 16
        }
      ]
    },
    {
      "cell_type": "code",
      "metadata": {
        "colab": {
          "base_uri": "https://localhost:8080/"
        },
        "id": "Zpf9jy3Gg-l8",
        "outputId": "8cce2203-7680-4945-be86-b1942917745f"
      },
      "source": [
        "# droping the rows with missing data \n",
        "news_articles_df.dropna(inplace=True)\n",
        "news_articles_df = news_articles_df[~news_articles_df['description'].isnull()]\n",
        "# summarize the number of rows and columns in the dataset\n",
        "print(news_articles_df.isnull().sum())\n",
        "print(news_articles_df.shape)"
      ],
      "execution_count": null,
      "outputs": [
        {
          "output_type": "stream",
          "text": [
            "title          0\n",
            "author         0\n",
            "source         0\n",
            "description    0\n",
            "content        0\n",
            "pub_date       0\n",
            "url            0\n",
            "photo_url      0\n",
            "dtype: int64\n",
            "(2633, 8)\n"
          ],
          "name": "stdout"
        }
      ]
    },
    {
      "cell_type": "code",
      "metadata": {
        "id": "wuOZLD-UhAyB"
      },
      "source": [
        "# combine the title and the content to get one dataframe column\n",
        "news_articles_df['combined_text'] = news_articles_df['title'].map(str) +\" \"+ news_articles_df['content'].map(str)"
      ],
      "execution_count": null,
      "outputs": []
    },
    {
      "cell_type": "code",
      "metadata": {
        "colab": {
          "base_uri": "https://localhost:8080/",
          "height": 655
        },
        "id": "fhj40f1hhD17",
        "outputId": "1f4b4e76-66db-4019-d7f4-0dabb9a43a86"
      },
      "source": [
        "news_articles_df.head()"
      ],
      "execution_count": null,
      "outputs": [
        {
          "output_type": "execute_result",
          "data": {
            "text/html": [
              "<div>\n",
              "<style scoped>\n",
              "    .dataframe tbody tr th:only-of-type {\n",
              "        vertical-align: middle;\n",
              "    }\n",
              "\n",
              "    .dataframe tbody tr th {\n",
              "        vertical-align: top;\n",
              "    }\n",
              "\n",
              "    .dataframe thead th {\n",
              "        text-align: right;\n",
              "    }\n",
              "</style>\n",
              "<table border=\"1\" class=\"dataframe\">\n",
              "  <thead>\n",
              "    <tr style=\"text-align: right;\">\n",
              "      <th></th>\n",
              "      <th>title</th>\n",
              "      <th>author</th>\n",
              "      <th>source</th>\n",
              "      <th>description</th>\n",
              "      <th>content</th>\n",
              "      <th>pub_date</th>\n",
              "      <th>url</th>\n",
              "      <th>photo_url</th>\n",
              "      <th>combined_text</th>\n",
              "    </tr>\n",
              "  </thead>\n",
              "  <tbody>\n",
              "    <tr>\n",
              "      <th>0</th>\n",
              "      <td>Tesla 'suspends' Bitcoin car purchases citing ...</td>\n",
              "      <td>https://www.engadget.com/about/editors/richard...</td>\n",
              "      <td>Engadget</td>\n",
              "      <td>You can't buy a Tesla with Bitcoin anymore..</td>\n",
              "      <td>Just weeks after Tesla started accepting Bitco...</td>\n",
              "      <td>2021-05-12</td>\n",
              "      <td>https://www.engadget.com/elon-musk-bitcoin-221...</td>\n",
              "      <td>https://s.yimg.com/os/creatr-uploaded-images/2...</td>\n",
              "      <td>Tesla 'suspends' Bitcoin car purchases citing ...</td>\n",
              "    </tr>\n",
              "    <tr>\n",
              "      <th>1</th>\n",
              "      <td>Tesla's Powerwall+ is a higher-power battery f...</td>\n",
              "      <td>https://www.engadget.com/about/editors/mariell...</td>\n",
              "      <td>Engadget</td>\n",
              "      <td>Tesla has started sending potential customers ...</td>\n",
              "      <td>It looks like Tesla has started sending potent...</td>\n",
              "      <td>2021-05-01</td>\n",
              "      <td>https://www.engadget.com/tesla-powerwall-plus-...</td>\n",
              "      <td>https://s.yimg.com/os/creatr-uploaded-images/2...</td>\n",
              "      <td>Tesla's Powerwall+ is a higher-power battery f...</td>\n",
              "    </tr>\n",
              "    <tr>\n",
              "      <th>2</th>\n",
              "      <td>Elon Musk: Data recovered 'so far' shows Autop...</td>\n",
              "      <td>https://www.engadget.com/about/editors/mat-smith</td>\n",
              "      <td>Engadget</td>\n",
              "      <td>Tesla 'technoking' Elon Musk said that so far,...</td>\n",
              "      <td>This weekend two men aged 59 and 69 died when ...</td>\n",
              "      <td>2021-04-20</td>\n",
              "      <td>https://www.engadget.com/tesla-crash-texas-011...</td>\n",
              "      <td>https://s.yimg.com/os/creatr-uploaded-images/2...</td>\n",
              "      <td>Elon Musk: Data recovered 'so far' shows Autop...</td>\n",
              "    </tr>\n",
              "    <tr>\n",
              "      <th>3</th>\n",
              "      <td>The Morning After: Amazon cancels its 'Lord of...</td>\n",
              "      <td>https://www.engadget.com/about/editors/mat-smith</td>\n",
              "      <td>Engadget</td>\n",
              "      <td>Today’s headlines: New York caps the cost of b...</td>\n",
              "      <td>Amazon told Bloomberg thatit has canned its Lo...</td>\n",
              "      <td>2021-04-19</td>\n",
              "      <td>https://www.engadget.com/the-morning-after-ama...</td>\n",
              "      <td>https://s.yimg.com/os/creatr-uploaded-images/2...</td>\n",
              "      <td>The Morning After: Amazon cancels its 'Lord of...</td>\n",
              "    </tr>\n",
              "    <tr>\n",
              "      <th>4</th>\n",
              "      <td>Riding in the Lucid Air luxury EV</td>\n",
              "      <td>https://www.engadget.com/about/editors/roberto...</td>\n",
              "      <td>Engadget</td>\n",
              "      <td>Ahead of beginning the deliveries of the Lucid...</td>\n",
              "      <td>Ahead of beginning the deliveries of the Lucid...</td>\n",
              "      <td>2021-04-21</td>\n",
              "      <td>https://www.engadget.com/lucid-air-grand-touri...</td>\n",
              "      <td>https://s.yimg.com/os/creatr-uploaded-images/2...</td>\n",
              "      <td>Riding in the Lucid Air luxury EV Ahead of beg...</td>\n",
              "    </tr>\n",
              "  </tbody>\n",
              "</table>\n",
              "</div>"
            ],
            "text/plain": [
              "                                               title  ...                                      combined_text\n",
              "0  Tesla 'suspends' Bitcoin car purchases citing ...  ...  Tesla 'suspends' Bitcoin car purchases citing ...\n",
              "1  Tesla's Powerwall+ is a higher-power battery f...  ...  Tesla's Powerwall+ is a higher-power battery f...\n",
              "2  Elon Musk: Data recovered 'so far' shows Autop...  ...  Elon Musk: Data recovered 'so far' shows Autop...\n",
              "3  The Morning After: Amazon cancels its 'Lord of...  ...  The Morning After: Amazon cancels its 'Lord of...\n",
              "4                  Riding in the Lucid Air luxury EV  ...  Riding in the Lucid Air luxury EV Ahead of beg...\n",
              "\n",
              "[5 rows x 9 columns]"
            ]
          },
          "metadata": {
            "tags": []
          },
          "execution_count": 19
        }
      ]
    },
    {
      "cell_type": "code",
      "metadata": {
        "id": "QtdmNpZohH1T"
      },
      "source": [
        "# Function to remove non-ascii characters from the text\n",
        "def _removeNonAscii(s): \n",
        "    return \"\".join(i for i in s if ord(i)<128)\n",
        "# function to remove the punctuations, apostrophe, special characters using regular expressions\n",
        "def clean_text(text):\n",
        "    text = text.lower()\n",
        "    text = re.sub(r\"what's\", \"what is \", text)\n",
        "    text = text.replace('(ap)', '')\n",
        "    text = re.sub(r\"\\'s\", \" is \", text)\n",
        "    text = re.sub(r\"\\'ve\", \" have \", text)\n",
        "    text = re.sub(r\"can't\", \"cannot \", text)\n",
        "    text = re.sub(r\"n't\", \" not \", text)\n",
        "    text = re.sub(r\"i'm\", \"i am \", text)\n",
        "    text = re.sub(r\"\\'re\", \" are \", text)\n",
        "    text = re.sub(r\"\\'d\", \" would \", text)\n",
        "    text = re.sub(r\"\\'ll\", \" will \", text)\n",
        "    text = re.sub(r'\\W+', ' ', text)\n",
        "    text = re.sub(r'\\s+', ' ', text)\n",
        "    text = re.sub(r\"\\\\\", \"\", text)\n",
        "    text = re.sub(r\"\\'\", \"\", text)    \n",
        "    text = re.sub(r\"\\\"\", \"\", text)\n",
        "    text = re.sub('[^a-zA-Z ?!]+', '', text)\n",
        "    text = _removeNonAscii(text)\n",
        "    text = text.strip()\n",
        "    return text\n",
        "# stop words are the words that convery little to no information about the actual content like the words:the, of, for etc\n",
        "def remove_stopwords(word_tokens):\n",
        "    filtered_sentence = [] \n",
        "    stop_words = stopwords.words('english')\n",
        "    specific_words_list = ['char', 'u', 'hindustan', 'doj', 'washington'] \n",
        "    stop_words.extend(specific_words_list )\n",
        "    for w in word_tokens: \n",
        "        if w not in stop_words: \n",
        "            filtered_sentence.append(w) \n",
        "    return filtered_sentence\n",
        "# function for lemmatization \n",
        "def lemmatize(x):\n",
        "    lemmatizer = WordNetLemmatizer()\n",
        "    return' '.join([lemmatizer.lemmatize(word) for word in x])"
      ],
      "execution_count": null,
      "outputs": []
    },
    {
      "cell_type": "code",
      "metadata": {
        "id": "9eRk7XN7hLEk"
      },
      "source": [
        "# splitting a string, text into a list of tokens\n",
        "tokenizer = RegexpTokenizer(r'\\w+')\n",
        "def tokenize(x): \n",
        "    return tokenizer.tokenize(x)"
      ],
      "execution_count": null,
      "outputs": []
    },
    {
      "cell_type": "code",
      "metadata": {
        "id": "Mw5EVqGZhMXc"
      },
      "source": [
        "# applying all of these functions to the our dataframe \n",
        "news_articles_df['combined_text'] = news_articles_df['combined_text'].map(clean_text)\n",
        "news_articles_df['tokens'] = news_articles_df['combined_text'].map(tokenize)\n",
        "news_articles_df['tokens'] = news_articles_df['tokens'].map(remove_stopwords)\n",
        "news_articles_df['lems'] =news_articles_df['tokens'].map(lemmatize)"
      ],
      "execution_count": null,
      "outputs": []
    },
    {
      "cell_type": "code",
      "metadata": {
        "colab": {
          "base_uri": "https://localhost:8080/",
          "height": 690
        },
        "id": "2NwKNrb-hQmc",
        "outputId": "b633bf95-4a49-4e81-ac90-dbfe8922533a"
      },
      "source": [
        "news_articles_df.head()"
      ],
      "execution_count": null,
      "outputs": [
        {
          "output_type": "execute_result",
          "data": {
            "text/html": [
              "<div>\n",
              "<style scoped>\n",
              "    .dataframe tbody tr th:only-of-type {\n",
              "        vertical-align: middle;\n",
              "    }\n",
              "\n",
              "    .dataframe tbody tr th {\n",
              "        vertical-align: top;\n",
              "    }\n",
              "\n",
              "    .dataframe thead th {\n",
              "        text-align: right;\n",
              "    }\n",
              "</style>\n",
              "<table border=\"1\" class=\"dataframe\">\n",
              "  <thead>\n",
              "    <tr style=\"text-align: right;\">\n",
              "      <th></th>\n",
              "      <th>title</th>\n",
              "      <th>author</th>\n",
              "      <th>source</th>\n",
              "      <th>description</th>\n",
              "      <th>content</th>\n",
              "      <th>pub_date</th>\n",
              "      <th>url</th>\n",
              "      <th>photo_url</th>\n",
              "      <th>combined_text</th>\n",
              "      <th>tokens</th>\n",
              "      <th>lems</th>\n",
              "    </tr>\n",
              "  </thead>\n",
              "  <tbody>\n",
              "    <tr>\n",
              "      <th>0</th>\n",
              "      <td>Tesla 'suspends' Bitcoin car purchases citing ...</td>\n",
              "      <td>https://www.engadget.com/about/editors/richard...</td>\n",
              "      <td>Engadget</td>\n",
              "      <td>You can't buy a Tesla with Bitcoin anymore..</td>\n",
              "      <td>Just weeks after Tesla started accepting Bitco...</td>\n",
              "      <td>2021-05-12</td>\n",
              "      <td>https://www.engadget.com/elon-musk-bitcoin-221...</td>\n",
              "      <td>https://s.yimg.com/os/creatr-uploaded-images/2...</td>\n",
              "      <td>tesla is uspends bitcoin car purchases citing ...</td>\n",
              "      <td>[tesla, uspends, bitcoin, car, purchases, citi...</td>\n",
              "      <td>tesla uspends bitcoin car purchase citing envi...</td>\n",
              "    </tr>\n",
              "    <tr>\n",
              "      <th>1</th>\n",
              "      <td>Tesla's Powerwall+ is a higher-power battery f...</td>\n",
              "      <td>https://www.engadget.com/about/editors/mariell...</td>\n",
              "      <td>Engadget</td>\n",
              "      <td>Tesla has started sending potential customers ...</td>\n",
              "      <td>It looks like Tesla has started sending potent...</td>\n",
              "      <td>2021-05-01</td>\n",
              "      <td>https://www.engadget.com/tesla-powerwall-plus-...</td>\n",
              "      <td>https://s.yimg.com/os/creatr-uploaded-images/2...</td>\n",
              "      <td>tesla is powerwall is a higher power battery f...</td>\n",
              "      <td>[tesla, powerwall, higher, power, battery, gri...</td>\n",
              "      <td>tesla powerwall higher power battery grid livi...</td>\n",
              "    </tr>\n",
              "    <tr>\n",
              "      <th>2</th>\n",
              "      <td>Elon Musk: Data recovered 'so far' shows Autop...</td>\n",
              "      <td>https://www.engadget.com/about/editors/mat-smith</td>\n",
              "      <td>Engadget</td>\n",
              "      <td>Tesla 'technoking' Elon Musk said that so far,...</td>\n",
              "      <td>This weekend two men aged 59 and 69 died when ...</td>\n",
              "      <td>2021-04-20</td>\n",
              "      <td>https://www.engadget.com/tesla-crash-texas-011...</td>\n",
              "      <td>https://s.yimg.com/os/creatr-uploaded-images/2...</td>\n",
              "      <td>elon musk data recovered is o far shows autopi...</td>\n",
              "      <td>[elon, musk, data, recovered, far, shows, auto...</td>\n",
              "      <td>elon musk data recovered far show autopilot en...</td>\n",
              "    </tr>\n",
              "    <tr>\n",
              "      <th>3</th>\n",
              "      <td>The Morning After: Amazon cancels its 'Lord of...</td>\n",
              "      <td>https://www.engadget.com/about/editors/mat-smith</td>\n",
              "      <td>Engadget</td>\n",
              "      <td>Today’s headlines: New York caps the cost of b...</td>\n",
              "      <td>Amazon told Bloomberg thatit has canned its Lo...</td>\n",
              "      <td>2021-04-19</td>\n",
              "      <td>https://www.engadget.com/the-morning-after-ama...</td>\n",
              "      <td>https://s.yimg.com/os/creatr-uploaded-images/2...</td>\n",
              "      <td>the morning after amazon cancels its lord of t...</td>\n",
              "      <td>[morning, amazon, cancels, lord, rings, mmorpg...</td>\n",
              "      <td>morning amazon cancel lord ring mmorpg amazon ...</td>\n",
              "    </tr>\n",
              "    <tr>\n",
              "      <th>4</th>\n",
              "      <td>Riding in the Lucid Air luxury EV</td>\n",
              "      <td>https://www.engadget.com/about/editors/roberto...</td>\n",
              "      <td>Engadget</td>\n",
              "      <td>Ahead of beginning the deliveries of the Lucid...</td>\n",
              "      <td>Ahead of beginning the deliveries of the Lucid...</td>\n",
              "      <td>2021-04-21</td>\n",
              "      <td>https://www.engadget.com/lucid-air-grand-touri...</td>\n",
              "      <td>https://s.yimg.com/os/creatr-uploaded-images/2...</td>\n",
              "      <td>riding in the lucid air luxury ev ahead of beg...</td>\n",
              "      <td>[riding, lucid, air, luxury, ev, ahead, beginn...</td>\n",
              "      <td>riding lucid air luxury ev ahead beginning del...</td>\n",
              "    </tr>\n",
              "  </tbody>\n",
              "</table>\n",
              "</div>"
            ],
            "text/plain": [
              "                                               title  ...                                               lems\n",
              "0  Tesla 'suspends' Bitcoin car purchases citing ...  ...  tesla uspends bitcoin car purchase citing envi...\n",
              "1  Tesla's Powerwall+ is a higher-power battery f...  ...  tesla powerwall higher power battery grid livi...\n",
              "2  Elon Musk: Data recovered 'so far' shows Autop...  ...  elon musk data recovered far show autopilot en...\n",
              "3  The Morning After: Amazon cancels its 'Lord of...  ...  morning amazon cancel lord ring mmorpg amazon ...\n",
              "4                  Riding in the Lucid Air luxury EV  ...  riding lucid air luxury ev ahead beginning del...\n",
              "\n",
              "[5 rows x 11 columns]"
            ]
          },
          "metadata": {
            "tags": []
          },
          "execution_count": 46
        }
      ]
    },
    {
      "cell_type": "code",
      "metadata": {
        "colab": {
          "base_uri": "https://localhost:8080/"
        },
        "id": "RcdsUx20hX2u",
        "outputId": "5d90169b-a5f5-48d8-a28e-65fec2ee15be"
      },
      "source": [
        "print(news_articles_df.isnull().sum())\n",
        "news_articles_df.dropna(inplace=True)\n",
        "print(news_articles_df.shape)\n",
        "print(news_articles_df.isnull().sum())"
      ],
      "execution_count": null,
      "outputs": [
        {
          "output_type": "stream",
          "text": [
            "title            0\n",
            "author           0\n",
            "source           0\n",
            "description      0\n",
            "content          0\n",
            "pub_date         0\n",
            "url              0\n",
            "photo_url        0\n",
            "combined_text    0\n",
            "tokens           0\n",
            "lems             0\n",
            "dtype: int64\n",
            "(2633, 11)\n",
            "title            0\n",
            "author           0\n",
            "source           0\n",
            "description      0\n",
            "content          0\n",
            "pub_date         0\n",
            "url              0\n",
            "photo_url        0\n",
            "combined_text    0\n",
            "tokens           0\n",
            "lems             0\n",
            "dtype: int64\n"
          ],
          "name": "stdout"
        }
      ]
    },
    {
      "cell_type": "code",
      "metadata": {
        "id": "8dmIy4QEhZPP"
      },
      "source": [
        "# calculating the polarity of the news articles \n",
        "from nltk.sentiment.vader import SentimentIntensityAnalyzer as SIA\n",
        "sia = SIA()\n",
        "results = []\n",
        "for line in news_articles_df['lems'] :\n",
        "    pol_score = sia.polarity_scores(line)\n",
        "    pol_score['headline'] = line\n",
        "    results.append(pol_score)"
      ],
      "execution_count": null,
      "outputs": []
    },
    {
      "cell_type": "code",
      "metadata": {
        "id": "2iXjmw8vhbHP"
      },
      "source": [
        "# Creating a new dataframe of only the polarity score, the headline and the source of the news \n",
        "headlines_polarity = pd.DataFrame.from_records(results)\n",
        "temp = []\n",
        "for line in news_articles_df['source'] :\n",
        "    temp.append(line)\n",
        "headlines_polarity['source'] =temp"
      ],
      "execution_count": null,
      "outputs": []
    },
    {
      "cell_type": "code",
      "metadata": {
        "id": "V8SNJIh_hcv7"
      },
      "source": [
        "# categorize news as positive or negative based on the compound score obtained\n",
        "headlines_polarity['label'] = 0\n",
        "# I have considered the news as positive if the compound score is greater than 0.2 hence the label 1\n",
        "headlines_polarity.loc[headlines_polarity['compound'] > 0.2, 'label'] = 1\n",
        "# if the compound score is below 0.2 then it is considered negative \n",
        "headlines_polarity.loc[headlines_polarity['compound'] < -0.2, 'label'] = -1\n",
        "# word count of news headlines is calculated\n",
        "headlines_polarity['word_count'] = headlines_polarity['headline'].apply(lambda x: len(str(x).split()))"
      ],
      "execution_count": null,
      "outputs": []
    },
    {
      "cell_type": "code",
      "metadata": {
        "colab": {
          "base_uri": "https://localhost:8080/",
          "height": 202
        },
        "id": "raLkzVHYhgAY",
        "outputId": "b917c39f-bd07-42c1-fcc7-125f390bb5a0"
      },
      "source": [
        "headlines_polarity.head()"
      ],
      "execution_count": null,
      "outputs": [
        {
          "output_type": "execute_result",
          "data": {
            "text/html": [
              "<div>\n",
              "<style scoped>\n",
              "    .dataframe tbody tr th:only-of-type {\n",
              "        vertical-align: middle;\n",
              "    }\n",
              "\n",
              "    .dataframe tbody tr th {\n",
              "        vertical-align: top;\n",
              "    }\n",
              "\n",
              "    .dataframe thead th {\n",
              "        text-align: right;\n",
              "    }\n",
              "</style>\n",
              "<table border=\"1\" class=\"dataframe\">\n",
              "  <thead>\n",
              "    <tr style=\"text-align: right;\">\n",
              "      <th></th>\n",
              "      <th>neg</th>\n",
              "      <th>neu</th>\n",
              "      <th>pos</th>\n",
              "      <th>compound</th>\n",
              "      <th>headline</th>\n",
              "      <th>source</th>\n",
              "      <th>label</th>\n",
              "      <th>word_count</th>\n",
              "    </tr>\n",
              "  </thead>\n",
              "  <tbody>\n",
              "    <tr>\n",
              "      <th>0</th>\n",
              "      <td>0.077</td>\n",
              "      <td>0.836</td>\n",
              "      <td>0.087</td>\n",
              "      <td>0.0772</td>\n",
              "      <td>tesla uspends bitcoin car purchase citing envi...</td>\n",
              "      <td>Engadget</td>\n",
              "      <td>0</td>\n",
              "      <td>27</td>\n",
              "    </tr>\n",
              "    <tr>\n",
              "      <th>1</th>\n",
              "      <td>0.000</td>\n",
              "      <td>0.918</td>\n",
              "      <td>0.082</td>\n",
              "      <td>0.3612</td>\n",
              "      <td>tesla powerwall higher power battery grid livi...</td>\n",
              "      <td>Engadget</td>\n",
              "      <td>1</td>\n",
              "      <td>29</td>\n",
              "    </tr>\n",
              "    <tr>\n",
              "      <th>2</th>\n",
              "      <td>0.231</td>\n",
              "      <td>0.769</td>\n",
              "      <td>0.000</td>\n",
              "      <td>-0.8271</td>\n",
              "      <td>elon musk data recovered far show autopilot en...</td>\n",
              "      <td>Engadget</td>\n",
              "      <td>-1</td>\n",
              "      <td>32</td>\n",
              "    </tr>\n",
              "    <tr>\n",
              "      <th>3</th>\n",
              "      <td>0.063</td>\n",
              "      <td>0.667</td>\n",
              "      <td>0.270</td>\n",
              "      <td>0.6705</td>\n",
              "      <td>morning amazon cancel lord ring mmorpg amazon ...</td>\n",
              "      <td>Engadget</td>\n",
              "      <td>1</td>\n",
              "      <td>26</td>\n",
              "    </tr>\n",
              "    <tr>\n",
              "      <th>4</th>\n",
              "      <td>0.000</td>\n",
              "      <td>0.893</td>\n",
              "      <td>0.107</td>\n",
              "      <td>0.4588</td>\n",
              "      <td>riding lucid air luxury ev ahead beginning del...</td>\n",
              "      <td>Engadget</td>\n",
              "      <td>1</td>\n",
              "      <td>27</td>\n",
              "    </tr>\n",
              "  </tbody>\n",
              "</table>\n",
              "</div>"
            ],
            "text/plain": [
              "     neg    neu    pos  ...    source label word_count\n",
              "0  0.077  0.836  0.087  ...  Engadget     0         27\n",
              "1  0.000  0.918  0.082  ...  Engadget     1         29\n",
              "2  0.231  0.769  0.000  ...  Engadget    -1         32\n",
              "3  0.063  0.667  0.270  ...  Engadget     1         26\n",
              "4  0.000  0.893  0.107  ...  Engadget     1         27\n",
              "\n",
              "[5 rows x 8 columns]"
            ]
          },
          "metadata": {
            "tags": []
          },
          "execution_count": 51
        }
      ]
    },
    {
      "cell_type": "code",
      "metadata": {
        "colab": {
          "base_uri": "https://localhost:8080/"
        },
        "id": "tW-j6ZNMhrp0",
        "outputId": "d95900bf-32bc-4928-fec5-efe6fc1cfa88"
      },
      "source": [
        "# Checking the combined data once again to ensure no null value is present\n",
        "print(news_articles_df.isnull().sum())\n",
        "news_articles_df.dropna(inplace=True)\n",
        "print(news_articles_df.shape)\n",
        "print(news_articles_df.isnull().sum())"
      ],
      "execution_count": null,
      "outputs": [
        {
          "output_type": "stream",
          "text": [
            "title            0\n",
            "author           0\n",
            "source           0\n",
            "description      0\n",
            "content          0\n",
            "pub_date         0\n",
            "url              0\n",
            "photo_url        0\n",
            "combined_text    0\n",
            "tokens           0\n",
            "lems             0\n",
            "dtype: int64\n",
            "(2633, 11)\n",
            "title            0\n",
            "author           0\n",
            "source           0\n",
            "description      0\n",
            "content          0\n",
            "pub_date         0\n",
            "url              0\n",
            "photo_url        0\n",
            "combined_text    0\n",
            "tokens           0\n",
            "lems             0\n",
            "dtype: int64\n"
          ],
          "name": "stdout"
        }
      ]
    },
    {
      "cell_type": "code",
      "metadata": {
        "id": "-Y-8nHy5huK-"
      },
      "source": [
        "# calculating the polarity of the news articles \n",
        "from nltk.sentiment.vader import SentimentIntensityAnalyzer as SIA\n",
        "sia = SIA()\n",
        "results = []\n",
        "for line in news_articles_df['lems'] :\n",
        "    pol_score = sia.polarity_scores(line)\n",
        "    pol_score['headline'] = line\n",
        "    results.append(pol_score)"
      ],
      "execution_count": null,
      "outputs": []
    },
    {
      "cell_type": "code",
      "metadata": {
        "id": "LC2eGfvchwYG"
      },
      "source": [
        "# Creating a new dataframe of only the polarity score, the headline and the source of the news \n",
        "headlines_polaritys = pd.DataFrame.from_records(results)\n",
        "temp = []\n",
        "for line in news_articles_df['source'] :\n",
        "    temp.append(line)\n",
        "headlines_polaritys['source'] =temp"
      ],
      "execution_count": null,
      "outputs": []
    },
    {
      "cell_type": "code",
      "metadata": {
        "id": "B1DPjuzdhxoL"
      },
      "source": [
        "# categorize news as positive or negative based on the compound score obtained\n",
        "headlines_polaritys['label'] = 0\n",
        "# I have considered the news as positive if the compound score is greater than 0.2 hence the label 1\n",
        "headlines_polaritys.loc[headlines_polaritys['compound'] > 0.2, 'label'] = 1\n",
        "# if the compound score is below 0.2 then it is considered negative \n",
        "headlines_polaritys.loc[headlines_polaritys['compound'] < -0.2, 'label'] = -1\n",
        "# word count of news headlines is calculated\n",
        "headlines_polaritys['word_count'] = headlines_polaritys['headline'].apply(lambda x: len(str(x).split()))"
      ],
      "execution_count": null,
      "outputs": []
    },
    {
      "cell_type": "code",
      "metadata": {
        "colab": {
          "base_uri": "https://localhost:8080/",
          "height": 742
        },
        "id": "ZS0PaoFEh58F",
        "outputId": "971d4799-459e-44b6-9acd-7717109a8c24"
      },
      "source": [
        "df_merged=news_articles_df.merge(headlines_polaritys)\n",
        "df_merged.head()"
      ],
      "execution_count": null,
      "outputs": [
        {
          "output_type": "execute_result",
          "data": {
            "text/html": [
              "<div>\n",
              "<style scoped>\n",
              "    .dataframe tbody tr th:only-of-type {\n",
              "        vertical-align: middle;\n",
              "    }\n",
              "\n",
              "    .dataframe tbody tr th {\n",
              "        vertical-align: top;\n",
              "    }\n",
              "\n",
              "    .dataframe thead th {\n",
              "        text-align: right;\n",
              "    }\n",
              "</style>\n",
              "<table border=\"1\" class=\"dataframe\">\n",
              "  <thead>\n",
              "    <tr style=\"text-align: right;\">\n",
              "      <th></th>\n",
              "      <th>title</th>\n",
              "      <th>author</th>\n",
              "      <th>source</th>\n",
              "      <th>description</th>\n",
              "      <th>content</th>\n",
              "      <th>pub_date</th>\n",
              "      <th>url</th>\n",
              "      <th>photo_url</th>\n",
              "      <th>combined_text</th>\n",
              "      <th>tokens</th>\n",
              "      <th>lems</th>\n",
              "      <th>neg</th>\n",
              "      <th>neu</th>\n",
              "      <th>pos</th>\n",
              "      <th>compound</th>\n",
              "      <th>headline</th>\n",
              "      <th>label</th>\n",
              "      <th>word_count</th>\n",
              "    </tr>\n",
              "  </thead>\n",
              "  <tbody>\n",
              "    <tr>\n",
              "      <th>0</th>\n",
              "      <td>Tesla 'suspends' Bitcoin car purchases citing ...</td>\n",
              "      <td>https://www.engadget.com/about/editors/richard...</td>\n",
              "      <td>Engadget</td>\n",
              "      <td>You can't buy a Tesla with Bitcoin anymore..</td>\n",
              "      <td>Just weeks after Tesla started accepting Bitco...</td>\n",
              "      <td>2021-05-12</td>\n",
              "      <td>https://www.engadget.com/elon-musk-bitcoin-221...</td>\n",
              "      <td>https://s.yimg.com/os/creatr-uploaded-images/2...</td>\n",
              "      <td>tesla is uspends bitcoin car purchases citing ...</td>\n",
              "      <td>[tesla, uspends, bitcoin, car, purchases, citi...</td>\n",
              "      <td>tesla uspends bitcoin car purchase citing envi...</td>\n",
              "      <td>0.077</td>\n",
              "      <td>0.836</td>\n",
              "      <td>0.087</td>\n",
              "      <td>0.0772</td>\n",
              "      <td>tesla uspends bitcoin car purchase citing envi...</td>\n",
              "      <td>0</td>\n",
              "      <td>27</td>\n",
              "    </tr>\n",
              "    <tr>\n",
              "      <th>1</th>\n",
              "      <td>Tesla 'suspends' Bitcoin car purchases citing ...</td>\n",
              "      <td>https://www.engadget.com/about/editors/richard...</td>\n",
              "      <td>Engadget</td>\n",
              "      <td>You can't buy a Tesla with Bitcoin anymore..</td>\n",
              "      <td>Just weeks after Tesla started accepting Bitco...</td>\n",
              "      <td>2021-05-12</td>\n",
              "      <td>https://www.engadget.com/elon-musk-bitcoin-221...</td>\n",
              "      <td>https://s.yimg.com/os/creatr-uploaded-images/2...</td>\n",
              "      <td>tesla is uspends bitcoin car purchases citing ...</td>\n",
              "      <td>[tesla, uspends, bitcoin, car, purchases, citi...</td>\n",
              "      <td>tesla uspends bitcoin car purchase citing envi...</td>\n",
              "      <td>0.000</td>\n",
              "      <td>0.918</td>\n",
              "      <td>0.082</td>\n",
              "      <td>0.3612</td>\n",
              "      <td>tesla powerwall higher power battery grid livi...</td>\n",
              "      <td>1</td>\n",
              "      <td>29</td>\n",
              "    </tr>\n",
              "    <tr>\n",
              "      <th>2</th>\n",
              "      <td>Tesla 'suspends' Bitcoin car purchases citing ...</td>\n",
              "      <td>https://www.engadget.com/about/editors/richard...</td>\n",
              "      <td>Engadget</td>\n",
              "      <td>You can't buy a Tesla with Bitcoin anymore..</td>\n",
              "      <td>Just weeks after Tesla started accepting Bitco...</td>\n",
              "      <td>2021-05-12</td>\n",
              "      <td>https://www.engadget.com/elon-musk-bitcoin-221...</td>\n",
              "      <td>https://s.yimg.com/os/creatr-uploaded-images/2...</td>\n",
              "      <td>tesla is uspends bitcoin car purchases citing ...</td>\n",
              "      <td>[tesla, uspends, bitcoin, car, purchases, citi...</td>\n",
              "      <td>tesla uspends bitcoin car purchase citing envi...</td>\n",
              "      <td>0.231</td>\n",
              "      <td>0.769</td>\n",
              "      <td>0.000</td>\n",
              "      <td>-0.8271</td>\n",
              "      <td>elon musk data recovered far show autopilot en...</td>\n",
              "      <td>-1</td>\n",
              "      <td>32</td>\n",
              "    </tr>\n",
              "    <tr>\n",
              "      <th>3</th>\n",
              "      <td>Tesla 'suspends' Bitcoin car purchases citing ...</td>\n",
              "      <td>https://www.engadget.com/about/editors/richard...</td>\n",
              "      <td>Engadget</td>\n",
              "      <td>You can't buy a Tesla with Bitcoin anymore..</td>\n",
              "      <td>Just weeks after Tesla started accepting Bitco...</td>\n",
              "      <td>2021-05-12</td>\n",
              "      <td>https://www.engadget.com/elon-musk-bitcoin-221...</td>\n",
              "      <td>https://s.yimg.com/os/creatr-uploaded-images/2...</td>\n",
              "      <td>tesla is uspends bitcoin car purchases citing ...</td>\n",
              "      <td>[tesla, uspends, bitcoin, car, purchases, citi...</td>\n",
              "      <td>tesla uspends bitcoin car purchase citing envi...</td>\n",
              "      <td>0.063</td>\n",
              "      <td>0.667</td>\n",
              "      <td>0.270</td>\n",
              "      <td>0.6705</td>\n",
              "      <td>morning amazon cancel lord ring mmorpg amazon ...</td>\n",
              "      <td>1</td>\n",
              "      <td>26</td>\n",
              "    </tr>\n",
              "    <tr>\n",
              "      <th>4</th>\n",
              "      <td>Tesla 'suspends' Bitcoin car purchases citing ...</td>\n",
              "      <td>https://www.engadget.com/about/editors/richard...</td>\n",
              "      <td>Engadget</td>\n",
              "      <td>You can't buy a Tesla with Bitcoin anymore..</td>\n",
              "      <td>Just weeks after Tesla started accepting Bitco...</td>\n",
              "      <td>2021-05-12</td>\n",
              "      <td>https://www.engadget.com/elon-musk-bitcoin-221...</td>\n",
              "      <td>https://s.yimg.com/os/creatr-uploaded-images/2...</td>\n",
              "      <td>tesla is uspends bitcoin car purchases citing ...</td>\n",
              "      <td>[tesla, uspends, bitcoin, car, purchases, citi...</td>\n",
              "      <td>tesla uspends bitcoin car purchase citing envi...</td>\n",
              "      <td>0.000</td>\n",
              "      <td>0.893</td>\n",
              "      <td>0.107</td>\n",
              "      <td>0.4588</td>\n",
              "      <td>riding lucid air luxury ev ahead beginning del...</td>\n",
              "      <td>1</td>\n",
              "      <td>27</td>\n",
              "    </tr>\n",
              "  </tbody>\n",
              "</table>\n",
              "</div>"
            ],
            "text/plain": [
              "                                               title  ... word_count\n",
              "0  Tesla 'suspends' Bitcoin car purchases citing ...  ...         27\n",
              "1  Tesla 'suspends' Bitcoin car purchases citing ...  ...         29\n",
              "2  Tesla 'suspends' Bitcoin car purchases citing ...  ...         32\n",
              "3  Tesla 'suspends' Bitcoin car purchases citing ...  ...         26\n",
              "4  Tesla 'suspends' Bitcoin car purchases citing ...  ...         27\n",
              "\n",
              "[5 rows x 18 columns]"
            ]
          },
          "metadata": {
            "tags": []
          },
          "execution_count": 70
        }
      ]
    },
    {
      "cell_type": "code",
      "metadata": {
        "id": "eGiwaHhBkhpl"
      },
      "source": [
        "df_merged.to_csv('/content/drive/MyDrive/df_merged_teslaadd2.csv', index = False)"
      ],
      "execution_count": null,
      "outputs": []
    },
    {
      "cell_type": "code",
      "metadata": {
        "id": "D6_JYQU4jSRF"
      },
      "source": [
        "stock_data = pd.read_csv('/content/drive/MyDrive/stktslaadd2.csv')"
      ],
      "execution_count": null,
      "outputs": []
    },
    {
      "cell_type": "code",
      "metadata": {
        "id": "XltJD0GzkFhf"
      },
      "source": [
        "df_merged = pd.read_csv('/content/drive/MyDrive/Microsoft.csv')"
      ],
      "execution_count": null,
      "outputs": []
    },
    {
      "cell_type": "code",
      "metadata": {
        "id": "gbBQ-UUOjW0v"
      },
      "source": [
        "# stock news articles\n",
        "df_merged['date'] = pd.to_datetime(df_merged['pub_date']).apply(lambda x: x.date())\n",
        "# stock market data \n",
        "stock_data['date'] = pd.to_datetime(stock_data['day']).apply(lambda x: x.date())"
      ],
      "execution_count": null,
      "outputs": []
    },
    {
      "cell_type": "code",
      "metadata": {
        "colab": {
          "base_uri": "https://localhost:8080/",
          "height": 829
        },
        "id": "u4NA9ChBjYUj",
        "outputId": "c6aa3f5d-db1b-4290-96f7-895e47d73047"
      },
      "source": [
        "df_mergeds=stock_data.merge(df_merged,on='date')\n",
        "df_mergeds.head()"
      ],
      "execution_count": null,
      "outputs": [
        {
          "output_type": "execute_result",
          "data": {
            "text/html": [
              "<div>\n",
              "<style scoped>\n",
              "    .dataframe tbody tr th:only-of-type {\n",
              "        vertical-align: middle;\n",
              "    }\n",
              "\n",
              "    .dataframe tbody tr th {\n",
              "        vertical-align: top;\n",
              "    }\n",
              "\n",
              "    .dataframe thead th {\n",
              "        text-align: right;\n",
              "    }\n",
              "</style>\n",
              "<table border=\"1\" class=\"dataframe\">\n",
              "  <thead>\n",
              "    <tr style=\"text-align: right;\">\n",
              "      <th></th>\n",
              "      <th>open</th>\n",
              "      <th>high</th>\n",
              "      <th>low</th>\n",
              "      <th>close</th>\n",
              "      <th>volume</th>\n",
              "      <th>adjusted</th>\n",
              "      <th>day</th>\n",
              "      <th>company</th>\n",
              "      <th>date</th>\n",
              "      <th>title</th>\n",
              "      <th>author</th>\n",
              "      <th>source</th>\n",
              "      <th>description</th>\n",
              "      <th>content</th>\n",
              "      <th>pub_date</th>\n",
              "      <th>url</th>\n",
              "      <th>photo_url</th>\n",
              "      <th>combined_text</th>\n",
              "      <th>tokens</th>\n",
              "      <th>lems</th>\n",
              "      <th>neg</th>\n",
              "      <th>neu</th>\n",
              "      <th>pos</th>\n",
              "      <th>compound</th>\n",
              "      <th>headline</th>\n",
              "      <th>label</th>\n",
              "      <th>word_count</th>\n",
              "    </tr>\n",
              "  </thead>\n",
              "  <tbody>\n",
              "    <tr>\n",
              "      <th>0</th>\n",
              "      <td>712.700012</td>\n",
              "      <td>763.0</td>\n",
              "      <td>710.659973</td>\n",
              "      <td>762.320007</td>\n",
              "      <td>44652800</td>\n",
              "      <td>762.320007</td>\n",
              "      <td>2021-04-13</td>\n",
              "      <td>TSLA</td>\n",
              "      <td>2021-04-13</td>\n",
              "      <td>African crypto usage spurs Luno as customers r...</td>\n",
              "      <td>Tage Kene-Okafor</td>\n",
              "      <td>TechCrunch</td>\n",
              "      <td>The crypto industry as a whole has seen a mome...</td>\n",
              "      <td>The crypto industry as a whole has seen a mome...</td>\n",
              "      <td>2021-04-13</td>\n",
              "      <td>http://techcrunch.com/2021/04/13/african-crypt...</td>\n",
              "      <td>https://techcrunch.com/wp-content/uploads/2020...</td>\n",
              "      <td>african crypto usage spurs luno as customers r...</td>\n",
              "      <td>[african, crypto, usage, spurs, luno, customer...</td>\n",
              "      <td>african crypto usage spur luno customer reach ...</td>\n",
              "      <td>0.142</td>\n",
              "      <td>0.726</td>\n",
              "      <td>0.131</td>\n",
              "      <td>-0.1027</td>\n",
              "      <td>tesla grows first quarter besting expectation ...</td>\n",
              "      <td>0</td>\n",
              "      <td>31</td>\n",
              "    </tr>\n",
              "    <tr>\n",
              "      <th>1</th>\n",
              "      <td>712.700012</td>\n",
              "      <td>763.0</td>\n",
              "      <td>710.659973</td>\n",
              "      <td>762.320007</td>\n",
              "      <td>44652800</td>\n",
              "      <td>762.320007</td>\n",
              "      <td>2021-04-13</td>\n",
              "      <td>TSLA</td>\n",
              "      <td>2021-04-13</td>\n",
              "      <td>African crypto usage spurs Luno as customers r...</td>\n",
              "      <td>Tage Kene-Okafor</td>\n",
              "      <td>TechCrunch</td>\n",
              "      <td>The crypto industry as a whole has seen a mome...</td>\n",
              "      <td>The crypto industry as a whole has seen a mome...</td>\n",
              "      <td>2021-04-13</td>\n",
              "      <td>http://techcrunch.com/2021/04/13/african-crypt...</td>\n",
              "      <td>https://techcrunch.com/wp-content/uploads/2020...</td>\n",
              "      <td>african crypto usage spurs luno as customers r...</td>\n",
              "      <td>[african, crypto, usage, spurs, luno, customer...</td>\n",
              "      <td>african crypto usage spur luno customer reach ...</td>\n",
              "      <td>0.155</td>\n",
              "      <td>0.690</td>\n",
              "      <td>0.155</td>\n",
              "      <td>-0.2500</td>\n",
              "      <td>one behind wheel deadly tesla crash saturday n...</td>\n",
              "      <td>-1</td>\n",
              "      <td>29</td>\n",
              "    </tr>\n",
              "    <tr>\n",
              "      <th>2</th>\n",
              "      <td>712.700012</td>\n",
              "      <td>763.0</td>\n",
              "      <td>710.659973</td>\n",
              "      <td>762.320007</td>\n",
              "      <td>44652800</td>\n",
              "      <td>762.320007</td>\n",
              "      <td>2021-04-13</td>\n",
              "      <td>TSLA</td>\n",
              "      <td>2021-04-13</td>\n",
              "      <td>African crypto usage spurs Luno as customers r...</td>\n",
              "      <td>Tage Kene-Okafor</td>\n",
              "      <td>TechCrunch</td>\n",
              "      <td>The crypto industry as a whole has seen a mome...</td>\n",
              "      <td>The crypto industry as a whole has seen a mome...</td>\n",
              "      <td>2021-04-13</td>\n",
              "      <td>http://techcrunch.com/2021/04/13/african-crypt...</td>\n",
              "      <td>https://techcrunch.com/wp-content/uploads/2020...</td>\n",
              "      <td>african crypto usage spurs luno as customers r...</td>\n",
              "      <td>[african, crypto, usage, spurs, luno, customer...</td>\n",
              "      <td>african crypto usage spur luno customer reach ...</td>\n",
              "      <td>0.235</td>\n",
              "      <td>0.765</td>\n",
              "      <td>0.000</td>\n",
              "      <td>-0.7717</td>\n",
              "      <td>tesla mull car tailored china amid mounting cr...</td>\n",
              "      <td>-1</td>\n",
              "      <td>28</td>\n",
              "    </tr>\n",
              "    <tr>\n",
              "      <th>3</th>\n",
              "      <td>712.700012</td>\n",
              "      <td>763.0</td>\n",
              "      <td>710.659973</td>\n",
              "      <td>762.320007</td>\n",
              "      <td>44652800</td>\n",
              "      <td>762.320007</td>\n",
              "      <td>2021-04-13</td>\n",
              "      <td>TSLA</td>\n",
              "      <td>2021-04-13</td>\n",
              "      <td>African crypto usage spurs Luno as customers r...</td>\n",
              "      <td>Tage Kene-Okafor</td>\n",
              "      <td>TechCrunch</td>\n",
              "      <td>The crypto industry as a whole has seen a mome...</td>\n",
              "      <td>The crypto industry as a whole has seen a mome...</td>\n",
              "      <td>2021-04-13</td>\n",
              "      <td>http://techcrunch.com/2021/04/13/african-crypt...</td>\n",
              "      <td>https://techcrunch.com/wp-content/uploads/2020...</td>\n",
              "      <td>african crypto usage spurs luno as customers r...</td>\n",
              "      <td>[african, crypto, usage, spurs, luno, customer...</td>\n",
              "      <td>african crypto usage spur luno customer reach ...</td>\n",
              "      <td>0.000</td>\n",
              "      <td>0.705</td>\n",
              "      <td>0.295</td>\n",
              "      <td>0.8834</td>\n",
              "      <td>tesla owner see much solar coal powering ev te...</td>\n",
              "      <td>1</td>\n",
              "      <td>31</td>\n",
              "    </tr>\n",
              "    <tr>\n",
              "      <th>4</th>\n",
              "      <td>712.700012</td>\n",
              "      <td>763.0</td>\n",
              "      <td>710.659973</td>\n",
              "      <td>762.320007</td>\n",
              "      <td>44652800</td>\n",
              "      <td>762.320007</td>\n",
              "      <td>2021-04-13</td>\n",
              "      <td>TSLA</td>\n",
              "      <td>2021-04-13</td>\n",
              "      <td>African crypto usage spurs Luno as customers r...</td>\n",
              "      <td>Tage Kene-Okafor</td>\n",
              "      <td>TechCrunch</td>\n",
              "      <td>The crypto industry as a whole has seen a mome...</td>\n",
              "      <td>The crypto industry as a whole has seen a mome...</td>\n",
              "      <td>2021-04-13</td>\n",
              "      <td>http://techcrunch.com/2021/04/13/african-crypt...</td>\n",
              "      <td>https://techcrunch.com/wp-content/uploads/2020...</td>\n",
              "      <td>african crypto usage spurs luno as customers r...</td>\n",
              "      <td>[african, crypto, usage, spurs, luno, customer...</td>\n",
              "      <td>african crypto usage spur luno customer reach ...</td>\n",
              "      <td>0.000</td>\n",
              "      <td>0.861</td>\n",
              "      <td>0.139</td>\n",
              "      <td>0.4019</td>\n",
              "      <td>tesla want make every home distributed power p...</td>\n",
              "      <td>1</td>\n",
              "      <td>32</td>\n",
              "    </tr>\n",
              "  </tbody>\n",
              "</table>\n",
              "</div>"
            ],
            "text/plain": [
              "         open   high  ...  label  word_count\n",
              "0  712.700012  763.0  ...      0          31\n",
              "1  712.700012  763.0  ...     -1          29\n",
              "2  712.700012  763.0  ...     -1          28\n",
              "3  712.700012  763.0  ...      1          31\n",
              "4  712.700012  763.0  ...      1          32\n",
              "\n",
              "[5 rows x 27 columns]"
            ]
          },
          "metadata": {
            "tags": []
          },
          "execution_count": 73
        }
      ]
    },
    {
      "cell_type": "code",
      "metadata": {
        "id": "nws5xKScjeH5"
      },
      "source": [
        "df_mergeds['combined_text'] = df_mergeds['title'].map(str) +\" \"+ df_mergeds['content']+\" \"+ df_mergeds['description'].map(str)"
      ],
      "execution_count": null,
      "outputs": []
    },
    {
      "cell_type": "code",
      "metadata": {
        "colab": {
          "base_uri": "https://localhost:8080/",
          "height": 202
        },
        "id": "ieNIjS-cjgC6",
        "outputId": "4ea4185f-764e-4202-cef6-89288638c3b8"
      },
      "source": [
        "# keeping only the essential columns in the dataframe\n",
        "df_mergeds=df_mergeds[['close','neg','neu','pos','compound']]\n",
        "df_mergeds.head()"
      ],
      "execution_count": null,
      "outputs": [
        {
          "output_type": "execute_result",
          "data": {
            "text/html": [
              "<div>\n",
              "<style scoped>\n",
              "    .dataframe tbody tr th:only-of-type {\n",
              "        vertical-align: middle;\n",
              "    }\n",
              "\n",
              "    .dataframe tbody tr th {\n",
              "        vertical-align: top;\n",
              "    }\n",
              "\n",
              "    .dataframe thead th {\n",
              "        text-align: right;\n",
              "    }\n",
              "</style>\n",
              "<table border=\"1\" class=\"dataframe\">\n",
              "  <thead>\n",
              "    <tr style=\"text-align: right;\">\n",
              "      <th></th>\n",
              "      <th>close</th>\n",
              "      <th>neg</th>\n",
              "      <th>neu</th>\n",
              "      <th>pos</th>\n",
              "      <th>compound</th>\n",
              "    </tr>\n",
              "  </thead>\n",
              "  <tbody>\n",
              "    <tr>\n",
              "      <th>0</th>\n",
              "      <td>762.320007</td>\n",
              "      <td>0.142</td>\n",
              "      <td>0.726</td>\n",
              "      <td>0.131</td>\n",
              "      <td>-0.1027</td>\n",
              "    </tr>\n",
              "    <tr>\n",
              "      <th>1</th>\n",
              "      <td>762.320007</td>\n",
              "      <td>0.155</td>\n",
              "      <td>0.690</td>\n",
              "      <td>0.155</td>\n",
              "      <td>-0.2500</td>\n",
              "    </tr>\n",
              "    <tr>\n",
              "      <th>2</th>\n",
              "      <td>762.320007</td>\n",
              "      <td>0.235</td>\n",
              "      <td>0.765</td>\n",
              "      <td>0.000</td>\n",
              "      <td>-0.7717</td>\n",
              "    </tr>\n",
              "    <tr>\n",
              "      <th>3</th>\n",
              "      <td>762.320007</td>\n",
              "      <td>0.000</td>\n",
              "      <td>0.705</td>\n",
              "      <td>0.295</td>\n",
              "      <td>0.8834</td>\n",
              "    </tr>\n",
              "    <tr>\n",
              "      <th>4</th>\n",
              "      <td>762.320007</td>\n",
              "      <td>0.000</td>\n",
              "      <td>0.861</td>\n",
              "      <td>0.139</td>\n",
              "      <td>0.4019</td>\n",
              "    </tr>\n",
              "  </tbody>\n",
              "</table>\n",
              "</div>"
            ],
            "text/plain": [
              "        close    neg    neu    pos  compound\n",
              "0  762.320007  0.142  0.726  0.131   -0.1027\n",
              "1  762.320007  0.155  0.690  0.155   -0.2500\n",
              "2  762.320007  0.235  0.765  0.000   -0.7717\n",
              "3  762.320007  0.000  0.705  0.295    0.8834\n",
              "4  762.320007  0.000  0.861  0.139    0.4019"
            ]
          },
          "metadata": {
            "tags": []
          },
          "execution_count": 75
        }
      ]
    },
    {
      "cell_type": "code",
      "metadata": {
        "colab": {
          "base_uri": "https://localhost:8080/"
        },
        "id": "OKd85NnbtZRc",
        "outputId": "c2cd6b03-fe90-4178-a0f1-9c4dcb10ac01"
      },
      "source": [
        "df_mergeds.info()"
      ],
      "execution_count": null,
      "outputs": [
        {
          "output_type": "stream",
          "text": [
            "<class 'pandas.core.frame.DataFrame'>\n",
            "Int64Index: 203235 entries, 0 to 203234\n",
            "Data columns (total 5 columns):\n",
            " #   Column    Non-Null Count   Dtype  \n",
            "---  ------    --------------   -----  \n",
            " 0   close     203235 non-null  float64\n",
            " 1   neg       203235 non-null  float64\n",
            " 2   neu       203235 non-null  float64\n",
            " 3   pos       203235 non-null  float64\n",
            " 4   compound  203235 non-null  float64\n",
            "dtypes: float64(5)\n",
            "memory usage: 9.3 MB\n"
          ],
          "name": "stdout"
        }
      ]
    },
    {
      "cell_type": "code",
      "metadata": {
        "id": "YX-IAX6gthrv"
      },
      "source": [
        "from sklearn.linear_model import LinearRegression\n",
        "from sklearn.model_selection import train_test_split\n",
        "from sklearn.metrics import mean_squared_error, r2_score"
      ],
      "execution_count": null,
      "outputs": []
    },
    {
      "cell_type": "code",
      "metadata": {
        "id": "85n-Yhact7f7"
      },
      "source": [
        "Y=df_mergeds['close']\n",
        "X=df_mergeds.drop(['close']),axis=1, inplace=False)"
      ],
      "execution_count": null,
      "outputs": []
    },
    {
      "cell_type": "code",
      "metadata": {
        "id": "y9CX3XDDjl2S"
      },
      "source": [
        "df_mergeds.to_csv('/content/drive/MyDrive/df_mergeds_teslaadd2.csv', index = False)"
      ],
      "execution_count": null,
      "outputs": []
    },
    {
      "cell_type": "code",
      "metadata": {
        "colab": {
          "base_uri": "https://localhost:8080/",
          "height": 202
        },
        "id": "tgRUU0stjqzb",
        "outputId": "7cbf9865-07a8-49c7-945f-e34b80e69b44"
      },
      "source": [
        "df_mergeds=df_mergeds.drop_duplicates(subset='date',keep=\"last\")\n",
        "df_mergeds.head()"
      ],
      "execution_count": null,
      "outputs": [
        {
          "output_type": "execute_result",
          "data": {
            "text/html": [
              "<div>\n",
              "<style scoped>\n",
              "    .dataframe tbody tr th:only-of-type {\n",
              "        vertical-align: middle;\n",
              "    }\n",
              "\n",
              "    .dataframe tbody tr th {\n",
              "        vertical-align: top;\n",
              "    }\n",
              "\n",
              "    .dataframe thead th {\n",
              "        text-align: right;\n",
              "    }\n",
              "</style>\n",
              "<table border=\"1\" class=\"dataframe\">\n",
              "  <thead>\n",
              "    <tr style=\"text-align: right;\">\n",
              "      <th></th>\n",
              "      <th>date</th>\n",
              "      <th>close</th>\n",
              "      <th>neg</th>\n",
              "      <th>neu</th>\n",
              "      <th>pos</th>\n",
              "      <th>compound</th>\n",
              "      <th>normal_close</th>\n",
              "    </tr>\n",
              "  </thead>\n",
              "  <tbody>\n",
              "    <tr>\n",
              "      <th>10855</th>\n",
              "      <td>2021-04-13</td>\n",
              "      <td>762.320007</td>\n",
              "      <td>0.0</td>\n",
              "      <td>1.000</td>\n",
              "      <td>0.000</td>\n",
              "      <td>0.0000</td>\n",
              "      <td>1.000000</td>\n",
              "    </tr>\n",
              "    <tr>\n",
              "      <th>24159</th>\n",
              "      <td>2021-04-14</td>\n",
              "      <td>732.229980</td>\n",
              "      <td>0.0</td>\n",
              "      <td>0.661</td>\n",
              "      <td>0.339</td>\n",
              "      <td>0.8957</td>\n",
              "      <td>0.825494</td>\n",
              "    </tr>\n",
              "    <tr>\n",
              "      <th>45185</th>\n",
              "      <td>2021-04-15</td>\n",
              "      <td>738.849976</td>\n",
              "      <td>0.0</td>\n",
              "      <td>0.661</td>\n",
              "      <td>0.339</td>\n",
              "      <td>0.8957</td>\n",
              "      <td>0.863887</td>\n",
              "    </tr>\n",
              "    <tr>\n",
              "      <th>57075</th>\n",
              "      <td>2021-04-16</td>\n",
              "      <td>739.780029</td>\n",
              "      <td>0.0</td>\n",
              "      <td>0.661</td>\n",
              "      <td>0.339</td>\n",
              "      <td>0.8957</td>\n",
              "      <td>0.869280</td>\n",
              "    </tr>\n",
              "    <tr>\n",
              "      <th>75353</th>\n",
              "      <td>2021-04-19</td>\n",
              "      <td>714.630005</td>\n",
              "      <td>0.0</td>\n",
              "      <td>0.661</td>\n",
              "      <td>0.339</td>\n",
              "      <td>0.8957</td>\n",
              "      <td>0.723424</td>\n",
              "    </tr>\n",
              "  </tbody>\n",
              "</table>\n",
              "</div>"
            ],
            "text/plain": [
              "             date       close  neg    neu    pos  compound  normal_close\n",
              "10855  2021-04-13  762.320007  0.0  1.000  0.000    0.0000      1.000000\n",
              "24159  2021-04-14  732.229980  0.0  0.661  0.339    0.8957      0.825494\n",
              "45185  2021-04-15  738.849976  0.0  0.661  0.339    0.8957      0.863887\n",
              "57075  2021-04-16  739.780029  0.0  0.661  0.339    0.8957      0.869280\n",
              "75353  2021-04-19  714.630005  0.0  0.661  0.339    0.8957      0.723424"
            ]
          },
          "metadata": {
            "tags": []
          },
          "execution_count": 68
        }
      ]
    },
    {
      "cell_type": "code",
      "metadata": {
        "id": "FksqCCcBlPHb"
      },
      "source": [
        "# Min-Max Normalization \n",
        "from sklearn import preprocessing\n",
        "# Create x, where x the 'scores' column's values as floats\n",
        "x = df_mergeds[['close']].values.astype(float)\n",
        "# Create a minimum and maximum processor object\n",
        "min_max_scaler = preprocessing.MinMaxScaler()\n",
        "# Create an object to transform the data to fit minmax processor\n",
        "x_scaled = min_max_scaler.fit_transform(x)\n",
        "# adding the new column to our dataframe\n",
        "df_mergeds['normal_close']= x_scaled"
      ],
      "execution_count": null,
      "outputs": []
    },
    {
      "cell_type": "code",
      "metadata": {
        "colab": {
          "base_uri": "https://localhost:8080/",
          "height": 519
        },
        "id": "E5DE36_7lRKp",
        "outputId": "9f4201d3-4f2e-45f3-a8e0-8294635ac4ce"
      },
      "source": [
        "import matplotlib.pyplot as plt\n",
        "import pandas as pd\n",
        "# gca stands for 'get current axis'\n",
        "ax = plt.gca()\n",
        "df_mergeds.plot(kind='line',x='date',y='normal_close',ax=ax, figsize=(18,10))\n",
        "ax.set_ylabel(\"Normalized stock close\")\n",
        "df_mergeds.plot(kind='line',x='date',y='compound', color='red',title='Microsoft Stock prices and the News Sentiments', ax=ax, figsize=(18,10))\n",
        "#plt.show()"
      ],
      "execution_count": null,
      "outputs": [
        {
          "output_type": "execute_result",
          "data": {
            "text/plain": [
              "<matplotlib.axes._subplots.AxesSubplot at 0x7fdb0cb9d750>"
            ]
          },
          "metadata": {
            "tags": []
          },
          "execution_count": 64
        },
        {
          "output_type": "display_data",
          "data": {
            "image/png": "[encoded data removed]",
            "text/plain": [
              "<Figure size 1296x720 with 1 Axes>"
            ]
          },
          "metadata": {
            "tags": [],
            "needs_background": "light"
          }
        }
      ]
    }
  ]
}