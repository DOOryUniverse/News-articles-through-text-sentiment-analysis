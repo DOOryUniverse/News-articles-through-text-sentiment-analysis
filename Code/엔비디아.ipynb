{
  "nbformat": 4,
  "nbformat_minor": 0,
  "metadata": {
    "colab": {
      "name": "엔비디아",
      "provenance": [],
      "collapsed_sections": [],
      "mount_file_id": "1uEU61h8caz1C8edV_jgEy9QNmXReC60O",
      "authorship_tag": "ABX9TyOL4ZDyVdbFEx90m/QvxtFJ",
      "include_colab_link": true
    },
    "kernelspec": {
      "name": "python3",
      "display_name": "Python 3"
    },
    "language_info": {
      "name": "python"
    }
  },
  "cells": [
    {
      "cell_type": "markdown",
      "metadata": {
        "id": "view-in-github",
        "colab_type": "text"
      },
      "source": [
        "<a href=\"https://colab.research.google.com/github/DOOryUniverse/News-articles-through-text-sentiment-analysis/blob/Nvidia/%EC%97%94%EB%B9%84%EB%94%94%EC%95%84.ipynb\" target=\"_parent\"><img src=\"https://colab.research.google.com/assets/colab-badge.svg\" alt=\"Open In Colab\"/></a>"
      ]
    },
    {
      "cell_type": "code",
      "metadata": {
        "id": "cMO0R5X3DcN5"
      },
      "source": [
        "import requests\n",
        "import json\n",
        "import numpy as np\n",
        "import pandas as pd\n",
        "import nltk \n",
        "import matplotlib\n",
        "from nltk.tokenize import sent_tokenize, word_tokenize\n",
        "from nltk.corpus import stopwords\n",
        "from string import punctuation\n",
        "import re\n",
        "import numpy as np\n",
        "from nltk.tokenize import RegexpTokenizer\n",
        "from nltk.stem import WordNetLemmatizer\n"
      ],
      "execution_count": null,
      "outputs": []
    },
    {
      "cell_type": "code",
      "metadata": {
        "id": "Z-dPS-idDkxI"
      },
      "source": [
        "url = 'https://newsapi.org/v2/everything?'\n",
        "api_key = '9d3a657dc53f43ce9b2641a64b686d48'"
      ],
      "execution_count": null,
      "outputs": []
    },
    {
      "cell_type": "code",
      "metadata": {
        "id": "Obgz-ujJDuTL"
      },
      "source": [
        "\n",
        "def get_articles(file): \n",
        "    article_results = [] \n",
        "    for i in range(len(file)):\n",
        "        article_dict = {}\n",
        "        article_dict['title'] = file[i]['title']\n",
        "        article_dict['author'] = file[i]['author']\n",
        "        article_dict['source'] = file[i]['source']\n",
        "        article_dict['description'] = file[i]['description']\n",
        "        article_dict['content'] = file[i]['content']\n",
        "        article_dict['pub_date'] = file[i]['publishedAt']\n",
        "        article_dict['url'] = file[i][\"url\"]\n",
        "        article_dict['photo_url'] = file[i]['urlToImage']\n",
        "        article_results.append(article_dict)\n",
        "    return article_results"
      ],
      "execution_count": null,
      "outputs": []
    },
    {
      "cell_type": "code",
      "metadata": {
        "colab": {
          "base_uri": "https://localhost:8080/",
          "height": 626
        },
        "id": "8PtvF0thDxgt",
        "outputId": "b03f21a6-bdfe-4b65-88b9-440e3d09e958"
      },
      "source": [
        "# Collecting the first 100 articles about ireland to check the API and the working of the function \n",
        "parameters_headlines = {\n",
        "    'q': 'Nvidia',\n",
        "    'sortBy':'popularity',\n",
        "    'pageSize': 100,\n",
        "    'apiKey': api_key,\n",
        "    'language': 'en',\n",
        "    'from' : '2021-03-10'    \n",
        "}\n",
        "# making the API call \n",
        "response_headline = requests.get(url, params = parameters_headlines)\n",
        "response_json_headline = response_headline.json()\n",
        "responses = response_json_headline['articles']\n",
        "# transforminf the data from JSON dictionary to a pandas data frame\n",
        "news_articles_df = pd.DataFrame(get_articles(responses))\n",
        "# printing the head to check the format and the working of the get_articles function\n",
        "news_articles_df.head()"
      ],
      "execution_count": null,
      "outputs": [
        {
          "output_type": "execute_result",
          "data": {
            "text/html": [
              "<div>\n",
              "<style scoped>\n",
              "    .dataframe tbody tr th:only-of-type {\n",
              "        vertical-align: middle;\n",
              "    }\n",
              "\n",
              "    .dataframe tbody tr th {\n",
              "        vertical-align: top;\n",
              "    }\n",
              "\n",
              "    .dataframe thead th {\n",
              "        text-align: right;\n",
              "    }\n",
              "</style>\n",
              "<table border=\"1\" class=\"dataframe\">\n",
              "  <thead>\n",
              "    <tr style=\"text-align: right;\">\n",
              "      <th></th>\n",
              "      <th>title</th>\n",
              "      <th>author</th>\n",
              "      <th>source</th>\n",
              "      <th>description</th>\n",
              "      <th>content</th>\n",
              "      <th>pub_date</th>\n",
              "      <th>url</th>\n",
              "      <th>photo_url</th>\n",
              "    </tr>\n",
              "  </thead>\n",
              "  <tbody>\n",
              "    <tr>\n",
              "      <th>0</th>\n",
              "      <td>GeForce Now doubles its price for newcomers to...</td>\n",
              "      <td>https://www.engadget.com/about/editors/kris-holt</td>\n",
              "      <td>{'id': 'engadget', 'name': 'Engadget'}</td>\n",
              "      <td>Existing subscribers can keep paying $5/month ...</td>\n",
              "      <td>NVIDIA has doubled the price of the GeForce No...</td>\n",
              "      <td>2021-03-18T18:06:48Z</td>\n",
              "      <td>https://www.engadget.com/nvidia-geforce-nows-p...</td>\n",
              "      <td>https://s.yimg.com/os/creatr-uploaded-images/2...</td>\n",
              "    </tr>\n",
              "    <tr>\n",
              "      <th>1</th>\n",
              "      <td>NVIDIA's latency-reducing tech comes to 'Overw...</td>\n",
              "      <td>Igor Bonifacic</td>\n",
              "      <td>{'id': 'engadget', 'name': 'Engadget'}</td>\n",
              "      <td>If you play Overwatchon PC frequently, there's...</td>\n",
              "      <td>If you play Overwatchon PC frequently, there's...</td>\n",
              "      <td>2021-03-12T19:11:42Z</td>\n",
              "      <td>https://www.engadget.com/overwatch-nvidia-refl...</td>\n",
              "      <td>https://s.yimg.com/uu/api/res/1.2/IUu.voK9hHlU...</td>\n",
              "    </tr>\n",
              "    <tr>\n",
              "      <th>2</th>\n",
              "      <td>Apple wants Tim Cook, Tim Sweeney to testify i...</td>\n",
              "      <td>https://www.engadget.com/about/editors/jon-fingas</td>\n",
              "      <td>{'id': 'engadget', 'name': 'Engadget'}</td>\n",
              "      <td>Apple and Epic have produced witness lists for...</td>\n",
              "      <td>Apple and Epic have drawn up their potential w...</td>\n",
              "      <td>2021-03-20T21:47:54Z</td>\n",
              "      <td>https://www.engadget.com/tim-cook-sweeney-may-...</td>\n",
              "      <td>https://s.yimg.com/os/creatr-uploaded-images/2...</td>\n",
              "    </tr>\n",
              "    <tr>\n",
              "      <th>3</th>\n",
              "      <td>AMD Radeon RX 6700 XT review: A curious return...</td>\n",
              "      <td>https://www.engadget.com/about/editors/devindr...</td>\n",
              "      <td>{'id': 'engadget', 'name': 'Engadget'}</td>\n",
              "      <td>AMD's Radeon RX 6700 XT is a solid new mid-ran...</td>\n",
              "      <td>In a radical change of pace, AMD aimed for the...</td>\n",
              "      <td>2021-03-17T13:00:05Z</td>\n",
              "      <td>https://www.engadget.com/amd-radeon-rx-6700-xt...</td>\n",
              "      <td>https://s.yimg.com/os/creatr-uploaded-images/2...</td>\n",
              "    </tr>\n",
              "    <tr>\n",
              "      <th>4</th>\n",
              "      <td>The best tech deals we found in Best Buy's wee...</td>\n",
              "      <td>https://www.engadget.com/about/editors/engadget</td>\n",
              "      <td>{'id': 'engadget', 'name': 'Engadget'}</td>\n",
              "      <td>Here's a list of the best tech deals we found ...</td>\n",
              "      <td>Best Buy's kicking off the weekend with anothe...</td>\n",
              "      <td>2021-03-19T12:00:41Z</td>\n",
              "      <td>https://www.engadget.com/best-tech-deals-best-...</td>\n",
              "      <td>https://s.yimg.com/os/creatr-uploaded-images/2...</td>\n",
              "    </tr>\n",
              "  </tbody>\n",
              "</table>\n",
              "</div>"
            ],
            "text/plain": [
              "                                               title  ...                                          photo_url\n",
              "0  GeForce Now doubles its price for newcomers to...  ...  https://s.yimg.com/os/creatr-uploaded-images/2...\n",
              "1  NVIDIA's latency-reducing tech comes to 'Overw...  ...  https://s.yimg.com/uu/api/res/1.2/IUu.voK9hHlU...\n",
              "2  Apple wants Tim Cook, Tim Sweeney to testify i...  ...  https://s.yimg.com/os/creatr-uploaded-images/2...\n",
              "3  AMD Radeon RX 6700 XT review: A curious return...  ...  https://s.yimg.com/os/creatr-uploaded-images/2...\n",
              "4  The best tech deals we found in Best Buy's wee...  ...  https://s.yimg.com/os/creatr-uploaded-images/2...\n",
              "\n",
              "[5 rows x 8 columns]"
            ]
          },
          "metadata": {
            "tags": []
          },
          "execution_count": 4
        }
      ]
    },
    {
      "cell_type": "code",
      "metadata": {
        "id": "k95yn0CmD4Di"
      },
      "source": [
        "responses = list() # stores responses for various news sources\n",
        "domains = ['wsj.com','aljazeera.com','bbc.co.uk','techcrunch.com', 'nytimes.com','bloomberg.com','businessinsider.com',\n",
        "             'cbc.ca','cnbc.com','cnn.com','ew.com','espn.go.com','espncricinfo.com','foxnews.com', 'apnews.com',\n",
        "             'news.nationalgeographic.com','nymag.com','reuters.com','rte.ie','thehindu.com','huffingtonpost.com',\n",
        "             'irishtimes.com','timesofindia.indiatimes.com','washingtonpost.com','time.com','medicalnewstoday.com',\n",
        "             'ndtv.com','theguardian.com','dailymail.co.uk','firstpost.com','thejournal.ie', 'hindustantimes.com',\n",
        "             'economist.com','news.vice.com','usatoday.com','telegraph.co.uk','metro.co.uk','mirror.co.uk','news.google.com']\n",
        "for domain in domains:\n",
        "    parameters_headlines = {\n",
        "    'domains':format(domain),\n",
        "    'sortBy':'popularity',\n",
        "    'pageSize': 100,\n",
        "    'apiKey': api_key,\n",
        "    'language': 'en',\n",
        "    'from' : '2021-03-10'    \n",
        "    }\n",
        "    rr = requests.get(url, params = parameters_headlines)\n",
        "    data = rr.json()\n",
        "    responses = data[\"articles\"]\n",
        "    news_articles_df=news_articles_df.append(pd.DataFrame(get_articles(responses)))"
      ],
      "execution_count": null,
      "outputs": []
    },
    {
      "cell_type": "code",
      "metadata": {
        "colab": {
          "base_uri": "https://localhost:8080/",
          "height": 644
        },
        "id": "i9JQ_2UDD_YM",
        "outputId": "ff9b4ce5-5661-421f-c5f6-a4c351f3b832"
      },
      "source": [
        "print(news_articles_df.shape)\n",
        "news_articles_df.head()"
      ],
      "execution_count": null,
      "outputs": [
        {
          "output_type": "stream",
          "text": [
            "(2912, 8)\n"
          ],
          "name": "stdout"
        },
        {
          "output_type": "execute_result",
          "data": {
            "text/html": [
              "<div>\n",
              "<style scoped>\n",
              "    .dataframe tbody tr th:only-of-type {\n",
              "        vertical-align: middle;\n",
              "    }\n",
              "\n",
              "    .dataframe tbody tr th {\n",
              "        vertical-align: top;\n",
              "    }\n",
              "\n",
              "    .dataframe thead th {\n",
              "        text-align: right;\n",
              "    }\n",
              "</style>\n",
              "<table border=\"1\" class=\"dataframe\">\n",
              "  <thead>\n",
              "    <tr style=\"text-align: right;\">\n",
              "      <th></th>\n",
              "      <th>title</th>\n",
              "      <th>author</th>\n",
              "      <th>source</th>\n",
              "      <th>description</th>\n",
              "      <th>content</th>\n",
              "      <th>pub_date</th>\n",
              "      <th>url</th>\n",
              "      <th>photo_url</th>\n",
              "    </tr>\n",
              "  </thead>\n",
              "  <tbody>\n",
              "    <tr>\n",
              "      <th>0</th>\n",
              "      <td>GeForce Now doubles its price for newcomers to...</td>\n",
              "      <td>https://www.engadget.com/about/editors/kris-holt</td>\n",
              "      <td>{'id': 'engadget', 'name': 'Engadget'}</td>\n",
              "      <td>Existing subscribers can keep paying $5/month ...</td>\n",
              "      <td>NVIDIA has doubled the price of the GeForce No...</td>\n",
              "      <td>2021-03-18T18:06:48Z</td>\n",
              "      <td>https://www.engadget.com/nvidia-geforce-nows-p...</td>\n",
              "      <td>https://s.yimg.com/os/creatr-uploaded-images/2...</td>\n",
              "    </tr>\n",
              "    <tr>\n",
              "      <th>1</th>\n",
              "      <td>NVIDIA's latency-reducing tech comes to 'Overw...</td>\n",
              "      <td>Igor Bonifacic</td>\n",
              "      <td>{'id': 'engadget', 'name': 'Engadget'}</td>\n",
              "      <td>If you play Overwatchon PC frequently, there's...</td>\n",
              "      <td>If you play Overwatchon PC frequently, there's...</td>\n",
              "      <td>2021-03-12T19:11:42Z</td>\n",
              "      <td>https://www.engadget.com/overwatch-nvidia-refl...</td>\n",
              "      <td>https://s.yimg.com/uu/api/res/1.2/IUu.voK9hHlU...</td>\n",
              "    </tr>\n",
              "    <tr>\n",
              "      <th>2</th>\n",
              "      <td>Apple wants Tim Cook, Tim Sweeney to testify i...</td>\n",
              "      <td>https://www.engadget.com/about/editors/jon-fingas</td>\n",
              "      <td>{'id': 'engadget', 'name': 'Engadget'}</td>\n",
              "      <td>Apple and Epic have produced witness lists for...</td>\n",
              "      <td>Apple and Epic have drawn up their potential w...</td>\n",
              "      <td>2021-03-20T21:47:54Z</td>\n",
              "      <td>https://www.engadget.com/tim-cook-sweeney-may-...</td>\n",
              "      <td>https://s.yimg.com/os/creatr-uploaded-images/2...</td>\n",
              "    </tr>\n",
              "    <tr>\n",
              "      <th>3</th>\n",
              "      <td>AMD Radeon RX 6700 XT review: A curious return...</td>\n",
              "      <td>https://www.engadget.com/about/editors/devindr...</td>\n",
              "      <td>{'id': 'engadget', 'name': 'Engadget'}</td>\n",
              "      <td>AMD's Radeon RX 6700 XT is a solid new mid-ran...</td>\n",
              "      <td>In a radical change of pace, AMD aimed for the...</td>\n",
              "      <td>2021-03-17T13:00:05Z</td>\n",
              "      <td>https://www.engadget.com/amd-radeon-rx-6700-xt...</td>\n",
              "      <td>https://s.yimg.com/os/creatr-uploaded-images/2...</td>\n",
              "    </tr>\n",
              "    <tr>\n",
              "      <th>4</th>\n",
              "      <td>The best tech deals we found in Best Buy's wee...</td>\n",
              "      <td>https://www.engadget.com/about/editors/engadget</td>\n",
              "      <td>{'id': 'engadget', 'name': 'Engadget'}</td>\n",
              "      <td>Here's a list of the best tech deals we found ...</td>\n",
              "      <td>Best Buy's kicking off the weekend with anothe...</td>\n",
              "      <td>2021-03-19T12:00:41Z</td>\n",
              "      <td>https://www.engadget.com/best-tech-deals-best-...</td>\n",
              "      <td>https://s.yimg.com/os/creatr-uploaded-images/2...</td>\n",
              "    </tr>\n",
              "  </tbody>\n",
              "</table>\n",
              "</div>"
            ],
            "text/plain": [
              "                                               title  ...                                          photo_url\n",
              "0  GeForce Now doubles its price for newcomers to...  ...  https://s.yimg.com/os/creatr-uploaded-images/2...\n",
              "1  NVIDIA's latency-reducing tech comes to 'Overw...  ...  https://s.yimg.com/uu/api/res/1.2/IUu.voK9hHlU...\n",
              "2  Apple wants Tim Cook, Tim Sweeney to testify i...  ...  https://s.yimg.com/os/creatr-uploaded-images/2...\n",
              "3  AMD Radeon RX 6700 XT review: A curious return...  ...  https://s.yimg.com/os/creatr-uploaded-images/2...\n",
              "4  The best tech deals we found in Best Buy's wee...  ...  https://s.yimg.com/os/creatr-uploaded-images/2...\n",
              "\n",
              "[5 rows x 8 columns]"
            ]
          },
          "metadata": {
            "tags": []
          },
          "execution_count": 6
        }
      ]
    },
    {
      "cell_type": "code",
      "metadata": {
        "id": "NX2mxn-mEDiI"
      },
      "source": [
        "# function to exatract just the name of the source of the news article and exclude other details\n",
        "def source_getter(df):\n",
        "    source = []\n",
        "    for source_dict in df['source']:\n",
        "        source.append(source_dict['name'])\n",
        "    df['source'] = source #append the source to the df"
      ],
      "execution_count": null,
      "outputs": []
    },
    {
      "cell_type": "code",
      "metadata": {
        "id": "2aTMQTgKEFu9"
      },
      "source": [
        "# this fuincton extracts the source name from the source dictionary as seen above\n",
        "source_getter(news_articles_df)"
      ],
      "execution_count": null,
      "outputs": []
    },
    {
      "cell_type": "code",
      "metadata": {
        "id": "3LXosy9PEHtC"
      },
      "source": [
        "# converted the publication date to date time format for future analysis\n",
        "news_articles_df['pub_date'] = pd.to_datetime(news_articles_df['pub_date']).apply(lambda x: x.date())"
      ],
      "execution_count": null,
      "outputs": []
    },
    {
      "cell_type": "code",
      "metadata": {
        "colab": {
          "base_uri": "https://localhost:8080/"
        },
        "id": "NHY3T4mCEKHA",
        "outputId": "48a52a5b-bf68-4dbf-c2eb-659f8d422124"
      },
      "source": [
        "#look for missing data\n",
        "news_articles_df.isnull().sum()"
      ],
      "execution_count": null,
      "outputs": [
        {
          "output_type": "execute_result",
          "data": {
            "text/plain": [
              "title            0\n",
              "author         294\n",
              "source           0\n",
              "description      1\n",
              "content          0\n",
              "pub_date         0\n",
              "url              0\n",
              "photo_url        5\n",
              "dtype: int64"
            ]
          },
          "metadata": {
            "tags": []
          },
          "execution_count": 10
        }
      ]
    },
    {
      "cell_type": "code",
      "metadata": {
        "colab": {
          "base_uri": "https://localhost:8080/"
        },
        "id": "Jx1ONlL5EMi3",
        "outputId": "a6367b66-78cc-4337-8303-dca81d5fb0d3"
      },
      "source": [
        "# droping the rows with missing data \n",
        "news_articles_df.dropna(inplace=True)\n",
        "news_articles_df = news_articles_df[~news_articles_df['description'].isnull()]\n",
        "# summarize the number of rows and columns in the dataset\n",
        "print(news_articles_df.isnull().sum())\n",
        "print(news_articles_df.shape)"
      ],
      "execution_count": null,
      "outputs": [
        {
          "output_type": "stream",
          "text": [
            "title          0\n",
            "author         0\n",
            "source         0\n",
            "description    0\n",
            "content        0\n",
            "pub_date       0\n",
            "url            0\n",
            "photo_url      0\n",
            "dtype: int64\n",
            "(2617, 8)\n"
          ],
          "name": "stdout"
        }
      ]
    },
    {
      "cell_type": "code",
      "metadata": {
        "id": "EXa27I7GEUvF"
      },
      "source": [
        "# combine the title and the content to get one dataframe column\n",
        "news_articles_df['combined_text'] = news_articles_df['title'].map(str) +\" \"+ news_articles_df['content'].map(str)"
      ],
      "execution_count": null,
      "outputs": []
    },
    {
      "cell_type": "code",
      "metadata": {
        "colab": {
          "base_uri": "https://localhost:8080/",
          "height": 626
        },
        "id": "Vw-P9fMiEWi8",
        "outputId": "488a2bdb-952f-4fbf-c19b-5490938fc86d"
      },
      "source": [
        "news_articles_df.head()"
      ],
      "execution_count": null,
      "outputs": [
        {
          "output_type": "execute_result",
          "data": {
            "text/html": [
              "<div>\n",
              "<style scoped>\n",
              "    .dataframe tbody tr th:only-of-type {\n",
              "        vertical-align: middle;\n",
              "    }\n",
              "\n",
              "    .dataframe tbody tr th {\n",
              "        vertical-align: top;\n",
              "    }\n",
              "\n",
              "    .dataframe thead th {\n",
              "        text-align: right;\n",
              "    }\n",
              "</style>\n",
              "<table border=\"1\" class=\"dataframe\">\n",
              "  <thead>\n",
              "    <tr style=\"text-align: right;\">\n",
              "      <th></th>\n",
              "      <th>title</th>\n",
              "      <th>author</th>\n",
              "      <th>source</th>\n",
              "      <th>description</th>\n",
              "      <th>content</th>\n",
              "      <th>pub_date</th>\n",
              "      <th>url</th>\n",
              "      <th>photo_url</th>\n",
              "      <th>combined_text</th>\n",
              "    </tr>\n",
              "  </thead>\n",
              "  <tbody>\n",
              "    <tr>\n",
              "      <th>0</th>\n",
              "      <td>GeForce Now doubles its price for newcomers to...</td>\n",
              "      <td>https://www.engadget.com/about/editors/kris-holt</td>\n",
              "      <td>Engadget</td>\n",
              "      <td>Existing subscribers can keep paying $5/month ...</td>\n",
              "      <td>NVIDIA has doubled the price of the GeForce No...</td>\n",
              "      <td>2021-03-18</td>\n",
              "      <td>https://www.engadget.com/nvidia-geforce-nows-p...</td>\n",
              "      <td>https://s.yimg.com/os/creatr-uploaded-images/2...</td>\n",
              "      <td>GeForce Now doubles its price for newcomers to...</td>\n",
              "    </tr>\n",
              "    <tr>\n",
              "      <th>1</th>\n",
              "      <td>NVIDIA's latency-reducing tech comes to 'Overw...</td>\n",
              "      <td>Igor Bonifacic</td>\n",
              "      <td>Engadget</td>\n",
              "      <td>If you play Overwatchon PC frequently, there's...</td>\n",
              "      <td>If you play Overwatchon PC frequently, there's...</td>\n",
              "      <td>2021-03-12</td>\n",
              "      <td>https://www.engadget.com/overwatch-nvidia-refl...</td>\n",
              "      <td>https://s.yimg.com/uu/api/res/1.2/IUu.voK9hHlU...</td>\n",
              "      <td>NVIDIA's latency-reducing tech comes to 'Overw...</td>\n",
              "    </tr>\n",
              "    <tr>\n",
              "      <th>2</th>\n",
              "      <td>Apple wants Tim Cook, Tim Sweeney to testify i...</td>\n",
              "      <td>https://www.engadget.com/about/editors/jon-fingas</td>\n",
              "      <td>Engadget</td>\n",
              "      <td>Apple and Epic have produced witness lists for...</td>\n",
              "      <td>Apple and Epic have drawn up their potential w...</td>\n",
              "      <td>2021-03-20</td>\n",
              "      <td>https://www.engadget.com/tim-cook-sweeney-may-...</td>\n",
              "      <td>https://s.yimg.com/os/creatr-uploaded-images/2...</td>\n",
              "      <td>Apple wants Tim Cook, Tim Sweeney to testify i...</td>\n",
              "    </tr>\n",
              "    <tr>\n",
              "      <th>3</th>\n",
              "      <td>AMD Radeon RX 6700 XT review: A curious return...</td>\n",
              "      <td>https://www.engadget.com/about/editors/devindr...</td>\n",
              "      <td>Engadget</td>\n",
              "      <td>AMD's Radeon RX 6700 XT is a solid new mid-ran...</td>\n",
              "      <td>In a radical change of pace, AMD aimed for the...</td>\n",
              "      <td>2021-03-17</td>\n",
              "      <td>https://www.engadget.com/amd-radeon-rx-6700-xt...</td>\n",
              "      <td>https://s.yimg.com/os/creatr-uploaded-images/2...</td>\n",
              "      <td>AMD Radeon RX 6700 XT review: A curious return...</td>\n",
              "    </tr>\n",
              "    <tr>\n",
              "      <th>4</th>\n",
              "      <td>The best tech deals we found in Best Buy's wee...</td>\n",
              "      <td>https://www.engadget.com/about/editors/engadget</td>\n",
              "      <td>Engadget</td>\n",
              "      <td>Here's a list of the best tech deals we found ...</td>\n",
              "      <td>Best Buy's kicking off the weekend with anothe...</td>\n",
              "      <td>2021-03-19</td>\n",
              "      <td>https://www.engadget.com/best-tech-deals-best-...</td>\n",
              "      <td>https://s.yimg.com/os/creatr-uploaded-images/2...</td>\n",
              "      <td>The best tech deals we found in Best Buy's wee...</td>\n",
              "    </tr>\n",
              "  </tbody>\n",
              "</table>\n",
              "</div>"
            ],
            "text/plain": [
              "                                               title  ...                                      combined_text\n",
              "0  GeForce Now doubles its price for newcomers to...  ...  GeForce Now doubles its price for newcomers to...\n",
              "1  NVIDIA's latency-reducing tech comes to 'Overw...  ...  NVIDIA's latency-reducing tech comes to 'Overw...\n",
              "2  Apple wants Tim Cook, Tim Sweeney to testify i...  ...  Apple wants Tim Cook, Tim Sweeney to testify i...\n",
              "3  AMD Radeon RX 6700 XT review: A curious return...  ...  AMD Radeon RX 6700 XT review: A curious return...\n",
              "4  The best tech deals we found in Best Buy's wee...  ...  The best tech deals we found in Best Buy's wee...\n",
              "\n",
              "[5 rows x 9 columns]"
            ]
          },
          "metadata": {
            "tags": []
          },
          "execution_count": 13
        }
      ]
    },
    {
      "cell_type": "code",
      "metadata": {
        "id": "EU4rRlgAEYpP"
      },
      "source": [
        "# Function to remove non-ascii characters from the text\n",
        "def _removeNonAscii(s): \n",
        "    return \"\".join(i for i in s if ord(i)<128)\n",
        "\n",
        "def clean_text(text):\n",
        "    text = text.lower()\n",
        "    text = re.sub(r\"what's\", \"what is \", text)\n",
        "    text = text.replace('(ap)', '')\n",
        "    text = re.sub(r\"\\'s\", \" is \", text)\n",
        "    text = re.sub(r\"\\'ve\", \" have \", text)\n",
        "    text = re.sub(r\"can't\", \"cannot \", text)\n",
        "    text = re.sub(r\"n't\", \" not \", text)\n",
        "    text = re.sub(r\"i'm\", \"i am \", text)\n",
        "    text = re.sub(r\"\\'re\", \" are \", text)\n",
        "    text = re.sub(r\"\\'d\", \" would \", text)\n",
        "    text = re.sub(r\"\\'ll\", \" will \", text)\n",
        "    text = re.sub(r'\\W+', ' ', text)\n",
        "    text = re.sub(r'\\s+', ' ', text)\n",
        "    text = re.sub(r\"\\\\\", \"\", text)\n",
        "    text = re.sub(r\"\\'\", \"\", text)    \n",
        "    text = re.sub(r\"\\\"\", \"\", text)\n",
        "    text = re.sub('[^a-zA-Z ?!]+', '', text)\n",
        "    text = _removeNonAscii(text)\n",
        "    text = text.strip()\n",
        "    return text\n",
        "\n",
        "def remove_stopwords(word_tokens):\n",
        "    filtered_sentence = [] \n",
        "    stop_words = stopwords.words('english')\n",
        "    for w in word_tokens: \n",
        "        if w not in stop_words: \n",
        "            filtered_sentence.append(w) \n",
        "    return filtered_sentence\n",
        "\n",
        "# function for lemmatization \n",
        "def lemmatize(x):\n",
        "    lemmatizer = WordNetLemmatizer()\n",
        "    return' '.join([lemmatizer.lemmatize(word) for word in x])"
      ],
      "execution_count": null,
      "outputs": []
    },
    {
      "cell_type": "code",
      "metadata": {
        "id": "B_o6HI_2EdTO"
      },
      "source": [
        "\n",
        "def lemmatize(x):\n",
        "    lemmatizer = WordNetLemmatizer()\n",
        "    return' '.join([lemmatizer.lemmatize(word) for word in x])\n",
        "\n",
        "\n",
        "tokenizer = RegexpTokenizer(r'\\w+')\n",
        "def tokenize(x): \n",
        "    return tokenizer.tokenize(x)\n",
        "\n",
        "news_articles_df['combined_text'] = news_articles_df['combined_text'].map(clean_text)\n",
        "news_articles_df['tokens'] = news_articles_df['combined_text'].map(tokenize)\n",
        "news_articles_df['tokens'] = news_articles_df['tokens'].map(remove_stopwords)\n",
        "news_articles_df['lems'] =news_articles_df['tokens'].map(lemmatize)\n",
        "\n",
        "news_articles_df.dropna(inplace=True)\n",
        "news_articles_df = news_articles_df[~news_articles_df['description'].isnull()]"
      ],
      "execution_count": null,
      "outputs": []
    },
    {
      "cell_type": "code",
      "metadata": {
        "id": "Cjrkf09brVnS"
      },
      "source": [
        ""
      ],
      "execution_count": null,
      "outputs": []
    },
    {
      "cell_type": "code",
      "metadata": {
        "colab": {
          "base_uri": "https://localhost:8080/"
        },
        "id": "DTv1osj5EesE",
        "outputId": "16fcb75c-258c-404a-803d-d70eb068be66"
      },
      "source": [
        "import nltk\n",
        "\n",
        "nltk.download('all')"
      ],
      "execution_count": null,
      "outputs": [
        {
          "output_type": "stream",
          "text": [
            "[nltk_data] Downloading collection 'all'\n",
            "[nltk_data]    | \n",
            "[nltk_data]    | Downloading package abc to /root/nltk_data...\n",
            "[nltk_data]    |   Unzipping corpora/abc.zip.\n",
            "[nltk_data]    | Downloading package alpino to /root/nltk_data...\n",
            "[nltk_data]    |   Unzipping corpora/alpino.zip.\n",
            "[nltk_data]    | Downloading package biocreative_ppi to\n",
            "[nltk_data]    |     /root/nltk_data...\n",
            "[nltk_data]    |   Unzipping corpora/biocreative_ppi.zip.\n",
            "[nltk_data]    | Downloading package brown to /root/nltk_data...\n",
            "[nltk_data]    |   Unzipping corpora/brown.zip.\n",
            "[nltk_data]    | Downloading package brown_tei to /root/nltk_data...\n",
            "[nltk_data]    |   Unzipping corpora/brown_tei.zip.\n",
            "[nltk_data]    | Downloading package cess_cat to /root/nltk_data...\n",
            "[nltk_data]    |   Unzipping corpora/cess_cat.zip.\n",
            "[nltk_data]    | Downloading package cess_esp to /root/nltk_data...\n",
            "[nltk_data]    |   Unzipping corpora/cess_esp.zip.\n",
            "[nltk_data]    | Downloading package chat80 to /root/nltk_data...\n",
            "[nltk_data]    |   Unzipping corpora/chat80.zip.\n",
            "[nltk_data]    | Downloading package city_database to\n",
            "[nltk_data]    |     /root/nltk_data...\n",
            "[nltk_data]    |   Unzipping corpora/city_database.zip.\n",
            "[nltk_data]    | Downloading package cmudict to /root/nltk_data...\n",
            "[nltk_data]    |   Unzipping corpora/cmudict.zip.\n",
            "[nltk_data]    | Downloading package comparative_sentences to\n",
            "[nltk_data]    |     /root/nltk_data...\n",
            "[nltk_data]    |   Unzipping corpora/comparative_sentences.zip.\n",
            "[nltk_data]    | Downloading package comtrans to /root/nltk_data...\n",
            "[nltk_data]    | Downloading package conll2000 to /root/nltk_data...\n",
            "[nltk_data]    |   Unzipping corpora/conll2000.zip.\n",
            "[nltk_data]    | Downloading package conll2002 to /root/nltk_data...\n",
            "[nltk_data]    |   Unzipping corpora/conll2002.zip.\n",
            "[nltk_data]    | Downloading package conll2007 to /root/nltk_data...\n",
            "[nltk_data]    | Downloading package crubadan to /root/nltk_data...\n",
            "[nltk_data]    |   Unzipping corpora/crubadan.zip.\n",
            "[nltk_data]    | Downloading package dependency_treebank to\n",
            "[nltk_data]    |     /root/nltk_data...\n",
            "[nltk_data]    |   Unzipping corpora/dependency_treebank.zip.\n",
            "[nltk_data]    | Downloading package dolch to /root/nltk_data...\n",
            "[nltk_data]    |   Unzipping corpora/dolch.zip.\n",
            "[nltk_data]    | Downloading package europarl_raw to\n",
            "[nltk_data]    |     /root/nltk_data...\n",
            "[nltk_data]    |   Unzipping corpora/europarl_raw.zip.\n",
            "[nltk_data]    | Downloading package floresta to /root/nltk_data...\n",
            "[nltk_data]    |   Unzipping corpora/floresta.zip.\n",
            "[nltk_data]    | Downloading package framenet_v15 to\n",
            "[nltk_data]    |     /root/nltk_data...\n",
            "[nltk_data]    |   Unzipping corpora/framenet_v15.zip.\n",
            "[nltk_data]    | Downloading package framenet_v17 to\n",
            "[nltk_data]    |     /root/nltk_data...\n",
            "[nltk_data]    |   Unzipping corpora/framenet_v17.zip.\n",
            "[nltk_data]    | Downloading package gazetteers to /root/nltk_data...\n",
            "[nltk_data]    |   Unzipping corpora/gazetteers.zip.\n",
            "[nltk_data]    | Downloading package genesis to /root/nltk_data...\n",
            "[nltk_data]    |   Unzipping corpora/genesis.zip.\n",
            "[nltk_data]    | Downloading package gutenberg to /root/nltk_data...\n",
            "[nltk_data]    |   Unzipping corpora/gutenberg.zip.\n",
            "[nltk_data]    | Downloading package ieer to /root/nltk_data...\n",
            "[nltk_data]    |   Unzipping corpora/ieer.zip.\n",
            "[nltk_data]    | Downloading package inaugural to /root/nltk_data...\n",
            "[nltk_data]    |   Unzipping corpora/inaugural.zip.\n",
            "[nltk_data]    | Downloading package indian to /root/nltk_data...\n",
            "[nltk_data]    |   Unzipping corpora/indian.zip.\n",
            "[nltk_data]    | Downloading package jeita to /root/nltk_data...\n",
            "[nltk_data]    | Downloading package kimmo to /root/nltk_data...\n",
            "[nltk_data]    |   Unzipping corpora/kimmo.zip.\n",
            "[nltk_data]    | Downloading package knbc to /root/nltk_data...\n",
            "[nltk_data]    | Downloading package lin_thesaurus to\n",
            "[nltk_data]    |     /root/nltk_data...\n",
            "[nltk_data]    |   Unzipping corpora/lin_thesaurus.zip.\n",
            "[nltk_data]    | Downloading package mac_morpho to /root/nltk_data...\n",
            "[nltk_data]    |   Unzipping corpora/mac_morpho.zip.\n",
            "[nltk_data]    | Downloading package machado to /root/nltk_data...\n",
            "[nltk_data]    | Downloading package masc_tagged to /root/nltk_data...\n",
            "[nltk_data]    | Downloading package moses_sample to\n",
            "[nltk_data]    |     /root/nltk_data...\n",
            "[nltk_data]    |   Unzipping models/moses_sample.zip.\n",
            "[nltk_data]    | Downloading package movie_reviews to\n",
            "[nltk_data]    |     /root/nltk_data...\n",
            "[nltk_data]    |   Unzipping corpora/movie_reviews.zip.\n",
            "[nltk_data]    | Downloading package names to /root/nltk_data...\n",
            "[nltk_data]    |   Unzipping corpora/names.zip.\n",
            "[nltk_data]    | Downloading package nombank.1.0 to /root/nltk_data...\n",
            "[nltk_data]    | Downloading package nps_chat to /root/nltk_data...\n",
            "[nltk_data]    |   Unzipping corpora/nps_chat.zip.\n",
            "[nltk_data]    | Downloading package omw to /root/nltk_data...\n",
            "[nltk_data]    |   Unzipping corpora/omw.zip.\n",
            "[nltk_data]    | Downloading package opinion_lexicon to\n",
            "[nltk_data]    |     /root/nltk_data...\n",
            "[nltk_data]    |   Unzipping corpora/opinion_lexicon.zip.\n",
            "[nltk_data]    | Downloading package paradigms to /root/nltk_data...\n",
            "[nltk_data]    |   Unzipping corpora/paradigms.zip.\n",
            "[nltk_data]    | Downloading package pil to /root/nltk_data...\n",
            "[nltk_data]    |   Unzipping corpora/pil.zip.\n",
            "[nltk_data]    | Downloading package pl196x to /root/nltk_data...\n",
            "[nltk_data]    |   Unzipping corpora/pl196x.zip.\n",
            "[nltk_data]    | Downloading package ppattach to /root/nltk_data...\n",
            "[nltk_data]    |   Unzipping corpora/ppattach.zip.\n",
            "[nltk_data]    | Downloading package problem_reports to\n",
            "[nltk_data]    |     /root/nltk_data...\n",
            "[nltk_data]    |   Unzipping corpora/problem_reports.zip.\n",
            "[nltk_data]    | Downloading package propbank to /root/nltk_data...\n",
            "[nltk_data]    | Downloading package ptb to /root/nltk_data...\n",
            "[nltk_data]    |   Unzipping corpora/ptb.zip.\n",
            "[nltk_data]    | Downloading package product_reviews_1 to\n",
            "[nltk_data]    |     /root/nltk_data...\n",
            "[nltk_data]    |   Unzipping corpora/product_reviews_1.zip.\n",
            "[nltk_data]    | Downloading package product_reviews_2 to\n",
            "[nltk_data]    |     /root/nltk_data...\n",
            "[nltk_data]    |   Unzipping corpora/product_reviews_2.zip.\n",
            "[nltk_data]    | Downloading package pros_cons to /root/nltk_data...\n",
            "[nltk_data]    |   Unzipping corpora/pros_cons.zip.\n",
            "[nltk_data]    | Downloading package qc to /root/nltk_data...\n",
            "[nltk_data]    |   Unzipping corpora/qc.zip.\n",
            "[nltk_data]    | Downloading package reuters to /root/nltk_data...\n",
            "[nltk_data]    | Downloading package rte to /root/nltk_data...\n",
            "[nltk_data]    |   Unzipping corpora/rte.zip.\n",
            "[nltk_data]    | Downloading package semcor to /root/nltk_data...\n",
            "[nltk_data]    | Downloading package senseval to /root/nltk_data...\n",
            "[nltk_data]    |   Unzipping corpora/senseval.zip.\n",
            "[nltk_data]    | Downloading package sentiwordnet to\n",
            "[nltk_data]    |     /root/nltk_data...\n",
            "[nltk_data]    |   Unzipping corpora/sentiwordnet.zip.\n",
            "[nltk_data]    | Downloading package sentence_polarity to\n",
            "[nltk_data]    |     /root/nltk_data...\n",
            "[nltk_data]    |   Unzipping corpora/sentence_polarity.zip.\n",
            "[nltk_data]    | Downloading package shakespeare to /root/nltk_data...\n",
            "[nltk_data]    |   Unzipping corpora/shakespeare.zip.\n",
            "[nltk_data]    | Downloading package sinica_treebank to\n",
            "[nltk_data]    |     /root/nltk_data...\n",
            "[nltk_data]    |   Unzipping corpora/sinica_treebank.zip.\n",
            "[nltk_data]    | Downloading package smultron to /root/nltk_data...\n",
            "[nltk_data]    |   Unzipping corpora/smultron.zip.\n",
            "[nltk_data]    | Downloading package state_union to /root/nltk_data...\n",
            "[nltk_data]    |   Unzipping corpora/state_union.zip.\n",
            "[nltk_data]    | Downloading package stopwords to /root/nltk_data...\n",
            "[nltk_data]    |   Unzipping corpora/stopwords.zip.\n",
            "[nltk_data]    | Downloading package subjectivity to\n",
            "[nltk_data]    |     /root/nltk_data...\n",
            "[nltk_data]    |   Unzipping corpora/subjectivity.zip.\n",
            "[nltk_data]    | Downloading package swadesh to /root/nltk_data...\n",
            "[nltk_data]    |   Unzipping corpora/swadesh.zip.\n",
            "[nltk_data]    | Downloading package switchboard to /root/nltk_data...\n",
            "[nltk_data]    |   Unzipping corpora/switchboard.zip.\n",
            "[nltk_data]    | Downloading package timit to /root/nltk_data...\n",
            "[nltk_data]    |   Unzipping corpora/timit.zip.\n",
            "[nltk_data]    | Downloading package toolbox to /root/nltk_data...\n",
            "[nltk_data]    |   Unzipping corpora/toolbox.zip.\n",
            "[nltk_data]    | Downloading package treebank to /root/nltk_data...\n",
            "[nltk_data]    |   Unzipping corpora/treebank.zip.\n",
            "[nltk_data]    | Downloading package twitter_samples to\n",
            "[nltk_data]    |     /root/nltk_data...\n",
            "[nltk_data]    |   Unzipping corpora/twitter_samples.zip.\n",
            "[nltk_data]    | Downloading package udhr to /root/nltk_data...\n",
            "[nltk_data]    |   Unzipping corpora/udhr.zip.\n",
            "[nltk_data]    | Downloading package udhr2 to /root/nltk_data...\n",
            "[nltk_data]    |   Unzipping corpora/udhr2.zip.\n",
            "[nltk_data]    | Downloading package unicode_samples to\n",
            "[nltk_data]    |     /root/nltk_data...\n",
            "[nltk_data]    |   Unzipping corpora/unicode_samples.zip.\n",
            "[nltk_data]    | Downloading package universal_treebanks_v20 to\n",
            "[nltk_data]    |     /root/nltk_data...\n",
            "[nltk_data]    | Downloading package verbnet to /root/nltk_data...\n",
            "[nltk_data]    |   Unzipping corpora/verbnet.zip.\n",
            "[nltk_data]    | Downloading package verbnet3 to /root/nltk_data...\n",
            "[nltk_data]    |   Unzipping corpora/verbnet3.zip.\n",
            "[nltk_data]    | Downloading package webtext to /root/nltk_data...\n",
            "[nltk_data]    |   Unzipping corpora/webtext.zip.\n",
            "[nltk_data]    | Downloading package wordnet to /root/nltk_data...\n",
            "[nltk_data]    |   Unzipping corpora/wordnet.zip.\n",
            "[nltk_data]    | Downloading package wordnet_ic to /root/nltk_data...\n",
            "[nltk_data]    |   Unzipping corpora/wordnet_ic.zip.\n",
            "[nltk_data]    | Downloading package words to /root/nltk_data...\n",
            "[nltk_data]    |   Unzipping corpora/words.zip.\n",
            "[nltk_data]    | Downloading package ycoe to /root/nltk_data...\n",
            "[nltk_data]    |   Unzipping corpora/ycoe.zip.\n",
            "[nltk_data]    | Downloading package rslp to /root/nltk_data...\n",
            "[nltk_data]    |   Unzipping stemmers/rslp.zip.\n",
            "[nltk_data]    | Downloading package maxent_treebank_pos_tagger to\n",
            "[nltk_data]    |     /root/nltk_data...\n",
            "[nltk_data]    |   Unzipping taggers/maxent_treebank_pos_tagger.zip.\n",
            "[nltk_data]    | Downloading package universal_tagset to\n",
            "[nltk_data]    |     /root/nltk_data...\n",
            "[nltk_data]    |   Unzipping taggers/universal_tagset.zip.\n",
            "[nltk_data]    | Downloading package maxent_ne_chunker to\n",
            "[nltk_data]    |     /root/nltk_data...\n",
            "[nltk_data]    |   Unzipping chunkers/maxent_ne_chunker.zip.\n",
            "[nltk_data]    | Downloading package punkt to /root/nltk_data...\n",
            "[nltk_data]    |   Unzipping tokenizers/punkt.zip.\n",
            "[nltk_data]    | Downloading package book_grammars to\n",
            "[nltk_data]    |     /root/nltk_data...\n",
            "[nltk_data]    |   Unzipping grammars/book_grammars.zip.\n",
            "[nltk_data]    | Downloading package sample_grammars to\n",
            "[nltk_data]    |     /root/nltk_data...\n",
            "[nltk_data]    |   Unzipping grammars/sample_grammars.zip.\n",
            "[nltk_data]    | Downloading package spanish_grammars to\n",
            "[nltk_data]    |     /root/nltk_data...\n",
            "[nltk_data]    |   Unzipping grammars/spanish_grammars.zip.\n",
            "[nltk_data]    | Downloading package basque_grammars to\n",
            "[nltk_data]    |     /root/nltk_data...\n",
            "[nltk_data]    |   Unzipping grammars/basque_grammars.zip.\n",
            "[nltk_data]    | Downloading package large_grammars to\n",
            "[nltk_data]    |     /root/nltk_data...\n",
            "[nltk_data]    |   Unzipping grammars/large_grammars.zip.\n",
            "[nltk_data]    | Downloading package tagsets to /root/nltk_data...\n",
            "[nltk_data]    |   Unzipping help/tagsets.zip.\n",
            "[nltk_data]    | Downloading package snowball_data to\n",
            "[nltk_data]    |     /root/nltk_data...\n",
            "[nltk_data]    | Downloading package bllip_wsj_no_aux to\n",
            "[nltk_data]    |     /root/nltk_data...\n",
            "[nltk_data]    |   Unzipping models/bllip_wsj_no_aux.zip.\n",
            "[nltk_data]    | Downloading package word2vec_sample to\n",
            "[nltk_data]    |     /root/nltk_data...\n",
            "[nltk_data]    |   Unzipping models/word2vec_sample.zip.\n",
            "[nltk_data]    | Downloading package panlex_swadesh to\n",
            "[nltk_data]    |     /root/nltk_data...\n",
            "[nltk_data]    | Downloading package mte_teip5 to /root/nltk_data...\n",
            "[nltk_data]    |   Unzipping corpora/mte_teip5.zip.\n",
            "[nltk_data]    | Downloading package averaged_perceptron_tagger to\n",
            "[nltk_data]    |     /root/nltk_data...\n",
            "[nltk_data]    |   Unzipping taggers/averaged_perceptron_tagger.zip.\n",
            "[nltk_data]    | Downloading package averaged_perceptron_tagger_ru to\n",
            "[nltk_data]    |     /root/nltk_data...\n",
            "[nltk_data]    |   Unzipping\n",
            "[nltk_data]    |       taggers/averaged_perceptron_tagger_ru.zip.\n",
            "[nltk_data]    | Downloading package perluniprops to\n",
            "[nltk_data]    |     /root/nltk_data...\n",
            "[nltk_data]    |   Unzipping misc/perluniprops.zip.\n",
            "[nltk_data]    | Downloading package nonbreaking_prefixes to\n",
            "[nltk_data]    |     /root/nltk_data...\n",
            "[nltk_data]    |   Unzipping corpora/nonbreaking_prefixes.zip.\n",
            "[nltk_data]    | Downloading package vader_lexicon to\n",
            "[nltk_data]    |     /root/nltk_data...\n",
            "[nltk_data]    | Downloading package porter_test to /root/nltk_data...\n",
            "[nltk_data]    |   Unzipping stemmers/porter_test.zip.\n",
            "[nltk_data]    | Downloading package wmt15_eval to /root/nltk_data...\n",
            "[nltk_data]    |   Unzipping models/wmt15_eval.zip.\n",
            "[nltk_data]    | Downloading package mwa_ppdb to /root/nltk_data...\n",
            "[nltk_data]    |   Unzipping misc/mwa_ppdb.zip.\n",
            "[nltk_data]    | \n",
            "[nltk_data]  Done downloading collection all\n"
          ],
          "name": "stdout"
        },
        {
          "output_type": "execute_result",
          "data": {
            "text/plain": [
              "True"
            ]
          },
          "metadata": {
            "tags": []
          },
          "execution_count": 2
        }
      ]
    },
    {
      "cell_type": "code",
      "metadata": {
        "id": "kyAItGyGE3zf",
        "colab": {
          "base_uri": "https://localhost:8080/",
          "height": 239
        },
        "outputId": "bcfd758c-dc62-4dec-8d07-811f3fca8e6d"
      },
      "source": [
        "# applying all of these functions to the our dataframe \n",
        "news_articles_df['combined_text'] = news_articles_df['combined_text'].map(clean_text)\n",
        "news_articles_df['tokens'] = news_articles_df['combined_text'].map(tokenize)\n",
        "news_articles_df['tokens'] = news_articles_df['tokens'].map(remove_stopwords)\n",
        "news_articles_df['lems'] =news_articles_df['tokens'].map(lemmatize)"
      ],
      "execution_count": null,
      "outputs": [
        {
          "output_type": "error",
          "ename": "NameError",
          "evalue": "ignored",
          "traceback": [
            "\u001b[0;31m---------------------------------------------------------------------------\u001b[0m",
            "\u001b[0;31mNameError\u001b[0m                                 Traceback (most recent call last)",
            "\u001b[0;32m<ipython-input-9-ab01b920158f>\u001b[0m in \u001b[0;36m<module>\u001b[0;34m()\u001b[0m\n\u001b[1;32m      1\u001b[0m \u001b[0;31m# applying all of these functions to the our dataframe\u001b[0m\u001b[0;34m\u001b[0m\u001b[0;34m\u001b[0m\u001b[0;34m\u001b[0m\u001b[0m\n\u001b[0;32m----> 2\u001b[0;31m \u001b[0mnews_articles_df\u001b[0m\u001b[0;34m[\u001b[0m\u001b[0;34m'combined_text'\u001b[0m\u001b[0;34m]\u001b[0m \u001b[0;34m=\u001b[0m \u001b[0mnews_articles_df\u001b[0m\u001b[0;34m[\u001b[0m\u001b[0;34m'combined_text'\u001b[0m\u001b[0;34m]\u001b[0m\u001b[0;34m.\u001b[0m\u001b[0mmap\u001b[0m\u001b[0;34m(\u001b[0m\u001b[0mclean_text\u001b[0m\u001b[0;34m)\u001b[0m\u001b[0;34m\u001b[0m\u001b[0;34m\u001b[0m\u001b[0m\n\u001b[0m\u001b[1;32m      3\u001b[0m \u001b[0mnews_articles_df\u001b[0m\u001b[0;34m[\u001b[0m\u001b[0;34m'tokens'\u001b[0m\u001b[0;34m]\u001b[0m \u001b[0;34m=\u001b[0m \u001b[0mnews_articles_df\u001b[0m\u001b[0;34m[\u001b[0m\u001b[0;34m'combined_text'\u001b[0m\u001b[0;34m]\u001b[0m\u001b[0;34m.\u001b[0m\u001b[0mmap\u001b[0m\u001b[0;34m(\u001b[0m\u001b[0mtokenize\u001b[0m\u001b[0;34m)\u001b[0m\u001b[0;34m\u001b[0m\u001b[0;34m\u001b[0m\u001b[0m\n\u001b[1;32m      4\u001b[0m \u001b[0mnews_articles_df\u001b[0m\u001b[0;34m[\u001b[0m\u001b[0;34m'tokens'\u001b[0m\u001b[0;34m]\u001b[0m \u001b[0;34m=\u001b[0m \u001b[0mnews_articles_df\u001b[0m\u001b[0;34m[\u001b[0m\u001b[0;34m'tokens'\u001b[0m\u001b[0;34m]\u001b[0m\u001b[0;34m.\u001b[0m\u001b[0mmap\u001b[0m\u001b[0;34m(\u001b[0m\u001b[0mremove_stopwords\u001b[0m\u001b[0;34m)\u001b[0m\u001b[0;34m\u001b[0m\u001b[0;34m\u001b[0m\u001b[0m\n\u001b[1;32m      5\u001b[0m \u001b[0mnews_articles_df\u001b[0m\u001b[0;34m[\u001b[0m\u001b[0;34m'lems'\u001b[0m\u001b[0;34m]\u001b[0m \u001b[0;34m=\u001b[0m\u001b[0mnews_articles_df\u001b[0m\u001b[0;34m[\u001b[0m\u001b[0;34m'tokens'\u001b[0m\u001b[0;34m]\u001b[0m\u001b[0;34m.\u001b[0m\u001b[0mmap\u001b[0m\u001b[0;34m(\u001b[0m\u001b[0mlemmatize\u001b[0m\u001b[0;34m)\u001b[0m\u001b[0;34m\u001b[0m\u001b[0;34m\u001b[0m\u001b[0m\n",
            "\u001b[0;31mNameError\u001b[0m: name 'clean_text' is not defined"
          ]
        }
      ]
    },
    {
      "cell_type": "code",
      "metadata": {
        "colab": {
          "base_uri": "https://localhost:8080/",
          "height": 677
        },
        "id": "kXxPAs9dFDSb",
        "outputId": "d8e9217f-78e6-44ad-f318-8efeeb7577f3"
      },
      "source": [
        "news_articles_df.head()"
      ],
      "execution_count": null,
      "outputs": [
        {
          "output_type": "execute_result",
          "data": {
            "text/html": [
              "<div>\n",
              "<style scoped>\n",
              "    .dataframe tbody tr th:only-of-type {\n",
              "        vertical-align: middle;\n",
              "    }\n",
              "\n",
              "    .dataframe tbody tr th {\n",
              "        vertical-align: top;\n",
              "    }\n",
              "\n",
              "    .dataframe thead th {\n",
              "        text-align: right;\n",
              "    }\n",
              "</style>\n",
              "<table border=\"1\" class=\"dataframe\">\n",
              "  <thead>\n",
              "    <tr style=\"text-align: right;\">\n",
              "      <th></th>\n",
              "      <th>title</th>\n",
              "      <th>author</th>\n",
              "      <th>source</th>\n",
              "      <th>description</th>\n",
              "      <th>content</th>\n",
              "      <th>pub_date</th>\n",
              "      <th>url</th>\n",
              "      <th>photo_url</th>\n",
              "      <th>combined_text</th>\n",
              "      <th>tokens</th>\n",
              "      <th>lems</th>\n",
              "    </tr>\n",
              "  </thead>\n",
              "  <tbody>\n",
              "    <tr>\n",
              "      <th>0</th>\n",
              "      <td>GeForce Now doubles its price for newcomers to...</td>\n",
              "      <td>https://www.engadget.com/about/editors/kris-holt</td>\n",
              "      <td>Engadget</td>\n",
              "      <td>Existing subscribers can keep paying $5/month ...</td>\n",
              "      <td>NVIDIA has doubled the price of the GeForce No...</td>\n",
              "      <td>2021-03-18</td>\n",
              "      <td>https://www.engadget.com/nvidia-geforce-nows-p...</td>\n",
              "      <td>https://s.yimg.com/os/creatr-uploaded-images/2...</td>\n",
              "      <td>geforce now doubles its price for newcomers to...</td>\n",
              "      <td>['geforce', 'doubles', 'price', 'newcomers', '...</td>\n",
              "      <td>geforce double price newcomer month nvidia dou...</td>\n",
              "    </tr>\n",
              "    <tr>\n",
              "      <th>1</th>\n",
              "      <td>NVIDIA's latency-reducing tech comes to 'Overw...</td>\n",
              "      <td>Igor Bonifacic</td>\n",
              "      <td>Engadget</td>\n",
              "      <td>If you play Overwatchon PC frequently, there's...</td>\n",
              "      <td>If you play Overwatchon PC frequently, there's...</td>\n",
              "      <td>2021-03-12</td>\n",
              "      <td>https://www.engadget.com/overwatch-nvidia-refl...</td>\n",
              "      <td>https://s.yimg.com/uu/api/res/1.2/IUu.voK9hHlU...</td>\n",
              "      <td>nvidia is latency reducing tech comes to overw...</td>\n",
              "      <td>['nvidia', 'latency', 'reducing', 'tech', 'com...</td>\n",
              "      <td>nvidia latency reducing tech come overwatch pl...</td>\n",
              "    </tr>\n",
              "    <tr>\n",
              "      <th>2</th>\n",
              "      <td>Apple wants Tim Cook, Tim Sweeney to testify i...</td>\n",
              "      <td>https://www.engadget.com/about/editors/jon-fingas</td>\n",
              "      <td>Engadget</td>\n",
              "      <td>Apple and Epic have produced witness lists for...</td>\n",
              "      <td>Apple and Epic have drawn up their potential w...</td>\n",
              "      <td>2021-03-20</td>\n",
              "      <td>https://www.engadget.com/tim-cook-sweeney-may-...</td>\n",
              "      <td>https://s.yimg.com/os/creatr-uploaded-images/2...</td>\n",
              "      <td>apple wants tim cook tim sweeney to testify in...</td>\n",
              "      <td>['apple', 'wants', 'tim', 'cook', 'tim', 'swee...</td>\n",
              "      <td>apple want tim cook tim sweeney testify epic l...</td>\n",
              "    </tr>\n",
              "    <tr>\n",
              "      <th>3</th>\n",
              "      <td>AMD Radeon RX 6700 XT review: A curious return...</td>\n",
              "      <td>https://www.engadget.com/about/editors/devindr...</td>\n",
              "      <td>Engadget</td>\n",
              "      <td>AMD's Radeon RX 6700 XT is a solid new mid-ran...</td>\n",
              "      <td>In a radical change of pace, AMD aimed for the...</td>\n",
              "      <td>2021-03-17</td>\n",
              "      <td>https://www.engadget.com/amd-radeon-rx-6700-xt...</td>\n",
              "      <td>https://s.yimg.com/os/creatr-uploaded-images/2...</td>\n",
              "      <td>amd radeon rx  xt review a curious return to m...</td>\n",
              "      <td>['amd', 'radeon', 'rx', 'xt', 'review', 'curio...</td>\n",
              "      <td>amd radeon rx xt review curious return mid ran...</td>\n",
              "    </tr>\n",
              "    <tr>\n",
              "      <th>4</th>\n",
              "      <td>The best tech deals we found in Best Buy's wee...</td>\n",
              "      <td>https://www.engadget.com/about/editors/engadget</td>\n",
              "      <td>Engadget</td>\n",
              "      <td>Here's a list of the best tech deals we found ...</td>\n",
              "      <td>Best Buy's kicking off the weekend with anothe...</td>\n",
              "      <td>2021-03-19</td>\n",
              "      <td>https://www.engadget.com/best-tech-deals-best-...</td>\n",
              "      <td>https://s.yimg.com/os/creatr-uploaded-images/2...</td>\n",
              "      <td>the best tech deals we found in best buy is we...</td>\n",
              "      <td>['best', 'tech', 'deals', 'found', 'best', 'bu...</td>\n",
              "      <td>best tech deal found best buy weekend sale bes...</td>\n",
              "    </tr>\n",
              "  </tbody>\n",
              "</table>\n",
              "</div>"
            ],
            "text/plain": [
              "                                               title  ...                                               lems\n",
              "0  GeForce Now doubles its price for newcomers to...  ...  geforce double price newcomer month nvidia dou...\n",
              "1  NVIDIA's latency-reducing tech comes to 'Overw...  ...  nvidia latency reducing tech come overwatch pl...\n",
              "2  Apple wants Tim Cook, Tim Sweeney to testify i...  ...  apple want tim cook tim sweeney testify epic l...\n",
              "3  AMD Radeon RX 6700 XT review: A curious return...  ...  amd radeon rx xt review curious return mid ran...\n",
              "4  The best tech deals we found in Best Buy's wee...  ...  best tech deal found best buy weekend sale bes...\n",
              "\n",
              "[5 rows x 11 columns]"
            ]
          },
          "metadata": {
            "tags": []
          },
          "execution_count": 10
        }
      ]
    },
    {
      "cell_type": "code",
      "metadata": {
        "id": "7-cCt4TYFFUT"
      },
      "source": [
        "news_articles_df.head()\n",
        "news_articles_df.to_csv('/content/drive/MyDrive/news_articles_nvidia.csv', index = False)"
      ],
      "execution_count": null,
      "outputs": []
    },
    {
      "cell_type": "code",
      "metadata": {
        "id": "Vp0_2TBbFVgE"
      },
      "source": [
        "news_articles_df = pd.read_csv('/content/drive/MyDrive/news_articles_nvidia.csv')"
      ],
      "execution_count": null,
      "outputs": []
    },
    {
      "cell_type": "code",
      "metadata": {
        "colab": {
          "base_uri": "https://localhost:8080/"
        },
        "id": "2Q3e8HUaFbiO",
        "outputId": "759e2a5f-806e-461a-d946-4064369b75a5"
      },
      "source": [
        "print(news_articles_df.isnull().sum())\n",
        "news_articles_df.dropna(inplace=True)\n",
        "print(news_articles_df.shape)\n",
        "print(news_articles_df.isnull().sum())"
      ],
      "execution_count": null,
      "outputs": [
        {
          "output_type": "stream",
          "text": [
            "title            0\n",
            "author           0\n",
            "source           0\n",
            "description      0\n",
            "content          0\n",
            "pub_date         0\n",
            "url              0\n",
            "photo_url        0\n",
            "combined_text    0\n",
            "tokens           0\n",
            "lems             0\n",
            "dtype: int64\n",
            "(2596, 11)\n",
            "title            0\n",
            "author           0\n",
            "source           0\n",
            "description      0\n",
            "content          0\n",
            "pub_date         0\n",
            "url              0\n",
            "photo_url        0\n",
            "combined_text    0\n",
            "tokens           0\n",
            "lems             0\n",
            "dtype: int64\n"
          ],
          "name": "stdout"
        }
      ]
    },
    {
      "cell_type": "code",
      "metadata": {
        "id": "2vl8YFEZFfIe",
        "colab": {
          "base_uri": "https://localhost:8080/"
        },
        "outputId": "bbe80dbc-76b8-485c-b623-d3445d33b91c"
      },
      "source": [
        "# calculating the polarity of the news articles \n",
        "from nltk.sentiment.vader import SentimentIntensityAnalyzer as SIA\n",
        "sia = SIA()\n",
        "results = []\n",
        "for line in news_articles_df['lems'] :\n",
        "    pol_score = sia.polarity_scores(line)\n",
        "    pol_score['headline'] = line\n",
        "    results.append(pol_score)"
      ],
      "execution_count": null,
      "outputs": [
        {
          "output_type": "stream",
          "text": [
            "/usr/local/lib/python3.7/dist-packages/nltk/twitter/__init__.py:20: UserWarning: The twython library has not been installed. Some functionality from the twitter package will not be available.\n",
            "  warnings.warn(\"The twython library has not been installed. \"\n"
          ],
          "name": "stderr"
        }
      ]
    },
    {
      "cell_type": "code",
      "metadata": {
        "id": "rRmJ77yNFjnY"
      },
      "source": [
        "# Creating a new dataframe of only the polarity score, the headline and the source of the news \n",
        "headlines_polarity = pd.DataFrame.from_records(results)\n",
        "temp = []\n",
        "for line in news_articles_df['source'] :\n",
        "    temp.append(line)\n",
        "headlines_polarity['source'] =temp"
      ],
      "execution_count": null,
      "outputs": []
    },
    {
      "cell_type": "code",
      "metadata": {
        "id": "SVmWrJP7Fkl8"
      },
      "source": [
        "# categorize news as positive or negative based on the compound score obtained\n",
        "headlines_polarity['label'] = 0\n",
        "# I have considered the news as positive if the compound score is greater than 0.2 hence the label 1\n",
        "headlines_polarity.loc[headlines_polarity['compound'] > 0.2, 'label'] = 1\n",
        "# if the compound score is below 0.2 then it is considered negative \n",
        "headlines_polarity.loc[headlines_polarity['compound'] < -0.2, 'label'] = -1\n",
        "# word count of news headlines is calculated\n",
        "headlines_polarity['word_count'] = headlines_polarity['headline'].apply(lambda x: len(str(x).split()))"
      ],
      "execution_count": null,
      "outputs": []
    },
    {
      "cell_type": "code",
      "metadata": {
        "colab": {
          "base_uri": "https://localhost:8080/",
          "height": 202
        },
        "id": "l2qdWbY8FxMn",
        "outputId": "72315cf1-4dcc-4ecc-d2ff-4ca005c018d5"
      },
      "source": [
        "\n",
        "headlines_polarity.head()"
      ],
      "execution_count": null,
      "outputs": [
        {
          "output_type": "execute_result",
          "data": {
            "text/html": [
              "<div>\n",
              "<style scoped>\n",
              "    .dataframe tbody tr th:only-of-type {\n",
              "        vertical-align: middle;\n",
              "    }\n",
              "\n",
              "    .dataframe tbody tr th {\n",
              "        vertical-align: top;\n",
              "    }\n",
              "\n",
              "    .dataframe thead th {\n",
              "        text-align: right;\n",
              "    }\n",
              "</style>\n",
              "<table border=\"1\" class=\"dataframe\">\n",
              "  <thead>\n",
              "    <tr style=\"text-align: right;\">\n",
              "      <th></th>\n",
              "      <th>neg</th>\n",
              "      <th>neu</th>\n",
              "      <th>pos</th>\n",
              "      <th>compound</th>\n",
              "      <th>headline</th>\n",
              "      <th>source</th>\n",
              "      <th>label</th>\n",
              "      <th>word_count</th>\n",
              "    </tr>\n",
              "  </thead>\n",
              "  <tbody>\n",
              "    <tr>\n",
              "      <th>0</th>\n",
              "      <td>0.000</td>\n",
              "      <td>1.000</td>\n",
              "      <td>0.000</td>\n",
              "      <td>0.0000</td>\n",
              "      <td>geforce double price newcomer month nvidia dou...</td>\n",
              "      <td>Engadget</td>\n",
              "      <td>0</td>\n",
              "      <td>29</td>\n",
              "    </tr>\n",
              "    <tr>\n",
              "      <th>1</th>\n",
              "      <td>0.065</td>\n",
              "      <td>0.599</td>\n",
              "      <td>0.335</td>\n",
              "      <td>0.8360</td>\n",
              "      <td>nvidia latency reducing tech come overwatch pl...</td>\n",
              "      <td>Engadget</td>\n",
              "      <td>1</td>\n",
              "      <td>30</td>\n",
              "    </tr>\n",
              "    <tr>\n",
              "      <th>2</th>\n",
              "      <td>0.190</td>\n",
              "      <td>0.717</td>\n",
              "      <td>0.093</td>\n",
              "      <td>-0.4767</td>\n",
              "      <td>apple want tim cook tim sweeney testify epic l...</td>\n",
              "      <td>Engadget</td>\n",
              "      <td>-1</td>\n",
              "      <td>28</td>\n",
              "    </tr>\n",
              "    <tr>\n",
              "      <th>3</th>\n",
              "      <td>0.000</td>\n",
              "      <td>0.721</td>\n",
              "      <td>0.279</td>\n",
              "      <td>0.8910</td>\n",
              "      <td>amd radeon rx xt review curious return mid ran...</td>\n",
              "      <td>Engadget</td>\n",
              "      <td>1</td>\n",
              "      <td>34</td>\n",
              "    </tr>\n",
              "    <tr>\n",
              "      <th>4</th>\n",
              "      <td>0.048</td>\n",
              "      <td>0.529</td>\n",
              "      <td>0.423</td>\n",
              "      <td>0.9422</td>\n",
              "      <td>best tech deal found best buy weekend sale bes...</td>\n",
              "      <td>Engadget</td>\n",
              "      <td>1</td>\n",
              "      <td>27</td>\n",
              "    </tr>\n",
              "  </tbody>\n",
              "</table>\n",
              "</div>"
            ],
            "text/plain": [
              "     neg    neu    pos  ...    source label word_count\n",
              "0  0.000  1.000  0.000  ...  Engadget     0         29\n",
              "1  0.065  0.599  0.335  ...  Engadget     1         30\n",
              "2  0.190  0.717  0.093  ...  Engadget    -1         28\n",
              "3  0.000  0.721  0.279  ...  Engadget     1         34\n",
              "4  0.048  0.529  0.423  ...  Engadget     1         27\n",
              "\n",
              "[5 rows x 8 columns]"
            ]
          },
          "metadata": {
            "tags": []
          },
          "execution_count": 8
        }
      ]
    },
    {
      "cell_type": "code",
      "metadata": {
        "id": "bdAB5M5ZFz2E"
      },
      "source": [
        "#headlines_polarity.label.value_counts()\n",
        "#headlines_polarity.groupby('source').label.value_counts()\n",
        "# Grouping the news articles by their source and calculating their mean polarity  \n",
        "gk = headlines_polarity.groupby(['source', 'label']) \n",
        "fk= headlines_polarity.groupby('source')['compound'].mean()\n",
        "fk = fk.to_frame()\n",
        "fk.to_csv('/content/drive/MyDrive/mean_polarity_nvidia.csv', index = 'source')"
      ],
      "execution_count": null,
      "outputs": []
    },
    {
      "cell_type": "code",
      "metadata": {
        "colab": {
          "base_uri": "https://localhost:8080/",
          "height": 17
        },
        "id": "PMjPb0xdGDNC",
        "outputId": "56c10300-6df7-4c3e-f71c-3d9acfbd390c"
      },
      "source": [
        "# libraries\n",
        "import pandas as pd\n",
        "import numpy as np\n",
        "from textblob import TextBlob\n",
        "from sklearn.feature_extraction.text import CountVectorizer\n",
        "from sklearn.feature_extraction.text import TfidfVectorizer\n",
        "import warnings \n",
        "warnings.filterwarnings('ignore')\n",
        "import matplotlib\n",
        "import matplotlib.pyplot as plt\n",
        "import seaborn as sns\n",
        "%matplotlib inline\n",
        "matplotlib.rcParams['figure.figsize'] = (10.0, 6.0)\n",
        "import plotly.graph_objs as go\n",
        "#import plotly.plotly as py\n",
        "\n",
        "import cufflinks\n",
        "pd.options.display.max_columns = 30\n",
        "from IPython.core.interactiveshell import InteractiveShell\n",
        "import plotly.figure_factory as ff\n",
        "InteractiveShell.ast_node_interactivity = 'all'\n",
        "from plotly.offline import iplot\n",
        "cufflinks.go_offline()\n",
        "from wordcloud import WordCloud\n",
        "import matplotlib.pyplot as plt\n",
        "from collections import Counter\n"
      ],
      "execution_count": null,
      "outputs": [
        {
          "output_type": "display_data",
          "data": {
            "text/html": [
              "        <script type=\"text/javascript\">\n",
              "        window.PlotlyConfig = {MathJaxConfig: 'local'};\n",
              "        if (window.MathJax) {MathJax.Hub.Config({SVG: {font: \"STIX-Web\"}});}\n",
              "        if (typeof require !== 'undefined') {\n",
              "        require.undef(\"plotly\");\n",
              "        requirejs.config({\n",
              "            paths: {\n",
              "                'plotly': ['https://cdn.plot.ly/plotly-latest.min']\n",
              "            }\n",
              "        });\n",
              "        require(['plotly'], function(Plotly) {\n",
              "            window._Plotly = Plotly;\n",
              "        });\n",
              "        }\n",
              "        </script>\n",
              "        "
            ]
          },
          "metadata": {
            "tags": []
          }
        }
      ]
    },
    {
      "cell_type": "code",
      "metadata": {
        "colab": {
          "base_uri": "https://localhost:8080/",
          "height": 502
        },
        "id": "Uwrn5UQzGE7M",
        "outputId": "5781ae5f-7314-4135-a0c6-d1b11bb9299e"
      },
      "source": [
        "import matplotlib.pyplot as plt\n",
        "import seaborn as sns\n",
        "fig, ax = plt.subplots(figsize=(8, 8))\n",
        "counts = headlines_polarity.label.value_counts(normalize=True) * 100\n",
        "sns.barplot(x=counts.index, y=counts, ax=ax)\n",
        "ax.set_xticklabels(['Negative', 'Neutral', 'Positive'])\n",
        "ax.set_ylabel(\"Percentage\")\n",
        "plt.show()"
      ],
      "execution_count": null,
      "outputs": [
        {
          "output_type": "execute_result",
          "data": {
            "text/plain": [
              "<matplotlib.axes._subplots.AxesSubplot at 0x7f52e178bdd0>"
            ]
          },
          "metadata": {
            "tags": []
          },
          "execution_count": 11
        },
        {
          "output_type": "execute_result",
          "data": {
            "text/plain": [
              "[Text(0, 0, 'Negative'), Text(0, 0, 'Neutral'), Text(0, 0, 'Positive')]"
            ]
          },
          "metadata": {
            "tags": []
          },
          "execution_count": 11
        },
        {
          "output_type": "execute_result",
          "data": {
            "text/plain": [
              "Text(0, 0.5, 'Percentage')"
            ]
          },
          "metadata": {
            "tags": []
          },
          "execution_count": 11
        },
        {
          "output_type": "display_data",
          "data": {
            "image/png": "[encoded data removed]",
            "text/plain": [
              "<Figure size 576x576 with 1 Axes>"
            ]
          },
          "metadata": {
            "tags": [],
            "needs_background": "light"
          }
        }
      ]
    },
    {
      "cell_type": "code",
      "metadata": {
        "id": "jegNHEBcLk65"
      },
      "source": [
        ""
      ],
      "execution_count": null,
      "outputs": []
    },
    {
      "cell_type": "code",
      "metadata": {
        "colab": {
          "base_uri": "https://localhost:8080/",
          "height": 542
        },
        "id": "v6Ki7V6UGMMx",
        "outputId": "2cf6dd3e-93e7-43eb-e469-e121da5a11d3"
      },
      "source": [
        "headlines_polarity['compound'].iplot(\n",
        "    kind='hist',\n",
        "    bins=30,\n",
        "    xTitle='polarity',\n",
        "    linecolor='black',\n",
        "    yTitle='count',\n",
        "    title='Sentiment Polarity Distribution')"
      ],
      "execution_count": null,
      "outputs": [
        {
          "output_type": "display_data",
          "data": {
            "text/html": [
              "<div>\n",
              "        \n",
              "        \n",
              "            <div id=\"dea28e0a-2503-444c-a493-234f096907ff\" class=\"plotly-graph-div\" style=\"height:525px; width:100%;\"></div>\n",
              "            <script type=\"text/javascript\">\n",
              "                require([\"plotly\"], function(Plotly) {\n",
              "                    window.PLOTLYENV=window.PLOTLYENV || {};\n",
              "                    window.PLOTLYENV.BASE_URL='https://plot.ly';\n",
              "                    \n",
              "                if (document.getElementById(\"dea28e0a-2503-444c-a493-234f096907ff\")) {\n",
              "                    Plotly.newPlot(\n",
              "                        'dea28e0a-2503-444c-a493-234f096907ff',\n",
              "                        [{\"histfunc\": \"count\", \"histnorm\": \"\", \"marker\": {\"color\": \"rgba(255, 153, 51, 1.0)\", \"line\": {\"color\": \"#000000\", \"width\": 1.3}}, \"name\": \"compound\", \"nbinsx\": 30, \"opacity\": 0.8, \"orientation\": \"v\", \"type\": \"histogram\", \"x\": [0.0, 0.836, -0.4767, 0.891, 0.9422, 0.1447, 0.3995, 0.1027, -0.7506, 0.6124, 0.8074, 0.6369, 0.4767, -0.7184, 0.0, 0.6124, 0.4526, 0.3182, 0.3182, -0.34, -0.34, 0.2732, 0.4767, 0.0, -0.1027, 0.0, 0.0, 0.25, -0.34, 0.6908, 0.6369, 0.0, 0.6705, 0.891, 0.6369, 0.0, 0.4215, 0.4588, 0.8625, 0.4767, -0.7717, 0.5106, 0.2748, 0.2732, 0.4588, 0.8442, 0.7717, 0.3612, 0.3818, 0.4588, 0.4588, 0.7783, 0.7906, 0.0, 0.4019, 0.8357, 0.7717, 0.8074, -0.5423, -0.4588, 0.0, -0.7096, -0.7153, 0.6124, 0.3818, 0.1027, -0.4939, 0.1027, 0.5574, -0.0772, 0.3818, 0.743, 0.6486, -0.1027, 0.3182, 0.765, 0.765, 0.6808, 0.5859, -0.4939, 0.4767, 0.25, 0.128, 0.765, -0.4703, 0.886, 0.3612, 0.7184, 0.0, 0.0, 0.8225, 0.6369, 0.765, 0.765, 0.6908, 0.7906, 0.128, 0.7906, 0.0, -0.0258, -0.9571, 0.0516, -0.9201, 0.6597, -0.3182, -0.0258, -0.7845, 0.0, 0.0, 0.0772, -0.0516, 0.3182, 0.2781, 0.0, -0.2263, 0.0, -0.2635, -0.8176, 0.0, -0.7579, -0.8271, -0.128, 0.3818, 0.2263, -0.534, 0.0, 0.1779, 0.34, 0.4019, -0.6124, -0.5574, 0.1027, 0.2732, 0.5719, -0.7096, 0.0, 0.7845, 0.1531, 0.4767, -0.4767, 0.4404, 0.8779, 0.4404, -0.743, 0.1027, -0.4767, 0.128, 0.1027, -0.1027, 0.0, -0.8807, 0.9062, 0.8519, -0.4939, 0.0, 0.0258, -0.9432, -0.5267, -0.5574, 0.8519, -0.802, -0.0258, 0.0, -0.6249, -0.2023, -0.128, 0.6124, -0.6705, -0.7506, -0.6486, 0.0, 0.34, -0.5423, 0.0516, 0.2556, -0.7003, -0.9477, 0.4215, -0.5267, -0.3612, 0.296, -0.1027, 0.0, -0.5574, 0.4019, 0.7717, 0.0, -0.2732, 0.0, -0.7351, 0.0, 0.4588, 0.4019, 0.0, 0.2732, -0.4404, 0.6369, 0.5106, -0.8625, -0.7906, -0.0516, -0.936, -0.7351, -0.5423, -0.7003, -0.93, -0.9136, 0.0772, 0.6369, 0.4019, 0.4939, -0.7783, 0.4939, 0.25, -0.4215, 0.2263, -0.4404, -0.6705, 0.6486, -0.6597, -0.8074, 0.9169, -0.8176, 0.5423, 0.0, -0.9468, 0.4215, -0.743, 0.8834, -0.4939, -0.5719, 0.6124, 0.0, 0.3612, -0.8555, 0.0772, -0.2263, -0.9118, 0.4215, 0.7003, -0.4939, -0.6486, 0.0, 0.6908, 0.7964, -0.1027, 0.128, 0.3182, -0.25, -0.4939, -0.9349, 0.577, -0.5574, 0.8402, -0.7003, -0.9001, 0.7003, -0.1531, 0.6908, -0.7269, -0.5574, -0.7096, -0.9022, 0.8481, 0.7269, -0.9451, 0.5994, -0.9231, -0.9686, 0.5106, 0.7184, 0.4404, 0.1531, -0.743, -0.5859, -0.4927, 0.3182, -0.9062, 0.0, 0.128, -0.8126, -0.2732, -0.4404, 0.0, -0.9756, 0.4215, 0.0, -0.8779, -0.9442, -0.5423, -0.1779, 0.4404, -0.6486, 0.0, 0.4215, 0.0, 0.0, -0.4588, -0.3818, -0.128, 0.6808, 0.2732, 0.4019, -0.7506, -0.8957, -0.8402, 0.34, 0.891, -0.6369, -0.9313, 0.4767, -0.9382, -0.4215, 0.1531, -0.765, 0.7269, -0.6808, 0.3818, -0.5574, -0.9118, -0.0772, -0.8176, -0.8779, -0.4939, 0.0, -0.2263, -0.9042, -0.4939, 0.25, -0.5994, 0.8658, -0.4215, -0.1531, 0.0976, -0.8402, -0.0772, -0.1027, 0.7964, -0.3818, -0.6124, -0.8885, -0.9325, -0.8176, -0.8519, -0.7906, -0.9246, -0.8591, -0.6808, 0.6705, -0.2263, -0.9118, -0.7906, 0.8074, -0.3818, -0.3818, 0.8074, 0.4404, 0.0, -0.9325, -0.8834, 0.0, 0.0258, 0.4019, 0.1027, 0.5719, 0.4588, 0.2732, 0.0, 0.3612, 0.6597, 0.3818, 0.2023, 0.3818, 0.2263, 0.7096, 0.9313, -0.6476, -0.3612, 0.8658, 0.4019, 0.5267, -0.1027, 0.34, 0.8271, 0.0, 0.0, 0.0, -0.2023, 0.4019, 0.7096, 0.6369, 0.7717, -0.3818, 0.4215, 0.872, -0.4215, -0.6597, 0.5859, 0.0258, 0.6705, 0.2732, 0.3612, -0.1027, 0.0, 0.5267, -0.7351, 0.0772, -0.4997, 0.7964, 0.6597, 0.25, 0.8481, 0.0772, 0.8689, 0.8625, 0.0, 0.2023, 0.0, 0.0, 0.0, 0.8779, 0.4939, 0.4767, 0.8555, 0.0, 0.0, 0.0, 0.3182, 0.2263, 0.7845, -0.9337, 0.4588, 0.0, 0.5106, 0.8176, 0.3182, 0.0, 0.0, 0.0772, 0.4767, -0.6249, -0.34, -0.9001, 0.836, 0.4019, 0.765, 0.2732, 0.1114, -0.1491, 0.7096, -0.1779, 0.3818, 0.1063, 0.5423, 0.6124, 0.4588, -0.3182, 0.8689, -0.802, 0.7783, 0.9552, 0.0, -0.6249, 0.6486, 0.0, 0.9118, 0.4588, -0.2732, -0.3182, 0.5106, -0.0258, 0.1531, 0.6369, 0.6249, -0.3818, 0.4019, 0.0, -0.7717, 0.2732, 0.4019, 0.4019, -0.1779, 0.0, 0.128, 0.8555, 0.3818, 0.2732, 0.0, 0.5106, -0.296, 0.0, 0.2732, 0.0, 0.9022, 0.5267, -0.1531, -0.25, 0.0, -0.5267, 0.4019, 0.9118, -0.8122, 0.6597, -0.5267, 0.5267, 0.4019, 0.7449, 0.8779, -0.1027, 0.0, -0.5106, 0.0, 0.0, -0.4215, 0.0, 0.7579, 0.7964, 0.0, 0.765, 0.8126, 0.296, 0.7184, 0.1779, 0.1779, 0.0, -0.2732, 0.5423, 0.8591, -0.2177, -0.4215, 0.0, 0.0772, -0.0772, -0.1779, 0.296, -0.8176, 0.8176, 0.2263, -0.5106, -0.6096, -0.1027, -0.1027, 0.8979, 0.8979, 0.6249, 0.4019, -0.4588, -0.743, 0.6908, -0.836, 0.0, -0.1027, 0.296, 0.4939, -0.4215, 0.743, 0.8074, 0.3818, -0.7351, -0.4939, -0.128, -0.5574, -0.4404, 0.9313, 0.5719, -0.8176, 0.5106, 0.3804, 0.6124, 0.9105, 0.5106, -0.296, 0.128, -0.1779, 0.8176, 0.4404, -0.3612, -0.8126, 0.8481, 0.4215, -0.765, 0.7964, 0.8834, -0.5574, 0.6249, 0.8934, 0.7269, 0.5267, -0.5859, -0.9432, 0.3818, -0.5574, 0.7906, 0.9442, 0.6133, 0.7579, 0.128, 0.5574, 0.7351, 0.4019, 0.3818, 0.25, 0.5106, 0.4215, 0.4404, -0.9136, 0.8779, 0.5423, 0.0, 0.9274, 0.3818, 0.8979, 0.9442, 0.4767, 0.5423, 0.5106, 0.0, 0.5574, 0.5994, 0.0, 0.2263, 0.4588, 0.8442, -0.743, -0.9821, 0.4939, 0.7717, 0.7184, -0.0258, -0.7003, -0.2023, -0.7351, 0.6908, 0.6597, 0.4588, 0.7906, -0.4019, 0.4019, -0.7783, -0.946, 0.765, 0.7003, 0.3818, -0.8934, 0.0, -0.3244, 0.3818, 0.4939, -0.7579, -0.3612, -0.8934, 0.8885, 0.0, 0.5106, 0.4404, 0.5859, 0.4404, 0.8481, 0.7964, 0.7506, 0.0, -0.5719, -0.3182, 0.5994, -0.34, -0.6478, 0.91, 0.1779, 0.0, 0.5267, 0.802, -0.2732, -0.4939, -0.6369, 0.91, 0.8481, 0.8588, 0.0, 0.5106, 0.0258, 0.4215, -0.34, 0.2732, 0.0772, -0.8393, -0.743, 0.0772, 0.2023, 0.891, 0.0, 0.296, 0.8658, 0.1779, 0.0, 0.2023, 0.7964, 0.5719, 0.7269, 0.7717, -0.2315, 0.3818, -0.6908, 0.0772, 0.7964, 0.6369, 0.872, 0.2023, 0.0, 0.5423, -0.9657, -0.5574, 0.2023, 0.9001, -0.0772, 0.4939, 0.8271, 0.0, 0.8519, 0.2263, 0.8126, -0.1027, 0.3182, 0.4215, 0.802, 0.8934, 0.8555, -0.1027, 0.743, -0.25, 0.6003, 0.5859, 0.8481, 0.9371, 0.0, 0.0, 0.6249, 0.6369, 0.8625, -0.7264, -0.7096, -0.1531, -0.6369, -0.8658, -0.9153, -0.946, 0.128, -0.9001, -0.7783, -0.6808, -0.7003, 0.4215, -0.4588, -0.4588, -0.2263, 0.6935, -0.9287, 0.0, 0.128, 0.1779, -0.296, -0.9531, -0.8834, -0.34, 0.0258, -0.9118, 0.0, -0.8402, -0.4767, -0.8689, 0.9022, 0.3818, -0.9042, 0.5267, -0.8519, 0.0, -0.743, 0.4588, 0.0, 0.6486, -0.765, -0.4215, 0.2732, 0.5719, -0.7906, -0.8225, -0.6908, -0.8271, -0.9042, 0.8519, -0.9153, 0.7306, -0.8442, -0.975, -0.4939, -0.7845, -0.4019, -0.6705, 0.4939, 0.8957, 0.2732, 0.7579, -0.5994, -0.0772, 0.5574, -0.8074, -0.5574, -0.8885, 0.4019, 0.1027, 0.0, -0.5994, -0.3182, -0.5574, 0.7876, -0.802, 0.6369, 0.4404, 0.0, 0.7579, 0.3818, 0.6705, 0.887, -0.1531, -0.2732, 0.4019, -0.9042, 0.4939, 0.836, -0.7269, 0.8689, 0.9831, 0.8225, 0.2023, -0.1027, 0.5574, 0.3612, 0.7184, 0.765, 0.8519, -0.9062, -0.1027, 0.1027, -0.5423, 0.4215, 0.7003, 0.0516, 0.9571, 0.7351, 0.0516, 0.2263, 0.765, 0.7184, 0.1027, 0.5574, 0.6908, 0.1027, 0.872, 0.7964, 0.8689, -0.1531, 0.6369, 0.8316, 0.9806, -0.7184, -0.9186, 0.5423, 0.7964, 0.34, 0.2732, -0.9136, 0.6597, 0.7906, 0.0, 0.4019, 0.7193, 0.8271, -0.8481, 0.8537, -0.2732, 0.4939, 0.0, -0.1531, 0.6369, 0.2023, -0.6908, -0.765, 0.6486, 0.6597, 0.0, 0.8807, 0.5267, 0.0516, -0.2023, -0.9081, 0.6908, 0.0, 0.0516, -0.4215, 0.1027, -0.2732, 0.1027, 0.9217, 0.25, -0.6124, -0.34, -0.3818, -0.5106, -0.8225, 0.8834, -0.6705, -0.6808, 0.0, 0.7506, -0.34, -0.3612, -0.3182, 0.0, 0.9552, 0.9538, 0.5859, 0.7269, -0.8813, -0.936, -0.2023, -0.34, -0.5574, 0.2263, 0.7717, 0.4019, 0.9661, -0.5423, 0.5994, 0.5267, -0.5106, 0.0, 0.5994, 0.1027, 0.765, -0.6369, 0.2023, 0.3182, 0.4215, 0.802, 0.8625, 0.3612, 0.7003, -0.296, 0.6369, 0.8074, -0.128, 0.3612, 0.9287, 0.7003, 0.5859, -0.4404, 0.1779, 0.8481, 0.0772, 0.0, 0.0, -0.5267, 0.8074, -0.1531, -0.6124, 0.8225, 0.128, 0.6124, -0.3182, 0.1027, -0.4019, -0.0258, -0.5106, 0.296, 0.765, 0.0, 0.2023, 0.2023, 0.0, 0.8807, 0.8225, -0.128, -0.7096, -0.3182, 0.8126, 0.4767, 0.2023, 0.3612, 0.8807, 0.0, -0.6124, 0.3818, -0.2263, -0.5267, 0.765, 0.6808, 0.128, 0.3182, -0.4939, 0.5106, 0.0, 0.3612, 0.3182, 0.7003, -0.6486, -0.3818, 0.0, 0.836, 0.0, 0.765, 0.0772, 0.3818, 0.0, -0.7717, -0.9623, -0.7845, -0.7906, -0.8625, -0.7579, -0.936, -0.2732, 0.0, 0.7845, 0.7184, 0.5574, 0.9001, -0.5859, 0.8481, -0.0516, 0.0, 0.4019, 0.128, -0.5423, -0.6705, 0.7351, 0.6124, 0.0, -0.8074, -0.8685, 0.5574, 0.0772, 0.0, 0.5267, -0.0258, 0.7964, -0.8689, -0.7003, 0.7506, -0.4588, 0.6597, 0.8271, 0.6908, -0.7964, 0.6705, 0.5423, 0.4019, -0.1531, 0.2023, -0.7184, -0.8555, -0.8689, 0.8402, 0.6124, 0.1531, -0.3818, -0.3818, 0.0, 0.7964, 0.0, 0.3182, -0.9062, -0.5106, -0.5267, -0.2732, 0.9423, -0.7717, -0.296, -0.34, 0.4588, 0.4019, 0.4939, -0.7717, 0.8271, 0.6597, -0.5423, 0.9423, -0.34, -0.5719, 0.0, 0.8225, 0.9423, -0.1531, -0.2023, 0.8689, 0.5267, -0.4215, 0.0258, 0.4939, -0.7003, 0.8625, 0.6486, 0.4939, -0.4404, -0.7096, 0.4215, 0.5267, -0.6705, 0.0, -0.1027, 0.4939, -0.7964, 0.0, 0.4215, -0.4767, -0.9501, 0.4215, -0.9136, -0.128, -0.7845, -0.802, 0.9136, -0.5267, 0.6597, 0.8979, -0.4939, -0.7096, -0.0258, -0.7096, -0.836, -0.5574, 0.4404, 0.8442, 0.0258, -0.5574, -0.8658, 0.1027, 0.0, -0.7184, 0.0, 0.5859, 0.5994, 0.0, -0.891, 0.0, 0.875, -0.7992, -0.7003, 0.0, -0.5574, -0.6486, -0.1513, 0.3182, 0.7346, -0.4019, -0.3612, -0.7096, -0.9595, -0.5859, 0.25, 0.3818, 0.4939, 0.5719, -0.743, -0.296, 0.6908, -0.5574, 0.3818, -0.8658, -0.7506, 0.6808, 0.0258, -0.0258, 0.7184, -0.0, -0.9393, 0.4215, -0.886, -0.7003, -0.8779, -0.8074, 0.3182, 0.0772, 0.5719, 0.34, -0.5994, -0.1531, 0.4939, 0.7184, -0.5267, 0.5267, 0.0, -0.9468, 0.6369, -0.9153, 0.6705, 0.0, 0.7663, -0.296, 0.6369, 0.8442, -0.9509, 0.3612, -0.25, 0.6597, 0.6369, -0.886, -0.8481, 0.4019, -0.8481, 0.7783, -0.34, -0.6486, 0.9153, 0.5106, -0.9612, -0.5574, -0.8763, -0.6486, -0.9652, -0.7964, -0.743, -0.9217, -0.9118, -0.6705, -0.4939, 0.5994, 0.0, -0.7579, 0.4215, -0.4588, -0.4173, 0.0, -0.9705, -0.3182, 0.8957, 0.5106, -0.7783, 0.4404, 0.8316, -0.0258, 0.1531, 0.1531, -0.7845, -0.6715, 0.423, 0.296, 0.886, -0.5994, -0.3818, 0.4404, -0.3818, 0.0772, 0.3182, 0.5106, -0.3182, -0.34, -0.4404, -0.5106, 0.7269, 0.0, -0.5267, 0.0, -0.4588, 0.6249, -0.5994, -0.2732, -0.6597, 0.4815, -0.5859, -0.5574, 0.1027, 0.1531, 0.2732, 0.0, -0.7184, 0.891, -0.1027, 0.3818, 0.7003, 0.0, 0.8225, 0.6249, 0.0, -0.6705, 0.4632, -0.4188, -0.4767, 0.4588, -0.4939, 0.4939, -0.8126, -0.7906, 0.34, 0.5256, 0.0, -0.4939, 0.128, 0.0516, 0.1779, 0.128, 0.0, 0.0, 0.128, -0.5994, 0.34, 0.872, -0.0516, 0.0, -0.5859, 0.3612, 0.0, -0.5994, -0.7096, 0.0, -0.296, -0.2732, -0.296, 0.8591, -0.2732, 0.7906, 0.0, -0.4939, 0.0, 0.5267, 0.5859, -0.5994, -0.5574, 0.0, 0.4588, 0.6486, -0.5106, 0.8779, 0.0, 0.7579, -0.7906, 0.0, 0.1027, 0.0, 0.4019, 0.3818, 0.7717, 0.8591, 0.5267, 0.6808, 0.7351, 0.3612, 0.5719, 0.0, -0.6908, -0.6486, 0.5267, 0.7096, 0.6249, -0.34, 0.0, 0.5994, -0.872, -0.8885, 0.93, 0.0, 0.8074, -0.93, -0.802, -0.5859, 0.0, 0.0, -0.9118, 0.0772, -0.9432, -0.0258, -0.802, -0.7351, -0.743, 0.0, 0.4215, 0.7506, -0.34, -0.6908, 0.0, 0.5423, -0.802, -0.8126, 0.3182, 0.7579, -0.836, 0.0, -0.2023, 0.4215, 0.7845, -0.3182, 0.0516, 0.3182, -0.4215, 0.5106, 0.4588, 0.2484, -0.9287, 0.4215, 0.2732, 0.7351, 0.3612, -0.6597, 0.7184, -0.25, -0.3182, 0.872, 0.5423, 0.802, -0.8932, 0.9169, -0.5106, 0.0, -0.5106, -0.7717, 0.7096, -0.7845, 0.2732, 0.8834, 0.5106, -0.1779, -0.7351, 0.886, 0.8957, 0.0, 0.9153, 0.9468, -0.6486, 0.4939, -0.93, -0.4588, 0.4215, -0.5994, 0.4767, 0.8957, 0.0, 0.0, 0.2023, 0.3612, -0.9042, 0.9136, -0.7351, 0.8957, 0.8885, 0.5994, 0.4019, -0.765, 0.2211, -0.872, 0.2211, 0.8834, -0.8834, -0.3818, 0.4588, 0.8225, 0.4588, -0.4588, 0.8957, -0.9423, -0.1531, 0.9186, 0.2023, 0.0, 0.0, 0.0, 0.9186, 0.0, -0.1531, 0.8957, 0.5106, 0.5423, 0.8481, 0.8442, 0.802, -0.4588, -0.6369, -0.3182, -0.0772, -0.4215, 0.7184, -0.1531, 0.2263, 0.4215, -0.891, -0.9337, 0.7003, -0.8442, -0.8625, 0.7184, 0.0772, 0.9118, -0.9628, -0.8221, 0.5106, 0.6705, 0.6369, -0.7906, -0.8807, -0.0772, -0.6249, -0.91, -0.3818, -0.9623, 0.4404, 0.7269, -0.9501, -0.9413, 0.5719, -0.25, -0.4767, -0.9756, -0.5423, 0.9325, -0.9814, -0.4215, -0.2732, -0.5267, -0.765, -0.8126, 0.34, 0.0, -0.7351, -0.8934, -0.7783, 0.0, 0.9169, -0.296, -0.5719, -0.1779, -0.4534, -0.7003, -0.9623, 0.2023, -0.2023, -0.8779, -0.7506, 0.1027, 0.5994, -0.9432, -0.743, 0.8225, -0.8481, -0.4215, -0.6705, 0.0, 0.7717, 0.0, -0.296, 0.8963, 0.0, 0.0, -0.0516, 0.0, -0.836, 0.9136, -0.9524, -0.9081, -0.8689, -0.9325, -0.8481, -0.3818, 0.6369, 0.6249, -0.4215, -0.3818, -0.2732, 0.802, -0.8519, 0.4588, -0.2263, -0.765, -0.836, 0.0516, -0.0258, -0.9153, -0.7184, 0.6369, -0.34, -0.9362, -0.765, 0.0, -0.8176, -0.8934, -0.34, -0.7351, -0.9698, -0.872, 0.8176, -0.3612, -0.8176, 0.0, 0.5423, -0.875, 0.2023, -0.9186, -0.5574, -0.7971, -0.8885, -0.296, -0.7351, -0.1027, 0.4939, 0.2406, -0.5106, -0.926, 0.0, -0.3182, -0.891, 0.0, 0.4767, 0.4588, 0.0, 0.0516, 0.5994, 0.4767, 0.3612, 0.5859, -0.4767, -0.128, 0.1779, -0.7003, -0.7636, -0.7579, -0.6124, -0.9081, 0.0, -0.5994, 0.0, -0.1531, 0.7184, -0.34, -0.8957, 0.1027, -0.4019, -0.0516, -0.25, 0.4019, 0.743, -0.6249, 0.6808, -0.7783, -0.9022, -0.1027, 0.0, 0.1531, -0.5574, 0.0, -0.25, 0.8126, -0.6391, -0.7579, 0.836, 0.5267, -0.4939, 0.0, -0.4404, 0.1027, -0.5423, -0.926, -0.5267, -0.8271, -0.9571, 0.8689, 0.1027, 0.0, -0.6808, -0.5859, -0.9325, 0.2263, -0.9657, -0.8591, -0.8934, -0.936, -0.9001, 0.9201, 0.4588, 0.4019, -0.3612, -0.6705, -0.5719, 0.7579, 0.7269, 0.6705, 0.128, -0.6908, 0.4019, -0.6369, 0.4404, -0.4767, 0.0, 0.6801, 0.5423, -0.8658, -0.4588, -0.6249, 0.5423, 0.91, -0.8519, -0.9661, -0.7184, -0.886, -0.4404, -0.9501, 0.7906, 0.34, 0.6705, -0.0516, 0.4939, -0.34, -0.4215, -0.8225, -0.6124, -0.872, -0.7964, -0.7003, -0.3818, -0.4588, -0.1779, 0.0679, 0.7845, -0.6486, -0.8979, 0.296, 0.4939, -0.1027, -0.9042, 0.9403, -0.8402, -0.7964, -0.1531, 0.6249, -0.8271, -0.1027, -0.4939, 0.6705, 0.2975, -0.7845, 0.4019, 0.4404, -0.7096, -0.9578, 0.1027, -0.5106, -0.7506, 0.4215, 0.6486, -0.7783, 0.7845, 0.1548, -0.9423, 0.6908, -0.6054, -0.8402, 0.7579, 0.2023, -0.1531, 0.0444, -0.1779, -0.8481, 0.7964, -0.6808, 0.5574, -0.4404, 0.7003, -0.8588, 0.3182, 0.128, 0.0, -0.5994, 0.4588, -0.8834, -0.0258, 0.4019, 0.5106, 0.128, -0.3182, 0.128, 0.1779, 0.0258, 0.0, 0.7184, 0.5859, 0.8225, 0.0, 0.4019, 0.4939, 0.765, 0.0, 0.0, 0.4404, 0.8176, 0.9062, 0.0, 0.7506, 0.1531, -0.7778, -0.8555, -0.7906, -0.7269, 0.0772, 0.5994, -0.4939, -0.296, -0.6597, -0.9382, -0.1531, 0.9022, -0.6597, -0.2023, -0.9042, -0.5994, 0.743, 0.1027, 0.7579, -0.872, 0.7717, 0.4019, 0.5423, 0.5423, 0.836, 0.8402, 0.1779, 0.8807, -0.7906, -0.9313, 0.8519, -0.1027, -0.032, -0.9509, -0.9545, 0.5719, 0.2263, -0.6751, -0.4019, 0.7579, 0.8979, 0.0, 0.7351, 0.4215, 0.9623, 0.1689, 0.25, 0.7729, 0.5086, 0.5574, 0.8653, 0.3182, 0.6908, 0.0129, -0.743, -0.1779, -0.7351, 0.2732, 0.2057, 0.2732, -0.7184, -0.3182, 0.6486, -0.743, 0.8807, 0.9081, 0.8854, -0.4767, 0.8779, -0.1027, 0.9231, -0.9694, 0.3182, -0.4404, 0.5994, 0.5423, 0.296, -0.7506, 0.926, 0.7906, 0.8979, -0.5267, 0.9081, -0.6369, 0.0772, 0.8625, -0.9623, 0.855, 0.7096, -0.8834, 0.3612, 0.4019, 0.8834, -0.9648, 0.0, -0.9595, -0.836, 0.25, 0.0, -0.0258, -0.4767, 0.8807, -0.1779, 0.7096, 0.8126, 0.0, 0.765, 0.4939, 0.0, 0.3612, 0.2263, 0.4019, 0.128, 0.296, -0.2263, 0.8934, -0.5267, -0.8625, 0.5994, 0.7579, 0.2411, 0.1779, 0.3612, 0.0, 0.5267, -0.4939, -0.4215, 0.0772, 0.6369, 0.4767, -0.9633, 0.1531, -0.9042, -0.946, 0.4767, -0.3724, 0.2263, 0.8442, 0.0772, 0.4019, 0.296, -0.8225, -0.9169, -0.9612, 0.4019, 0.7783, -0.9442, -0.872, 0.3818, 0.0, -0.2263, -0.6808, -0.8625, -0.7351, 0.891, 0.4939, 0.8591, -0.7184, 0.2732, 0.0, -0.6808, -0.9118, 0.4019, 0.34, -0.5423, 0.9702, -0.8807, 0.6705, 0.0772, 0.296, 0.4215, -0.9432, -0.8834, 0.0772, -0.2732, -0.3818, 0.101, -0.886, 0.8442, -0.3182, 0.0, 0.9595, 0.065, -0.9468, -0.4939, -0.9501, -0.9652, 0.4404, 0.0772, 0.128, -0.9678, -0.8979, 0.6249, 0.1531, 0.0, 0.3182, -0.9201, 0.0, 0.0772, 0.4215, 0.4019, 0.0, -0.6908, -0.886, 0.1531, 0.1531, 0.7964, 0.4588, 0.6908, 0.1531, 0.0, 0.4019, 0.5423, 0.4019, -0.128, 0.6808, 0.4019, 0.5859, 0.4019, -0.7269, 0.128, -0.4215, 0.0, -0.3818, -0.9118, -0.7351, 0.4019, 0.4019, 0.4019, 0.296, 0.0516, -0.5994, -0.4019, -0.3818, 0.7003, 0.8481, -0.7096, 0.0, -0.34, 0.8225, 0.9022, 0.5859, -0.9062, -0.6124, 0.9451, 0.836, 0.8885, 0.9531, 0.0, 0.4939, 0.8957, 0.8957, -0.3818, 0.5994, 0.5267, 0.0772, 0.4939, 0.0, -0.5423, -0.763, 0.1027, -0.6597, 0.6557, 0.0, -0.34, 0.836, 0.0, -0.6808, 0.1779, -0.8625, -0.296, 0.8316, 0.0, -0.4939, -0.128, 0.6486, -0.8481, 0.2023, 0.7269, 0.0, 0.836, 0.9186, -0.4588, -0.0772, 0.3818, -0.7351, 0.6124, 0.6808, -0.8225, -0.3818, 0.4767, 0.5994, 0.8402, -0.3818, -0.9274, 0.6142, -0.6124, 0.34, 0.8658, 0.802, 0.0, 0.128, 0.6597, 0.7003, 0.5106, 0.6908, -0.5106, 0.6124, 0.0, 0.0, -0.5574, 0.886, 0.5267, -0.4939, -0.1027, 0.624, 0.5267, 0.3818, -0.802, 0.4019, 0.4939, -0.7717, -0.0772, 0.5719, 0.0, -0.1779, 0.4404, -0.4767, -0.2263, -0.1779, -0.1779, 0.7506, 0.4404, 0.3818, 0.7269, -0.2732, 0.8658, -0.2732, 0.2023, -0.3818, 0.0, 0.2263, 0.3818, 0.0772, 0.7506, -0.6249, 0.6249, 0.9081, 0.7003, -0.5719, -0.4404, -0.34, 0.9001, 0.6369, 0.8271, 0.5267, 0.8316, -0.5719, 0.7506, -0.4404, 0.296, -0.4404, -0.5423, 0.7003, -0.34, 0.2023, -0.8485, 0.4404, 0.2263, -0.296, 0.0772, 0.2263, 0.0772, 0.7506, 0.0772, -0.2023, -0.1531, -0.3612, -0.7351, -0.1027, 0.4215, 0.1027, 0.5574, -0.4939, -0.25, 0.4404, -0.6597, -0.1779, -0.1779, 0.7506, 0.4404, 0.0258, 0.0, 0.3818, -0.7351, 0.1027, 0.0, -0.25, 0.4215, 0.4215, -0.25, -0.7783, -0.5574, -0.4939, 0.0, -0.9153, -0.9062, 0.128, 0.7746, 0.2946, -0.0258, 0.0, 0.5994, 0.0, 0.9062, 0.128, 0.4215, -0.5859, -0.2263, -0.7906, 0.0772, 0.4404, -0.1531, -0.8555, -0.5859, -0.8555, 0.0, 0.4215, -0.4767, -0.3182, -0.93, 0.0, 0.4939, 0.1531, 0.5859, -0.765, 0.0516, -0.3818, 0.128, -0.4019, -0.4404, 0.6597, 0.6486, -0.25, -0.8316, 0.3612, 0.8074, -0.3818, -0.9022, -0.7506, 0.875, 0.7845, 0.0, -0.3818, 0.8934, 0.5454, -0.4767, 0.0772, 0.1263, 0.4767, 0.8519, 0.5859, 0.7579, 0.4767, -0.0516, 0.0, 0.0, -0.8555, 0.7184, 0.6808, -0.9349, -0.8442, -0.9643, -0.128, -0.296, -0.0516, 0.0258, -0.8176, -0.2263, 0.9231, -0.926, 0.5574, 0.6705, 0.7783, 0.0, 0.8316, 0.34, -0.4215, -0.5994, -0.9246, 0.6705, 0.7906, 0.7717, -0.7096, 0.3182, 0.3612, -0.9081, -0.1027, 0.25, 0.128, 0.7351, 0.4404, -0.5267, 0.6908, -0.5574, -0.2732, 0.6369, -0.9805, 0.4588, 0.0, 0.0, 0.6369, 0.0, 0.8176, -0.34, -0.7906, 0.0, 0.2023, 0.4215, -0.8316, 0.2023, 0.6597, 0.1585, 0.802, 0.25, -0.5994, -0.7269, -0.0516, -0.2732, 0.1027, 0.0, -0.802, -0.296, 0.3612, 0.4939, 0.1027, -0.9648, -0.4588, -0.2023, 0.128, 0.4767, -0.2732, 0.0, -0.91, 0.8625, -0.891, -0.4588, 0.4019, -0.2732, -0.7717, -0.9769, 0.6808, -0.5267, -0.7717, -0.296, 0.0258, 0.0, -0.4588, -0.2732, -0.91, -0.2263, -0.7717, -0.2023, 0.5719, -0.9136, 0.0, -0.7506, 0.8555, -0.8442, 0.0772, -0.8176, 0.1779, 0.6808, -0.8225, -0.9287, -0.5859, 0.4019, 0.34, 0.5574, -0.128, -0.8074, 0.4019, 0.8271, -0.3818, 0.7269, -0.8885, -0.4767, -0.6124, -0.6705, -0.296, -0.2023, 0.0, 0.128, 0.296, 0.6808, -0.3818, 0.4767, -0.2732, 0.4588, -0.743, -0.5574, -0.25, 0.9451, -0.8316, -0.5719, -0.8225, 0.0516, -0.9517, 0.6369, 0.7003, -0.5574, -0.886, 0.296, -0.3612, 0.0629, 0.4404, 0.2263, -0.9393, 0.6369, -0.5719, -0.5267, 0.296, -0.6705, 0.4939, 0.4939, -0.8658, -0.0258, -0.9545, -0.9818, -0.88, 0.5267, 0.1027, 0.4767, -0.7964, 0.8271, 0.6124, 0.7845, 0.4588, 0.8633, 0.8633, 0.802, -0.0516, -0.1027, 0.839, 0.7003, 0.7506, -0.1531, 0.3182, -0.7964, -0.9042, -0.872, -0.9801, 0.0, 0.3182, -0.6124, 0.0, -0.4939, -0.4404, -0.4939, -0.9186, -0.8625, 0.8225, 0.0, -0.9531, -0.7351, 0.6474, 0.936, -0.6808, 0.7003, -0.1027, -0.5106, -0.6597, -0.296, -0.7351, -0.8689, 0.6369, -0.743, -0.2778, 0.0, -0.9682, 0.3167, -0.9136, 0.4404, 0.4019, 0.25, -0.9153, -0.5574, 0.0, 0.8271, -0.5574, -0.3818, 0.4767, 0.2263, -0.296, -0.6486, 0.6705, -0.6705, 0.4588, -0.9612, -0.8979, -0.9652, 0.6597, 0.0258, 0.3612, -0.9851, 0.8834, 0.765, -0.5859, -0.2516, -0.8519, 0.5859, -0.7003, 0.296, -0.3182, 0.9517, -0.5267, 0.9081, -0.3412, -0.7964, 0.891, 0.5574, 0.9524, 0.8957, -0.6249, 0.6249, -0.6369, 0.4939, -0.8591, -0.743, 0.3182, 0.8442, 0.9769, -0.7906, 0.4215, 0.7269, -0.8625, 0.3182, 0.2263, 0.4767, -0.8591, -0.4404, 0.4215, -0.936, 0.4019, 0.34, 0.4939, -0.3182, 0.7906, -0.8271, 0.8126, 0.9231, -0.3818, 0.8625, 0.0, 0.7087, 0.6597, -0.8958, -0.4215, 0.9559, -0.7717, -0.3612, -0.34, 0.8316, 0.9783, 0.4404, 0.5574, -0.3612, -0.7269, -0.9595, 0.8658, -0.9761, 0.4548, -0.7096, -0.9856, -0.8555, -0.6486, 0.5994, 0.6908, -0.9287, -0.5267, 0.4588, 0.3612, -0.7661, 0.9001, 0.9393, -0.296, -0.9661, 0.3182, 0.0, 0.6486, 0.4215, 0.5719, -0.2023, 0.9538, 0.4588, 0.128, -0.128, -0.8343, 0.4215, -0.1779, -0.6249, 0.2263, 0.1779]}],\n",
              "                        {\"barmode\": \"overlay\", \"legend\": {\"bgcolor\": \"#F5F6F9\", \"font\": {\"color\": \"#4D5663\"}}, \"paper_bgcolor\": \"#F5F6F9\", \"plot_bgcolor\": \"#F5F6F9\", \"template\": {\"data\": {\"bar\": [{\"error_x\": {\"color\": \"#2a3f5f\"}, \"error_y\": {\"color\": \"#2a3f5f\"}, \"marker\": {\"line\": {\"color\": \"#E5ECF6\", \"width\": 0.5}}, \"type\": \"bar\"}], \"barpolar\": [{\"marker\": {\"line\": {\"color\": \"#E5ECF6\", \"width\": 0.5}}, \"type\": \"barpolar\"}], \"carpet\": [{\"aaxis\": {\"endlinecolor\": \"#2a3f5f\", \"gridcolor\": \"white\", \"linecolor\": \"white\", \"minorgridcolor\": \"white\", \"startlinecolor\": \"#2a3f5f\"}, \"baxis\": {\"endlinecolor\": \"#2a3f5f\", \"gridcolor\": \"white\", \"linecolor\": \"white\", \"minorgridcolor\": \"white\", \"startlinecolor\": \"#2a3f5f\"}, \"type\": \"carpet\"}], \"choropleth\": [{\"colorbar\": {\"outlinewidth\": 0, \"ticks\": \"\"}, \"type\": \"choropleth\"}], \"contour\": [{\"colorbar\": {\"outlinewidth\": 0, \"ticks\": \"\"}, \"colorscale\": [[0.0, \"#0d0887\"], [0.1111111111111111, \"#46039f\"], [0.2222222222222222, \"#7201a8\"], [0.3333333333333333, \"#9c179e\"], [0.4444444444444444, \"#bd3786\"], [0.5555555555555556, \"#d8576b\"], [0.6666666666666666, \"#ed7953\"], [0.7777777777777778, \"#fb9f3a\"], [0.8888888888888888, \"#fdca26\"], [1.0, \"#f0f921\"]], \"type\": \"contour\"}], \"contourcarpet\": [{\"colorbar\": {\"outlinewidth\": 0, \"ticks\": \"\"}, \"type\": \"contourcarpet\"}], \"heatmap\": [{\"colorbar\": {\"outlinewidth\": 0, \"ticks\": \"\"}, \"colorscale\": [[0.0, \"#0d0887\"], [0.1111111111111111, \"#46039f\"], [0.2222222222222222, \"#7201a8\"], [0.3333333333333333, \"#9c179e\"], [0.4444444444444444, \"#bd3786\"], [0.5555555555555556, \"#d8576b\"], [0.6666666666666666, \"#ed7953\"], [0.7777777777777778, \"#fb9f3a\"], [0.8888888888888888, \"#fdca26\"], [1.0, \"#f0f921\"]], \"type\": \"heatmap\"}], \"heatmapgl\": [{\"colorbar\": {\"outlinewidth\": 0, \"ticks\": \"\"}, \"colorscale\": [[0.0, \"#0d0887\"], [0.1111111111111111, \"#46039f\"], [0.2222222222222222, \"#7201a8\"], [0.3333333333333333, \"#9c179e\"], [0.4444444444444444, \"#bd3786\"], [0.5555555555555556, \"#d8576b\"], [0.6666666666666666, \"#ed7953\"], [0.7777777777777778, \"#fb9f3a\"], [0.8888888888888888, \"#fdca26\"], [1.0, \"#f0f921\"]], \"type\": \"heatmapgl\"}], \"histogram\": [{\"marker\": {\"colorbar\": {\"outlinewidth\": 0, \"ticks\": \"\"}}, \"type\": \"histogram\"}], \"histogram2d\": [{\"colorbar\": {\"outlinewidth\": 0, \"ticks\": \"\"}, \"colorscale\": [[0.0, \"#0d0887\"], [0.1111111111111111, \"#46039f\"], [0.2222222222222222, \"#7201a8\"], [0.3333333333333333, \"#9c179e\"], [0.4444444444444444, \"#bd3786\"], [0.5555555555555556, \"#d8576b\"], [0.6666666666666666, \"#ed7953\"], [0.7777777777777778, \"#fb9f3a\"], [0.8888888888888888, \"#fdca26\"], [1.0, \"#f0f921\"]], \"type\": \"histogram2d\"}], \"histogram2dcontour\": [{\"colorbar\": {\"outlinewidth\": 0, \"ticks\": \"\"}, \"colorscale\": [[0.0, \"#0d0887\"], [0.1111111111111111, \"#46039f\"], [0.2222222222222222, \"#7201a8\"], [0.3333333333333333, \"#9c179e\"], [0.4444444444444444, \"#bd3786\"], [0.5555555555555556, \"#d8576b\"], [0.6666666666666666, \"#ed7953\"], [0.7777777777777778, \"#fb9f3a\"], [0.8888888888888888, \"#fdca26\"], [1.0, \"#f0f921\"]], \"type\": \"histogram2dcontour\"}], \"mesh3d\": [{\"colorbar\": {\"outlinewidth\": 0, \"ticks\": \"\"}, \"type\": \"mesh3d\"}], \"parcoords\": [{\"line\": {\"colorbar\": {\"outlinewidth\": 0, \"ticks\": \"\"}}, \"type\": \"parcoords\"}], \"pie\": [{\"automargin\": true, \"type\": \"pie\"}], \"scatter\": [{\"marker\": {\"colorbar\": {\"outlinewidth\": 0, \"ticks\": \"\"}}, \"type\": \"scatter\"}], \"scatter3d\": [{\"line\": {\"colorbar\": {\"outlinewidth\": 0, \"ticks\": \"\"}}, \"marker\": {\"colorbar\": {\"outlinewidth\": 0, \"ticks\": \"\"}}, \"type\": \"scatter3d\"}], \"scattercarpet\": [{\"marker\": {\"colorbar\": {\"outlinewidth\": 0, \"ticks\": \"\"}}, \"type\": \"scattercarpet\"}], \"scattergeo\": [{\"marker\": {\"colorbar\": {\"outlinewidth\": 0, \"ticks\": \"\"}}, \"type\": \"scattergeo\"}], \"scattergl\": [{\"marker\": {\"colorbar\": {\"outlinewidth\": 0, \"ticks\": \"\"}}, \"type\": \"scattergl\"}], \"scattermapbox\": [{\"marker\": {\"colorbar\": {\"outlinewidth\": 0, \"ticks\": \"\"}}, \"type\": \"scattermapbox\"}], \"scatterpolar\": [{\"marker\": {\"colorbar\": {\"outlinewidth\": 0, \"ticks\": \"\"}}, \"type\": \"scatterpolar\"}], \"scatterpolargl\": [{\"marker\": {\"colorbar\": {\"outlinewidth\": 0, \"ticks\": \"\"}}, \"type\": \"scatterpolargl\"}], \"scatterternary\": [{\"marker\": {\"colorbar\": {\"outlinewidth\": 0, \"ticks\": \"\"}}, \"type\": \"scatterternary\"}], \"surface\": [{\"colorbar\": {\"outlinewidth\": 0, \"ticks\": \"\"}, \"colorscale\": [[0.0, \"#0d0887\"], [0.1111111111111111, \"#46039f\"], [0.2222222222222222, \"#7201a8\"], [0.3333333333333333, \"#9c179e\"], [0.4444444444444444, \"#bd3786\"], [0.5555555555555556, \"#d8576b\"], [0.6666666666666666, \"#ed7953\"], [0.7777777777777778, \"#fb9f3a\"], [0.8888888888888888, \"#fdca26\"], [1.0, \"#f0f921\"]], \"type\": \"surface\"}], \"table\": [{\"cells\": {\"fill\": {\"color\": \"#EBF0F8\"}, \"line\": {\"color\": \"white\"}}, \"header\": {\"fill\": {\"color\": \"#C8D4E3\"}, \"line\": {\"color\": \"white\"}}, \"type\": \"table\"}]}, \"layout\": {\"annotationdefaults\": {\"arrowcolor\": \"#2a3f5f\", \"arrowhead\": 0, \"arrowwidth\": 1}, \"coloraxis\": {\"colorbar\": {\"outlinewidth\": 0, \"ticks\": \"\"}}, \"colorscale\": {\"diverging\": [[0, \"#8e0152\"], [0.1, \"#c51b7d\"], [0.2, \"#de77ae\"], [0.3, \"#f1b6da\"], [0.4, \"#fde0ef\"], [0.5, \"#f7f7f7\"], [0.6, \"#e6f5d0\"], [0.7, \"#b8e186\"], [0.8, \"#7fbc41\"], [0.9, \"#4d9221\"], [1, \"#276419\"]], \"sequential\": [[0.0, \"#0d0887\"], [0.1111111111111111, \"#46039f\"], [0.2222222222222222, \"#7201a8\"], [0.3333333333333333, \"#9c179e\"], [0.4444444444444444, \"#bd3786\"], [0.5555555555555556, \"#d8576b\"], [0.6666666666666666, \"#ed7953\"], [0.7777777777777778, \"#fb9f3a\"], [0.8888888888888888, \"#fdca26\"], [1.0, \"#f0f921\"]], \"sequentialminus\": [[0.0, \"#0d0887\"], [0.1111111111111111, \"#46039f\"], [0.2222222222222222, \"#7201a8\"], [0.3333333333333333, \"#9c179e\"], [0.4444444444444444, \"#bd3786\"], [0.5555555555555556, \"#d8576b\"], [0.6666666666666666, \"#ed7953\"], [0.7777777777777778, \"#fb9f3a\"], [0.8888888888888888, \"#fdca26\"], [1.0, \"#f0f921\"]]}, \"colorway\": [\"#636efa\", \"#EF553B\", \"#00cc96\", \"#ab63fa\", \"#FFA15A\", \"#19d3f3\", \"#FF6692\", \"#B6E880\", \"#FF97FF\", \"#FECB52\"], \"font\": {\"color\": \"#2a3f5f\"}, \"geo\": {\"bgcolor\": \"white\", \"lakecolor\": \"white\", \"landcolor\": \"#E5ECF6\", \"showlakes\": true, \"showland\": true, \"subunitcolor\": \"white\"}, \"hoverlabel\": {\"align\": \"left\"}, \"hovermode\": \"closest\", \"mapbox\": {\"style\": \"light\"}, \"paper_bgcolor\": \"white\", \"plot_bgcolor\": \"#E5ECF6\", \"polar\": {\"angularaxis\": {\"gridcolor\": \"white\", \"linecolor\": \"white\", \"ticks\": \"\"}, \"bgcolor\": \"#E5ECF6\", \"radialaxis\": {\"gridcolor\": \"white\", \"linecolor\": \"white\", \"ticks\": \"\"}}, \"scene\": {\"xaxis\": {\"backgroundcolor\": \"#E5ECF6\", \"gridcolor\": \"white\", \"gridwidth\": 2, \"linecolor\": \"white\", \"showbackground\": true, \"ticks\": \"\", \"zerolinecolor\": \"white\"}, \"yaxis\": {\"backgroundcolor\": \"#E5ECF6\", \"gridcolor\": \"white\", \"gridwidth\": 2, \"linecolor\": \"white\", \"showbackground\": true, \"ticks\": \"\", \"zerolinecolor\": \"white\"}, \"zaxis\": {\"backgroundcolor\": \"#E5ECF6\", \"gridcolor\": \"white\", \"gridwidth\": 2, \"linecolor\": \"white\", \"showbackground\": true, \"ticks\": \"\", \"zerolinecolor\": \"white\"}}, \"shapedefaults\": {\"line\": {\"color\": \"#2a3f5f\"}}, \"ternary\": {\"aaxis\": {\"gridcolor\": \"white\", \"linecolor\": \"white\", \"ticks\": \"\"}, \"baxis\": {\"gridcolor\": \"white\", \"linecolor\": \"white\", \"ticks\": \"\"}, \"bgcolor\": \"#E5ECF6\", \"caxis\": {\"gridcolor\": \"white\", \"linecolor\": \"white\", \"ticks\": \"\"}}, \"title\": {\"x\": 0.05}, \"xaxis\": {\"automargin\": true, \"gridcolor\": \"white\", \"linecolor\": \"white\", \"ticks\": \"\", \"title\": {\"standoff\": 15}, \"zerolinecolor\": \"white\", \"zerolinewidth\": 2}, \"yaxis\": {\"automargin\": true, \"gridcolor\": \"white\", \"linecolor\": \"white\", \"ticks\": \"\", \"title\": {\"standoff\": 15}, \"zerolinecolor\": \"white\", \"zerolinewidth\": 2}}}, \"title\": {\"font\": {\"color\": \"#4D5663\"}, \"text\": \"Sentiment Polarity Distribution\"}, \"xaxis\": {\"gridcolor\": \"#E1E5ED\", \"linecolor\": \"black\", \"showgrid\": true, \"tickfont\": {\"color\": \"#4D5663\"}, \"title\": {\"font\": {\"color\": \"#4D5663\"}, \"text\": \"polarity\"}, \"zerolinecolor\": \"#E1E5ED\"}, \"yaxis\": {\"gridcolor\": \"#E1E5ED\", \"linecolor\": \"black\", \"showgrid\": true, \"tickfont\": {\"color\": \"#4D5663\"}, \"title\": {\"font\": {\"color\": \"#4D5663\"}, \"text\": \"count\"}, \"zerolinecolor\": \"#E1E5ED\"}},\n",
              "                        {\"showLink\": true, \"linkText\": \"Export to plot.ly\", \"plotlyServerURL\": \"https://plot.ly\", \"responsive\": true}\n",
              "                    ).then(function(){\n",
              "                            \n",
              "var gd = document.getElementById('dea28e0a-2503-444c-a493-234f096907ff');\n",
              "var x = new MutationObserver(function (mutations, observer) {{\n",
              "        var display = window.getComputedStyle(gd).display;\n",
              "        if (!display || display === 'none') {{\n",
              "            console.log([gd, 'removed!']);\n",
              "            Plotly.purge(gd);\n",
              "            observer.disconnect();\n",
              "        }}\n",
              "}});\n",
              "\n",
              "// Listen for the removal of the full notebook cells\n",
              "var notebookContainer = gd.closest('#notebook-container');\n",
              "if (notebookContainer) {{\n",
              "    x.observe(notebookContainer, {childList: true});\n",
              "}}\n",
              "\n",
              "// Listen for the clearing of the current output cell\n",
              "var outputEl = gd.closest('.output');\n",
              "if (outputEl) {{\n",
              "    x.observe(outputEl, {childList: true});\n",
              "}}\n",
              "\n",
              "                        })\n",
              "                };\n",
              "                });\n",
              "            </script>\n",
              "        </div>"
            ],
            "application/vnd.plotly.v1+json": {
              "data": [
                {
                  "opacity": 0.8,
                  "name": "compound",
                  "histnorm": "",
                  "nbinsx": 30,
                  "histfunc": "count",
                  "marker": {
                    "color": "rgba(255, 153, 51, 1.0)",
                    "line": {
                      "color": "#000000",
                      "width": 1.3
                    }
                  },
                  "x": [
                    0,
                    0.836,
                    -0.4767,
                    0.891,
                    0.9422,
                    0.1447,
                    0.3995,
                    0.1027,
                    -0.7506,
                    0.6124,
                    0.8074,
                    0.6369,
                    0.4767,
                    -0.7184,
                    0,
                    0.6124,
                    0.4526,
                    0.3182,
                    0.3182,
                    -0.34,
                    -0.34,
                    0.2732,
                    0.4767,
                    0,
                    -0.1027,
                    0,
                    0,
                    0.25,
                    -0.34,
                    0.6908,
                    0.6369,
                    0,
                    0.6705,
                    0.891,
                    0.6369,
                    0,
                    0.4215,
                    0.4588,
                    0.8625,
                    0.4767,
                    -0.7717,
                    0.5106,
                    0.2748,
                    0.2732,
                    0.4588,
                    0.8442,
                    0.7717,
                    0.3612,
                    0.3818,
                    0.4588,
                    0.4588,
                    0.7783,
                    0.7906,
                    0,
                    0.4019,
                    0.8357,
                    0.7717,
                    0.8074,
                    -0.5423,
                    -0.4588,
                    0,
                    -0.7096,
                    -0.7153,
                    0.6124,
                    0.3818,
                    0.1027,
                    -0.4939,
                    0.1027,
                    0.5574,
                    -0.0772,
                    0.3818,
                    0.743,
                    0.6486,
                    -0.1027,
                    0.3182,
                    0.765,
                    0.765,
                    0.6808,
                    0.5859,
                    -0.4939,
                    0.4767,
                    0.25,
                    0.128,
                    0.765,
                    -0.4703,
                    0.886,
                    0.3612,
                    0.7184,
                    0,
                    0,
                    0.8225,
                    0.6369,
                    0.765,
                    0.765,
                    0.6908,
                    0.7906,
                    0.128,
                    0.7906,
                    0,
                    -0.0258,
                    -0.9571,
                    0.0516,
                    -0.9201,
                    0.6597,
                    -0.3182,
                    -0.0258,
                    -0.7845,
                    0,
                    0,
                    0.0772,
                    -0.0516,
                    0.3182,
                    0.2781,
                    0,
                    -0.2263,
                    0,
                    -0.2635,
                    -0.8176,
                    0,
                    -0.7579,
                    -0.8271,
                    -0.128,
                    0.3818,
                    0.2263,
                    -0.534,
                    0,
                    0.1779,
                    0.34,
                    0.4019,
                    -0.6124,
                    -0.5574,
                    0.1027,
                    0.2732,
                    0.5719,
                    -0.7096,
                    0,
                    0.7845,
                    0.1531,
                    0.4767,
                    -0.4767,
                    0.4404,
                    0.8779,
                    0.4404,
                    -0.743,
                    0.1027,
                    -0.4767,
                    0.128,
                    0.1027,
                    -0.1027,
                    0,
                    -0.8807,
                    0.9062,
                    0.8519,
                    -0.4939,
                    0,
                    0.0258,
                    -0.9432,
                    -0.5267,
                    -0.5574,
                    0.8519,
                    -0.802,
                    -0.0258,
                    0,
                    -0.6249,
                    -0.2023,
                    -0.128,
                    0.6124,
                    -0.6705,
                    -0.7506,
                    -0.6486,
                    0,
                    0.34,
                    -0.5423,
                    0.0516,
                    0.2556,
                    -0.7003,
                    -0.9477,
                    0.4215,
                    -0.5267,
                    -0.3612,
                    0.296,
                    -0.1027,
                    0,
                    -0.5574,
                    0.4019,
                    0.7717,
                    0,
                    -0.2732,
                    0,
                    -0.7351,
                    0,
                    0.4588,
                    0.4019,
                    0,
                    0.2732,
                    -0.4404,
                    0.6369,
                    0.5106,
                    -0.8625,
                    -0.7906,
                    -0.0516,
                    -0.936,
                    -0.7351,
                    -0.5423,
                    -0.7003,
                    -0.93,
                    -0.9136,
                    0.0772,
                    0.6369,
                    0.4019,
                    0.4939,
                    -0.7783,
                    0.4939,
                    0.25,
                    -0.4215,
                    0.2263,
                    -0.4404,
                    -0.6705,
                    0.6486,
                    -0.6597,
                    -0.8074,
                    0.9169,
                    -0.8176,
                    0.5423,
                    0,
                    -0.9468,
                    0.4215,
                    -0.743,
                    0.8834,
                    -0.4939,
                    -0.5719,
                    0.6124,
                    0,
                    0.3612,
                    -0.8555,
                    0.0772,
                    -0.2263,
                    -0.9118,
                    0.4215,
                    0.7003,
                    -0.4939,
                    -0.6486,
                    0,
                    0.6908,
                    0.7964,
                    -0.1027,
                    0.128,
                    0.3182,
                    -0.25,
                    -0.4939,
                    -0.9349,
                    0.577,
                    -0.5574,
                    0.8402,
                    -0.7003,
                    -0.9001,
                    0.7003,
                    -0.1531,
                    0.6908,
                    -0.7269,
                    -0.5574,
                    -0.7096,
                    -0.9022,
                    0.8481,
                    0.7269,
                    -0.9451,
                    0.5994,
                    -0.9231,
                    -0.9686,
                    0.5106,
                    0.7184,
                    0.4404,
                    0.1531,
                    -0.743,
                    -0.5859,
                    -0.4927,
                    0.3182,
                    -0.9062,
                    0,
                    0.128,
                    -0.8126,
                    -0.2732,
                    -0.4404,
                    0,
                    -0.9756,
                    0.4215,
                    0,
                    -0.8779,
                    -0.9442,
                    -0.5423,
                    -0.1779,
                    0.4404,
                    -0.6486,
                    0,
                    0.4215,
                    0,
                    0,
                    -0.4588,
                    -0.3818,
                    -0.128,
                    0.6808,
                    0.2732,
                    0.4019,
                    -0.7506,
                    -0.8957,
                    -0.8402,
                    0.34,
                    0.891,
                    -0.6369,
                    -0.9313,
                    0.4767,
                    -0.9382,
                    -0.4215,
                    0.1531,
                    -0.765,
                    0.7269,
                    -0.6808,
                    0.3818,
                    -0.5574,
                    -0.9118,
                    -0.0772,
                    -0.8176,
                    -0.8779,
                    -0.4939,
                    0,
                    -0.2263,
                    -0.9042,
                    -0.4939,
                    0.25,
                    -0.5994,
                    0.8658,
                    -0.4215,
                    -0.1531,
                    0.0976,
                    -0.8402,
                    -0.0772,
                    -0.1027,
                    0.7964,
                    -0.3818,
                    -0.6124,
                    -0.8885,
                    -0.9325,
                    -0.8176,
                    -0.8519,
                    -0.7906,
                    -0.9246,
                    -0.8591,
                    -0.6808,
                    0.6705,
                    -0.2263,
                    -0.9118,
                    -0.7906,
                    0.8074,
                    -0.3818,
                    -0.3818,
                    0.8074,
                    0.4404,
                    0,
                    -0.9325,
                    -0.8834,
                    0,
                    0.0258,
                    0.4019,
                    0.1027,
                    0.5719,
                    0.4588,
                    0.2732,
                    0,
                    0.3612,
                    0.6597,
                    0.3818,
                    0.2023,
                    0.3818,
                    0.2263,
                    0.7096,
                    0.9313,
                    -0.6476,
                    -0.3612,
                    0.8658,
                    0.4019,
                    0.5267,
                    -0.1027,
                    0.34,
                    0.8271,
                    0,
                    0,
                    0,
                    -0.2023,
                    0.4019,
                    0.7096,
                    0.6369,
                    0.7717,
                    -0.3818,
                    0.4215,
                    0.872,
                    -0.4215,
                    -0.6597,
                    0.5859,
                    0.0258,
                    0.6705,
                    0.2732,
                    0.3612,
                    -0.1027,
                    0,
                    0.5267,
                    -0.7351,
                    0.0772,
                    -0.4997,
                    0.7964,
                    0.6597,
                    0.25,
                    0.8481,
                    0.0772,
                    0.8689,
                    0.8625,
                    0,
                    0.2023,
                    0,
                    0,
                    0,
                    0.8779,
                    0.4939,
                    0.4767,
                    0.8555,
                    0,
                    0,
                    0,
                    0.3182,
                    0.2263,
                    0.7845,
                    -0.9337,
                    0.4588,
                    0,
                    0.5106,
                    0.8176,
                    0.3182,
                    0,
                    0,
                    0.0772,
                    0.4767,
                    -0.6249,
                    -0.34,
                    -0.9001,
                    0.836,
                    0.4019,
                    0.765,
                    0.2732,
                    0.1114,
                    -0.1491,
                    0.7096,
                    -0.1779,
                    0.3818,
                    0.1063,
                    0.5423,
                    0.6124,
                    0.4588,
                    -0.3182,
                    0.8689,
                    -0.802,
                    0.7783,
                    0.9552,
                    0,
                    -0.6249,
                    0.6486,
                    0,
                    0.9118,
                    0.4588,
                    -0.2732,
                    -0.3182,
                    0.5106,
                    -0.0258,
                    0.1531,
                    0.6369,
                    0.6249,
                    -0.3818,
                    0.4019,
                    0,
                    -0.7717,
                    0.2732,
                    0.4019,
                    0.4019,
                    -0.1779,
                    0,
                    0.128,
                    0.8555,
                    0.3818,
                    0.2732,
                    0,
                    0.5106,
                    -0.296,
                    0,
                    0.2732,
                    0,
                    0.9022,
                    0.5267,
                    -0.1531,
                    -0.25,
                    0,
                    -0.5267,
                    0.4019,
                    0.9118,
                    -0.8122,
                    0.6597,
                    -0.5267,
                    0.5267,
                    0.4019,
                    0.7449,
                    0.8779,
                    -0.1027,
                    0,
                    -0.5106,
                    0,
                    0,
                    -0.4215,
                    0,
                    0.7579,
                    0.7964,
                    0,
                    0.765,
                    0.8126,
                    0.296,
                    0.7184,
                    0.1779,
                    0.1779,
                    0,
                    -0.2732,
                    0.5423,
                    0.8591,
                    -0.2177,
                    -0.4215,
                    0,
                    0.0772,
                    -0.0772,
                    -0.1779,
                    0.296,
                    -0.8176,
                    0.8176,
                    0.2263,
                    -0.5106,
                    -0.6096,
                    -0.1027,
                    -0.1027,
                    0.8979,
                    0.8979,
                    0.6249,
                    0.4019,
                    -0.4588,
                    -0.743,
                    0.6908,
                    -0.836,
                    0,
                    -0.1027,
                    0.296,
                    0.4939,
                    -0.4215,
                    0.743,
                    0.8074,
                    0.3818,
                    -0.7351,
                    -0.4939,
                    -0.128,
                    -0.5574,
                    -0.4404,
                    0.9313,
                    0.5719,
                    -0.8176,
                    0.5106,
                    0.3804,
                    0.6124,
                    0.9105,
                    0.5106,
                    -0.296,
                    0.128,
                    -0.1779,
                    0.8176,
                    0.4404,
                    -0.3612,
                    -0.8126,
                    0.8481,
                    0.4215,
                    -0.765,
                    0.7964,
                    0.8834,
                    -0.5574,
                    0.6249,
                    0.8934,
                    0.7269,
                    0.5267,
                    -0.5859,
                    -0.9432,
                    0.3818,
                    -0.5574,
                    0.7906,
                    0.9442,
                    0.6133,
                    0.7579,
                    0.128,
                    0.5574,
                    0.7351,
                    0.4019,
                    0.3818,
                    0.25,
                    0.5106,
                    0.4215,
                    0.4404,
                    -0.9136,
                    0.8779,
                    0.5423,
                    0,
                    0.9274,
                    0.3818,
                    0.8979,
                    0.9442,
                    0.4767,
                    0.5423,
                    0.5106,
                    0,
                    0.5574,
                    0.5994,
                    0,
                    0.2263,
                    0.4588,
                    0.8442,
                    -0.743,
                    -0.9821,
                    0.4939,
                    0.7717,
                    0.7184,
                    -0.0258,
                    -0.7003,
                    -0.2023,
                    -0.7351,
                    0.6908,
                    0.6597,
                    0.4588,
                    0.7906,
                    -0.4019,
                    0.4019,
                    -0.7783,
                    -0.946,
                    0.765,
                    0.7003,
                    0.3818,
                    -0.8934,
                    0,
                    -0.3244,
                    0.3818,
                    0.4939,
                    -0.7579,
                    -0.3612,
                    -0.8934,
                    0.8885,
                    0,
                    0.5106,
                    0.4404,
                    0.5859,
                    0.4404,
                    0.8481,
                    0.7964,
                    0.7506,
                    0,
                    -0.5719,
                    -0.3182,
                    0.5994,
                    -0.34,
                    -0.6478,
                    0.91,
                    0.1779,
                    0,
                    0.5267,
                    0.802,
                    -0.2732,
                    -0.4939,
                    -0.6369,
                    0.91,
                    0.8481,
                    0.8588,
                    0,
                    0.5106,
                    0.0258,
                    0.4215,
                    -0.34,
                    0.2732,
                    0.0772,
                    -0.8393,
                    -0.743,
                    0.0772,
                    0.2023,
                    0.891,
                    0,
                    0.296,
                    0.8658,
                    0.1779,
                    0,
                    0.2023,
                    0.7964,
                    0.5719,
                    0.7269,
                    0.7717,
                    -0.2315,
                    0.3818,
                    -0.6908,
                    0.0772,
                    0.7964,
                    0.6369,
                    0.872,
                    0.2023,
                    0,
                    0.5423,
                    -0.9657,
                    -0.5574,
                    0.2023,
                    0.9001,
                    -0.0772,
                    0.4939,
                    0.8271,
                    0,
                    0.8519,
                    0.2263,
                    0.8126,
                    -0.1027,
                    0.3182,
                    0.4215,
                    0.802,
                    0.8934,
                    0.8555,
                    -0.1027,
                    0.743,
                    -0.25,
                    0.6003,
                    0.5859,
                    0.8481,
                    0.9371,
                    0,
                    0,
                    0.6249,
                    0.6369,
                    0.8625,
                    -0.7264,
                    -0.7096,
                    -0.1531,
                    -0.6369,
                    -0.8658,
                    -0.9153,
                    -0.946,
                    0.128,
                    -0.9001,
                    -0.7783,
                    -0.6808,
                    -0.7003,
                    0.4215,
                    -0.4588,
                    -0.4588,
                    -0.2263,
                    0.6935,
                    -0.9287,
                    0,
                    0.128,
                    0.1779,
                    -0.296,
                    -0.9531,
                    -0.8834,
                    -0.34,
                    0.0258,
                    -0.9118,
                    0,
                    -0.8402,
                    -0.4767,
                    -0.8689,
                    0.9022,
                    0.3818,
                    -0.9042,
                    0.5267,
                    -0.8519,
                    0,
                    -0.743,
                    0.4588,
                    0,
                    0.6486,
                    -0.765,
                    -0.4215,
                    0.2732,
                    0.5719,
                    -0.7906,
                    -0.8225,
                    -0.6908,
                    -0.8271,
                    -0.9042,
                    0.8519,
                    -0.9153,
                    0.7306,
                    -0.8442,
                    -0.975,
                    -0.4939,
                    -0.7845,
                    -0.4019,
                    -0.6705,
                    0.4939,
                    0.8957,
                    0.2732,
                    0.7579,
                    -0.5994,
                    -0.0772,
                    0.5574,
                    -0.8074,
                    -0.5574,
                    -0.8885,
                    0.4019,
                    0.1027,
                    0,
                    -0.5994,
                    -0.3182,
                    -0.5574,
                    0.7876,
                    -0.802,
                    0.6369,
                    0.4404,
                    0,
                    0.7579,
                    0.3818,
                    0.6705,
                    0.887,
                    -0.1531,
                    -0.2732,
                    0.4019,
                    -0.9042,
                    0.4939,
                    0.836,
                    -0.7269,
                    0.8689,
                    0.9831,
                    0.8225,
                    0.2023,
                    -0.1027,
                    0.5574,
                    0.3612,
                    0.7184,
                    0.765,
                    0.8519,
                    -0.9062,
                    -0.1027,
                    0.1027,
                    -0.5423,
                    0.4215,
                    0.7003,
                    0.0516,
                    0.9571,
                    0.7351,
                    0.0516,
                    0.2263,
                    0.765,
                    0.7184,
                    0.1027,
                    0.5574,
                    0.6908,
                    0.1027,
                    0.872,
                    0.7964,
                    0.8689,
                    -0.1531,
                    0.6369,
                    0.8316,
                    0.9806,
                    -0.7184,
                    -0.9186,
                    0.5423,
                    0.7964,
                    0.34,
                    0.2732,
                    -0.9136,
                    0.6597,
                    0.7906,
                    0,
                    0.4019,
                    0.7193,
                    0.8271,
                    -0.8481,
                    0.8537,
                    -0.2732,
                    0.4939,
                    0,
                    -0.1531,
                    0.6369,
                    0.2023,
                    -0.6908,
                    -0.765,
                    0.6486,
                    0.6597,
                    0,
                    0.8807,
                    0.5267,
                    0.0516,
                    -0.2023,
                    -0.9081,
                    0.6908,
                    0,
                    0.0516,
                    -0.4215,
                    0.1027,
                    -0.2732,
                    0.1027,
                    0.9217,
                    0.25,
                    -0.6124,
                    -0.34,
                    -0.3818,
                    -0.5106,
                    -0.8225,
                    0.8834,
                    -0.6705,
                    -0.6808,
                    0,
                    0.7506,
                    -0.34,
                    -0.3612,
                    -0.3182,
                    0,
                    0.9552,
                    0.9538,
                    0.5859,
                    0.7269,
                    -0.8813,
                    -0.936,
                    -0.2023,
                    -0.34,
                    -0.5574,
                    0.2263,
                    0.7717,
                    0.4019,
                    0.9661,
                    -0.5423,
                    0.5994,
                    0.5267,
                    -0.5106,
                    0,
                    0.5994,
                    0.1027,
                    0.765,
                    -0.6369,
                    0.2023,
                    0.3182,
                    0.4215,
                    0.802,
                    0.8625,
                    0.3612,
                    0.7003,
                    -0.296,
                    0.6369,
                    0.8074,
                    -0.128,
                    0.3612,
                    0.9287,
                    0.7003,
                    0.5859,
                    -0.4404,
                    0.1779,
                    0.8481,
                    0.0772,
                    0,
                    0,
                    -0.5267,
                    0.8074,
                    -0.1531,
                    -0.6124,
                    0.8225,
                    0.128,
                    0.6124,
                    -0.3182,
                    0.1027,
                    -0.4019,
                    -0.0258,
                    -0.5106,
                    0.296,
                    0.765,
                    0,
                    0.2023,
                    0.2023,
                    0,
                    0.8807,
                    0.8225,
                    -0.128,
                    -0.7096,
                    -0.3182,
                    0.8126,
                    0.4767,
                    0.2023,
                    0.3612,
                    0.8807,
                    0,
                    -0.6124,
                    0.3818,
                    -0.2263,
                    -0.5267,
                    0.765,
                    0.6808,
                    0.128,
                    0.3182,
                    -0.4939,
                    0.5106,
                    0,
                    0.3612,
                    0.3182,
                    0.7003,
                    -0.6486,
                    -0.3818,
                    0,
                    0.836,
                    0,
                    0.765,
                    0.0772,
                    0.3818,
                    0,
                    -0.7717,
                    -0.9623,
                    -0.7845,
                    -0.7906,
                    -0.8625,
                    -0.7579,
                    -0.936,
                    -0.2732,
                    0,
                    0.7845,
                    0.7184,
                    0.5574,
                    0.9001,
                    -0.5859,
                    0.8481,
                    -0.0516,
                    0,
                    0.4019,
                    0.128,
                    -0.5423,
                    -0.6705,
                    0.7351,
                    0.6124,
                    0,
                    -0.8074,
                    -0.8685,
                    0.5574,
                    0.0772,
                    0,
                    0.5267,
                    -0.0258,
                    0.7964,
                    -0.8689,
                    -0.7003,
                    0.7506,
                    -0.4588,
                    0.6597,
                    0.8271,
                    0.6908,
                    -0.7964,
                    0.6705,
                    0.5423,
                    0.4019,
                    -0.1531,
                    0.2023,
                    -0.7184,
                    -0.8555,
                    -0.8689,
                    0.8402,
                    0.6124,
                    0.1531,
                    -0.3818,
                    -0.3818,
                    0,
                    0.7964,
                    0,
                    0.3182,
                    -0.9062,
                    -0.5106,
                    -0.5267,
                    -0.2732,
                    0.9423,
                    -0.7717,
                    -0.296,
                    -0.34,
                    0.4588,
                    0.4019,
                    0.4939,
                    -0.7717,
                    0.8271,
                    0.6597,
                    -0.5423,
                    0.9423,
                    -0.34,
                    -0.5719,
                    0,
                    0.8225,
                    0.9423,
                    -0.1531,
                    -0.2023,
                    0.8689,
                    0.5267,
                    -0.4215,
                    0.0258,
                    0.4939,
                    -0.7003,
                    0.8625,
                    0.6486,
                    0.4939,
                    -0.4404,
                    -0.7096,
                    0.4215,
                    0.5267,
                    -0.6705,
                    0,
                    -0.1027,
                    0.4939,
                    -0.7964,
                    0,
                    0.4215,
                    -0.4767,
                    -0.9501,
                    0.4215,
                    -0.9136,
                    -0.128,
                    -0.7845,
                    -0.802,
                    0.9136,
                    -0.5267,
                    0.6597,
                    0.8979,
                    -0.4939,
                    -0.7096,
                    -0.0258,
                    -0.7096,
                    -0.836,
                    -0.5574,
                    0.4404,
                    0.8442,
                    0.0258,
                    -0.5574,
                    -0.8658,
                    0.1027,
                    0,
                    -0.7184,
                    0,
                    0.5859,
                    0.5994,
                    0,
                    -0.891,
                    0,
                    0.875,
                    -0.7992,
                    -0.7003,
                    0,
                    -0.5574,
                    -0.6486,
                    -0.1513,
                    0.3182,
                    0.7346,
                    -0.4019,
                    -0.3612,
                    -0.7096,
                    -0.9595,
                    -0.5859,
                    0.25,
                    0.3818,
                    0.4939,
                    0.5719,
                    -0.743,
                    -0.296,
                    0.6908,
                    -0.5574,
                    0.3818,
                    -0.8658,
                    -0.7506,
                    0.6808,
                    0.0258,
                    -0.0258,
                    0.7184,
                    0,
                    -0.9393,
                    0.4215,
                    -0.886,
                    -0.7003,
                    -0.8779,
                    -0.8074,
                    0.3182,
                    0.0772,
                    0.5719,
                    0.34,
                    -0.5994,
                    -0.1531,
                    0.4939,
                    0.7184,
                    -0.5267,
                    0.5267,
                    0,
                    -0.9468,
                    0.6369,
                    -0.9153,
                    0.6705,
                    0,
                    0.7663,
                    -0.296,
                    0.6369,
                    0.8442,
                    -0.9509,
                    0.3612,
                    -0.25,
                    0.6597,
                    0.6369,
                    -0.886,
                    -0.8481,
                    0.4019,
                    -0.8481,
                    0.7783,
                    -0.34,
                    -0.6486,
                    0.9153,
                    0.5106,
                    -0.9612,
                    -0.5574,
                    -0.8763,
                    -0.6486,
                    -0.9652,
                    -0.7964,
                    -0.743,
                    -0.9217,
                    -0.9118,
                    -0.6705,
                    -0.4939,
                    0.5994,
                    0,
                    -0.7579,
                    0.4215,
                    -0.4588,
                    -0.4173,
                    0,
                    -0.9705,
                    -0.3182,
                    0.8957,
                    0.5106,
                    -0.7783,
                    0.4404,
                    0.8316,
                    -0.0258,
                    0.1531,
                    0.1531,
                    -0.7845,
                    -0.6715,
                    0.423,
                    0.296,
                    0.886,
                    -0.5994,
                    -0.3818,
                    0.4404,
                    -0.3818,
                    0.0772,
                    0.3182,
                    0.5106,
                    -0.3182,
                    -0.34,
                    -0.4404,
                    -0.5106,
                    0.7269,
                    0,
                    -0.5267,
                    0,
                    -0.4588,
                    0.6249,
                    -0.5994,
                    -0.2732,
                    -0.6597,
                    0.4815,
                    -0.5859,
                    -0.5574,
                    0.1027,
                    0.1531,
                    0.2732,
                    0,
                    -0.7184,
                    0.891,
                    -0.1027,
                    0.3818,
                    0.7003,
                    0,
                    0.8225,
                    0.6249,
                    0,
                    -0.6705,
                    0.4632,
                    -0.4188,
                    -0.4767,
                    0.4588,
                    -0.4939,
                    0.4939,
                    -0.8126,
                    -0.7906,
                    0.34,
                    0.5256,
                    0,
                    -0.4939,
                    0.128,
                    0.0516,
                    0.1779,
                    0.128,
                    0,
                    0,
                    0.128,
                    -0.5994,
                    0.34,
                    0.872,
                    -0.0516,
                    0,
                    -0.5859,
                    0.3612,
                    0,
                    -0.5994,
                    -0.7096,
                    0,
                    -0.296,
                    -0.2732,
                    -0.296,
                    0.8591,
                    -0.2732,
                    0.7906,
                    0,
                    -0.4939,
                    0,
                    0.5267,
                    0.5859,
                    -0.5994,
                    -0.5574,
                    0,
                    0.4588,
                    0.6486,
                    -0.5106,
                    0.8779,
                    0,
                    0.7579,
                    -0.7906,
                    0,
                    0.1027,
                    0,
                    0.4019,
                    0.3818,
                    0.7717,
                    0.8591,
                    0.5267,
                    0.6808,
                    0.7351,
                    0.3612,
                    0.5719,
                    0,
                    -0.6908,
                    -0.6486,
                    0.5267,
                    0.7096,
                    0.6249,
                    -0.34,
                    0,
                    0.5994,
                    -0.872,
                    -0.8885,
                    0.93,
                    0,
                    0.8074,
                    -0.93,
                    -0.802,
                    -0.5859,
                    0,
                    0,
                    -0.9118,
                    0.0772,
                    -0.9432,
                    -0.0258,
                    -0.802,
                    -0.7351,
                    -0.743,
                    0,
                    0.4215,
                    0.7506,
                    -0.34,
                    -0.6908,
                    0,
                    0.5423,
                    -0.802,
                    -0.8126,
                    0.3182,
                    0.7579,
                    -0.836,
                    0,
                    -0.2023,
                    0.4215,
                    0.7845,
                    -0.3182,
                    0.0516,
                    0.3182,
                    -0.4215,
                    0.5106,
                    0.4588,
                    0.2484,
                    -0.9287,
                    0.4215,
                    0.2732,
                    0.7351,
                    0.3612,
                    -0.6597,
                    0.7184,
                    -0.25,
                    -0.3182,
                    0.872,
                    0.5423,
                    0.802,
                    -0.8932,
                    0.9169,
                    -0.5106,
                    0,
                    -0.5106,
                    -0.7717,
                    0.7096,
                    -0.7845,
                    0.2732,
                    0.8834,
                    0.5106,
                    -0.1779,
                    -0.7351,
                    0.886,
                    0.8957,
                    0,
                    0.9153,
                    0.9468,
                    -0.6486,
                    0.4939,
                    -0.93,
                    -0.4588,
                    0.4215,
                    -0.5994,
                    0.4767,
                    0.8957,
                    0,
                    0,
                    0.2023,
                    0.3612,
                    -0.9042,
                    0.9136,
                    -0.7351,
                    0.8957,
                    0.8885,
                    0.5994,
                    0.4019,
                    -0.765,
                    0.2211,
                    -0.872,
                    0.2211,
                    0.8834,
                    -0.8834,
                    -0.3818,
                    0.4588,
                    0.8225,
                    0.4588,
                    -0.4588,
                    0.8957,
                    -0.9423,
                    -0.1531,
                    0.9186,
                    0.2023,
                    0,
                    0,
                    0,
                    0.9186,
                    0,
                    -0.1531,
                    0.8957,
                    0.5106,
                    0.5423,
                    0.8481,
                    0.8442,
                    0.802,
                    -0.4588,
                    -0.6369,
                    -0.3182,
                    -0.0772,
                    -0.4215,
                    0.7184,
                    -0.1531,
                    0.2263,
                    0.4215,
                    -0.891,
                    -0.9337,
                    0.7003,
                    -0.8442,
                    -0.8625,
                    0.7184,
                    0.0772,
                    0.9118,
                    -0.9628,
                    -0.8221,
                    0.5106,
                    0.6705,
                    0.6369,
                    -0.7906,
                    -0.8807,
                    -0.0772,
                    -0.6249,
                    -0.91,
                    -0.3818,
                    -0.9623,
                    0.4404,
                    0.7269,
                    -0.9501,
                    -0.9413,
                    0.5719,
                    -0.25,
                    -0.4767,
                    -0.9756,
                    -0.5423,
                    0.9325,
                    -0.9814,
                    -0.4215,
                    -0.2732,
                    -0.5267,
                    -0.765,
                    -0.8126,
                    0.34,
                    0,
                    -0.7351,
                    -0.8934,
                    -0.7783,
                    0,
                    0.9169,
                    -0.296,
                    -0.5719,
                    -0.1779,
                    -0.4534,
                    -0.7003,
                    -0.9623,
                    0.2023,
                    -0.2023,
                    -0.8779,
                    -0.7506,
                    0.1027,
                    0.5994,
                    -0.9432,
                    -0.743,
                    0.8225,
                    -0.8481,
                    -0.4215,
                    -0.6705,
                    0,
                    0.7717,
                    0,
                    -0.296,
                    0.8963,
                    0,
                    0,
                    -0.0516,
                    0,
                    -0.836,
                    0.9136,
                    -0.9524,
                    -0.9081,
                    -0.8689,
                    -0.9325,
                    -0.8481,
                    -0.3818,
                    0.6369,
                    0.6249,
                    -0.4215,
                    -0.3818,
                    -0.2732,
                    0.802,
                    -0.8519,
                    0.4588,
                    -0.2263,
                    -0.765,
                    -0.836,
                    0.0516,
                    -0.0258,
                    -0.9153,
                    -0.7184,
                    0.6369,
                    -0.34,
                    -0.9362,
                    -0.765,
                    0,
                    -0.8176,
                    -0.8934,
                    -0.34,
                    -0.7351,
                    -0.9698,
                    -0.872,
                    0.8176,
                    -0.3612,
                    -0.8176,
                    0,
                    0.5423,
                    -0.875,
                    0.2023,
                    -0.9186,
                    -0.5574,
                    -0.7971,
                    -0.8885,
                    -0.296,
                    -0.7351,
                    -0.1027,
                    0.4939,
                    0.2406,
                    -0.5106,
                    -0.926,
                    0,
                    -0.3182,
                    -0.891,
                    0,
                    0.4767,
                    0.4588,
                    0,
                    0.0516,
                    0.5994,
                    0.4767,
                    0.3612,
                    0.5859,
                    -0.4767,
                    -0.128,
                    0.1779,
                    -0.7003,
                    -0.7636,
                    -0.7579,
                    -0.6124,
                    -0.9081,
                    0,
                    -0.5994,
                    0,
                    -0.1531,
                    0.7184,
                    -0.34,
                    -0.8957,
                    0.1027,
                    -0.4019,
                    -0.0516,
                    -0.25,
                    0.4019,
                    0.743,
                    -0.6249,
                    0.6808,
                    -0.7783,
                    -0.9022,
                    -0.1027,
                    0,
                    0.1531,
                    -0.5574,
                    0,
                    -0.25,
                    0.8126,
                    -0.6391,
                    -0.7579,
                    0.836,
                    0.5267,
                    -0.4939,
                    0,
                    -0.4404,
                    0.1027,
                    -0.5423,
                    -0.926,
                    -0.5267,
                    -0.8271,
                    -0.9571,
                    0.8689,
                    0.1027,
                    0,
                    -0.6808,
                    -0.5859,
                    -0.9325,
                    0.2263,
                    -0.9657,
                    -0.8591,
                    -0.8934,
                    -0.936,
                    -0.9001,
                    0.9201,
                    0.4588,
                    0.4019,
                    -0.3612,
                    -0.6705,
                    -0.5719,
                    0.7579,
                    0.7269,
                    0.6705,
                    0.128,
                    -0.6908,
                    0.4019,
                    -0.6369,
                    0.4404,
                    -0.4767,
                    0,
                    0.6801,
                    0.5423,
                    -0.8658,
                    -0.4588,
                    -0.6249,
                    0.5423,
                    0.91,
                    -0.8519,
                    -0.9661,
                    -0.7184,
                    -0.886,
                    -0.4404,
                    -0.9501,
                    0.7906,
                    0.34,
                    0.6705,
                    -0.0516,
                    0.4939,
                    -0.34,
                    -0.4215,
                    -0.8225,
                    -0.6124,
                    -0.872,
                    -0.7964,
                    -0.7003,
                    -0.3818,
                    -0.4588,
                    -0.1779,
                    0.0679,
                    0.7845,
                    -0.6486,
                    -0.8979,
                    0.296,
                    0.4939,
                    -0.1027,
                    -0.9042,
                    0.9403,
                    -0.8402,
                    -0.7964,
                    -0.1531,
                    0.6249,
                    -0.8271,
                    -0.1027,
                    -0.4939,
                    0.6705,
                    0.2975,
                    -0.7845,
                    0.4019,
                    0.4404,
                    -0.7096,
                    -0.9578,
                    0.1027,
                    -0.5106,
                    -0.7506,
                    0.4215,
                    0.6486,
                    -0.7783,
                    0.7845,
                    0.1548,
                    -0.9423,
                    0.6908,
                    -0.6054,
                    -0.8402,
                    0.7579,
                    0.2023,
                    -0.1531,
                    0.0444,
                    -0.1779,
                    -0.8481,
                    0.7964,
                    -0.6808,
                    0.5574,
                    -0.4404,
                    0.7003,
                    -0.8588,
                    0.3182,
                    0.128,
                    0,
                    -0.5994,
                    0.4588,
                    -0.8834,
                    -0.0258,
                    0.4019,
                    0.5106,
                    0.128,
                    -0.3182,
                    0.128,
                    0.1779,
                    0.0258,
                    0,
                    0.7184,
                    0.5859,
                    0.8225,
                    0,
                    0.4019,
                    0.4939,
                    0.765,
                    0,
                    0,
                    0.4404,
                    0.8176,
                    0.9062,
                    0,
                    0.7506,
                    0.1531,
                    -0.7778,
                    -0.8555,
                    -0.7906,
                    -0.7269,
                    0.0772,
                    0.5994,
                    -0.4939,
                    -0.296,
                    -0.6597,
                    -0.9382,
                    -0.1531,
                    0.9022,
                    -0.6597,
                    -0.2023,
                    -0.9042,
                    -0.5994,
                    0.743,
                    0.1027,
                    0.7579,
                    -0.872,
                    0.7717,
                    0.4019,
                    0.5423,
                    0.5423,
                    0.836,
                    0.8402,
                    0.1779,
                    0.8807,
                    -0.7906,
                    -0.9313,
                    0.8519,
                    -0.1027,
                    -0.032,
                    -0.9509,
                    -0.9545,
                    0.5719,
                    0.2263,
                    -0.6751,
                    -0.4019,
                    0.7579,
                    0.8979,
                    0,
                    0.7351,
                    0.4215,
                    0.9623,
                    0.1689,
                    0.25,
                    0.7729,
                    0.5086,
                    0.5574,
                    0.8653,
                    0.3182,
                    0.6908,
                    0.0129,
                    -0.743,
                    -0.1779,
                    -0.7351,
                    0.2732,
                    0.2057,
                    0.2732,
                    -0.7184,
                    -0.3182,
                    0.6486,
                    -0.743,
                    0.8807,
                    0.9081,
                    0.8854,
                    -0.4767,
                    0.8779,
                    -0.1027,
                    0.9231,
                    -0.9694,
                    0.3182,
                    -0.4404,
                    0.5994,
                    0.5423,
                    0.296,
                    -0.7506,
                    0.926,
                    0.7906,
                    0.8979,
                    -0.5267,
                    0.9081,
                    -0.6369,
                    0.0772,
                    0.8625,
                    -0.9623,
                    0.855,
                    0.7096,
                    -0.8834,
                    0.3612,
                    0.4019,
                    0.8834,
                    -0.9648,
                    0,
                    -0.9595,
                    -0.836,
                    0.25,
                    0,
                    -0.0258,
                    -0.4767,
                    0.8807,
                    -0.1779,
                    0.7096,
                    0.8126,
                    0,
                    0.765,
                    0.4939,
                    0,
                    0.3612,
                    0.2263,
                    0.4019,
                    0.128,
                    0.296,
                    -0.2263,
                    0.8934,
                    -0.5267,
                    -0.8625,
                    0.5994,
                    0.7579,
                    0.2411,
                    0.1779,
                    0.3612,
                    0,
                    0.5267,
                    -0.4939,
                    -0.4215,
                    0.0772,
                    0.6369,
                    0.4767,
                    -0.9633,
                    0.1531,
                    -0.9042,
                    -0.946,
                    0.4767,
                    -0.3724,
                    0.2263,
                    0.8442,
                    0.0772,
                    0.4019,
                    0.296,
                    -0.8225,
                    -0.9169,
                    -0.9612,
                    0.4019,
                    0.7783,
                    -0.9442,
                    -0.872,
                    0.3818,
                    0,
                    -0.2263,
                    -0.6808,
                    -0.8625,
                    -0.7351,
                    0.891,
                    0.4939,
                    0.8591,
                    -0.7184,
                    0.2732,
                    0,
                    -0.6808,
                    -0.9118,
                    0.4019,
                    0.34,
                    -0.5423,
                    0.9702,
                    -0.8807,
                    0.6705,
                    0.0772,
                    0.296,
                    0.4215,
                    -0.9432,
                    -0.8834,
                    0.0772,
                    -0.2732,
                    -0.3818,
                    0.101,
                    -0.886,
                    0.8442,
                    -0.3182,
                    0,
                    0.9595,
                    0.065,
                    -0.9468,
                    -0.4939,
                    -0.9501,
                    -0.9652,
                    0.4404,
                    0.0772,
                    0.128,
                    -0.9678,
                    -0.8979,
                    0.6249,
                    0.1531,
                    0,
                    0.3182,
                    -0.9201,
                    0,
                    0.0772,
                    0.4215,
                    0.4019,
                    0,
                    -0.6908,
                    -0.886,
                    0.1531,
                    0.1531,
                    0.7964,
                    0.4588,
                    0.6908,
                    0.1531,
                    0,
                    0.4019,
                    0.5423,
                    0.4019,
                    -0.128,
                    0.6808,
                    0.4019,
                    0.5859,
                    0.4019,
                    -0.7269,
                    0.128,
                    -0.4215,
                    0,
                    -0.3818,
                    -0.9118,
                    -0.7351,
                    0.4019,
                    0.4019,
                    0.4019,
                    0.296,
                    0.0516,
                    -0.5994,
                    -0.4019,
                    -0.3818,
                    0.7003,
                    0.8481,
                    -0.7096,
                    0,
                    -0.34,
                    0.8225,
                    0.9022,
                    0.5859,
                    -0.9062,
                    -0.6124,
                    0.9451,
                    0.836,
                    0.8885,
                    0.9531,
                    0,
                    0.4939,
                    0.8957,
                    0.8957,
                    -0.3818,
                    0.5994,
                    0.5267,
                    0.0772,
                    0.4939,
                    0,
                    -0.5423,
                    -0.763,
                    0.1027,
                    -0.6597,
                    0.6557,
                    0,
                    -0.34,
                    0.836,
                    0,
                    -0.6808,
                    0.1779,
                    -0.8625,
                    -0.296,
                    0.8316,
                    0,
                    -0.4939,
                    -0.128,
                    0.6486,
                    -0.8481,
                    0.2023,
                    0.7269,
                    0,
                    0.836,
                    0.9186,
                    -0.4588,
                    -0.0772,
                    0.3818,
                    -0.7351,
                    0.6124,
                    0.6808,
                    -0.8225,
                    -0.3818,
                    0.4767,
                    0.5994,
                    0.8402,
                    -0.3818,
                    -0.9274,
                    0.6142,
                    -0.6124,
                    0.34,
                    0.8658,
                    0.802,
                    0,
                    0.128,
                    0.6597,
                    0.7003,
                    0.5106,
                    0.6908,
                    -0.5106,
                    0.6124,
                    0,
                    0,
                    -0.5574,
                    0.886,
                    0.5267,
                    -0.4939,
                    -0.1027,
                    0.624,
                    0.5267,
                    0.3818,
                    -0.802,
                    0.4019,
                    0.4939,
                    -0.7717,
                    -0.0772,
                    0.5719,
                    0,
                    -0.1779,
                    0.4404,
                    -0.4767,
                    -0.2263,
                    -0.1779,
                    -0.1779,
                    0.7506,
                    0.4404,
                    0.3818,
                    0.7269,
                    -0.2732,
                    0.8658,
                    -0.2732,
                    0.2023,
                    -0.3818,
                    0,
                    0.2263,
                    0.3818,
                    0.0772,
                    0.7506,
                    -0.6249,
                    0.6249,
                    0.9081,
                    0.7003,
                    -0.5719,
                    -0.4404,
                    -0.34,
                    0.9001,
                    0.6369,
                    0.8271,
                    0.5267,
                    0.8316,
                    -0.5719,
                    0.7506,
                    -0.4404,
                    0.296,
                    -0.4404,
                    -0.5423,
                    0.7003,
                    -0.34,
                    0.2023,
                    -0.8485,
                    0.4404,
                    0.2263,
                    -0.296,
                    0.0772,
                    0.2263,
                    0.0772,
                    0.7506,
                    0.0772,
                    -0.2023,
                    -0.1531,
                    -0.3612,
                    -0.7351,
                    -0.1027,
                    0.4215,
                    0.1027,
                    0.5574,
                    -0.4939,
                    -0.25,
                    0.4404,
                    -0.6597,
                    -0.1779,
                    -0.1779,
                    0.7506,
                    0.4404,
                    0.0258,
                    0,
                    0.3818,
                    -0.7351,
                    0.1027,
                    0,
                    -0.25,
                    0.4215,
                    0.4215,
                    -0.25,
                    -0.7783,
                    -0.5574,
                    -0.4939,
                    0,
                    -0.9153,
                    -0.9062,
                    0.128,
                    0.7746,
                    0.2946,
                    -0.0258,
                    0,
                    0.5994,
                    0,
                    0.9062,
                    0.128,
                    0.4215,
                    -0.5859,
                    -0.2263,
                    -0.7906,
                    0.0772,
                    0.4404,
                    -0.1531,
                    -0.8555,
                    -0.5859,
                    -0.8555,
                    0,
                    0.4215,
                    -0.4767,
                    -0.3182,
                    -0.93,
                    0,
                    0.4939,
                    0.1531,
                    0.5859,
                    -0.765,
                    0.0516,
                    -0.3818,
                    0.128,
                    -0.4019,
                    -0.4404,
                    0.6597,
                    0.6486,
                    -0.25,
                    -0.8316,
                    0.3612,
                    0.8074,
                    -0.3818,
                    -0.9022,
                    -0.7506,
                    0.875,
                    0.7845,
                    0,
                    -0.3818,
                    0.8934,
                    0.5454,
                    -0.4767,
                    0.0772,
                    0.1263,
                    0.4767,
                    0.8519,
                    0.5859,
                    0.7579,
                    0.4767,
                    -0.0516,
                    0,
                    0,
                    -0.8555,
                    0.7184,
                    0.6808,
                    -0.9349,
                    -0.8442,
                    -0.9643,
                    -0.128,
                    -0.296,
                    -0.0516,
                    0.0258,
                    -0.8176,
                    -0.2263,
                    0.9231,
                    -0.926,
                    0.5574,
                    0.6705,
                    0.7783,
                    0,
                    0.8316,
                    0.34,
                    -0.4215,
                    -0.5994,
                    -0.9246,
                    0.6705,
                    0.7906,
                    0.7717,
                    -0.7096,
                    0.3182,
                    0.3612,
                    -0.9081,
                    -0.1027,
                    0.25,
                    0.128,
                    0.7351,
                    0.4404,
                    -0.5267,
                    0.6908,
                    -0.5574,
                    -0.2732,
                    0.6369,
                    -0.9805,
                    0.4588,
                    0,
                    0,
                    0.6369,
                    0,
                    0.8176,
                    -0.34,
                    -0.7906,
                    0,
                    0.2023,
                    0.4215,
                    -0.8316,
                    0.2023,
                    0.6597,
                    0.1585,
                    0.802,
                    0.25,
                    -0.5994,
                    -0.7269,
                    -0.0516,
                    -0.2732,
                    0.1027,
                    0,
                    -0.802,
                    -0.296,
                    0.3612,
                    0.4939,
                    0.1027,
                    -0.9648,
                    -0.4588,
                    -0.2023,
                    0.128,
                    0.4767,
                    -0.2732,
                    0,
                    -0.91,
                    0.8625,
                    -0.891,
                    -0.4588,
                    0.4019,
                    -0.2732,
                    -0.7717,
                    -0.9769,
                    0.6808,
                    -0.5267,
                    -0.7717,
                    -0.296,
                    0.0258,
                    0,
                    -0.4588,
                    -0.2732,
                    -0.91,
                    -0.2263,
                    -0.7717,
                    -0.2023,
                    0.5719,
                    -0.9136,
                    0,
                    -0.7506,
                    0.8555,
                    -0.8442,
                    0.0772,
                    -0.8176,
                    0.1779,
                    0.6808,
                    -0.8225,
                    -0.9287,
                    -0.5859,
                    0.4019,
                    0.34,
                    0.5574,
                    -0.128,
                    -0.8074,
                    0.4019,
                    0.8271,
                    -0.3818,
                    0.7269,
                    -0.8885,
                    -0.4767,
                    -0.6124,
                    -0.6705,
                    -0.296,
                    -0.2023,
                    0,
                    0.128,
                    0.296,
                    0.6808,
                    -0.3818,
                    0.4767,
                    -0.2732,
                    0.4588,
                    -0.743,
                    -0.5574,
                    -0.25,
                    0.9451,
                    -0.8316,
                    -0.5719,
                    -0.8225,
                    0.0516,
                    -0.9517,
                    0.6369,
                    0.7003,
                    -0.5574,
                    -0.886,
                    0.296,
                    -0.3612,
                    0.0629,
                    0.4404,
                    0.2263,
                    -0.9393,
                    0.6369,
                    -0.5719,
                    -0.5267,
                    0.296,
                    -0.6705,
                    0.4939,
                    0.4939,
                    -0.8658,
                    -0.0258,
                    -0.9545,
                    -0.9818,
                    -0.88,
                    0.5267,
                    0.1027,
                    0.4767,
                    -0.7964,
                    0.8271,
                    0.6124,
                    0.7845,
                    0.4588,
                    0.8633,
                    0.8633,
                    0.802,
                    -0.0516,
                    -0.1027,
                    0.839,
                    0.7003,
                    0.7506,
                    -0.1531,
                    0.3182,
                    -0.7964,
                    -0.9042,
                    -0.872,
                    -0.9801,
                    0,
                    0.3182,
                    -0.6124,
                    0,
                    -0.4939,
                    -0.4404,
                    -0.4939,
                    -0.9186,
                    -0.8625,
                    0.8225,
                    0,
                    -0.9531,
                    -0.7351,
                    0.6474,
                    0.936,
                    -0.6808,
                    0.7003,
                    -0.1027,
                    -0.5106,
                    -0.6597,
                    -0.296,
                    -0.7351,
                    -0.8689,
                    0.6369,
                    -0.743,
                    -0.2778,
                    0,
                    -0.9682,
                    0.3167,
                    -0.9136,
                    0.4404,
                    0.4019,
                    0.25,
                    -0.9153,
                    -0.5574,
                    0,
                    0.8271,
                    -0.5574,
                    -0.3818,
                    0.4767,
                    0.2263,
                    -0.296,
                    -0.6486,
                    0.6705,
                    -0.6705,
                    0.4588,
                    -0.9612,
                    -0.8979,
                    -0.9652,
                    0.6597,
                    0.0258,
                    0.3612,
                    -0.9851,
                    0.8834,
                    0.765,
                    -0.5859,
                    -0.2516,
                    -0.8519,
                    0.5859,
                    -0.7003,
                    0.296,
                    -0.3182,
                    0.9517,
                    -0.5267,
                    0.9081,
                    -0.3412,
                    -0.7964,
                    0.891,
                    0.5574,
                    0.9524,
                    0.8957,
                    -0.6249,
                    0.6249,
                    -0.6369,
                    0.4939,
                    -0.8591,
                    -0.743,
                    0.3182,
                    0.8442,
                    0.9769,
                    -0.7906,
                    0.4215,
                    0.7269,
                    -0.8625,
                    0.3182,
                    0.2263,
                    0.4767,
                    -0.8591,
                    -0.4404,
                    0.4215,
                    -0.936,
                    0.4019,
                    0.34,
                    0.4939,
                    -0.3182,
                    0.7906,
                    -0.8271,
                    0.8126,
                    0.9231,
                    -0.3818,
                    0.8625,
                    0,
                    0.7087,
                    0.6597,
                    -0.8958,
                    -0.4215,
                    0.9559,
                    -0.7717,
                    -0.3612,
                    -0.34,
                    0.8316,
                    0.9783,
                    0.4404,
                    0.5574,
                    -0.3612,
                    -0.7269,
                    -0.9595,
                    0.8658,
                    -0.9761,
                    0.4548,
                    -0.7096,
                    -0.9856,
                    -0.8555,
                    -0.6486,
                    0.5994,
                    0.6908,
                    -0.9287,
                    -0.5267,
                    0.4588,
                    0.3612,
                    -0.7661,
                    0.9001,
                    0.9393,
                    -0.296,
                    -0.9661,
                    0.3182,
                    0,
                    0.6486,
                    0.4215,
                    0.5719,
                    -0.2023,
                    0.9538,
                    0.4588,
                    0.128,
                    -0.128,
                    -0.8343,
                    0.4215,
                    -0.1779,
                    -0.6249,
                    0.2263,
                    0.1779
                  ],
                  "type": "histogram",
                  "orientation": "v"
                }
              ],
              "config": {
                "plotlyServerURL": "https://plot.ly",
                "linkText": "Export to plot.ly",
                "showLink": true
              },
              "layout": {
                "xaxis": {
                  "tickfont": {
                    "color": "#4D5663"
                  },
                  "title": {
                    "text": "polarity",
                    "font": {
                      "color": "#4D5663"
                    }
                  },
                  "showgrid": true,
                  "zerolinecolor": "#E1E5ED",
                  "gridcolor": "#E1E5ED",
                  "linecolor": "black"
                },
                "title": {
                  "text": "Sentiment Polarity Distribution",
                  "font": {
                    "color": "#4D5663"
                  }
                },
                "paper_bgcolor": "#F5F6F9",
                "plot_bgcolor": "#F5F6F9",
                "yaxis": {
                  "tickfont": {
                    "color": "#4D5663"
                  },
                  "title": {
                    "text": "count",
                    "font": {
                      "color": "#4D5663"
                    }
                  },
                  "showgrid": true,
                  "zerolinecolor": "#E1E5ED",
                  "gridcolor": "#E1E5ED",
                  "linecolor": "black"
                },
                "barmode": "overlay",
                "template": {
                  "layout": {
                    "shapedefaults": {
                      "line": {
                        "color": "#2a3f5f"
                      }
                    },
                    "polar": {
                      "radialaxis": {
                        "ticks": "",
                        "gridcolor": "white",
                        "linecolor": "white"
                      },
                      "bgcolor": "#E5ECF6",
                      "angularaxis": {
                        "ticks": "",
                        "gridcolor": "white",
                        "linecolor": "white"
                      }
                    },
                    "colorway": [
                      "#636efa",
                      "#EF553B",
                      "#00cc96",
                      "#ab63fa",
                      "#FFA15A",
                      "#19d3f3",
                      "#FF6692",
                      "#B6E880",
                      "#FF97FF",
                      "#FECB52"
                    ],
                    "xaxis": {
                      "automargin": true,
                      "title": {
                        "standoff": 15
                      },
                      "zerolinewidth": 2,
                      "ticks": "",
                      "zerolinecolor": "white",
                      "gridcolor": "white",
                      "linecolor": "white"
                    },
                    "colorscale": {
                      "diverging": [
                        [
                          0,
                          "#8e0152"
                        ],
                        [
                          0.1,
                          "#c51b7d"
                        ],
                        [
                          0.2,
                          "#de77ae"
                        ],
                        [
                          0.3,
                          "#f1b6da"
                        ],
                        [
                          0.4,
                          "#fde0ef"
                        ],
                        [
                          0.5,
                          "#f7f7f7"
                        ],
                        [
                          0.6,
                          "#e6f5d0"
                        ],
                        [
                          0.7,
                          "#b8e186"
                        ],
                        [
                          0.8,
                          "#7fbc41"
                        ],
                        [
                          0.9,
                          "#4d9221"
                        ],
                        [
                          1,
                          "#276419"
                        ]
                      ],
                      "sequential": [
                        [
                          0,
                          "#0d0887"
                        ],
                        [
                          0.1111111111111111,
                          "#46039f"
                        ],
                        [
                          0.2222222222222222,
                          "#7201a8"
                        ],
                        [
                          0.3333333333333333,
                          "#9c179e"
                        ],
                        [
                          0.4444444444444444,
                          "#bd3786"
                        ],
                        [
                          0.5555555555555556,
                          "#d8576b"
                        ],
                        [
                          0.6666666666666666,
                          "#ed7953"
                        ],
                        [
                          0.7777777777777778,
                          "#fb9f3a"
                        ],
                        [
                          0.8888888888888888,
                          "#fdca26"
                        ],
                        [
                          1,
                          "#f0f921"
                        ]
                      ],
                      "sequentialminus": [
                        [
                          0,
                          "#0d0887"
                        ],
                        [
                          0.1111111111111111,
                          "#46039f"
                        ],
                        [
                          0.2222222222222222,
                          "#7201a8"
                        ],
                        [
                          0.3333333333333333,
                          "#9c179e"
                        ],
                        [
                          0.4444444444444444,
                          "#bd3786"
                        ],
                        [
                          0.5555555555555556,
                          "#d8576b"
                        ],
                        [
                          0.6666666666666666,
                          "#ed7953"
                        ],
                        [
                          0.7777777777777778,
                          "#fb9f3a"
                        ],
                        [
                          0.8888888888888888,
                          "#fdca26"
                        ],
                        [
                          1,
                          "#f0f921"
                        ]
                      ]
                    },
                    "paper_bgcolor": "white",
                    "plot_bgcolor": "#E5ECF6",
                    "title": {
                      "x": 0.05
                    },
                    "scene": {
                      "zaxis": {
                        "backgroundcolor": "#E5ECF6",
                        "ticks": "",
                        "gridwidth": 2,
                        "showbackground": true,
                        "zerolinecolor": "white",
                        "gridcolor": "white",
                        "linecolor": "white"
                      },
                      "xaxis": {
                        "backgroundcolor": "#E5ECF6",
                        "ticks": "",
                        "gridwidth": 2,
                        "showbackground": true,
                        "zerolinecolor": "white",
                        "gridcolor": "white",
                        "linecolor": "white"
                      },
                      "yaxis": {
                        "backgroundcolor": "#E5ECF6",
                        "ticks": "",
                        "gridwidth": 2,
                        "showbackground": true,
                        "zerolinecolor": "white",
                        "gridcolor": "white",
                        "linecolor": "white"
                      }
                    },
                    "yaxis": {
                      "automargin": true,
                      "title": {
                        "standoff": 15
                      },
                      "zerolinewidth": 2,
                      "ticks": "",
                      "zerolinecolor": "white",
                      "gridcolor": "white",
                      "linecolor": "white"
                    },
                    "annotationdefaults": {
                      "arrowwidth": 1,
                      "arrowhead": 0,
                      "arrowcolor": "#2a3f5f"
                    },
                    "hoverlabel": {
                      "align": "left"
                    },
                    "ternary": {
                      "bgcolor": "#E5ECF6",
                      "baxis": {
                        "ticks": "",
                        "gridcolor": "white",
                        "linecolor": "white"
                      },
                      "caxis": {
                        "ticks": "",
                        "gridcolor": "white",
                        "linecolor": "white"
                      },
                      "aaxis": {
                        "ticks": "",
                        "gridcolor": "white",
                        "linecolor": "white"
                      }
                    },
                    "mapbox": {
                      "style": "light"
                    },
                    "hovermode": "closest",
                    "font": {
                      "color": "#2a3f5f"
                    },
                    "geo": {
                      "showland": true,
                      "landcolor": "#E5ECF6",
                      "showlakes": true,
                      "bgcolor": "white",
                      "subunitcolor": "white",
                      "lakecolor": "white"
                    },
                    "coloraxis": {
                      "colorbar": {
                        "outlinewidth": 0,
                        "ticks": ""
                      }
                    }
                  },
                  "data": {
                    "mesh3d": [
                      {
                        "colorbar": {
                          "outlinewidth": 0,
                          "ticks": ""
                        },
                        "type": "mesh3d"
                      }
                    ],
                    "scattercarpet": [
                      {
                        "marker": {
                          "colorbar": {
                            "outlinewidth": 0,
                            "ticks": ""
                          }
                        },
                        "type": "scattercarpet"
                      }
                    ],
                    "pie": [
                      {
                        "automargin": true,
                        "type": "pie"
                      }
                    ],
                    "surface": [
                      {
                        "colorbar": {
                          "outlinewidth": 0,
                          "ticks": ""
                        },
                        "type": "surface",
                        "colorscale": [
                          [
                            0,
                            "#0d0887"
                          ],
                          [
                            0.1111111111111111,
                            "#46039f"
                          ],
                          [
                            0.2222222222222222,
                            "#7201a8"
                          ],
                          [
                            0.3333333333333333,
                            "#9c179e"
                          ],
                          [
                            0.4444444444444444,
                            "#bd3786"
                          ],
                          [
                            0.5555555555555556,
                            "#d8576b"
                          ],
                          [
                            0.6666666666666666,
                            "#ed7953"
                          ],
                          [
                            0.7777777777777778,
                            "#fb9f3a"
                          ],
                          [
                            0.8888888888888888,
                            "#fdca26"
                          ],
                          [
                            1,
                            "#f0f921"
                          ]
                        ]
                      }
                    ],
                    "table": [
                      {
                        "header": {
                          "line": {
                            "color": "white"
                          },
                          "fill": {
                            "color": "#C8D4E3"
                          }
                        },
                        "cells": {
                          "line": {
                            "color": "white"
                          },
                          "fill": {
                            "color": "#EBF0F8"
                          }
                        },
                        "type": "table"
                      }
                    ],
                    "scatterpolargl": [
                      {
                        "marker": {
                          "colorbar": {
                            "outlinewidth": 0,
                            "ticks": ""
                          }
                        },
                        "type": "scatterpolargl"
                      }
                    ],
                    "contour": [
                      {
                        "colorbar": {
                          "outlinewidth": 0,
                          "ticks": ""
                        },
                        "type": "contour",
                        "colorscale": [
                          [
                            0,
                            "#0d0887"
                          ],
                          [
                            0.1111111111111111,
                            "#46039f"
                          ],
                          [
                            0.2222222222222222,
                            "#7201a8"
                          ],
                          [
                            0.3333333333333333,
                            "#9c179e"
                          ],
                          [
                            0.4444444444444444,
                            "#bd3786"
                          ],
                          [
                            0.5555555555555556,
                            "#d8576b"
                          ],
                          [
                            0.6666666666666666,
                            "#ed7953"
                          ],
                          [
                            0.7777777777777778,
                            "#fb9f3a"
                          ],
                          [
                            0.8888888888888888,
                            "#fdca26"
                          ],
                          [
                            1,
                            "#f0f921"
                          ]
                        ]
                      }
                    ],
                    "carpet": [
                      {
                        "type": "carpet",
                        "baxis": {
                          "minorgridcolor": "white",
                          "gridcolor": "white",
                          "linecolor": "white",
                          "endlinecolor": "#2a3f5f",
                          "startlinecolor": "#2a3f5f"
                        },
                        "aaxis": {
                          "minorgridcolor": "white",
                          "gridcolor": "white",
                          "linecolor": "white",
                          "endlinecolor": "#2a3f5f",
                          "startlinecolor": "#2a3f5f"
                        }
                      }
                    ],
                    "contourcarpet": [
                      {
                        "colorbar": {
                          "outlinewidth": 0,
                          "ticks": ""
                        },
                        "type": "contourcarpet"
                      }
                    ],
                    "heatmap": [
                      {
                        "colorbar": {
                          "outlinewidth": 0,
                          "ticks": ""
                        },
                        "type": "heatmap",
                        "colorscale": [
                          [
                            0,
                            "#0d0887"
                          ],
                          [
                            0.1111111111111111,
                            "#46039f"
                          ],
                          [
                            0.2222222222222222,
                            "#7201a8"
                          ],
                          [
                            0.3333333333333333,
                            "#9c179e"
                          ],
                          [
                            0.4444444444444444,
                            "#bd3786"
                          ],
                          [
                            0.5555555555555556,
                            "#d8576b"
                          ],
                          [
                            0.6666666666666666,
                            "#ed7953"
                          ],
                          [
                            0.7777777777777778,
                            "#fb9f3a"
                          ],
                          [
                            0.8888888888888888,
                            "#fdca26"
                          ],
                          [
                            1,
                            "#f0f921"
                          ]
                        ]
                      }
                    ],
                    "scattermapbox": [
                      {
                        "marker": {
                          "colorbar": {
                            "outlinewidth": 0,
                            "ticks": ""
                          }
                        },
                        "type": "scattermapbox"
                      }
                    ],
                    "scatter3d": [
                      {
                        "marker": {
                          "colorbar": {
                            "outlinewidth": 0,
                            "ticks": ""
                          }
                        },
                        "line": {
                          "colorbar": {
                            "outlinewidth": 0,
                            "ticks": ""
                          }
                        },
                        "type": "scatter3d"
                      }
                    ],
                    "scattergl": [
                      {
                        "marker": {
                          "colorbar": {
                            "outlinewidth": 0,
                            "ticks": ""
                          }
                        },
                        "type": "scattergl"
                      }
                    ],
                    "scatterternary": [
                      {
                        "marker": {
                          "colorbar": {
                            "outlinewidth": 0,
                            "ticks": ""
                          }
                        },
                        "type": "scatterternary"
                      }
                    ],
                    "histogram": [
                      {
                        "marker": {
                          "colorbar": {
                            "outlinewidth": 0,
                            "ticks": ""
                          }
                        },
                        "type": "histogram"
                      }
                    ],
                    "heatmapgl": [
                      {
                        "colorbar": {
                          "outlinewidth": 0,
                          "ticks": ""
                        },
                        "type": "heatmapgl",
                        "colorscale": [
                          [
                            0,
                            "#0d0887"
                          ],
                          [
                            0.1111111111111111,
                            "#46039f"
                          ],
                          [
                            0.2222222222222222,
                            "#7201a8"
                          ],
                          [
                            0.3333333333333333,
                            "#9c179e"
                          ],
                          [
                            0.4444444444444444,
                            "#bd3786"
                          ],
                          [
                            0.5555555555555556,
                            "#d8576b"
                          ],
                          [
                            0.6666666666666666,
                            "#ed7953"
                          ],
                          [
                            0.7777777777777778,
                            "#fb9f3a"
                          ],
                          [
                            0.8888888888888888,
                            "#fdca26"
                          ],
                          [
                            1,
                            "#f0f921"
                          ]
                        ]
                      }
                    ],
                    "scatterpolar": [
                      {
                        "marker": {
                          "colorbar": {
                            "outlinewidth": 0,
                            "ticks": ""
                          }
                        },
                        "type": "scatterpolar"
                      }
                    ],
                    "histogram2d": [
                      {
                        "colorbar": {
                          "outlinewidth": 0,
                          "ticks": ""
                        },
                        "type": "histogram2d",
                        "colorscale": [
                          [
                            0,
                            "#0d0887"
                          ],
                          [
                            0.1111111111111111,
                            "#46039f"
                          ],
                          [
                            0.2222222222222222,
                            "#7201a8"
                          ],
                          [
                            0.3333333333333333,
                            "#9c179e"
                          ],
                          [
                            0.4444444444444444,
                            "#bd3786"
                          ],
                          [
                            0.5555555555555556,
                            "#d8576b"
                          ],
                          [
                            0.6666666666666666,
                            "#ed7953"
                          ],
                          [
                            0.7777777777777778,
                            "#fb9f3a"
                          ],
                          [
                            0.8888888888888888,
                            "#fdca26"
                          ],
                          [
                            1,
                            "#f0f921"
                          ]
                        ]
                      }
                    ],
                    "scattergeo": [
                      {
                        "marker": {
                          "colorbar": {
                            "outlinewidth": 0,
                            "ticks": ""
                          }
                        },
                        "type": "scattergeo"
                      }
                    ],
                    "bar": [
                      {
                        "marker": {
                          "line": {
                            "color": "#E5ECF6",
                            "width": 0.5
                          }
                        },
                        "type": "bar",
                        "error_x": {
                          "color": "#2a3f5f"
                        },
                        "error_y": {
                          "color": "#2a3f5f"
                        }
                      }
                    ],
                    "choropleth": [
                      {
                        "colorbar": {
                          "outlinewidth": 0,
                          "ticks": ""
                        },
                        "type": "choropleth"
                      }
                    ],
                    "parcoords": [
                      {
                        "line": {
                          "colorbar": {
                            "outlinewidth": 0,
                            "ticks": ""
                          }
                        },
                        "type": "parcoords"
                      }
                    ],
                    "barpolar": [
                      {
                        "marker": {
                          "line": {
                            "color": "#E5ECF6",
                            "width": 0.5
                          }
                        },
                        "type": "barpolar"
                      }
                    ],
                    "histogram2dcontour": [
                      {
                        "colorbar": {
                          "outlinewidth": 0,
                          "ticks": ""
                        },
                        "type": "histogram2dcontour",
                        "colorscale": [
                          [
                            0,
                            "#0d0887"
                          ],
                          [
                            0.1111111111111111,
                            "#46039f"
                          ],
                          [
                            0.2222222222222222,
                            "#7201a8"
                          ],
                          [
                            0.3333333333333333,
                            "#9c179e"
                          ],
                          [
                            0.4444444444444444,
                            "#bd3786"
                          ],
                          [
                            0.5555555555555556,
                            "#d8576b"
                          ],
                          [
                            0.6666666666666666,
                            "#ed7953"
                          ],
                          [
                            0.7777777777777778,
                            "#fb9f3a"
                          ],
                          [
                            0.8888888888888888,
                            "#fdca26"
                          ],
                          [
                            1,
                            "#f0f921"
                          ]
                        ]
                      }
                    ],
                    "scatter": [
                      {
                        "marker": {
                          "colorbar": {
                            "outlinewidth": 0,
                            "ticks": ""
                          }
                        },
                        "type": "scatter"
                      }
                    ]
                  }
                },
                "legend": {
                  "bgcolor": "#F5F6F9",
                  "font": {
                    "color": "#4D5663"
                  }
                }
              }
            }
          },
          "metadata": {
            "tags": []
          }
        }
      ]
    },
    {
      "cell_type": "code",
      "metadata": {
        "colab": {
          "base_uri": "https://localhost:8080/",
          "height": 694
        },
        "id": "b5VYBs9gGPKn",
        "outputId": "b879f4af-dd5d-450d-9a1b-86ec159a5316"
      },
      "source": [
        "# Checking out the distribution of the news polarity based on the source of news\n",
        "df_polarity = pd.read_csv('/content/drive/MyDrive/mean_polarity_nvidia.csv')\n",
        "df_polarity = df_polarity.sort_values(['compound']).reset_index(drop=True)\n",
        "fig, ax = plt.subplots(figsize=(14, 14))\n",
        "ax = sns.barplot(x='compound', y='source', data=df_polarity)\n",
        "ax.set_xlabel(' Mean Polarity')\n",
        "ax.axvline(0.2)\n",
        "ax.axvline(-0.2)"
      ],
      "execution_count": null,
      "outputs": [
        {
          "output_type": "execute_result",
          "data": {
            "text/plain": [
              "Text(0.5, 0, ' Mean Polarity')"
            ]
          },
          "metadata": {
            "tags": []
          },
          "execution_count": 23
        },
        {
          "output_type": "execute_result",
          "data": {
            "text/plain": [
              "<matplotlib.lines.Line2D at 0x7f620237d5d0>"
            ]
          },
          "metadata": {
            "tags": []
          },
          "execution_count": 23
        },
        {
          "output_type": "execute_result",
          "data": {
            "text/plain": [
              "<matplotlib.lines.Line2D at 0x7f620239bf50>"
            ]
          },
          "metadata": {
            "tags": []
          },
          "execution_count": 23
        },
        {
          "output_type": "display_data",
          "data": {
            "image/png": "[encoded data removed]",
            "text/plain": [
              "<Figure size 1008x1008 with 1 Axes>"
            ]
          },
          "metadata": {
            "tags": [],
            "needs_background": "light"
          }
        }
      ]
    },
    {
      "cell_type": "code",
      "metadata": {
        "colab": {
          "base_uri": "https://localhost:8080/",
          "height": 542
        },
        "id": "-DIfKyA5GZZX",
        "outputId": "c4b5b95a-89a6-439a-c8ab-03b0457b29dc"
      },
      "source": [
        "# Box Plot for the top news publishers\n",
        "y0 = headlines_polarity.loc[headlines_polarity['source'] == 'Al Jazeera English']['compound']\n",
        "y1 = headlines_polarity.loc[headlines_polarity['source'] == 'BBC News']['compound']\n",
        "y2 = headlines_polarity.loc[headlines_polarity['source'] == 'The Wall Street Journal']['compound']\n",
        "y3 = headlines_polarity.loc[headlines_polarity['source'] == 'The Washington Post']['compound']\n",
        "y4 = headlines_polarity.loc[headlines_polarity['source'] == 'Economist.com']['compound']\n",
        "y5 = headlines_polarity.loc[headlines_polarity['source'] == 'Hindustantimes.com']['compound']\n",
        "\n",
        "trace0 = go.Box(\n",
        "    y=y0,\n",
        "    name = 'Al Jazeera',\n",
        "    marker = dict(\n",
        "        color = 'rgb(214, 12, 140)',\n",
        "    )\n",
        ")\n",
        "trace1 = go.Box(\n",
        "    y=y1,\n",
        "    name = 'BBC',\n",
        "    marker = dict(\n",
        "        color = 'rgb(0, 150, 128)',\n",
        "    )\n",
        ")\n",
        "trace2 = go.Box(\n",
        "    y=y2,\n",
        "    name = 'Wall Street Journal',\n",
        "    marker = dict(\n",
        "        color = 'rgb(10, 140, 208)',\n",
        "    )\n",
        ")\n",
        "trace3 = go.Box(\n",
        "    y=y3,\n",
        "    name = 'Washington Post',\n",
        "    marker = dict(\n",
        "        color = 'rgb(12, 102, 14)',\n",
        "    )\n",
        ")\n",
        "trace4 = go.Box(\n",
        "    y=y4,\n",
        "    name = 'Economist',\n",
        "    marker = dict(\n",
        "        color = 'rgb(10, 0, 100)',\n",
        "    )\n",
        ")\n",
        "trace5 = go.Box(\n",
        "    y=y5,\n",
        "    name = 'Hindustantimes',\n",
        "    marker = dict(\n",
        "        color = 'rgb(100, 0, 10)',\n",
        "    )\n",
        ")\n",
        "data = [trace0, trace1, trace2, trace3, trace4, trace5]\n",
        "layout = go.Layout(\n",
        "    title = \"Sentiment Polarity Boxplot of Popular News publishers\"\n",
        ")\n",
        "fig = go.Figure(data=data,layout=layout)\n",
        "iplot(fig, filename = \"Sentiment Polarity Boxplot of Popular News publishers\")"
      ],
      "execution_count": null,
      "outputs": [
        {
          "output_type": "display_data",
          "data": {
            "text/html": [
              "<div>\n",
              "        \n",
              "        \n",
              "            <div id=\"3d0a34ef-8a73-4d1e-b70f-664a33c2ca6c\" class=\"plotly-graph-div\" style=\"height:525px; width:100%;\"></div>\n",
              "            <script type=\"text/javascript\">\n",
              "                require([\"plotly\"], function(Plotly) {\n",
              "                    window.PLOTLYENV=window.PLOTLYENV || {};\n",
              "                    \n",
              "                if (document.getElementById(\"3d0a34ef-8a73-4d1e-b70f-664a33c2ca6c\")) {\n",
              "                    Plotly.newPlot(\n",
              "                        '3d0a34ef-8a73-4d1e-b70f-664a33c2ca6c',\n",
              "                        [{\"marker\": {\"color\": \"rgb(214, 12, 140)\"}, \"name\": \"Al Jazeera\", \"type\": \"box\", \"y\": [-0.4404, 0.6369, 0.5106, -0.8625, -0.7906, -0.0516, -0.936, -0.7351, -0.5423, -0.7003, -0.93, -0.9136, 0.0772, 0.6369, 0.4019, 0.4939, -0.7783, 0.4939, 0.25, -0.4215, 0.2263, -0.4404, -0.6705, 0.6486, -0.6597, -0.8074, 0.9169, -0.8176, 0.5423, 0.0, -0.9468, 0.4215, -0.743, 0.8834, -0.4939, -0.5719, 0.6124, 0.0, 0.3612, -0.8555, 0.0772, -0.2263, -0.9118, 0.4215, 0.7003, -0.4939, -0.6486, 0.0, 0.6908, 0.7964, -0.1027, 0.128, 0.3182, -0.25, -0.4939, -0.9349, 0.577, -0.5574, 0.8402, -0.7003, -0.9001, 0.7003, -0.1531, 0.6908, -0.7269, -0.5574, -0.7096, -0.9022, 0.8481, 0.7269, -0.9451, 0.5994, -0.9231, -0.9686, 0.5106, 0.7184, 0.4404, 0.1531, -0.743, -0.5859, -0.4927, 0.3182, -0.9062, 0.0, 0.128, -0.8126, -0.2732, -0.4404, 0.0, -0.9756, 0.4215, 0.0, -0.8779, -0.9442, -0.5423, -0.1779, 0.4404, -0.6486, 0.0, 0.4215]}, {\"marker\": {\"color\": \"rgb(0, 150, 128)\"}, \"name\": \"BBC\", \"type\": \"box\", \"y\": [0.0, 0.0, -0.4588, -0.3818, -0.128, 0.6808, 0.2732, 0.4019, -0.7506, -0.8957, -0.8402, 0.34, 0.891, -0.6369, -0.9313, 0.4767, -0.9382, -0.4215, 0.1531, -0.765, 0.7269, -0.6808, 0.3818, -0.5574, -0.9118, -0.0772, -0.8176, -0.8779, -0.4939, 0.0, -0.2263, -0.9042, -0.4939, 0.25, -0.5994, 0.8658, -0.4215, -0.1531, 0.0976, -0.8402, -0.0772, -0.1027, 0.7964, -0.3818, -0.6124, -0.8885, -0.9325, -0.8176, -0.8519, -0.7906, -0.9246, -0.8591, -0.6808, 0.6705, -0.2263, -0.9118, -0.7906, 0.8074, -0.3818, -0.3818]}, {\"marker\": {\"color\": \"rgb(10, 140, 208)\"}, \"name\": \"Wall Street Journal\", \"type\": \"box\", \"y\": [0.7906, 0.128, 0.7906, 0.0, -0.0258, -0.9571, 0.0516, -0.9201, 0.6597, -0.3182, -0.0258, -0.7845, 0.0, 0.0, 0.0772, -0.0516, 0.3182, 0.2781, 0.0, -0.2263, 0.0, -0.2635, -0.8176, 0.0, -0.7579, -0.8271, -0.128, 0.3818, 0.2263, -0.534, 0.0, 0.1779, 0.34, 0.4019, -0.6124, -0.5574, 0.1027, 0.2732, 0.5719, -0.7096, 0.0, 0.7845, 0.1531, 0.4767, -0.4767, 0.4404, 0.8779, 0.4404, -0.743, 0.1027, -0.4767, 0.128, 0.1027, -0.1027, 0.0, -0.8807, 0.9062, 0.8519, -0.4939, 0.0, 0.0258, -0.9432, -0.5267, -0.5574, 0.8519, -0.802, -0.0258, 0.0, -0.6249, -0.2023, -0.128, 0.6124, -0.6705, -0.7506, -0.6486, 0.0, 0.34, -0.5423, 0.0516, 0.2556, -0.7003, -0.9477, 0.4215, -0.5267, -0.3612, 0.296, -0.1027, 0.0, -0.5574, 0.4019, 0.7717, 0.0, -0.2732, 0.0, -0.7351, 0.0, 0.4588, 0.4019, 0.0, 0.2732]}, {\"marker\": {\"color\": \"rgb(12, 102, 14)\"}, \"name\": \"Washington Post\", \"type\": \"box\", \"y\": [-0.765, 0.0, -0.8176, -0.8934, -0.34, -0.7351, -0.9698, -0.872, 0.8176, -0.3612, -0.8176, 0.0, 0.5423, -0.875, 0.2023, -0.9186, -0.5574, -0.7971, -0.8885, -0.296, -0.7351, -0.1027, 0.4939, 0.2406, -0.5106, -0.926, 0.0, -0.3182, -0.891, 0.0, 0.4767, 0.4588, 0.0, 0.0516, 0.5994, 0.4767, 0.3612, 0.5859, -0.4767, -0.128, 0.1779, -0.7003, -0.7636, -0.7579, -0.6124, -0.9081, 0.0, -0.5994, 0.0, -0.1531, 0.7184, -0.34, -0.8957, 0.1027, -0.4019, -0.0516, -0.25, 0.4019, 0.743, -0.6249, 0.6808, -0.7783, -0.9022, -0.1027, 0.0, 0.1531, -0.5574, 0.0, -0.25, 0.8126, -0.6391, -0.7579, 0.836, 0.5267, -0.4939, 0.0, -0.4404, 0.1027, -0.5423, -0.926, -0.5267, -0.8271]}, {\"marker\": {\"color\": \"rgb(10, 0, 100)\"}, \"name\": \"Economist\", \"type\": \"box\", \"y\": []}, {\"marker\": {\"color\": \"rgb(100, 0, 10)\"}, \"name\": \"Hindustantimes\", \"type\": \"box\", \"y\": []}],\n",
              "                        {\"template\": {\"data\": {\"bar\": [{\"error_x\": {\"color\": \"#2a3f5f\"}, \"error_y\": {\"color\": \"#2a3f5f\"}, \"marker\": {\"line\": {\"color\": \"#E5ECF6\", \"width\": 0.5}}, \"type\": \"bar\"}], \"barpolar\": [{\"marker\": {\"line\": {\"color\": \"#E5ECF6\", \"width\": 0.5}}, \"type\": \"barpolar\"}], \"carpet\": [{\"aaxis\": {\"endlinecolor\": \"#2a3f5f\", \"gridcolor\": \"white\", \"linecolor\": \"white\", \"minorgridcolor\": \"white\", \"startlinecolor\": \"#2a3f5f\"}, \"baxis\": {\"endlinecolor\": \"#2a3f5f\", \"gridcolor\": \"white\", \"linecolor\": \"white\", \"minorgridcolor\": \"white\", \"startlinecolor\": \"#2a3f5f\"}, \"type\": \"carpet\"}], \"choropleth\": [{\"colorbar\": {\"outlinewidth\": 0, \"ticks\": \"\"}, \"type\": \"choropleth\"}], \"contour\": [{\"colorbar\": {\"outlinewidth\": 0, \"ticks\": \"\"}, \"colorscale\": [[0.0, \"#0d0887\"], [0.1111111111111111, \"#46039f\"], [0.2222222222222222, \"#7201a8\"], [0.3333333333333333, \"#9c179e\"], [0.4444444444444444, \"#bd3786\"], [0.5555555555555556, \"#d8576b\"], [0.6666666666666666, \"#ed7953\"], [0.7777777777777778, \"#fb9f3a\"], [0.8888888888888888, \"#fdca26\"], [1.0, \"#f0f921\"]], \"type\": \"contour\"}], \"contourcarpet\": [{\"colorbar\": {\"outlinewidth\": 0, \"ticks\": \"\"}, \"type\": \"contourcarpet\"}], \"heatmap\": [{\"colorbar\": {\"outlinewidth\": 0, \"ticks\": \"\"}, \"colorscale\": [[0.0, \"#0d0887\"], [0.1111111111111111, \"#46039f\"], [0.2222222222222222, \"#7201a8\"], [0.3333333333333333, \"#9c179e\"], [0.4444444444444444, \"#bd3786\"], [0.5555555555555556, \"#d8576b\"], [0.6666666666666666, \"#ed7953\"], [0.7777777777777778, \"#fb9f3a\"], [0.8888888888888888, \"#fdca26\"], [1.0, \"#f0f921\"]], \"type\": \"heatmap\"}], \"heatmapgl\": [{\"colorbar\": {\"outlinewidth\": 0, \"ticks\": \"\"}, \"colorscale\": [[0.0, \"#0d0887\"], [0.1111111111111111, \"#46039f\"], [0.2222222222222222, \"#7201a8\"], [0.3333333333333333, \"#9c179e\"], [0.4444444444444444, \"#bd3786\"], [0.5555555555555556, \"#d8576b\"], [0.6666666666666666, \"#ed7953\"], [0.7777777777777778, \"#fb9f3a\"], [0.8888888888888888, \"#fdca26\"], [1.0, \"#f0f921\"]], \"type\": \"heatmapgl\"}], \"histogram\": [{\"marker\": {\"colorbar\": {\"outlinewidth\": 0, \"ticks\": \"\"}}, \"type\": \"histogram\"}], \"histogram2d\": [{\"colorbar\": {\"outlinewidth\": 0, \"ticks\": \"\"}, \"colorscale\": [[0.0, \"#0d0887\"], [0.1111111111111111, \"#46039f\"], [0.2222222222222222, \"#7201a8\"], [0.3333333333333333, \"#9c179e\"], [0.4444444444444444, \"#bd3786\"], [0.5555555555555556, \"#d8576b\"], [0.6666666666666666, \"#ed7953\"], [0.7777777777777778, \"#fb9f3a\"], [0.8888888888888888, \"#fdca26\"], [1.0, \"#f0f921\"]], \"type\": \"histogram2d\"}], \"histogram2dcontour\": [{\"colorbar\": {\"outlinewidth\": 0, \"ticks\": \"\"}, \"colorscale\": [[0.0, \"#0d0887\"], [0.1111111111111111, \"#46039f\"], [0.2222222222222222, \"#7201a8\"], [0.3333333333333333, \"#9c179e\"], [0.4444444444444444, \"#bd3786\"], [0.5555555555555556, \"#d8576b\"], [0.6666666666666666, \"#ed7953\"], [0.7777777777777778, \"#fb9f3a\"], [0.8888888888888888, \"#fdca26\"], [1.0, \"#f0f921\"]], \"type\": \"histogram2dcontour\"}], \"mesh3d\": [{\"colorbar\": {\"outlinewidth\": 0, \"ticks\": \"\"}, \"type\": \"mesh3d\"}], \"parcoords\": [{\"line\": {\"colorbar\": {\"outlinewidth\": 0, \"ticks\": \"\"}}, \"type\": \"parcoords\"}], \"pie\": [{\"automargin\": true, \"type\": \"pie\"}], \"scatter\": [{\"marker\": {\"colorbar\": {\"outlinewidth\": 0, \"ticks\": \"\"}}, \"type\": \"scatter\"}], \"scatter3d\": [{\"line\": {\"colorbar\": {\"outlinewidth\": 0, \"ticks\": \"\"}}, \"marker\": {\"colorbar\": {\"outlinewidth\": 0, \"ticks\": \"\"}}, \"type\": \"scatter3d\"}], \"scattercarpet\": [{\"marker\": {\"colorbar\": {\"outlinewidth\": 0, \"ticks\": \"\"}}, \"type\": \"scattercarpet\"}], \"scattergeo\": [{\"marker\": {\"colorbar\": {\"outlinewidth\": 0, \"ticks\": \"\"}}, \"type\": \"scattergeo\"}], \"scattergl\": [{\"marker\": {\"colorbar\": {\"outlinewidth\": 0, \"ticks\": \"\"}}, \"type\": \"scattergl\"}], \"scattermapbox\": [{\"marker\": {\"colorbar\": {\"outlinewidth\": 0, \"ticks\": \"\"}}, \"type\": \"scattermapbox\"}], \"scatterpolar\": [{\"marker\": {\"colorbar\": {\"outlinewidth\": 0, \"ticks\": \"\"}}, \"type\": \"scatterpolar\"}], \"scatterpolargl\": [{\"marker\": {\"colorbar\": {\"outlinewidth\": 0, \"ticks\": \"\"}}, \"type\": \"scatterpolargl\"}], \"scatterternary\": [{\"marker\": {\"colorbar\": {\"outlinewidth\": 0, \"ticks\": \"\"}}, \"type\": \"scatterternary\"}], \"surface\": [{\"colorbar\": {\"outlinewidth\": 0, \"ticks\": \"\"}, \"colorscale\": [[0.0, \"#0d0887\"], [0.1111111111111111, \"#46039f\"], [0.2222222222222222, \"#7201a8\"], [0.3333333333333333, \"#9c179e\"], [0.4444444444444444, \"#bd3786\"], [0.5555555555555556, \"#d8576b\"], [0.6666666666666666, \"#ed7953\"], [0.7777777777777778, \"#fb9f3a\"], [0.8888888888888888, \"#fdca26\"], [1.0, \"#f0f921\"]], \"type\": \"surface\"}], \"table\": [{\"cells\": {\"fill\": {\"color\": \"#EBF0F8\"}, \"line\": {\"color\": \"white\"}}, \"header\": {\"fill\": {\"color\": \"#C8D4E3\"}, \"line\": {\"color\": \"white\"}}, \"type\": \"table\"}]}, \"layout\": {\"annotationdefaults\": {\"arrowcolor\": \"#2a3f5f\", \"arrowhead\": 0, \"arrowwidth\": 1}, \"coloraxis\": {\"colorbar\": {\"outlinewidth\": 0, \"ticks\": \"\"}}, \"colorscale\": {\"diverging\": [[0, \"#8e0152\"], [0.1, \"#c51b7d\"], [0.2, \"#de77ae\"], [0.3, \"#f1b6da\"], [0.4, \"#fde0ef\"], [0.5, \"#f7f7f7\"], [0.6, \"#e6f5d0\"], [0.7, \"#b8e186\"], [0.8, \"#7fbc41\"], [0.9, \"#4d9221\"], [1, \"#276419\"]], \"sequential\": [[0.0, \"#0d0887\"], [0.1111111111111111, \"#46039f\"], [0.2222222222222222, \"#7201a8\"], [0.3333333333333333, \"#9c179e\"], [0.4444444444444444, \"#bd3786\"], [0.5555555555555556, \"#d8576b\"], [0.6666666666666666, \"#ed7953\"], [0.7777777777777778, \"#fb9f3a\"], [0.8888888888888888, \"#fdca26\"], [1.0, \"#f0f921\"]], \"sequentialminus\": [[0.0, \"#0d0887\"], [0.1111111111111111, \"#46039f\"], [0.2222222222222222, \"#7201a8\"], [0.3333333333333333, \"#9c179e\"], [0.4444444444444444, \"#bd3786\"], [0.5555555555555556, \"#d8576b\"], [0.6666666666666666, \"#ed7953\"], [0.7777777777777778, \"#fb9f3a\"], [0.8888888888888888, \"#fdca26\"], [1.0, \"#f0f921\"]]}, \"colorway\": [\"#636efa\", \"#EF553B\", \"#00cc96\", \"#ab63fa\", \"#FFA15A\", \"#19d3f3\", \"#FF6692\", \"#B6E880\", \"#FF97FF\", \"#FECB52\"], \"font\": {\"color\": \"#2a3f5f\"}, \"geo\": {\"bgcolor\": \"white\", \"lakecolor\": \"white\", \"landcolor\": \"#E5ECF6\", \"showlakes\": true, \"showland\": true, \"subunitcolor\": \"white\"}, \"hoverlabel\": {\"align\": \"left\"}, \"hovermode\": \"closest\", \"mapbox\": {\"style\": \"light\"}, \"paper_bgcolor\": \"white\", \"plot_bgcolor\": \"#E5ECF6\", \"polar\": {\"angularaxis\": {\"gridcolor\": \"white\", \"linecolor\": \"white\", \"ticks\": \"\"}, \"bgcolor\": \"#E5ECF6\", \"radialaxis\": {\"gridcolor\": \"white\", \"linecolor\": \"white\", \"ticks\": \"\"}}, \"scene\": {\"xaxis\": {\"backgroundcolor\": \"#E5ECF6\", \"gridcolor\": \"white\", \"gridwidth\": 2, \"linecolor\": \"white\", \"showbackground\": true, \"ticks\": \"\", \"zerolinecolor\": \"white\"}, \"yaxis\": {\"backgroundcolor\": \"#E5ECF6\", \"gridcolor\": \"white\", \"gridwidth\": 2, \"linecolor\": \"white\", \"showbackground\": true, \"ticks\": \"\", \"zerolinecolor\": \"white\"}, \"zaxis\": {\"backgroundcolor\": \"#E5ECF6\", \"gridcolor\": \"white\", \"gridwidth\": 2, \"linecolor\": \"white\", \"showbackground\": true, \"ticks\": \"\", \"zerolinecolor\": \"white\"}}, \"shapedefaults\": {\"line\": {\"color\": \"#2a3f5f\"}}, \"ternary\": {\"aaxis\": {\"gridcolor\": \"white\", \"linecolor\": \"white\", \"ticks\": \"\"}, \"baxis\": {\"gridcolor\": \"white\", \"linecolor\": \"white\", \"ticks\": \"\"}, \"bgcolor\": \"#E5ECF6\", \"caxis\": {\"gridcolor\": \"white\", \"linecolor\": \"white\", \"ticks\": \"\"}}, \"title\": {\"x\": 0.05}, \"xaxis\": {\"automargin\": true, \"gridcolor\": \"white\", \"linecolor\": \"white\", \"ticks\": \"\", \"title\": {\"standoff\": 15}, \"zerolinecolor\": \"white\", \"zerolinewidth\": 2}, \"yaxis\": {\"automargin\": true, \"gridcolor\": \"white\", \"linecolor\": \"white\", \"ticks\": \"\", \"title\": {\"standoff\": 15}, \"zerolinecolor\": \"white\", \"zerolinewidth\": 2}}}, \"title\": {\"text\": \"Sentiment Polarity Boxplot of Popular News publishers\"}},\n",
              "                        {\"responsive\": true}\n",
              "                    ).then(function(){\n",
              "                            \n",
              "var gd = document.getElementById('3d0a34ef-8a73-4d1e-b70f-664a33c2ca6c');\n",
              "var x = new MutationObserver(function (mutations, observer) {{\n",
              "        var display = window.getComputedStyle(gd).display;\n",
              "        if (!display || display === 'none') {{\n",
              "            console.log([gd, 'removed!']);\n",
              "            Plotly.purge(gd);\n",
              "            observer.disconnect();\n",
              "        }}\n",
              "}});\n",
              "\n",
              "// Listen for the removal of the full notebook cells\n",
              "var notebookContainer = gd.closest('#notebook-container');\n",
              "if (notebookContainer) {{\n",
              "    x.observe(notebookContainer, {childList: true});\n",
              "}}\n",
              "\n",
              "// Listen for the clearing of the current output cell\n",
              "var outputEl = gd.closest('.output');\n",
              "if (outputEl) {{\n",
              "    x.observe(outputEl, {childList: true});\n",
              "}}\n",
              "\n",
              "                        })\n",
              "                };\n",
              "                });\n",
              "            </script>\n",
              "        </div>"
            ],
            "application/vnd.plotly.v1+json": {
              "data": [
                {
                  "marker": {
                    "color": "rgb(214, 12, 140)"
                  },
                  "y": [
                    -0.4404,
                    0.6369,
                    0.5106,
                    -0.8625,
                    -0.7906,
                    -0.0516,
                    -0.936,
                    -0.7351,
                    -0.5423,
                    -0.7003,
                    -0.93,
                    -0.9136,
                    0.0772,
                    0.6369,
                    0.4019,
                    0.4939,
                    -0.7783,
                    0.4939,
                    0.25,
                    -0.4215,
                    0.2263,
                    -0.4404,
                    -0.6705,
                    0.6486,
                    -0.6597,
                    -0.8074,
                    0.9169,
                    -0.8176,
                    0.5423,
                    0,
                    -0.9468,
                    0.4215,
                    -0.743,
                    0.8834,
                    -0.4939,
                    -0.5719,
                    0.6124,
                    0,
                    0.3612,
                    -0.8555,
                    0.0772,
                    -0.2263,
                    -0.9118,
                    0.4215,
                    0.7003,
                    -0.4939,
                    -0.6486,
                    0,
                    0.6908,
                    0.7964,
                    -0.1027,
                    0.128,
                    0.3182,
                    -0.25,
                    -0.4939,
                    -0.9349,
                    0.577,
                    -0.5574,
                    0.8402,
                    -0.7003,
                    -0.9001,
                    0.7003,
                    -0.1531,
                    0.6908,
                    -0.7269,
                    -0.5574,
                    -0.7096,
                    -0.9022,
                    0.8481,
                    0.7269,
                    -0.9451,
                    0.5994,
                    -0.9231,
                    -0.9686,
                    0.5106,
                    0.7184,
                    0.4404,
                    0.1531,
                    -0.743,
                    -0.5859,
                    -0.4927,
                    0.3182,
                    -0.9062,
                    0,
                    0.128,
                    -0.8126,
                    -0.2732,
                    -0.4404,
                    0,
                    -0.9756,
                    0.4215,
                    0,
                    -0.8779,
                    -0.9442,
                    -0.5423,
                    -0.1779,
                    0.4404,
                    -0.6486,
                    0,
                    0.4215
                  ],
                  "type": "box",
                  "name": "Al Jazeera"
                },
                {
                  "marker": {
                    "color": "rgb(0, 150, 128)"
                  },
                  "y": [
                    0,
                    0,
                    -0.4588,
                    -0.3818,
                    -0.128,
                    0.6808,
                    0.2732,
                    0.4019,
                    -0.7506,
                    -0.8957,
                    -0.8402,
                    0.34,
                    0.891,
                    -0.6369,
                    -0.9313,
                    0.4767,
                    -0.9382,
                    -0.4215,
                    0.1531,
                    -0.765,
                    0.7269,
                    -0.6808,
                    0.3818,
                    -0.5574,
                    -0.9118,
                    -0.0772,
                    -0.8176,
                    -0.8779,
                    -0.4939,
                    0,
                    -0.2263,
                    -0.9042,
                    -0.4939,
                    0.25,
                    -0.5994,
                    0.8658,
                    -0.4215,
                    -0.1531,
                    0.0976,
                    -0.8402,
                    -0.0772,
                    -0.1027,
                    0.7964,
                    -0.3818,
                    -0.6124,
                    -0.8885,
                    -0.9325,
                    -0.8176,
                    -0.8519,
                    -0.7906,
                    -0.9246,
                    -0.8591,
                    -0.6808,
                    0.6705,
                    -0.2263,
                    -0.9118,
                    -0.7906,
                    0.8074,
                    -0.3818,
                    -0.3818
                  ],
                  "type": "box",
                  "name": "BBC"
                },
                {
                  "marker": {
                    "color": "rgb(10, 140, 208)"
                  },
                  "y": [
                    0.7906,
                    0.128,
                    0.7906,
                    0,
                    -0.0258,
                    -0.9571,
                    0.0516,
                    -0.9201,
                    0.6597,
                    -0.3182,
                    -0.0258,
                    -0.7845,
                    0,
                    0,
                    0.0772,
                    -0.0516,
                    0.3182,
                    0.2781,
                    0,
                    -0.2263,
                    0,
                    -0.2635,
                    -0.8176,
                    0,
                    -0.7579,
                    -0.8271,
                    -0.128,
                    0.3818,
                    0.2263,
                    -0.534,
                    0,
                    0.1779,
                    0.34,
                    0.4019,
                    -0.6124,
                    -0.5574,
                    0.1027,
                    0.2732,
                    0.5719,
                    -0.7096,
                    0,
                    0.7845,
                    0.1531,
                    0.4767,
                    -0.4767,
                    0.4404,
                    0.8779,
                    0.4404,
                    -0.743,
                    0.1027,
                    -0.4767,
                    0.128,
                    0.1027,
                    -0.1027,
                    0,
                    -0.8807,
                    0.9062,
                    0.8519,
                    -0.4939,
                    0,
                    0.0258,
                    -0.9432,
                    -0.5267,
                    -0.5574,
                    0.8519,
                    -0.802,
                    -0.0258,
                    0,
                    -0.6249,
                    -0.2023,
                    -0.128,
                    0.6124,
                    -0.6705,
                    -0.7506,
                    -0.6486,
                    0,
                    0.34,
                    -0.5423,
                    0.0516,
                    0.2556,
                    -0.7003,
                    -0.9477,
                    0.4215,
                    -0.5267,
                    -0.3612,
                    0.296,
                    -0.1027,
                    0,
                    -0.5574,
                    0.4019,
                    0.7717,
                    0,
                    -0.2732,
                    0,
                    -0.7351,
                    0,
                    0.4588,
                    0.4019,
                    0,
                    0.2732
                  ],
                  "type": "box",
                  "name": "Wall Street Journal"
                },
                {
                  "marker": {
                    "color": "rgb(12, 102, 14)"
                  },
                  "y": [
                    -0.765,
                    0,
                    -0.8176,
                    -0.8934,
                    -0.34,
                    -0.7351,
                    -0.9698,
                    -0.872,
                    0.8176,
                    -0.3612,
                    -0.8176,
                    0,
                    0.5423,
                    -0.875,
                    0.2023,
                    -0.9186,
                    -0.5574,
                    -0.7971,
                    -0.8885,
                    -0.296,
                    -0.7351,
                    -0.1027,
                    0.4939,
                    0.2406,
                    -0.5106,
                    -0.926,
                    0,
                    -0.3182,
                    -0.891,
                    0,
                    0.4767,
                    0.4588,
                    0,
                    0.0516,
                    0.5994,
                    0.4767,
                    0.3612,
                    0.5859,
                    -0.4767,
                    -0.128,
                    0.1779,
                    -0.7003,
                    -0.7636,
                    -0.7579,
                    -0.6124,
                    -0.9081,
                    0,
                    -0.5994,
                    0,
                    -0.1531,
                    0.7184,
                    -0.34,
                    -0.8957,
                    0.1027,
                    -0.4019,
                    -0.0516,
                    -0.25,
                    0.4019,
                    0.743,
                    -0.6249,
                    0.6808,
                    -0.7783,
                    -0.9022,
                    -0.1027,
                    0,
                    0.1531,
                    -0.5574,
                    0,
                    -0.25,
                    0.8126,
                    -0.6391,
                    -0.7579,
                    0.836,
                    0.5267,
                    -0.4939,
                    0,
                    -0.4404,
                    0.1027,
                    -0.5423,
                    -0.926,
                    -0.5267,
                    -0.8271
                  ],
                  "type": "box",
                  "name": "Washington Post"
                },
                {
                  "marker": {
                    "color": "rgb(10, 0, 100)"
                  },
                  "y": [],
                  "type": "box",
                  "name": "Economist"
                },
                {
                  "marker": {
                    "color": "rgb(100, 0, 10)"
                  },
                  "y": [],
                  "type": "box",
                  "name": "Hindustantimes"
                }
              ],
              "config": {
                "plotlyServerURL": "https://plot.ly",
                "linkText": "Export to plot.ly",
                "showLink": false
              },
              "layout": {
                "template": {
                  "layout": {
                    "shapedefaults": {
                      "line": {
                        "color": "#2a3f5f"
                      }
                    },
                    "polar": {
                      "radialaxis": {
                        "ticks": "",
                        "gridcolor": "white",
                        "linecolor": "white"
                      },
                      "bgcolor": "#E5ECF6",
                      "angularaxis": {
                        "ticks": "",
                        "gridcolor": "white",
                        "linecolor": "white"
                      }
                    },
                    "colorway": [
                      "#636efa",
                      "#EF553B",
                      "#00cc96",
                      "#ab63fa",
                      "#FFA15A",
                      "#19d3f3",
                      "#FF6692",
                      "#B6E880",
                      "#FF97FF",
                      "#FECB52"
                    ],
                    "xaxis": {
                      "automargin": true,
                      "title": {
                        "standoff": 15
                      },
                      "zerolinewidth": 2,
                      "ticks": "",
                      "zerolinecolor": "white",
                      "gridcolor": "white",
                      "linecolor": "white"
                    },
                    "colorscale": {
                      "diverging": [
                        [
                          0,
                          "#8e0152"
                        ],
                        [
                          0.1,
                          "#c51b7d"
                        ],
                        [
                          0.2,
                          "#de77ae"
                        ],
                        [
                          0.3,
                          "#f1b6da"
                        ],
                        [
                          0.4,
                          "#fde0ef"
                        ],
                        [
                          0.5,
                          "#f7f7f7"
                        ],
                        [
                          0.6,
                          "#e6f5d0"
                        ],
                        [
                          0.7,
                          "#b8e186"
                        ],
                        [
                          0.8,
                          "#7fbc41"
                        ],
                        [
                          0.9,
                          "#4d9221"
                        ],
                        [
                          1,
                          "#276419"
                        ]
                      ],
                      "sequential": [
                        [
                          0,
                          "#0d0887"
                        ],
                        [
                          0.1111111111111111,
                          "#46039f"
                        ],
                        [
                          0.2222222222222222,
                          "#7201a8"
                        ],
                        [
                          0.3333333333333333,
                          "#9c179e"
                        ],
                        [
                          0.4444444444444444,
                          "#bd3786"
                        ],
                        [
                          0.5555555555555556,
                          "#d8576b"
                        ],
                        [
                          0.6666666666666666,
                          "#ed7953"
                        ],
                        [
                          0.7777777777777778,
                          "#fb9f3a"
                        ],
                        [
                          0.8888888888888888,
                          "#fdca26"
                        ],
                        [
                          1,
                          "#f0f921"
                        ]
                      ],
                      "sequentialminus": [
                        [
                          0,
                          "#0d0887"
                        ],
                        [
                          0.1111111111111111,
                          "#46039f"
                        ],
                        [
                          0.2222222222222222,
                          "#7201a8"
                        ],
                        [
                          0.3333333333333333,
                          "#9c179e"
                        ],
                        [
                          0.4444444444444444,
                          "#bd3786"
                        ],
                        [
                          0.5555555555555556,
                          "#d8576b"
                        ],
                        [
                          0.6666666666666666,
                          "#ed7953"
                        ],
                        [
                          0.7777777777777778,
                          "#fb9f3a"
                        ],
                        [
                          0.8888888888888888,
                          "#fdca26"
                        ],
                        [
                          1,
                          "#f0f921"
                        ]
                      ]
                    },
                    "paper_bgcolor": "white",
                    "plot_bgcolor": "#E5ECF6",
                    "title": {
                      "x": 0.05
                    },
                    "scene": {
                      "zaxis": {
                        "backgroundcolor": "#E5ECF6",
                        "ticks": "",
                        "gridwidth": 2,
                        "showbackground": true,
                        "zerolinecolor": "white",
                        "gridcolor": "white",
                        "linecolor": "white"
                      },
                      "xaxis": {
                        "backgroundcolor": "#E5ECF6",
                        "ticks": "",
                        "gridwidth": 2,
                        "showbackground": true,
                        "zerolinecolor": "white",
                        "gridcolor": "white",
                        "linecolor": "white"
                      },
                      "yaxis": {
                        "backgroundcolor": "#E5ECF6",
                        "ticks": "",
                        "gridwidth": 2,
                        "showbackground": true,
                        "zerolinecolor": "white",
                        "gridcolor": "white",
                        "linecolor": "white"
                      }
                    },
                    "yaxis": {
                      "automargin": true,
                      "title": {
                        "standoff": 15
                      },
                      "zerolinewidth": 2,
                      "ticks": "",
                      "zerolinecolor": "white",
                      "gridcolor": "white",
                      "linecolor": "white"
                    },
                    "annotationdefaults": {
                      "arrowwidth": 1,
                      "arrowhead": 0,
                      "arrowcolor": "#2a3f5f"
                    },
                    "hoverlabel": {
                      "align": "left"
                    },
                    "ternary": {
                      "bgcolor": "#E5ECF6",
                      "baxis": {
                        "ticks": "",
                        "gridcolor": "white",
                        "linecolor": "white"
                      },
                      "caxis": {
                        "ticks": "",
                        "gridcolor": "white",
                        "linecolor": "white"
                      },
                      "aaxis": {
                        "ticks": "",
                        "gridcolor": "white",
                        "linecolor": "white"
                      }
                    },
                    "mapbox": {
                      "style": "light"
                    },
                    "hovermode": "closest",
                    "font": {
                      "color": "#2a3f5f"
                    },
                    "geo": {
                      "showland": true,
                      "landcolor": "#E5ECF6",
                      "showlakes": true,
                      "bgcolor": "white",
                      "subunitcolor": "white",
                      "lakecolor": "white"
                    },
                    "coloraxis": {
                      "colorbar": {
                        "outlinewidth": 0,
                        "ticks": ""
                      }
                    }
                  },
                  "data": {
                    "mesh3d": [
                      {
                        "colorbar": {
                          "outlinewidth": 0,
                          "ticks": ""
                        },
                        "type": "mesh3d"
                      }
                    ],
                    "scattercarpet": [
                      {
                        "marker": {
                          "colorbar": {
                            "outlinewidth": 0,
                            "ticks": ""
                          }
                        },
                        "type": "scattercarpet"
                      }
                    ],
                    "pie": [
                      {
                        "automargin": true,
                        "type": "pie"
                      }
                    ],
                    "surface": [
                      {
                        "colorbar": {
                          "outlinewidth": 0,
                          "ticks": ""
                        },
                        "type": "surface",
                        "colorscale": [
                          [
                            0,
                            "#0d0887"
                          ],
                          [
                            0.1111111111111111,
                            "#46039f"
                          ],
                          [
                            0.2222222222222222,
                            "#7201a8"
                          ],
                          [
                            0.3333333333333333,
                            "#9c179e"
                          ],
                          [
                            0.4444444444444444,
                            "#bd3786"
                          ],
                          [
                            0.5555555555555556,
                            "#d8576b"
                          ],
                          [
                            0.6666666666666666,
                            "#ed7953"
                          ],
                          [
                            0.7777777777777778,
                            "#fb9f3a"
                          ],
                          [
                            0.8888888888888888,
                            "#fdca26"
                          ],
                          [
                            1,
                            "#f0f921"
                          ]
                        ]
                      }
                    ],
                    "table": [
                      {
                        "header": {
                          "line": {
                            "color": "white"
                          },
                          "fill": {
                            "color": "#C8D4E3"
                          }
                        },
                        "cells": {
                          "line": {
                            "color": "white"
                          },
                          "fill": {
                            "color": "#EBF0F8"
                          }
                        },
                        "type": "table"
                      }
                    ],
                    "scatterpolargl": [
                      {
                        "marker": {
                          "colorbar": {
                            "outlinewidth": 0,
                            "ticks": ""
                          }
                        },
                        "type": "scatterpolargl"
                      }
                    ],
                    "contour": [
                      {
                        "colorbar": {
                          "outlinewidth": 0,
                          "ticks": ""
                        },
                        "type": "contour",
                        "colorscale": [
                          [
                            0,
                            "#0d0887"
                          ],
                          [
                            0.1111111111111111,
                            "#46039f"
                          ],
                          [
                            0.2222222222222222,
                            "#7201a8"
                          ],
                          [
                            0.3333333333333333,
                            "#9c179e"
                          ],
                          [
                            0.4444444444444444,
                            "#bd3786"
                          ],
                          [
                            0.5555555555555556,
                            "#d8576b"
                          ],
                          [
                            0.6666666666666666,
                            "#ed7953"
                          ],
                          [
                            0.7777777777777778,
                            "#fb9f3a"
                          ],
                          [
                            0.8888888888888888,
                            "#fdca26"
                          ],
                          [
                            1,
                            "#f0f921"
                          ]
                        ]
                      }
                    ],
                    "carpet": [
                      {
                        "type": "carpet",
                        "baxis": {
                          "minorgridcolor": "white",
                          "gridcolor": "white",
                          "linecolor": "white",
                          "endlinecolor": "#2a3f5f",
                          "startlinecolor": "#2a3f5f"
                        },
                        "aaxis": {
                          "minorgridcolor": "white",
                          "gridcolor": "white",
                          "linecolor": "white",
                          "endlinecolor": "#2a3f5f",
                          "startlinecolor": "#2a3f5f"
                        }
                      }
                    ],
                    "contourcarpet": [
                      {
                        "colorbar": {
                          "outlinewidth": 0,
                          "ticks": ""
                        },
                        "type": "contourcarpet"
                      }
                    ],
                    "heatmap": [
                      {
                        "colorbar": {
                          "outlinewidth": 0,
                          "ticks": ""
                        },
                        "type": "heatmap",
                        "colorscale": [
                          [
                            0,
                            "#0d0887"
                          ],
                          [
                            0.1111111111111111,
                            "#46039f"
                          ],
                          [
                            0.2222222222222222,
                            "#7201a8"
                          ],
                          [
                            0.3333333333333333,
                            "#9c179e"
                          ],
                          [
                            0.4444444444444444,
                            "#bd3786"
                          ],
                          [
                            0.5555555555555556,
                            "#d8576b"
                          ],
                          [
                            0.6666666666666666,
                            "#ed7953"
                          ],
                          [
                            0.7777777777777778,
                            "#fb9f3a"
                          ],
                          [
                            0.8888888888888888,
                            "#fdca26"
                          ],
                          [
                            1,
                            "#f0f921"
                          ]
                        ]
                      }
                    ],
                    "scattermapbox": [
                      {
                        "marker": {
                          "colorbar": {
                            "outlinewidth": 0,
                            "ticks": ""
                          }
                        },
                        "type": "scattermapbox"
                      }
                    ],
                    "scatter3d": [
                      {
                        "marker": {
                          "colorbar": {
                            "outlinewidth": 0,
                            "ticks": ""
                          }
                        },
                        "line": {
                          "colorbar": {
                            "outlinewidth": 0,
                            "ticks": ""
                          }
                        },
                        "type": "scatter3d"
                      }
                    ],
                    "scattergl": [
                      {
                        "marker": {
                          "colorbar": {
                            "outlinewidth": 0,
                            "ticks": ""
                          }
                        },
                        "type": "scattergl"
                      }
                    ],
                    "scatterternary": [
                      {
                        "marker": {
                          "colorbar": {
                            "outlinewidth": 0,
                            "ticks": ""
                          }
                        },
                        "type": "scatterternary"
                      }
                    ],
                    "histogram": [
                      {
                        "marker": {
                          "colorbar": {
                            "outlinewidth": 0,
                            "ticks": ""
                          }
                        },
                        "type": "histogram"
                      }
                    ],
                    "heatmapgl": [
                      {
                        "colorbar": {
                          "outlinewidth": 0,
                          "ticks": ""
                        },
                        "type": "heatmapgl",
                        "colorscale": [
                          [
                            0,
                            "#0d0887"
                          ],
                          [
                            0.1111111111111111,
                            "#46039f"
                          ],
                          [
                            0.2222222222222222,
                            "#7201a8"
                          ],
                          [
                            0.3333333333333333,
                            "#9c179e"
                          ],
                          [
                            0.4444444444444444,
                            "#bd3786"
                          ],
                          [
                            0.5555555555555556,
                            "#d8576b"
                          ],
                          [
                            0.6666666666666666,
                            "#ed7953"
                          ],
                          [
                            0.7777777777777778,
                            "#fb9f3a"
                          ],
                          [
                            0.8888888888888888,
                            "#fdca26"
                          ],
                          [
                            1,
                            "#f0f921"
                          ]
                        ]
                      }
                    ],
                    "scatterpolar": [
                      {
                        "marker": {
                          "colorbar": {
                            "outlinewidth": 0,
                            "ticks": ""
                          }
                        },
                        "type": "scatterpolar"
                      }
                    ],
                    "histogram2d": [
                      {
                        "colorbar": {
                          "outlinewidth": 0,
                          "ticks": ""
                        },
                        "type": "histogram2d",
                        "colorscale": [
                          [
                            0,
                            "#0d0887"
                          ],
                          [
                            0.1111111111111111,
                            "#46039f"
                          ],
                          [
                            0.2222222222222222,
                            "#7201a8"
                          ],
                          [
                            0.3333333333333333,
                            "#9c179e"
                          ],
                          [
                            0.4444444444444444,
                            "#bd3786"
                          ],
                          [
                            0.5555555555555556,
                            "#d8576b"
                          ],
                          [
                            0.6666666666666666,
                            "#ed7953"
                          ],
                          [
                            0.7777777777777778,
                            "#fb9f3a"
                          ],
                          [
                            0.8888888888888888,
                            "#fdca26"
                          ],
                          [
                            1,
                            "#f0f921"
                          ]
                        ]
                      }
                    ],
                    "scattergeo": [
                      {
                        "marker": {
                          "colorbar": {
                            "outlinewidth": 0,
                            "ticks": ""
                          }
                        },
                        "type": "scattergeo"
                      }
                    ],
                    "bar": [
                      {
                        "marker": {
                          "line": {
                            "color": "#E5ECF6",
                            "width": 0.5
                          }
                        },
                        "type": "bar",
                        "error_x": {
                          "color": "#2a3f5f"
                        },
                        "error_y": {
                          "color": "#2a3f5f"
                        }
                      }
                    ],
                    "choropleth": [
                      {
                        "colorbar": {
                          "outlinewidth": 0,
                          "ticks": ""
                        },
                        "type": "choropleth"
                      }
                    ],
                    "parcoords": [
                      {
                        "line": {
                          "colorbar": {
                            "outlinewidth": 0,
                            "ticks": ""
                          }
                        },
                        "type": "parcoords"
                      }
                    ],
                    "barpolar": [
                      {
                        "marker": {
                          "line": {
                            "color": "#E5ECF6",
                            "width": 0.5
                          }
                        },
                        "type": "barpolar"
                      }
                    ],
                    "histogram2dcontour": [
                      {
                        "colorbar": {
                          "outlinewidth": 0,
                          "ticks": ""
                        },
                        "type": "histogram2dcontour",
                        "colorscale": [
                          [
                            0,
                            "#0d0887"
                          ],
                          [
                            0.1111111111111111,
                            "#46039f"
                          ],
                          [
                            0.2222222222222222,
                            "#7201a8"
                          ],
                          [
                            0.3333333333333333,
                            "#9c179e"
                          ],
                          [
                            0.4444444444444444,
                            "#bd3786"
                          ],
                          [
                            0.5555555555555556,
                            "#d8576b"
                          ],
                          [
                            0.6666666666666666,
                            "#ed7953"
                          ],
                          [
                            0.7777777777777778,
                            "#fb9f3a"
                          ],
                          [
                            0.8888888888888888,
                            "#fdca26"
                          ],
                          [
                            1,
                            "#f0f921"
                          ]
                        ]
                      }
                    ],
                    "scatter": [
                      {
                        "marker": {
                          "colorbar": {
                            "outlinewidth": 0,
                            "ticks": ""
                          }
                        },
                        "type": "scatter"
                      }
                    ]
                  }
                },
                "title": {
                  "text": "Sentiment Polarity Boxplot of Popular News publishers"
                }
              }
            }
          },
          "metadata": {
            "tags": []
          }
        }
      ]
    },
    {
      "cell_type": "code",
      "metadata": {
        "colab": {
          "base_uri": "https://localhost:8080/",
          "height": 542
        },
        "id": "HwFJwk-CGdD0",
        "outputId": "39032b1f-c1b0-4768-931a-dd757308bf9e"
      },
      "source": [
        "y0 = headlines_polarity.loc[headlines_polarity['source'] == 'Al Jazeera English']['word_count']\n",
        "y1 = headlines_polarity.loc[headlines_polarity['source'] == 'BBC News']['word_count']\n",
        "y2 = headlines_polarity.loc[headlines_polarity['source'] == 'The Wall Street Journal']['word_count']\n",
        "y3 = headlines_polarity.loc[headlines_polarity['source'] == 'The Washington Post']['word_count']\n",
        "y4 = headlines_polarity.loc[headlines_polarity['source'] == 'Economist.com']['word_count']\n",
        "y5 = headlines_polarity.loc[headlines_polarity['source'] == 'Hindustantimes.com']['word_count']\n",
        "\n",
        "trace0 = go.Box(\n",
        "    y=y0,\n",
        "    name = 'Al Jazeera',\n",
        "    marker = dict(\n",
        "        color = 'rgb(214, 12, 140)',\n",
        "    )\n",
        ")\n",
        "trace1 = go.Box(\n",
        "    y=y1,\n",
        "    name = 'BBC',\n",
        "    marker = dict(\n",
        "        color = 'rgb(0, 150, 128)',\n",
        "    )\n",
        ")\n",
        "trace2 = go.Box(\n",
        "    y=y2,\n",
        "    name = 'Wall Street Journal',\n",
        "    marker = dict(\n",
        "        color = 'rgb(10, 140, 208)',\n",
        "    )\n",
        ")\n",
        "trace3 = go.Box(\n",
        "    y=y3,\n",
        "    name = 'Washington Post',\n",
        "    marker = dict(\n",
        "        color = 'rgb(12, 102, 14)',\n",
        "    )\n",
        ")\n",
        "trace4 = go.Box(\n",
        "    y=y4,\n",
        "    name = 'Economist',\n",
        "    marker = dict(\n",
        "        color = 'rgb(10, 0, 100)',\n",
        "    )\n",
        ")\n",
        "trace5 = go.Box(\n",
        "    y=y5,\n",
        "    name = 'Hindustantimes',\n",
        "    marker = dict(\n",
        "        color = 'rgb(100, 0, 10)',\n",
        "    )\n",
        ")\n",
        "data = [trace0, trace1, trace2, trace3, trace4, trace5]\n",
        "layout = go.Layout(\n",
        "    title = \"Headline Length Boxplot of Popular News publishers\"\n",
        ")\n",
        "\n",
        "fig = go.Figure(data=data,layout=layout)\n",
        "iplot(fig, filename = \"Headline Length Boxplot of Popular News publishers\")"
      ],
      "execution_count": null,
      "outputs": [
        {
          "output_type": "display_data",
          "data": {
            "text/html": [
              "<div>\n",
              "        \n",
              "        \n",
              "            <div id=\"37ae37cd-24c6-4e8a-a72f-22722a08c878\" class=\"plotly-graph-div\" style=\"height:525px; width:100%;\"></div>\n",
              "            <script type=\"text/javascript\">\n",
              "                require([\"plotly\"], function(Plotly) {\n",
              "                    window.PLOTLYENV=window.PLOTLYENV || {};\n",
              "                    \n",
              "                if (document.getElementById(\"37ae37cd-24c6-4e8a-a72f-22722a08c878\")) {\n",
              "                    Plotly.newPlot(\n",
              "                        '37ae37cd-24c6-4e8a-a72f-22722a08c878',\n",
              "                        [{\"marker\": {\"color\": \"rgb(214, 12, 140)\"}, \"name\": \"Al Jazeera\", \"type\": \"box\", \"y\": [29, 27, 28, 30, 30, 29, 27, 23, 17, 31, 29, 27, 26, 31, 27, 27, 29, 29, 31, 33, 27, 28, 30, 32, 29, 27, 32, 31, 30, 30, 31, 29, 25, 27, 28, 30, 24, 30, 26, 27, 22, 30, 31, 28, 24, 25, 26, 30, 26, 32, 29, 23, 28, 25, 16, 31, 28, 27, 26, 30, 28, 27, 27, 30, 29, 31, 31, 28, 32, 27, 30, 33, 35, 27, 25, 29, 25, 26, 28, 29, 27, 26, 34, 31, 29, 31, 29, 27, 29, 32, 35, 27, 23, 26, 29, 27, 30, 28, 28, 29]}, {\"marker\": {\"color\": \"rgb(0, 150, 128)\"}, \"name\": \"BBC\", \"type\": \"box\", \"y\": [33, 27, 31, 30, 26, 25, 31, 28, 28, 27, 26, 25, 29, 30, 27, 22, 30, 25, 26, 26, 31, 34, 28, 31, 28, 26, 28, 27, 10, 32, 30, 31, 31, 31, 26, 30, 28, 32, 25, 28, 28, 29, 28, 27, 31, 30, 28, 27, 26, 29, 19, 27, 28, 32, 32, 29, 24, 29, 32, 29]}, {\"marker\": {\"color\": \"rgb(10, 140, 208)\"}, \"name\": \"Wall Street Journal\", \"type\": \"box\", \"y\": [33, 30, 31, 34, 37, 32, 34, 31, 33, 32, 37, 19, 27, 26, 23, 28, 24, 26, 29, 30, 32, 28, 23, 22, 27, 30, 27, 26, 22, 28, 31, 30, 30, 25, 26, 31, 27, 28, 31, 33, 26, 26, 28, 25, 24, 25, 30, 32, 27, 30, 28, 30, 26, 27, 32, 30, 27, 28, 27, 23, 29, 26, 30, 25, 28, 24, 29, 23, 27, 29, 28, 24, 26, 24, 29, 28, 28, 29, 31, 28, 27, 31, 31, 31, 29, 29, 28, 32, 27, 25, 28, 31, 28, 33, 28, 25, 26, 31, 26, 28]}, {\"marker\": {\"color\": \"rgb(12, 102, 14)\"}, \"name\": \"Washington Post\", \"type\": \"box\", \"y\": [40, 31, 32, 33, 26, 35, 38, 35, 35, 28, 34, 29, 30, 35, 38, 27, 29, 35, 31, 25, 32, 24, 26, 32, 32, 28, 28, 27, 31, 25, 27, 31, 24, 31, 29, 23, 26, 31, 27, 33, 26, 26, 29, 29, 34, 33, 29, 28, 28, 27, 28, 22, 29, 27, 27, 23, 30, 27, 30, 23, 24, 34, 32, 26, 26, 25, 21, 22, 25, 27, 27, 34, 28, 24, 32, 24, 27, 30, 31, 31, 30, 28]}, {\"marker\": {\"color\": \"rgb(10, 0, 100)\"}, \"name\": \"Economist\", \"type\": \"box\", \"y\": []}, {\"marker\": {\"color\": \"rgb(100, 0, 10)\"}, \"name\": \"Hindustantimes\", \"type\": \"box\", \"y\": []}],\n",
              "                        {\"template\": {\"data\": {\"bar\": [{\"error_x\": {\"color\": \"#2a3f5f\"}, \"error_y\": {\"color\": \"#2a3f5f\"}, \"marker\": {\"line\": {\"color\": \"#E5ECF6\", \"width\": 0.5}}, \"type\": \"bar\"}], \"barpolar\": [{\"marker\": {\"line\": {\"color\": \"#E5ECF6\", \"width\": 0.5}}, \"type\": \"barpolar\"}], \"carpet\": [{\"aaxis\": {\"endlinecolor\": \"#2a3f5f\", \"gridcolor\": \"white\", \"linecolor\": \"white\", \"minorgridcolor\": \"white\", \"startlinecolor\": \"#2a3f5f\"}, \"baxis\": {\"endlinecolor\": \"#2a3f5f\", \"gridcolor\": \"white\", \"linecolor\": \"white\", \"minorgridcolor\": \"white\", \"startlinecolor\": \"#2a3f5f\"}, \"type\": \"carpet\"}], \"choropleth\": [{\"colorbar\": {\"outlinewidth\": 0, \"ticks\": \"\"}, \"type\": \"choropleth\"}], \"contour\": [{\"colorbar\": {\"outlinewidth\": 0, \"ticks\": \"\"}, \"colorscale\": [[0.0, \"#0d0887\"], [0.1111111111111111, \"#46039f\"], [0.2222222222222222, \"#7201a8\"], [0.3333333333333333, \"#9c179e\"], [0.4444444444444444, \"#bd3786\"], [0.5555555555555556, \"#d8576b\"], [0.6666666666666666, \"#ed7953\"], [0.7777777777777778, \"#fb9f3a\"], [0.8888888888888888, \"#fdca26\"], [1.0, \"#f0f921\"]], \"type\": \"contour\"}], \"contourcarpet\": [{\"colorbar\": {\"outlinewidth\": 0, \"ticks\": \"\"}, \"type\": \"contourcarpet\"}], \"heatmap\": [{\"colorbar\": {\"outlinewidth\": 0, \"ticks\": \"\"}, \"colorscale\": [[0.0, \"#0d0887\"], [0.1111111111111111, \"#46039f\"], [0.2222222222222222, \"#7201a8\"], [0.3333333333333333, \"#9c179e\"], [0.4444444444444444, \"#bd3786\"], [0.5555555555555556, \"#d8576b\"], [0.6666666666666666, \"#ed7953\"], [0.7777777777777778, \"#fb9f3a\"], [0.8888888888888888, \"#fdca26\"], [1.0, \"#f0f921\"]], \"type\": \"heatmap\"}], \"heatmapgl\": [{\"colorbar\": {\"outlinewidth\": 0, \"ticks\": \"\"}, \"colorscale\": [[0.0, \"#0d0887\"], [0.1111111111111111, \"#46039f\"], [0.2222222222222222, \"#7201a8\"], [0.3333333333333333, \"#9c179e\"], [0.4444444444444444, \"#bd3786\"], [0.5555555555555556, \"#d8576b\"], [0.6666666666666666, \"#ed7953\"], [0.7777777777777778, \"#fb9f3a\"], [0.8888888888888888, \"#fdca26\"], [1.0, \"#f0f921\"]], \"type\": \"heatmapgl\"}], \"histogram\": [{\"marker\": {\"colorbar\": {\"outlinewidth\": 0, \"ticks\": \"\"}}, \"type\": \"histogram\"}], \"histogram2d\": [{\"colorbar\": {\"outlinewidth\": 0, \"ticks\": \"\"}, \"colorscale\": [[0.0, \"#0d0887\"], [0.1111111111111111, \"#46039f\"], [0.2222222222222222, \"#7201a8\"], [0.3333333333333333, \"#9c179e\"], [0.4444444444444444, \"#bd3786\"], [0.5555555555555556, \"#d8576b\"], [0.6666666666666666, \"#ed7953\"], [0.7777777777777778, \"#fb9f3a\"], [0.8888888888888888, \"#fdca26\"], [1.0, \"#f0f921\"]], \"type\": \"histogram2d\"}], \"histogram2dcontour\": [{\"colorbar\": {\"outlinewidth\": 0, \"ticks\": \"\"}, \"colorscale\": [[0.0, \"#0d0887\"], [0.1111111111111111, \"#46039f\"], [0.2222222222222222, \"#7201a8\"], [0.3333333333333333, \"#9c179e\"], [0.4444444444444444, \"#bd3786\"], [0.5555555555555556, \"#d8576b\"], [0.6666666666666666, \"#ed7953\"], [0.7777777777777778, \"#fb9f3a\"], [0.8888888888888888, \"#fdca26\"], [1.0, \"#f0f921\"]], \"type\": \"histogram2dcontour\"}], \"mesh3d\": [{\"colorbar\": {\"outlinewidth\": 0, \"ticks\": \"\"}, \"type\": \"mesh3d\"}], \"parcoords\": [{\"line\": {\"colorbar\": {\"outlinewidth\": 0, \"ticks\": \"\"}}, \"type\": \"parcoords\"}], \"pie\": [{\"automargin\": true, \"type\": \"pie\"}], \"scatter\": [{\"marker\": {\"colorbar\": {\"outlinewidth\": 0, \"ticks\": \"\"}}, \"type\": \"scatter\"}], \"scatter3d\": [{\"line\": {\"colorbar\": {\"outlinewidth\": 0, \"ticks\": \"\"}}, \"marker\": {\"colorbar\": {\"outlinewidth\": 0, \"ticks\": \"\"}}, \"type\": \"scatter3d\"}], \"scattercarpet\": [{\"marker\": {\"colorbar\": {\"outlinewidth\": 0, \"ticks\": \"\"}}, \"type\": \"scattercarpet\"}], \"scattergeo\": [{\"marker\": {\"colorbar\": {\"outlinewidth\": 0, \"ticks\": \"\"}}, \"type\": \"scattergeo\"}], \"scattergl\": [{\"marker\": {\"colorbar\": {\"outlinewidth\": 0, \"ticks\": \"\"}}, \"type\": \"scattergl\"}], \"scattermapbox\": [{\"marker\": {\"colorbar\": {\"outlinewidth\": 0, \"ticks\": \"\"}}, \"type\": \"scattermapbox\"}], \"scatterpolar\": [{\"marker\": {\"colorbar\": {\"outlinewidth\": 0, \"ticks\": \"\"}}, \"type\": \"scatterpolar\"}], \"scatterpolargl\": [{\"marker\": {\"colorbar\": {\"outlinewidth\": 0, \"ticks\": \"\"}}, \"type\": \"scatterpolargl\"}], \"scatterternary\": [{\"marker\": {\"colorbar\": {\"outlinewidth\": 0, \"ticks\": \"\"}}, \"type\": \"scatterternary\"}], \"surface\": [{\"colorbar\": {\"outlinewidth\": 0, \"ticks\": \"\"}, \"colorscale\": [[0.0, \"#0d0887\"], [0.1111111111111111, \"#46039f\"], [0.2222222222222222, \"#7201a8\"], [0.3333333333333333, \"#9c179e\"], [0.4444444444444444, \"#bd3786\"], [0.5555555555555556, \"#d8576b\"], [0.6666666666666666, \"#ed7953\"], [0.7777777777777778, \"#fb9f3a\"], [0.8888888888888888, \"#fdca26\"], [1.0, \"#f0f921\"]], \"type\": \"surface\"}], \"table\": [{\"cells\": {\"fill\": {\"color\": \"#EBF0F8\"}, \"line\": {\"color\": \"white\"}}, \"header\": {\"fill\": {\"color\": \"#C8D4E3\"}, \"line\": {\"color\": \"white\"}}, \"type\": \"table\"}]}, \"layout\": {\"annotationdefaults\": {\"arrowcolor\": \"#2a3f5f\", \"arrowhead\": 0, \"arrowwidth\": 1}, \"coloraxis\": {\"colorbar\": {\"outlinewidth\": 0, \"ticks\": \"\"}}, \"colorscale\": {\"diverging\": [[0, \"#8e0152\"], [0.1, \"#c51b7d\"], [0.2, \"#de77ae\"], [0.3, \"#f1b6da\"], [0.4, \"#fde0ef\"], [0.5, \"#f7f7f7\"], [0.6, \"#e6f5d0\"], [0.7, \"#b8e186\"], [0.8, \"#7fbc41\"], [0.9, \"#4d9221\"], [1, \"#276419\"]], \"sequential\": [[0.0, \"#0d0887\"], [0.1111111111111111, \"#46039f\"], [0.2222222222222222, \"#7201a8\"], [0.3333333333333333, \"#9c179e\"], [0.4444444444444444, \"#bd3786\"], [0.5555555555555556, \"#d8576b\"], [0.6666666666666666, \"#ed7953\"], [0.7777777777777778, \"#fb9f3a\"], [0.8888888888888888, \"#fdca26\"], [1.0, \"#f0f921\"]], \"sequentialminus\": [[0.0, \"#0d0887\"], [0.1111111111111111, \"#46039f\"], [0.2222222222222222, \"#7201a8\"], [0.3333333333333333, \"#9c179e\"], [0.4444444444444444, \"#bd3786\"], [0.5555555555555556, \"#d8576b\"], [0.6666666666666666, \"#ed7953\"], [0.7777777777777778, \"#fb9f3a\"], [0.8888888888888888, \"#fdca26\"], [1.0, \"#f0f921\"]]}, \"colorway\": [\"#636efa\", \"#EF553B\", \"#00cc96\", \"#ab63fa\", \"#FFA15A\", \"#19d3f3\", \"#FF6692\", \"#B6E880\", \"#FF97FF\", \"#FECB52\"], \"font\": {\"color\": \"#2a3f5f\"}, \"geo\": {\"bgcolor\": \"white\", \"lakecolor\": \"white\", \"landcolor\": \"#E5ECF6\", \"showlakes\": true, \"showland\": true, \"subunitcolor\": \"white\"}, \"hoverlabel\": {\"align\": \"left\"}, \"hovermode\": \"closest\", \"mapbox\": {\"style\": \"light\"}, \"paper_bgcolor\": \"white\", \"plot_bgcolor\": \"#E5ECF6\", \"polar\": {\"angularaxis\": {\"gridcolor\": \"white\", \"linecolor\": \"white\", \"ticks\": \"\"}, \"bgcolor\": \"#E5ECF6\", \"radialaxis\": {\"gridcolor\": \"white\", \"linecolor\": \"white\", \"ticks\": \"\"}}, \"scene\": {\"xaxis\": {\"backgroundcolor\": \"#E5ECF6\", \"gridcolor\": \"white\", \"gridwidth\": 2, \"linecolor\": \"white\", \"showbackground\": true, \"ticks\": \"\", \"zerolinecolor\": \"white\"}, \"yaxis\": {\"backgroundcolor\": \"#E5ECF6\", \"gridcolor\": \"white\", \"gridwidth\": 2, \"linecolor\": \"white\", \"showbackground\": true, \"ticks\": \"\", \"zerolinecolor\": \"white\"}, \"zaxis\": {\"backgroundcolor\": \"#E5ECF6\", \"gridcolor\": \"white\", \"gridwidth\": 2, \"linecolor\": \"white\", \"showbackground\": true, \"ticks\": \"\", \"zerolinecolor\": \"white\"}}, \"shapedefaults\": {\"line\": {\"color\": \"#2a3f5f\"}}, \"ternary\": {\"aaxis\": {\"gridcolor\": \"white\", \"linecolor\": \"white\", \"ticks\": \"\"}, \"baxis\": {\"gridcolor\": \"white\", \"linecolor\": \"white\", \"ticks\": \"\"}, \"bgcolor\": \"#E5ECF6\", \"caxis\": {\"gridcolor\": \"white\", \"linecolor\": \"white\", \"ticks\": \"\"}}, \"title\": {\"x\": 0.05}, \"xaxis\": {\"automargin\": true, \"gridcolor\": \"white\", \"linecolor\": \"white\", \"ticks\": \"\", \"title\": {\"standoff\": 15}, \"zerolinecolor\": \"white\", \"zerolinewidth\": 2}, \"yaxis\": {\"automargin\": true, \"gridcolor\": \"white\", \"linecolor\": \"white\", \"ticks\": \"\", \"title\": {\"standoff\": 15}, \"zerolinecolor\": \"white\", \"zerolinewidth\": 2}}}, \"title\": {\"text\": \"Headline Length Boxplot of Popular News publishers\"}},\n",
              "                        {\"responsive\": true}\n",
              "                    ).then(function(){\n",
              "                            \n",
              "var gd = document.getElementById('37ae37cd-24c6-4e8a-a72f-22722a08c878');\n",
              "var x = new MutationObserver(function (mutations, observer) {{\n",
              "        var display = window.getComputedStyle(gd).display;\n",
              "        if (!display || display === 'none') {{\n",
              "            console.log([gd, 'removed!']);\n",
              "            Plotly.purge(gd);\n",
              "            observer.disconnect();\n",
              "        }}\n",
              "}});\n",
              "\n",
              "// Listen for the removal of the full notebook cells\n",
              "var notebookContainer = gd.closest('#notebook-container');\n",
              "if (notebookContainer) {{\n",
              "    x.observe(notebookContainer, {childList: true});\n",
              "}}\n",
              "\n",
              "// Listen for the clearing of the current output cell\n",
              "var outputEl = gd.closest('.output');\n",
              "if (outputEl) {{\n",
              "    x.observe(outputEl, {childList: true});\n",
              "}}\n",
              "\n",
              "                        })\n",
              "                };\n",
              "                });\n",
              "            </script>\n",
              "        </div>"
            ],
            "application/vnd.plotly.v1+json": {
              "data": [
                {
                  "marker": {
                    "color": "rgb(214, 12, 140)"
                  },
                  "y": [
                    29,
                    27,
                    28,
                    30,
                    30,
                    29,
                    27,
                    23,
                    17,
                    31,
                    29,
                    27,
                    26,
                    31,
                    27,
                    27,
                    29,
                    29,
                    31,
                    33,
                    27,
                    28,
                    30,
                    32,
                    29,
                    27,
                    32,
                    31,
                    30,
                    30,
                    31,
                    29,
                    25,
                    27,
                    28,
                    30,
                    24,
                    30,
                    26,
                    27,
                    22,
                    30,
                    31,
                    28,
                    24,
                    25,
                    26,
                    30,
                    26,
                    32,
                    29,
                    23,
                    28,
                    25,
                    16,
                    31,
                    28,
                    27,
                    26,
                    30,
                    28,
                    27,
                    27,
                    30,
                    29,
                    31,
                    31,
                    28,
                    32,
                    27,
                    30,
                    33,
                    35,
                    27,
                    25,
                    29,
                    25,
                    26,
                    28,
                    29,
                    27,
                    26,
                    34,
                    31,
                    29,
                    31,
                    29,
                    27,
                    29,
                    32,
                    35,
                    27,
                    23,
                    26,
                    29,
                    27,
                    30,
                    28,
                    28,
                    29
                  ],
                  "type": "box",
                  "name": "Al Jazeera"
                },
                {
                  "marker": {
                    "color": "rgb(0, 150, 128)"
                  },
                  "y": [
                    33,
                    27,
                    31,
                    30,
                    26,
                    25,
                    31,
                    28,
                    28,
                    27,
                    26,
                    25,
                    29,
                    30,
                    27,
                    22,
                    30,
                    25,
                    26,
                    26,
                    31,
                    34,
                    28,
                    31,
                    28,
                    26,
                    28,
                    27,
                    10,
                    32,
                    30,
                    31,
                    31,
                    31,
                    26,
                    30,
                    28,
                    32,
                    25,
                    28,
                    28,
                    29,
                    28,
                    27,
                    31,
                    30,
                    28,
                    27,
                    26,
                    29,
                    19,
                    27,
                    28,
                    32,
                    32,
                    29,
                    24,
                    29,
                    32,
                    29
                  ],
                  "type": "box",
                  "name": "BBC"
                },
                {
                  "marker": {
                    "color": "rgb(10, 140, 208)"
                  },
                  "y": [
                    33,
                    30,
                    31,
                    34,
                    37,
                    32,
                    34,
                    31,
                    33,
                    32,
                    37,
                    19,
                    27,
                    26,
                    23,
                    28,
                    24,
                    26,
                    29,
                    30,
                    32,
                    28,
                    23,
                    22,
                    27,
                    30,
                    27,
                    26,
                    22,
                    28,
                    31,
                    30,
                    30,
                    25,
                    26,
                    31,
                    27,
                    28,
                    31,
                    33,
                    26,
                    26,
                    28,
                    25,
                    24,
                    25,
                    30,
                    32,
                    27,
                    30,
                    28,
                    30,
                    26,
                    27,
                    32,
                    30,
                    27,
                    28,
                    27,
                    23,
                    29,
                    26,
                    30,
                    25,
                    28,
                    24,
                    29,
                    23,
                    27,
                    29,
                    28,
                    24,
                    26,
                    24,
                    29,
                    28,
                    28,
                    29,
                    31,
                    28,
                    27,
                    31,
                    31,
                    31,
                    29,
                    29,
                    28,
                    32,
                    27,
                    25,
                    28,
                    31,
                    28,
                    33,
                    28,
                    25,
                    26,
                    31,
                    26,
                    28
                  ],
                  "type": "box",
                  "name": "Wall Street Journal"
                },
                {
                  "marker": {
                    "color": "rgb(12, 102, 14)"
                  },
                  "y": [
                    40,
                    31,
                    32,
                    33,
                    26,
                    35,
                    38,
                    35,
                    35,
                    28,
                    34,
                    29,
                    30,
                    35,
                    38,
                    27,
                    29,
                    35,
                    31,
                    25,
                    32,
                    24,
                    26,
                    32,
                    32,
                    28,
                    28,
                    27,
                    31,
                    25,
                    27,
                    31,
                    24,
                    31,
                    29,
                    23,
                    26,
                    31,
                    27,
                    33,
                    26,
                    26,
                    29,
                    29,
                    34,
                    33,
                    29,
                    28,
                    28,
                    27,
                    28,
                    22,
                    29,
                    27,
                    27,
                    23,
                    30,
                    27,
                    30,
                    23,
                    24,
                    34,
                    32,
                    26,
                    26,
                    25,
                    21,
                    22,
                    25,
                    27,
                    27,
                    34,
                    28,
                    24,
                    32,
                    24,
                    27,
                    30,
                    31,
                    31,
                    30,
                    28
                  ],
                  "type": "box",
                  "name": "Washington Post"
                },
                {
                  "marker": {
                    "color": "rgb(10, 0, 100)"
                  },
                  "y": [],
                  "type": "box",
                  "name": "Economist"
                },
                {
                  "marker": {
                    "color": "rgb(100, 0, 10)"
                  },
                  "y": [],
                  "type": "box",
                  "name": "Hindustantimes"
                }
              ],
              "config": {
                "plotlyServerURL": "https://plot.ly",
                "linkText": "Export to plot.ly",
                "showLink": false
              },
              "layout": {
                "template": {
                  "layout": {
                    "shapedefaults": {
                      "line": {
                        "color": "#2a3f5f"
                      }
                    },
                    "polar": {
                      "radialaxis": {
                        "ticks": "",
                        "gridcolor": "white",
                        "linecolor": "white"
                      },
                      "bgcolor": "#E5ECF6",
                      "angularaxis": {
                        "ticks": "",
                        "gridcolor": "white",
                        "linecolor": "white"
                      }
                    },
                    "colorway": [
                      "#636efa",
                      "#EF553B",
                      "#00cc96",
                      "#ab63fa",
                      "#FFA15A",
                      "#19d3f3",
                      "#FF6692",
                      "#B6E880",
                      "#FF97FF",
                      "#FECB52"
                    ],
                    "xaxis": {
                      "automargin": true,
                      "title": {
                        "standoff": 15
                      },
                      "zerolinewidth": 2,
                      "ticks": "",
                      "zerolinecolor": "white",
                      "gridcolor": "white",
                      "linecolor": "white"
                    },
                    "colorscale": {
                      "diverging": [
                        [
                          0,
                          "#8e0152"
                        ],
                        [
                          0.1,
                          "#c51b7d"
                        ],
                        [
                          0.2,
                          "#de77ae"
                        ],
                        [
                          0.3,
                          "#f1b6da"
                        ],
                        [
                          0.4,
                          "#fde0ef"
                        ],
                        [
                          0.5,
                          "#f7f7f7"
                        ],
                        [
                          0.6,
                          "#e6f5d0"
                        ],
                        [
                          0.7,
                          "#b8e186"
                        ],
                        [
                          0.8,
                          "#7fbc41"
                        ],
                        [
                          0.9,
                          "#4d9221"
                        ],
                        [
                          1,
                          "#276419"
                        ]
                      ],
                      "sequential": [
                        [
                          0,
                          "#0d0887"
                        ],
                        [
                          0.1111111111111111,
                          "#46039f"
                        ],
                        [
                          0.2222222222222222,
                          "#7201a8"
                        ],
                        [
                          0.3333333333333333,
                          "#9c179e"
                        ],
                        [
                          0.4444444444444444,
                          "#bd3786"
                        ],
                        [
                          0.5555555555555556,
                          "#d8576b"
                        ],
                        [
                          0.6666666666666666,
                          "#ed7953"
                        ],
                        [
                          0.7777777777777778,
                          "#fb9f3a"
                        ],
                        [
                          0.8888888888888888,
                          "#fdca26"
                        ],
                        [
                          1,
                          "#f0f921"
                        ]
                      ],
                      "sequentialminus": [
                        [
                          0,
                          "#0d0887"
                        ],
                        [
                          0.1111111111111111,
                          "#46039f"
                        ],
                        [
                          0.2222222222222222,
                          "#7201a8"
                        ],
                        [
                          0.3333333333333333,
                          "#9c179e"
                        ],
                        [
                          0.4444444444444444,
                          "#bd3786"
                        ],
                        [
                          0.5555555555555556,
                          "#d8576b"
                        ],
                        [
                          0.6666666666666666,
                          "#ed7953"
                        ],
                        [
                          0.7777777777777778,
                          "#fb9f3a"
                        ],
                        [
                          0.8888888888888888,
                          "#fdca26"
                        ],
                        [
                          1,
                          "#f0f921"
                        ]
                      ]
                    },
                    "paper_bgcolor": "white",
                    "plot_bgcolor": "#E5ECF6",
                    "title": {
                      "x": 0.05
                    },
                    "scene": {
                      "zaxis": {
                        "backgroundcolor": "#E5ECF6",
                        "ticks": "",
                        "gridwidth": 2,
                        "showbackground": true,
                        "zerolinecolor": "white",
                        "gridcolor": "white",
                        "linecolor": "white"
                      },
                      "xaxis": {
                        "backgroundcolor": "#E5ECF6",
                        "ticks": "",
                        "gridwidth": 2,
                        "showbackground": true,
                        "zerolinecolor": "white",
                        "gridcolor": "white",
                        "linecolor": "white"
                      },
                      "yaxis": {
                        "backgroundcolor": "#E5ECF6",
                        "ticks": "",
                        "gridwidth": 2,
                        "showbackground": true,
                        "zerolinecolor": "white",
                        "gridcolor": "white",
                        "linecolor": "white"
                      }
                    },
                    "yaxis": {
                      "automargin": true,
                      "title": {
                        "standoff": 15
                      },
                      "zerolinewidth": 2,
                      "ticks": "",
                      "zerolinecolor": "white",
                      "gridcolor": "white",
                      "linecolor": "white"
                    },
                    "annotationdefaults": {
                      "arrowwidth": 1,
                      "arrowhead": 0,
                      "arrowcolor": "#2a3f5f"
                    },
                    "hoverlabel": {
                      "align": "left"
                    },
                    "ternary": {
                      "bgcolor": "#E5ECF6",
                      "baxis": {
                        "ticks": "",
                        "gridcolor": "white",
                        "linecolor": "white"
                      },
                      "caxis": {
                        "ticks": "",
                        "gridcolor": "white",
                        "linecolor": "white"
                      },
                      "aaxis": {
                        "ticks": "",
                        "gridcolor": "white",
                        "linecolor": "white"
                      }
                    },
                    "mapbox": {
                      "style": "light"
                    },
                    "hovermode": "closest",
                    "font": {
                      "color": "#2a3f5f"
                    },
                    "geo": {
                      "showland": true,
                      "landcolor": "#E5ECF6",
                      "showlakes": true,
                      "bgcolor": "white",
                      "subunitcolor": "white",
                      "lakecolor": "white"
                    },
                    "coloraxis": {
                      "colorbar": {
                        "outlinewidth": 0,
                        "ticks": ""
                      }
                    }
                  },
                  "data": {
                    "mesh3d": [
                      {
                        "colorbar": {
                          "outlinewidth": 0,
                          "ticks": ""
                        },
                        "type": "mesh3d"
                      }
                    ],
                    "scattercarpet": [
                      {
                        "marker": {
                          "colorbar": {
                            "outlinewidth": 0,
                            "ticks": ""
                          }
                        },
                        "type": "scattercarpet"
                      }
                    ],
                    "pie": [
                      {
                        "automargin": true,
                        "type": "pie"
                      }
                    ],
                    "surface": [
                      {
                        "colorbar": {
                          "outlinewidth": 0,
                          "ticks": ""
                        },
                        "type": "surface",
                        "colorscale": [
                          [
                            0,
                            "#0d0887"
                          ],
                          [
                            0.1111111111111111,
                            "#46039f"
                          ],
                          [
                            0.2222222222222222,
                            "#7201a8"
                          ],
                          [
                            0.3333333333333333,
                            "#9c179e"
                          ],
                          [
                            0.4444444444444444,
                            "#bd3786"
                          ],
                          [
                            0.5555555555555556,
                            "#d8576b"
                          ],
                          [
                            0.6666666666666666,
                            "#ed7953"
                          ],
                          [
                            0.7777777777777778,
                            "#fb9f3a"
                          ],
                          [
                            0.8888888888888888,
                            "#fdca26"
                          ],
                          [
                            1,
                            "#f0f921"
                          ]
                        ]
                      }
                    ],
                    "table": [
                      {
                        "header": {
                          "line": {
                            "color": "white"
                          },
                          "fill": {
                            "color": "#C8D4E3"
                          }
                        },
                        "cells": {
                          "line": {
                            "color": "white"
                          },
                          "fill": {
                            "color": "#EBF0F8"
                          }
                        },
                        "type": "table"
                      }
                    ],
                    "scatterpolargl": [
                      {
                        "marker": {
                          "colorbar": {
                            "outlinewidth": 0,
                            "ticks": ""
                          }
                        },
                        "type": "scatterpolargl"
                      }
                    ],
                    "contour": [
                      {
                        "colorbar": {
                          "outlinewidth": 0,
                          "ticks": ""
                        },
                        "type": "contour",
                        "colorscale": [
                          [
                            0,
                            "#0d0887"
                          ],
                          [
                            0.1111111111111111,
                            "#46039f"
                          ],
                          [
                            0.2222222222222222,
                            "#7201a8"
                          ],
                          [
                            0.3333333333333333,
                            "#9c179e"
                          ],
                          [
                            0.4444444444444444,
                            "#bd3786"
                          ],
                          [
                            0.5555555555555556,
                            "#d8576b"
                          ],
                          [
                            0.6666666666666666,
                            "#ed7953"
                          ],
                          [
                            0.7777777777777778,
                            "#fb9f3a"
                          ],
                          [
                            0.8888888888888888,
                            "#fdca26"
                          ],
                          [
                            1,
                            "#f0f921"
                          ]
                        ]
                      }
                    ],
                    "carpet": [
                      {
                        "type": "carpet",
                        "baxis": {
                          "minorgridcolor": "white",
                          "gridcolor": "white",
                          "linecolor": "white",
                          "endlinecolor": "#2a3f5f",
                          "startlinecolor": "#2a3f5f"
                        },
                        "aaxis": {
                          "minorgridcolor": "white",
                          "gridcolor": "white",
                          "linecolor": "white",
                          "endlinecolor": "#2a3f5f",
                          "startlinecolor": "#2a3f5f"
                        }
                      }
                    ],
                    "contourcarpet": [
                      {
                        "colorbar": {
                          "outlinewidth": 0,
                          "ticks": ""
                        },
                        "type": "contourcarpet"
                      }
                    ],
                    "heatmap": [
                      {
                        "colorbar": {
                          "outlinewidth": 0,
                          "ticks": ""
                        },
                        "type": "heatmap",
                        "colorscale": [
                          [
                            0,
                            "#0d0887"
                          ],
                          [
                            0.1111111111111111,
                            "#46039f"
                          ],
                          [
                            0.2222222222222222,
                            "#7201a8"
                          ],
                          [
                            0.3333333333333333,
                            "#9c179e"
                          ],
                          [
                            0.4444444444444444,
                            "#bd3786"
                          ],
                          [
                            0.5555555555555556,
                            "#d8576b"
                          ],
                          [
                            0.6666666666666666,
                            "#ed7953"
                          ],
                          [
                            0.7777777777777778,
                            "#fb9f3a"
                          ],
                          [
                            0.8888888888888888,
                            "#fdca26"
                          ],
                          [
                            1,
                            "#f0f921"
                          ]
                        ]
                      }
                    ],
                    "scattermapbox": [
                      {
                        "marker": {
                          "colorbar": {
                            "outlinewidth": 0,
                            "ticks": ""
                          }
                        },
                        "type": "scattermapbox"
                      }
                    ],
                    "scatter3d": [
                      {
                        "marker": {
                          "colorbar": {
                            "outlinewidth": 0,
                            "ticks": ""
                          }
                        },
                        "line": {
                          "colorbar": {
                            "outlinewidth": 0,
                            "ticks": ""
                          }
                        },
                        "type": "scatter3d"
                      }
                    ],
                    "scattergl": [
                      {
                        "marker": {
                          "colorbar": {
                            "outlinewidth": 0,
                            "ticks": ""
                          }
                        },
                        "type": "scattergl"
                      }
                    ],
                    "scatterternary": [
                      {
                        "marker": {
                          "colorbar": {
                            "outlinewidth": 0,
                            "ticks": ""
                          }
                        },
                        "type": "scatterternary"
                      }
                    ],
                    "histogram": [
                      {
                        "marker": {
                          "colorbar": {
                            "outlinewidth": 0,
                            "ticks": ""
                          }
                        },
                        "type": "histogram"
                      }
                    ],
                    "heatmapgl": [
                      {
                        "colorbar": {
                          "outlinewidth": 0,
                          "ticks": ""
                        },
                        "type": "heatmapgl",
                        "colorscale": [
                          [
                            0,
                            "#0d0887"
                          ],
                          [
                            0.1111111111111111,
                            "#46039f"
                          ],
                          [
                            0.2222222222222222,
                            "#7201a8"
                          ],
                          [
                            0.3333333333333333,
                            "#9c179e"
                          ],
                          [
                            0.4444444444444444,
                            "#bd3786"
                          ],
                          [
                            0.5555555555555556,
                            "#d8576b"
                          ],
                          [
                            0.6666666666666666,
                            "#ed7953"
                          ],
                          [
                            0.7777777777777778,
                            "#fb9f3a"
                          ],
                          [
                            0.8888888888888888,
                            "#fdca26"
                          ],
                          [
                            1,
                            "#f0f921"
                          ]
                        ]
                      }
                    ],
                    "scatterpolar": [
                      {
                        "marker": {
                          "colorbar": {
                            "outlinewidth": 0,
                            "ticks": ""
                          }
                        },
                        "type": "scatterpolar"
                      }
                    ],
                    "histogram2d": [
                      {
                        "colorbar": {
                          "outlinewidth": 0,
                          "ticks": ""
                        },
                        "type": "histogram2d",
                        "colorscale": [
                          [
                            0,
                            "#0d0887"
                          ],
                          [
                            0.1111111111111111,
                            "#46039f"
                          ],
                          [
                            0.2222222222222222,
                            "#7201a8"
                          ],
                          [
                            0.3333333333333333,
                            "#9c179e"
                          ],
                          [
                            0.4444444444444444,
                            "#bd3786"
                          ],
                          [
                            0.5555555555555556,
                            "#d8576b"
                          ],
                          [
                            0.6666666666666666,
                            "#ed7953"
                          ],
                          [
                            0.7777777777777778,
                            "#fb9f3a"
                          ],
                          [
                            0.8888888888888888,
                            "#fdca26"
                          ],
                          [
                            1,
                            "#f0f921"
                          ]
                        ]
                      }
                    ],
                    "scattergeo": [
                      {
                        "marker": {
                          "colorbar": {
                            "outlinewidth": 0,
                            "ticks": ""
                          }
                        },
                        "type": "scattergeo"
                      }
                    ],
                    "bar": [
                      {
                        "marker": {
                          "line": {
                            "color": "#E5ECF6",
                            "width": 0.5
                          }
                        },
                        "type": "bar",
                        "error_x": {
                          "color": "#2a3f5f"
                        },
                        "error_y": {
                          "color": "#2a3f5f"
                        }
                      }
                    ],
                    "choropleth": [
                      {
                        "colorbar": {
                          "outlinewidth": 0,
                          "ticks": ""
                        },
                        "type": "choropleth"
                      }
                    ],
                    "parcoords": [
                      {
                        "line": {
                          "colorbar": {
                            "outlinewidth": 0,
                            "ticks": ""
                          }
                        },
                        "type": "parcoords"
                      }
                    ],
                    "barpolar": [
                      {
                        "marker": {
                          "line": {
                            "color": "#E5ECF6",
                            "width": 0.5
                          }
                        },
                        "type": "barpolar"
                      }
                    ],
                    "histogram2dcontour": [
                      {
                        "colorbar": {
                          "outlinewidth": 0,
                          "ticks": ""
                        },
                        "type": "histogram2dcontour",
                        "colorscale": [
                          [
                            0,
                            "#0d0887"
                          ],
                          [
                            0.1111111111111111,
                            "#46039f"
                          ],
                          [
                            0.2222222222222222,
                            "#7201a8"
                          ],
                          [
                            0.3333333333333333,
                            "#9c179e"
                          ],
                          [
                            0.4444444444444444,
                            "#bd3786"
                          ],
                          [
                            0.5555555555555556,
                            "#d8576b"
                          ],
                          [
                            0.6666666666666666,
                            "#ed7953"
                          ],
                          [
                            0.7777777777777778,
                            "#fb9f3a"
                          ],
                          [
                            0.8888888888888888,
                            "#fdca26"
                          ],
                          [
                            1,
                            "#f0f921"
                          ]
                        ]
                      }
                    ],
                    "scatter": [
                      {
                        "marker": {
                          "colorbar": {
                            "outlinewidth": 0,
                            "ticks": ""
                          }
                        },
                        "type": "scatter"
                      }
                    ]
                  }
                },
                "title": {
                  "text": "Headline Length Boxplot of Popular News publishers"
                }
              }
            }
          },
          "metadata": {
            "tags": []
          }
        }
      ]
    },
    {
      "cell_type": "code",
      "metadata": {
        "id": "WDZNIb0LuB8m"
      },
      "source": [
        ""
      ],
      "execution_count": null,
      "outputs": []
    },
    {
      "cell_type": "code",
      "metadata": {
        "colab": {
          "base_uri": "https://localhost:8080/"
        },
        "id": "RdHB5qrmGilY",
        "outputId": "847b8d5e-9d24-4d9c-8c76-354041493eab"
      },
      "source": [
        "from nltk.tokenize import word_tokenize, RegexpTokenizer\n",
        "tokenizer = RegexpTokenizer(r'\\w+')\n",
        "stop_words = stopwords.words('english')\n",
        "print(type(stop_words))\n",
        "specific_words_list = ['char', 'u', 'hindustan', 'doj', 'washington'] \n",
        "#stop_words.extend(specific_words_list )\n",
        "def process_text(headlines):\n",
        "    tokens = []\n",
        "    for line in headlines:\n",
        "        line = line.lower()\n",
        "        toks = tokenizer.tokenize(line)\n",
        "        toks = [t for t in toks if t not in stop_words]\n",
        "        tokens.extend(toks)  \n",
        "    return tokens"
      ],
      "execution_count": null,
      "outputs": [
        {
          "output_type": "stream",
          "text": [
            "<class 'list'>\n"
          ],
          "name": "stdout"
        }
      ]
    },
    {
      "cell_type": "code",
      "metadata": {
        "id": "zPLfrNkNGs5B"
      },
      "source": [
        "# Positive headlines and its distribution \n",
        "pos_lines = list(headlines_polarity[headlines_polarity.label == 1].headline)\n",
        "# extract the headlines that had label =1 which meant it had a positive overall sentiment\n",
        "pos_tokens =process_text(pos_lines)\n",
        "pos_freq = nltk.FreqDist(pos_tokens)\n",
        "\n",
        "# Now negative headlines\n",
        "neg_lines = list(headlines_polarity[headlines_polarity.label == -1].headline)\n",
        "# extract the headlines that had label-1 which meant it had a negative overall sentiment\n",
        "neg_tokens = process_text(neg_lines)\n",
        "neg_freq = nltk.FreqDist(neg_tokens)"
      ],
      "execution_count": null,
      "outputs": []
    },
    {
      "cell_type": "code",
      "metadata": {
        "colab": {
          "base_uri": "https://localhost:8080/",
          "height": 387
        },
        "id": "MNOad3_tGvGv",
        "outputId": "b27fa481-bb53-4c82-ef43-f492dd7856c1"
      },
      "source": [
        "# plotting the word distribution for positive headlines\n",
        "y_val = [x[1] for x in pos_freq.most_common()]\n",
        "fig = plt.figure(figsize=(10,5))\n",
        "plt.plot(y_val)\n",
        "plt.xlabel(\"Words\")\n",
        "plt.ylabel(\"Frequency\")\n",
        "plt.title(\"Word Frequency Distribution (Positive)\")\n",
        "plt.show()"
      ],
      "execution_count": null,
      "outputs": [
        {
          "output_type": "execute_result",
          "data": {
            "text/plain": [
              "[<matplotlib.lines.Line2D at 0x7f61f8bfc1d0>]"
            ]
          },
          "metadata": {
            "tags": []
          },
          "execution_count": 28
        },
        {
          "output_type": "execute_result",
          "data": {
            "text/plain": [
              "Text(0.5, 0, 'Words')"
            ]
          },
          "metadata": {
            "tags": []
          },
          "execution_count": 28
        },
        {
          "output_type": "execute_result",
          "data": {
            "text/plain": [
              "Text(0, 0.5, 'Frequency')"
            ]
          },
          "metadata": {
            "tags": []
          },
          "execution_count": 28
        },
        {
          "output_type": "execute_result",
          "data": {
            "text/plain": [
              "Text(0.5, 1.0, 'Word Frequency Distribution (Positive)')"
            ]
          },
          "metadata": {
            "tags": []
          },
          "execution_count": 28
        },
        {
          "output_type": "display_data",
          "data": {
            "image/png": "[encoded data removed]",
            "text/plain": [
              "<Figure size 720x360 with 1 Axes>"
            ]
          },
          "metadata": {
            "tags": [],
            "needs_background": "light"
          }
        }
      ]
    },
    {
      "cell_type": "code",
      "metadata": {
        "colab": {
          "base_uri": "https://localhost:8080/",
          "height": 387
        },
        "id": "CB1ulxOYGx0u",
        "outputId": "bdafcb25-f272-42d0-d90d-117f2ce36136"
      },
      "source": [
        "# Plotting the word frequency distribution for negative headlines\n",
        "y_val = [x[1] for x in neg_freq.most_common()]\n",
        "fig = plt.figure(figsize=(10,5))\n",
        "plt.plot(y_val)\n",
        "\n",
        "plt.xlabel(\"Words\")\n",
        "plt.ylabel(\"Frequency\")\n",
        "plt.title(\"Word Frequency Distribution (Negative)\")\n",
        "plt.show()"
      ],
      "execution_count": null,
      "outputs": [
        {
          "output_type": "execute_result",
          "data": {
            "text/plain": [
              "[<matplotlib.lines.Line2D at 0x7f620280d6d0>]"
            ]
          },
          "metadata": {
            "tags": []
          },
          "execution_count": 29
        },
        {
          "output_type": "execute_result",
          "data": {
            "text/plain": [
              "Text(0.5, 0, 'Words')"
            ]
          },
          "metadata": {
            "tags": []
          },
          "execution_count": 29
        },
        {
          "output_type": "execute_result",
          "data": {
            "text/plain": [
              "Text(0, 0.5, 'Frequency')"
            ]
          },
          "metadata": {
            "tags": []
          },
          "execution_count": 29
        },
        {
          "output_type": "execute_result",
          "data": {
            "text/plain": [
              "Text(0.5, 1.0, 'Word Frequency Distribution (Negative)')"
            ]
          },
          "metadata": {
            "tags": []
          },
          "execution_count": 29
        },
        {
          "output_type": "display_data",
          "data": {
            "image/png": "[encoded data removed]",
            "text/plain": [
              "<Figure size 720x360 with 1 Axes>"
            ]
          },
          "metadata": {
            "tags": [],
            "needs_background": "light"
          }
        }
      ]
    },
    {
      "cell_type": "code",
      "metadata": {
        "colab": {
          "base_uri": "https://localhost:8080/",
          "height": 647
        },
        "id": "SyiiVF29G0v_",
        "outputId": "3af9b400-9507-4c4c-b130-1ac1299d0c0d"
      },
      "source": [
        "data=news_articles_df\n",
        "stop = [\"https\", \"co\", \"char\",\"chars\",\"said\", \"say\",\"covid\"] + list(stop_words)\n",
        "wc = WordCloud(stopwords=stop, max_words=700, margin=10, background_color='black',\n",
        "scale=3, relative_scaling = 0.4, width=500, height=400,\n",
        "random_state=1).generate(' '.join(data['combined_text']))\n",
        "plt.figure(figsize=(15,15))\n",
        "plt.imshow(wc, interpolation=\"bilinear\")\n",
        "plt.axis(\"off\")\n",
        "plt.show()"
      ],
      "execution_count": null,
      "outputs": [
        {
          "output_type": "execute_result",
          "data": {
            "text/plain": [
              "<Figure size 1080x1080 with 0 Axes>"
            ]
          },
          "metadata": {
            "tags": []
          },
          "execution_count": 30
        },
        {
          "output_type": "execute_result",
          "data": {
            "text/plain": [
              "<matplotlib.image.AxesImage at 0x7f62027a1b50>"
            ]
          },
          "metadata": {
            "tags": []
          },
          "execution_count": 30
        },
        {
          "output_type": "execute_result",
          "data": {
            "text/plain": [
              "(-0.5, 1499.5, 1199.5, -0.5)"
            ]
          },
          "metadata": {
            "tags": []
          },
          "execution_count": 30
        },
        {
          "output_type": "display_data",
          "data": {
            "image/png": "[encoded data removed]",
            "text/plain": [
              "<Figure size 1080x1080 with 1 Axes>"
            ]
          },
          "metadata": {
            "tags": [],
            "needs_background": "light"
          }
        }
      ]
    },
    {
      "cell_type": "code",
      "metadata": {
        "id": "JFvSUuLaHvg-"
      },
      "source": [
        "news_articles_df = pd.read_csv('/content/drive/MyDrive/news_articles_nvidia.csv')"
      ],
      "execution_count": null,
      "outputs": []
    },
    {
      "cell_type": "code",
      "metadata": {
        "colab": {
          "base_uri": "https://localhost:8080/"
        },
        "id": "YbYj94ZeH1pr",
        "outputId": "f85e4809-6825-4018-9919-96d6e2b76911"
      },
      "source": [
        "# Checking the combined data once again to ensure no null value is present\n",
        "print(news_articles_df.isnull().sum())\n",
        "news_articles_df.dropna(inplace=True)\n",
        "print(news_articles_df.shape)\n",
        "print(news_articles_df.isnull().sum())"
      ],
      "execution_count": null,
      "outputs": [
        {
          "output_type": "stream",
          "text": [
            "title            0\n",
            "author           0\n",
            "source           0\n",
            "description      0\n",
            "content          0\n",
            "pub_date         0\n",
            "url              0\n",
            "photo_url        0\n",
            "combined_text    0\n",
            "tokens           0\n",
            "lems             0\n",
            "dtype: int64\n",
            "(2596, 11)\n",
            "title            0\n",
            "author           0\n",
            "source           0\n",
            "description      0\n",
            "content          0\n",
            "pub_date         0\n",
            "url              0\n",
            "photo_url        0\n",
            "combined_text    0\n",
            "tokens           0\n",
            "lems             0\n",
            "dtype: int64\n"
          ],
          "name": "stdout"
        }
      ]
    },
    {
      "cell_type": "code",
      "metadata": {
        "id": "lsZkg9DsH3Zy"
      },
      "source": [
        "# calculating the polarity of the news articles \n",
        "from nltk.sentiment.vader import SentimentIntensityAnalyzer as SIA\n",
        "sia = SIA()\n",
        "results = []\n",
        "for line in news_articles_df['lems'] :\n",
        "    pol_score = sia.polarity_scores(line)\n",
        "    pol_score['headline'] = line\n",
        "    results.append(pol_score)"
      ],
      "execution_count": null,
      "outputs": []
    },
    {
      "cell_type": "code",
      "metadata": {
        "id": "kiyJf7NqH9Hu"
      },
      "source": [
        "# Creating a new dataframe of only the polarity score, the headline and the source of the news \n",
        "headlines_polaritys = pd.DataFrame.from_records(results)\n",
        "temp = []\n",
        "for line in news_articles_df['source'] :\n",
        "    temp.append(line)\n",
        "headlines_polaritys['source'] =temp"
      ],
      "execution_count": null,
      "outputs": []
    },
    {
      "cell_type": "code",
      "metadata": {
        "id": "ClA__6WmH_T-"
      },
      "source": [
        "# categorize news as positive or negative based on the compound score obtained\n",
        "headlines_polaritys['label'] = 0\n",
        "# I have considered the news as positive if the compound score is greater than 0.2 hence the label 1\n",
        "headlines_polaritys.loc[headlines_polaritys['compound'] > 0.2, 'label'] = 1\n",
        "# if the compound score is below 0.2 then it is considered negative \n",
        "headlines_polaritys.loc[headlines_polaritys['compound'] < -0.2, 'label'] = -1\n",
        "# word count of news headlines is calculated\n",
        "headlines_polaritys['word_count'] = headlines_polaritys['headline'].apply(lambda x: len(str(x).split()))"
      ],
      "execution_count": null,
      "outputs": []
    },
    {
      "cell_type": "code",
      "metadata": {
        "colab": {
          "base_uri": "https://localhost:8080/",
          "height": 202
        },
        "id": "d4XHvN6TICDD",
        "outputId": "4fc8fbcb-a271-4f16-8b8b-c59b25cb480b"
      },
      "source": [
        "headlines_polaritys.head()"
      ],
      "execution_count": null,
      "outputs": [
        {
          "output_type": "execute_result",
          "data": {
            "text/html": [
              "<div>\n",
              "<style scoped>\n",
              "    .dataframe tbody tr th:only-of-type {\n",
              "        vertical-align: middle;\n",
              "    }\n",
              "\n",
              "    .dataframe tbody tr th {\n",
              "        vertical-align: top;\n",
              "    }\n",
              "\n",
              "    .dataframe thead th {\n",
              "        text-align: right;\n",
              "    }\n",
              "</style>\n",
              "<table border=\"1\" class=\"dataframe\">\n",
              "  <thead>\n",
              "    <tr style=\"text-align: right;\">\n",
              "      <th></th>\n",
              "      <th>neg</th>\n",
              "      <th>neu</th>\n",
              "      <th>pos</th>\n",
              "      <th>compound</th>\n",
              "      <th>headline</th>\n",
              "      <th>source</th>\n",
              "      <th>label</th>\n",
              "      <th>word_count</th>\n",
              "    </tr>\n",
              "  </thead>\n",
              "  <tbody>\n",
              "    <tr>\n",
              "      <th>0</th>\n",
              "      <td>0.000</td>\n",
              "      <td>1.000</td>\n",
              "      <td>0.000</td>\n",
              "      <td>0.0000</td>\n",
              "      <td>geforce double price newcomer month nvidia dou...</td>\n",
              "      <td>Engadget</td>\n",
              "      <td>0</td>\n",
              "      <td>29</td>\n",
              "    </tr>\n",
              "    <tr>\n",
              "      <th>1</th>\n",
              "      <td>0.065</td>\n",
              "      <td>0.599</td>\n",
              "      <td>0.335</td>\n",
              "      <td>0.8360</td>\n",
              "      <td>nvidia latency reducing tech come overwatch pl...</td>\n",
              "      <td>Engadget</td>\n",
              "      <td>1</td>\n",
              "      <td>30</td>\n",
              "    </tr>\n",
              "    <tr>\n",
              "      <th>2</th>\n",
              "      <td>0.190</td>\n",
              "      <td>0.717</td>\n",
              "      <td>0.093</td>\n",
              "      <td>-0.4767</td>\n",
              "      <td>apple want tim cook tim sweeney testify epic l...</td>\n",
              "      <td>Engadget</td>\n",
              "      <td>-1</td>\n",
              "      <td>28</td>\n",
              "    </tr>\n",
              "    <tr>\n",
              "      <th>3</th>\n",
              "      <td>0.000</td>\n",
              "      <td>0.721</td>\n",
              "      <td>0.279</td>\n",
              "      <td>0.8910</td>\n",
              "      <td>amd radeon rx xt review curious return mid ran...</td>\n",
              "      <td>Engadget</td>\n",
              "      <td>1</td>\n",
              "      <td>34</td>\n",
              "    </tr>\n",
              "    <tr>\n",
              "      <th>4</th>\n",
              "      <td>0.048</td>\n",
              "      <td>0.529</td>\n",
              "      <td>0.423</td>\n",
              "      <td>0.9422</td>\n",
              "      <td>best tech deal found best buy weekend sale bes...</td>\n",
              "      <td>Engadget</td>\n",
              "      <td>1</td>\n",
              "      <td>27</td>\n",
              "    </tr>\n",
              "  </tbody>\n",
              "</table>\n",
              "</div>"
            ],
            "text/plain": [
              "     neg    neu    pos  compound  \\\n",
              "0  0.000  1.000  0.000    0.0000   \n",
              "1  0.065  0.599  0.335    0.8360   \n",
              "2  0.190  0.717  0.093   -0.4767   \n",
              "3  0.000  0.721  0.279    0.8910   \n",
              "4  0.048  0.529  0.423    0.9422   \n",
              "\n",
              "                                            headline    source  label  \\\n",
              "0  geforce double price newcomer month nvidia dou...  Engadget      0   \n",
              "1  nvidia latency reducing tech come overwatch pl...  Engadget      1   \n",
              "2  apple want tim cook tim sweeney testify epic l...  Engadget     -1   \n",
              "3  amd radeon rx xt review curious return mid ran...  Engadget      1   \n",
              "4  best tech deal found best buy weekend sale bes...  Engadget      1   \n",
              "\n",
              "   word_count  \n",
              "0          29  \n",
              "1          30  \n",
              "2          28  \n",
              "3          34  \n",
              "4          27  "
            ]
          },
          "metadata": {
            "tags": []
          },
          "execution_count": 18
        }
      ]
    },
    {
      "cell_type": "code",
      "metadata": {
        "colab": {
          "base_uri": "https://localhost:8080/",
          "height": 479
        },
        "id": "X58D-upZIJgy",
        "outputId": "24f9ec6c-20ae-4431-88f6-4a80b5fd08d6"
      },
      "source": [
        "df_merged=news_articles_df.merge(headlines_polaritys)\n",
        "df_merged.head()"
      ],
      "execution_count": null,
      "outputs": [
        {
          "output_type": "execute_result",
          "data": {
            "text/html": [
              "<div>\n",
              "<style scoped>\n",
              "    .dataframe tbody tr th:only-of-type {\n",
              "        vertical-align: middle;\n",
              "    }\n",
              "\n",
              "    .dataframe tbody tr th {\n",
              "        vertical-align: top;\n",
              "    }\n",
              "\n",
              "    .dataframe thead th {\n",
              "        text-align: right;\n",
              "    }\n",
              "</style>\n",
              "<table border=\"1\" class=\"dataframe\">\n",
              "  <thead>\n",
              "    <tr style=\"text-align: right;\">\n",
              "      <th></th>\n",
              "      <th>title</th>\n",
              "      <th>author</th>\n",
              "      <th>source</th>\n",
              "      <th>description</th>\n",
              "      <th>content</th>\n",
              "      <th>pub_date</th>\n",
              "      <th>url</th>\n",
              "      <th>photo_url</th>\n",
              "      <th>combined_text</th>\n",
              "      <th>tokens</th>\n",
              "      <th>lems</th>\n",
              "      <th>neg</th>\n",
              "      <th>neu</th>\n",
              "      <th>pos</th>\n",
              "      <th>compound</th>\n",
              "      <th>headline</th>\n",
              "      <th>label</th>\n",
              "      <th>word_count</th>\n",
              "    </tr>\n",
              "  </thead>\n",
              "  <tbody>\n",
              "    <tr>\n",
              "      <th>0</th>\n",
              "      <td>GeForce Now doubles its price for newcomers to...</td>\n",
              "      <td>https://www.engadget.com/about/editors/kris-holt</td>\n",
              "      <td>Engadget</td>\n",
              "      <td>Existing subscribers can keep paying $5/month ...</td>\n",
              "      <td>NVIDIA has doubled the price of the GeForce No...</td>\n",
              "      <td>2021-03-18</td>\n",
              "      <td>https://www.engadget.com/nvidia-geforce-nows-p...</td>\n",
              "      <td>https://s.yimg.com/os/creatr-uploaded-images/2...</td>\n",
              "      <td>geforce now doubles its price for newcomers to...</td>\n",
              "      <td>['geforce', 'doubles', 'price', 'newcomers', '...</td>\n",
              "      <td>geforce double price newcomer month nvidia dou...</td>\n",
              "      <td>0.000</td>\n",
              "      <td>1.000</td>\n",
              "      <td>0.000</td>\n",
              "      <td>0.0000</td>\n",
              "      <td>geforce double price newcomer month nvidia dou...</td>\n",
              "      <td>0</td>\n",
              "      <td>29</td>\n",
              "    </tr>\n",
              "    <tr>\n",
              "      <th>1</th>\n",
              "      <td>GeForce Now doubles its price for newcomers to...</td>\n",
              "      <td>https://www.engadget.com/about/editors/kris-holt</td>\n",
              "      <td>Engadget</td>\n",
              "      <td>Existing subscribers can keep paying $5/month ...</td>\n",
              "      <td>NVIDIA has doubled the price of the GeForce No...</td>\n",
              "      <td>2021-03-18</td>\n",
              "      <td>https://www.engadget.com/nvidia-geforce-nows-p...</td>\n",
              "      <td>https://s.yimg.com/os/creatr-uploaded-images/2...</td>\n",
              "      <td>geforce now doubles its price for newcomers to...</td>\n",
              "      <td>['geforce', 'doubles', 'price', 'newcomers', '...</td>\n",
              "      <td>geforce double price newcomer month nvidia dou...</td>\n",
              "      <td>0.065</td>\n",
              "      <td>0.599</td>\n",
              "      <td>0.335</td>\n",
              "      <td>0.8360</td>\n",
              "      <td>nvidia latency reducing tech come overwatch pl...</td>\n",
              "      <td>1</td>\n",
              "      <td>30</td>\n",
              "    </tr>\n",
              "    <tr>\n",
              "      <th>2</th>\n",
              "      <td>GeForce Now doubles its price for newcomers to...</td>\n",
              "      <td>https://www.engadget.com/about/editors/kris-holt</td>\n",
              "      <td>Engadget</td>\n",
              "      <td>Existing subscribers can keep paying $5/month ...</td>\n",
              "      <td>NVIDIA has doubled the price of the GeForce No...</td>\n",
              "      <td>2021-03-18</td>\n",
              "      <td>https://www.engadget.com/nvidia-geforce-nows-p...</td>\n",
              "      <td>https://s.yimg.com/os/creatr-uploaded-images/2...</td>\n",
              "      <td>geforce now doubles its price for newcomers to...</td>\n",
              "      <td>['geforce', 'doubles', 'price', 'newcomers', '...</td>\n",
              "      <td>geforce double price newcomer month nvidia dou...</td>\n",
              "      <td>0.190</td>\n",
              "      <td>0.717</td>\n",
              "      <td>0.093</td>\n",
              "      <td>-0.4767</td>\n",
              "      <td>apple want tim cook tim sweeney testify epic l...</td>\n",
              "      <td>-1</td>\n",
              "      <td>28</td>\n",
              "    </tr>\n",
              "    <tr>\n",
              "      <th>3</th>\n",
              "      <td>GeForce Now doubles its price for newcomers to...</td>\n",
              "      <td>https://www.engadget.com/about/editors/kris-holt</td>\n",
              "      <td>Engadget</td>\n",
              "      <td>Existing subscribers can keep paying $5/month ...</td>\n",
              "      <td>NVIDIA has doubled the price of the GeForce No...</td>\n",
              "      <td>2021-03-18</td>\n",
              "      <td>https://www.engadget.com/nvidia-geforce-nows-p...</td>\n",
              "      <td>https://s.yimg.com/os/creatr-uploaded-images/2...</td>\n",
              "      <td>geforce now doubles its price for newcomers to...</td>\n",
              "      <td>['geforce', 'doubles', 'price', 'newcomers', '...</td>\n",
              "      <td>geforce double price newcomer month nvidia dou...</td>\n",
              "      <td>0.000</td>\n",
              "      <td>0.721</td>\n",
              "      <td>0.279</td>\n",
              "      <td>0.8910</td>\n",
              "      <td>amd radeon rx xt review curious return mid ran...</td>\n",
              "      <td>1</td>\n",
              "      <td>34</td>\n",
              "    </tr>\n",
              "    <tr>\n",
              "      <th>4</th>\n",
              "      <td>GeForce Now doubles its price for newcomers to...</td>\n",
              "      <td>https://www.engadget.com/about/editors/kris-holt</td>\n",
              "      <td>Engadget</td>\n",
              "      <td>Existing subscribers can keep paying $5/month ...</td>\n",
              "      <td>NVIDIA has doubled the price of the GeForce No...</td>\n",
              "      <td>2021-03-18</td>\n",
              "      <td>https://www.engadget.com/nvidia-geforce-nows-p...</td>\n",
              "      <td>https://s.yimg.com/os/creatr-uploaded-images/2...</td>\n",
              "      <td>geforce now doubles its price for newcomers to...</td>\n",
              "      <td>['geforce', 'doubles', 'price', 'newcomers', '...</td>\n",
              "      <td>geforce double price newcomer month nvidia dou...</td>\n",
              "      <td>0.048</td>\n",
              "      <td>0.529</td>\n",
              "      <td>0.423</td>\n",
              "      <td>0.9422</td>\n",
              "      <td>best tech deal found best buy weekend sale bes...</td>\n",
              "      <td>1</td>\n",
              "      <td>27</td>\n",
              "    </tr>\n",
              "  </tbody>\n",
              "</table>\n",
              "</div>"
            ],
            "text/plain": [
              "                                               title  \\\n",
              "0  GeForce Now doubles its price for newcomers to...   \n",
              "1  GeForce Now doubles its price for newcomers to...   \n",
              "2  GeForce Now doubles its price for newcomers to...   \n",
              "3  GeForce Now doubles its price for newcomers to...   \n",
              "4  GeForce Now doubles its price for newcomers to...   \n",
              "\n",
              "                                             author    source  \\\n",
              "0  https://www.engadget.com/about/editors/kris-holt  Engadget   \n",
              "1  https://www.engadget.com/about/editors/kris-holt  Engadget   \n",
              "2  https://www.engadget.com/about/editors/kris-holt  Engadget   \n",
              "3  https://www.engadget.com/about/editors/kris-holt  Engadget   \n",
              "4  https://www.engadget.com/about/editors/kris-holt  Engadget   \n",
              "\n",
              "                                         description  \\\n",
              "0  Existing subscribers can keep paying $5/month ...   \n",
              "1  Existing subscribers can keep paying $5/month ...   \n",
              "2  Existing subscribers can keep paying $5/month ...   \n",
              "3  Existing subscribers can keep paying $5/month ...   \n",
              "4  Existing subscribers can keep paying $5/month ...   \n",
              "\n",
              "                                             content    pub_date  \\\n",
              "0  NVIDIA has doubled the price of the GeForce No...  2021-03-18   \n",
              "1  NVIDIA has doubled the price of the GeForce No...  2021-03-18   \n",
              "2  NVIDIA has doubled the price of the GeForce No...  2021-03-18   \n",
              "3  NVIDIA has doubled the price of the GeForce No...  2021-03-18   \n",
              "4  NVIDIA has doubled the price of the GeForce No...  2021-03-18   \n",
              "\n",
              "                                                 url  \\\n",
              "0  https://www.engadget.com/nvidia-geforce-nows-p...   \n",
              "1  https://www.engadget.com/nvidia-geforce-nows-p...   \n",
              "2  https://www.engadget.com/nvidia-geforce-nows-p...   \n",
              "3  https://www.engadget.com/nvidia-geforce-nows-p...   \n",
              "4  https://www.engadget.com/nvidia-geforce-nows-p...   \n",
              "\n",
              "                                           photo_url  \\\n",
              "0  https://s.yimg.com/os/creatr-uploaded-images/2...   \n",
              "1  https://s.yimg.com/os/creatr-uploaded-images/2...   \n",
              "2  https://s.yimg.com/os/creatr-uploaded-images/2...   \n",
              "3  https://s.yimg.com/os/creatr-uploaded-images/2...   \n",
              "4  https://s.yimg.com/os/creatr-uploaded-images/2...   \n",
              "\n",
              "                                       combined_text  \\\n",
              "0  geforce now doubles its price for newcomers to...   \n",
              "1  geforce now doubles its price for newcomers to...   \n",
              "2  geforce now doubles its price for newcomers to...   \n",
              "3  geforce now doubles its price for newcomers to...   \n",
              "4  geforce now doubles its price for newcomers to...   \n",
              "\n",
              "                                              tokens  \\\n",
              "0  ['geforce', 'doubles', 'price', 'newcomers', '...   \n",
              "1  ['geforce', 'doubles', 'price', 'newcomers', '...   \n",
              "2  ['geforce', 'doubles', 'price', 'newcomers', '...   \n",
              "3  ['geforce', 'doubles', 'price', 'newcomers', '...   \n",
              "4  ['geforce', 'doubles', 'price', 'newcomers', '...   \n",
              "\n",
              "                                                lems    neg    neu    pos  \\\n",
              "0  geforce double price newcomer month nvidia dou...  0.000  1.000  0.000   \n",
              "1  geforce double price newcomer month nvidia dou...  0.065  0.599  0.335   \n",
              "2  geforce double price newcomer month nvidia dou...  0.190  0.717  0.093   \n",
              "3  geforce double price newcomer month nvidia dou...  0.000  0.721  0.279   \n",
              "4  geforce double price newcomer month nvidia dou...  0.048  0.529  0.423   \n",
              "\n",
              "   compound                                           headline  label  \\\n",
              "0    0.0000  geforce double price newcomer month nvidia dou...      0   \n",
              "1    0.8360  nvidia latency reducing tech come overwatch pl...      1   \n",
              "2   -0.4767  apple want tim cook tim sweeney testify epic l...     -1   \n",
              "3    0.8910  amd radeon rx xt review curious return mid ran...      1   \n",
              "4    0.9422  best tech deal found best buy weekend sale bes...      1   \n",
              "\n",
              "   word_count  \n",
              "0          29  \n",
              "1          30  \n",
              "2          28  \n",
              "3          34  \n",
              "4          27  "
            ]
          },
          "metadata": {
            "tags": []
          },
          "execution_count": 19
        }
      ]
    },
    {
      "cell_type": "code",
      "metadata": {
        "colab": {
          "base_uri": "https://localhost:8080/",
          "height": 251
        },
        "id": "Xgctkp2RM-6w",
        "outputId": "b9dc8cdc-370d-4f60-d40f-e837b120e2ff"
      },
      "source": [
        "data=headlines_polaritys\n",
        "stop = [\"https\", \"co\", \"char\",\"chars\",\"said\", \"say\",\"covid\"] + list(stop_words)\n",
        "wc = WordCloud(stopwords=stop, max_words=700, margin=10, background_color='black',\n",
        "scale=3, relative_scaling = 0.4, width=500, height=400,\n",
        "random_state=1).generate(' '.join(data['headline']))\n",
        "plt.figure(figsize=(15,15))\n",
        "plt.imshow(wc, interpolation=\"bilinear\")\n",
        "plt.axis(\"off\")\n",
        "plt.show()"
      ],
      "execution_count": null,
      "outputs": [
        {
          "output_type": "error",
          "ename": "NameError",
          "evalue": "ignored",
          "traceback": [
            "\u001b[0;31m---------------------------------------------------------------------------\u001b[0m",
            "\u001b[0;31mNameError\u001b[0m                                 Traceback (most recent call last)",
            "\u001b[0;32m<ipython-input-20-26e7fb6393f4>\u001b[0m in \u001b[0;36m<module>\u001b[0;34m()\u001b[0m\n\u001b[1;32m      1\u001b[0m \u001b[0mdata\u001b[0m\u001b[0;34m=\u001b[0m\u001b[0mheadlines_polaritys\u001b[0m\u001b[0;34m\u001b[0m\u001b[0;34m\u001b[0m\u001b[0m\n\u001b[0;32m----> 2\u001b[0;31m \u001b[0mstop\u001b[0m \u001b[0;34m=\u001b[0m \u001b[0;34m[\u001b[0m\u001b[0;34m\"https\"\u001b[0m\u001b[0;34m,\u001b[0m \u001b[0;34m\"co\"\u001b[0m\u001b[0;34m,\u001b[0m \u001b[0;34m\"char\"\u001b[0m\u001b[0;34m,\u001b[0m\u001b[0;34m\"chars\"\u001b[0m\u001b[0;34m,\u001b[0m\u001b[0;34m\"said\"\u001b[0m\u001b[0;34m,\u001b[0m \u001b[0;34m\"say\"\u001b[0m\u001b[0;34m,\u001b[0m\u001b[0;34m\"covid\"\u001b[0m\u001b[0;34m]\u001b[0m \u001b[0;34m+\u001b[0m \u001b[0mlist\u001b[0m\u001b[0;34m(\u001b[0m\u001b[0mstop_words\u001b[0m\u001b[0;34m)\u001b[0m\u001b[0;34m\u001b[0m\u001b[0;34m\u001b[0m\u001b[0m\n\u001b[0m\u001b[1;32m      3\u001b[0m wc = WordCloud(stopwords=stop, max_words=700, margin=10, background_color='black',\n\u001b[1;32m      4\u001b[0m \u001b[0mscale\u001b[0m\u001b[0;34m=\u001b[0m\u001b[0;36m3\u001b[0m\u001b[0;34m,\u001b[0m \u001b[0mrelative_scaling\u001b[0m \u001b[0;34m=\u001b[0m \u001b[0;36m0.4\u001b[0m\u001b[0;34m,\u001b[0m \u001b[0mwidth\u001b[0m\u001b[0;34m=\u001b[0m\u001b[0;36m500\u001b[0m\u001b[0;34m,\u001b[0m \u001b[0mheight\u001b[0m\u001b[0;34m=\u001b[0m\u001b[0;36m400\u001b[0m\u001b[0;34m,\u001b[0m\u001b[0;34m\u001b[0m\u001b[0;34m\u001b[0m\u001b[0m\n\u001b[1;32m      5\u001b[0m random_state=1).generate(' '.join(data['headline']))\n",
            "\u001b[0;31mNameError\u001b[0m: name 'stop_words' is not defined"
          ]
        }
      ]
    },
    {
      "cell_type": "code",
      "metadata": {
        "id": "d2_AWpi7KIIs"
      },
      "source": [
        "stock_data = pd.read_csv('/content/drive/MyDrive/stknvda.csv')"
      ],
      "execution_count": null,
      "outputs": []
    },
    {
      "cell_type": "code",
      "metadata": {
        "id": "Uy6_F187KZSB"
      },
      "source": [
        "# stock news articles\n",
        "df_merged['date'] = pd.to_datetime(df_merged['pub_date']).apply(lambda x: x.date())\n",
        "# stock market data \n",
        "stock_data['date'] = pd.to_datetime(stock_data['day']).apply(lambda x: x.date())"
      ],
      "execution_count": null,
      "outputs": []
    },
    {
      "cell_type": "code",
      "metadata": {
        "colab": {
          "base_uri": "https://localhost:8080/",
          "height": 742
        },
        "id": "b74jdx1JKeUo",
        "outputId": "7491f0e8-1a89-4621-fd5d-d33e66bc0647"
      },
      "source": [
        "df_mergeds=stock_data.merge(df_merged,on='date')\n",
        "df_mergeds.head()"
      ],
      "execution_count": null,
      "outputs": [
        {
          "output_type": "execute_result",
          "data": {
            "text/html": [
              "<div>\n",
              "<style scoped>\n",
              "    .dataframe tbody tr th:only-of-type {\n",
              "        vertical-align: middle;\n",
              "    }\n",
              "\n",
              "    .dataframe tbody tr th {\n",
              "        vertical-align: top;\n",
              "    }\n",
              "\n",
              "    .dataframe thead th {\n",
              "        text-align: right;\n",
              "    }\n",
              "</style>\n",
              "<table border=\"1\" class=\"dataframe\">\n",
              "  <thead>\n",
              "    <tr style=\"text-align: right;\">\n",
              "      <th></th>\n",
              "      <th>open</th>\n",
              "      <th>high</th>\n",
              "      <th>low</th>\n",
              "      <th>close</th>\n",
              "      <th>volume</th>\n",
              "      <th>adjusted</th>\n",
              "      <th>day</th>\n",
              "      <th>company</th>\n",
              "      <th>date</th>\n",
              "      <th>title</th>\n",
              "      <th>author</th>\n",
              "      <th>source</th>\n",
              "      <th>description</th>\n",
              "      <th>content</th>\n",
              "      <th>pub_date</th>\n",
              "      <th>url</th>\n",
              "      <th>photo_url</th>\n",
              "      <th>combined_text</th>\n",
              "      <th>tokens</th>\n",
              "      <th>lems</th>\n",
              "      <th>neg</th>\n",
              "      <th>neu</th>\n",
              "      <th>pos</th>\n",
              "      <th>compound</th>\n",
              "      <th>headline</th>\n",
              "      <th>label</th>\n",
              "      <th>word_count</th>\n",
              "    </tr>\n",
              "  </thead>\n",
              "  <tbody>\n",
              "    <tr>\n",
              "      <th>0</th>\n",
              "      <td>513.619995</td>\n",
              "      <td>519.200012</td>\n",
              "      <td>498.299988</td>\n",
              "      <td>498.730011</td>\n",
              "      <td>9599800</td>\n",
              "      <td>498.730011</td>\n",
              "      <td>2021-03-10</td>\n",
              "      <td>NVDA</td>\n",
              "      <td>2021-03-10</td>\n",
              "      <td>Via buys mapping startup Remix for $100 million</td>\n",
              "      <td>Kirsten Korosec</td>\n",
              "      <td>TechCrunch</td>\n",
              "      <td>Remix, the startup that developed mapping soft...</td>\n",
              "      <td>Remix, the startup that developed mapping soft...</td>\n",
              "      <td>2021-03-10</td>\n",
              "      <td>http://techcrunch.com/2021/03/09/via-buys-mapp...</td>\n",
              "      <td>https://techcrunch.com/wp-content/uploads/2021...</td>\n",
              "      <td>via buys mapping startup remix for  million re...</td>\n",
              "      <td>['via', 'buys', 'mapping', 'startup', 'remix',...</td>\n",
              "      <td>via buy mapping startup remix million remix st...</td>\n",
              "      <td>0.07</td>\n",
              "      <td>0.751</td>\n",
              "      <td>0.180</td>\n",
              "      <td>0.4767</td>\n",
              "      <td>automaker supplier startup see growing market ...</td>\n",
              "      <td>1</td>\n",
              "      <td>32</td>\n",
              "    </tr>\n",
              "    <tr>\n",
              "      <th>1</th>\n",
              "      <td>513.619995</td>\n",
              "      <td>519.200012</td>\n",
              "      <td>498.299988</td>\n",
              "      <td>498.730011</td>\n",
              "      <td>9599800</td>\n",
              "      <td>498.730011</td>\n",
              "      <td>2021-03-10</td>\n",
              "      <td>NVDA</td>\n",
              "      <td>2021-03-10</td>\n",
              "      <td>Via buys mapping startup Remix for $100 million</td>\n",
              "      <td>Kirsten Korosec</td>\n",
              "      <td>TechCrunch</td>\n",
              "      <td>Remix, the startup that developed mapping soft...</td>\n",
              "      <td>Remix, the startup that developed mapping soft...</td>\n",
              "      <td>2021-03-10</td>\n",
              "      <td>http://techcrunch.com/2021/03/09/via-buys-mapp...</td>\n",
              "      <td>https://techcrunch.com/wp-content/uploads/2021...</td>\n",
              "      <td>via buys mapping startup remix for  million re...</td>\n",
              "      <td>['via', 'buys', 'mapping', 'startup', 'remix',...</td>\n",
              "      <td>via buy mapping startup remix million remix st...</td>\n",
              "      <td>0.00</td>\n",
              "      <td>0.726</td>\n",
              "      <td>0.274</td>\n",
              "      <td>0.8074</td>\n",
              "      <td>global inequity venture financing staggering g...</td>\n",
              "      <td>1</td>\n",
              "      <td>25</td>\n",
              "    </tr>\n",
              "    <tr>\n",
              "      <th>2</th>\n",
              "      <td>513.619995</td>\n",
              "      <td>519.200012</td>\n",
              "      <td>498.299988</td>\n",
              "      <td>498.730011</td>\n",
              "      <td>9599800</td>\n",
              "      <td>498.730011</td>\n",
              "      <td>2021-03-10</td>\n",
              "      <td>NVDA</td>\n",
              "      <td>2021-03-10</td>\n",
              "      <td>Via buys mapping startup Remix for $100 million</td>\n",
              "      <td>Kirsten Korosec</td>\n",
              "      <td>TechCrunch</td>\n",
              "      <td>Remix, the startup that developed mapping soft...</td>\n",
              "      <td>Remix, the startup that developed mapping soft...</td>\n",
              "      <td>2021-03-10</td>\n",
              "      <td>http://techcrunch.com/2021/03/09/via-buys-mapp...</td>\n",
              "      <td>https://techcrunch.com/wp-content/uploads/2021...</td>\n",
              "      <td>via buys mapping startup remix for  million re...</td>\n",
              "      <td>['via', 'buys', 'mapping', 'startup', 'remix',...</td>\n",
              "      <td>via buy mapping startup remix million remix st...</td>\n",
              "      <td>0.00</td>\n",
              "      <td>0.919</td>\n",
              "      <td>0.081</td>\n",
              "      <td>0.4404</td>\n",
              "      <td>google family link update reflect pandemic imp...</td>\n",
              "      <td>1</td>\n",
              "      <td>34</td>\n",
              "    </tr>\n",
              "    <tr>\n",
              "      <th>3</th>\n",
              "      <td>513.619995</td>\n",
              "      <td>519.200012</td>\n",
              "      <td>498.299988</td>\n",
              "      <td>498.730011</td>\n",
              "      <td>9599800</td>\n",
              "      <td>498.730011</td>\n",
              "      <td>2021-03-10</td>\n",
              "      <td>NVDA</td>\n",
              "      <td>2021-03-10</td>\n",
              "      <td>Via buys mapping startup Remix for $100 million</td>\n",
              "      <td>Kirsten Korosec</td>\n",
              "      <td>TechCrunch</td>\n",
              "      <td>Remix, the startup that developed mapping soft...</td>\n",
              "      <td>Remix, the startup that developed mapping soft...</td>\n",
              "      <td>2021-03-10</td>\n",
              "      <td>http://techcrunch.com/2021/03/09/via-buys-mapp...</td>\n",
              "      <td>https://techcrunch.com/wp-content/uploads/2021...</td>\n",
              "      <td>via buys mapping startup remix for  million re...</td>\n",
              "      <td>['via', 'buys', 'mapping', 'startup', 'remix',...</td>\n",
              "      <td>via buy mapping startup remix million remix st...</td>\n",
              "      <td>0.00</td>\n",
              "      <td>1.000</td>\n",
              "      <td>0.000</td>\n",
              "      <td>0.0000</td>\n",
              "      <td>investor clara brenner quin garcia rachel holt...</td>\n",
              "      <td>0</td>\n",
              "      <td>30</td>\n",
              "    </tr>\n",
              "    <tr>\n",
              "      <th>4</th>\n",
              "      <td>513.619995</td>\n",
              "      <td>519.200012</td>\n",
              "      <td>498.299988</td>\n",
              "      <td>498.730011</td>\n",
              "      <td>9599800</td>\n",
              "      <td>498.730011</td>\n",
              "      <td>2021-03-10</td>\n",
              "      <td>NVDA</td>\n",
              "      <td>2021-03-10</td>\n",
              "      <td>Via buys mapping startup Remix for $100 million</td>\n",
              "      <td>Kirsten Korosec</td>\n",
              "      <td>TechCrunch</td>\n",
              "      <td>Remix, the startup that developed mapping soft...</td>\n",
              "      <td>Remix, the startup that developed mapping soft...</td>\n",
              "      <td>2021-03-10</td>\n",
              "      <td>http://techcrunch.com/2021/03/09/via-buys-mapp...</td>\n",
              "      <td>https://techcrunch.com/wp-content/uploads/2021...</td>\n",
              "      <td>via buys mapping startup remix for  million re...</td>\n",
              "      <td>['via', 'buys', 'mapping', 'startup', 'remix',...</td>\n",
              "      <td>via buy mapping startup remix million remix st...</td>\n",
              "      <td>0.45</td>\n",
              "      <td>0.550</td>\n",
              "      <td>0.000</td>\n",
              "      <td>-0.9325</td>\n",
              "      <td>hacker exploiting vulnerable exchange server d...</td>\n",
              "      <td>-1</td>\n",
              "      <td>30</td>\n",
              "    </tr>\n",
              "  </tbody>\n",
              "</table>\n",
              "</div>"
            ],
            "text/plain": [
              "         open        high         low       close   volume    adjusted  \\\n",
              "0  513.619995  519.200012  498.299988  498.730011  9599800  498.730011   \n",
              "1  513.619995  519.200012  498.299988  498.730011  9599800  498.730011   \n",
              "2  513.619995  519.200012  498.299988  498.730011  9599800  498.730011   \n",
              "3  513.619995  519.200012  498.299988  498.730011  9599800  498.730011   \n",
              "4  513.619995  519.200012  498.299988  498.730011  9599800  498.730011   \n",
              "\n",
              "          day company        date  \\\n",
              "0  2021-03-10    NVDA  2021-03-10   \n",
              "1  2021-03-10    NVDA  2021-03-10   \n",
              "2  2021-03-10    NVDA  2021-03-10   \n",
              "3  2021-03-10    NVDA  2021-03-10   \n",
              "4  2021-03-10    NVDA  2021-03-10   \n",
              "\n",
              "                                             title           author  \\\n",
              "0  Via buys mapping startup Remix for $100 million  Kirsten Korosec   \n",
              "1  Via buys mapping startup Remix for $100 million  Kirsten Korosec   \n",
              "2  Via buys mapping startup Remix for $100 million  Kirsten Korosec   \n",
              "3  Via buys mapping startup Remix for $100 million  Kirsten Korosec   \n",
              "4  Via buys mapping startup Remix for $100 million  Kirsten Korosec   \n",
              "\n",
              "       source                                        description  \\\n",
              "0  TechCrunch  Remix, the startup that developed mapping soft...   \n",
              "1  TechCrunch  Remix, the startup that developed mapping soft...   \n",
              "2  TechCrunch  Remix, the startup that developed mapping soft...   \n",
              "3  TechCrunch  Remix, the startup that developed mapping soft...   \n",
              "4  TechCrunch  Remix, the startup that developed mapping soft...   \n",
              "\n",
              "                                             content    pub_date  \\\n",
              "0  Remix, the startup that developed mapping soft...  2021-03-10   \n",
              "1  Remix, the startup that developed mapping soft...  2021-03-10   \n",
              "2  Remix, the startup that developed mapping soft...  2021-03-10   \n",
              "3  Remix, the startup that developed mapping soft...  2021-03-10   \n",
              "4  Remix, the startup that developed mapping soft...  2021-03-10   \n",
              "\n",
              "                                                 url  \\\n",
              "0  http://techcrunch.com/2021/03/09/via-buys-mapp...   \n",
              "1  http://techcrunch.com/2021/03/09/via-buys-mapp...   \n",
              "2  http://techcrunch.com/2021/03/09/via-buys-mapp...   \n",
              "3  http://techcrunch.com/2021/03/09/via-buys-mapp...   \n",
              "4  http://techcrunch.com/2021/03/09/via-buys-mapp...   \n",
              "\n",
              "                                           photo_url  \\\n",
              "0  https://techcrunch.com/wp-content/uploads/2021...   \n",
              "1  https://techcrunch.com/wp-content/uploads/2021...   \n",
              "2  https://techcrunch.com/wp-content/uploads/2021...   \n",
              "3  https://techcrunch.com/wp-content/uploads/2021...   \n",
              "4  https://techcrunch.com/wp-content/uploads/2021...   \n",
              "\n",
              "                                       combined_text  \\\n",
              "0  via buys mapping startup remix for  million re...   \n",
              "1  via buys mapping startup remix for  million re...   \n",
              "2  via buys mapping startup remix for  million re...   \n",
              "3  via buys mapping startup remix for  million re...   \n",
              "4  via buys mapping startup remix for  million re...   \n",
              "\n",
              "                                              tokens  \\\n",
              "0  ['via', 'buys', 'mapping', 'startup', 'remix',...   \n",
              "1  ['via', 'buys', 'mapping', 'startup', 'remix',...   \n",
              "2  ['via', 'buys', 'mapping', 'startup', 'remix',...   \n",
              "3  ['via', 'buys', 'mapping', 'startup', 'remix',...   \n",
              "4  ['via', 'buys', 'mapping', 'startup', 'remix',...   \n",
              "\n",
              "                                                lems   neg    neu    pos  \\\n",
              "0  via buy mapping startup remix million remix st...  0.07  0.751  0.180   \n",
              "1  via buy mapping startup remix million remix st...  0.00  0.726  0.274   \n",
              "2  via buy mapping startup remix million remix st...  0.00  0.919  0.081   \n",
              "3  via buy mapping startup remix million remix st...  0.00  1.000  0.000   \n",
              "4  via buy mapping startup remix million remix st...  0.45  0.550  0.000   \n",
              "\n",
              "   compound                                           headline  label  \\\n",
              "0    0.4767  automaker supplier startup see growing market ...      1   \n",
              "1    0.8074  global inequity venture financing staggering g...      1   \n",
              "2    0.4404  google family link update reflect pandemic imp...      1   \n",
              "3    0.0000  investor clara brenner quin garcia rachel holt...      0   \n",
              "4   -0.9325  hacker exploiting vulnerable exchange server d...     -1   \n",
              "\n",
              "   word_count  \n",
              "0          32  \n",
              "1          25  \n",
              "2          34  \n",
              "3          30  \n",
              "4          30  "
            ]
          },
          "metadata": {
            "tags": []
          },
          "execution_count": 23
        }
      ]
    },
    {
      "cell_type": "code",
      "metadata": {
        "id": "Qb5b9T1XKgPa"
      },
      "source": [
        "df_mergeds['combined_text'] = df_mergeds['title'].map(str) +\" \"+ df_mergeds['content']+\" \"+ df_mergeds['description'].map(str)"
      ],
      "execution_count": null,
      "outputs": []
    },
    {
      "cell_type": "code",
      "metadata": {
        "colab": {
          "base_uri": "https://localhost:8080/",
          "height": 202
        },
        "id": "ozwJ4gJQKi_c",
        "outputId": "9a873c9f-e311-432f-ca7b-492576236cc2"
      },
      "source": [
        "# keeping only the essential columns in the dataframe\n",
        "df_mergeds=df_mergeds[['date','close','neg','neu','pos','compound']]\n",
        "df_mergeds.head()"
      ],
      "execution_count": null,
      "outputs": [
        {
          "output_type": "execute_result",
          "data": {
            "text/html": [
              "<div>\n",
              "<style scoped>\n",
              "    .dataframe tbody tr th:only-of-type {\n",
              "        vertical-align: middle;\n",
              "    }\n",
              "\n",
              "    .dataframe tbody tr th {\n",
              "        vertical-align: top;\n",
              "    }\n",
              "\n",
              "    .dataframe thead th {\n",
              "        text-align: right;\n",
              "    }\n",
              "</style>\n",
              "<table border=\"1\" class=\"dataframe\">\n",
              "  <thead>\n",
              "    <tr style=\"text-align: right;\">\n",
              "      <th></th>\n",
              "      <th>date</th>\n",
              "      <th>close</th>\n",
              "      <th>neg</th>\n",
              "      <th>neu</th>\n",
              "      <th>pos</th>\n",
              "      <th>compound</th>\n",
              "    </tr>\n",
              "  </thead>\n",
              "  <tbody>\n",
              "    <tr>\n",
              "      <th>0</th>\n",
              "      <td>2021-03-10</td>\n",
              "      <td>498.730011</td>\n",
              "      <td>0.07</td>\n",
              "      <td>0.751</td>\n",
              "      <td>0.180</td>\n",
              "      <td>0.4767</td>\n",
              "    </tr>\n",
              "    <tr>\n",
              "      <th>1</th>\n",
              "      <td>2021-03-10</td>\n",
              "      <td>498.730011</td>\n",
              "      <td>0.00</td>\n",
              "      <td>0.726</td>\n",
              "      <td>0.274</td>\n",
              "      <td>0.8074</td>\n",
              "    </tr>\n",
              "    <tr>\n",
              "      <th>2</th>\n",
              "      <td>2021-03-10</td>\n",
              "      <td>498.730011</td>\n",
              "      <td>0.00</td>\n",
              "      <td>0.919</td>\n",
              "      <td>0.081</td>\n",
              "      <td>0.4404</td>\n",
              "    </tr>\n",
              "    <tr>\n",
              "      <th>3</th>\n",
              "      <td>2021-03-10</td>\n",
              "      <td>498.730011</td>\n",
              "      <td>0.00</td>\n",
              "      <td>1.000</td>\n",
              "      <td>0.000</td>\n",
              "      <td>0.0000</td>\n",
              "    </tr>\n",
              "    <tr>\n",
              "      <th>4</th>\n",
              "      <td>2021-03-10</td>\n",
              "      <td>498.730011</td>\n",
              "      <td>0.45</td>\n",
              "      <td>0.550</td>\n",
              "      <td>0.000</td>\n",
              "      <td>-0.9325</td>\n",
              "    </tr>\n",
              "  </tbody>\n",
              "</table>\n",
              "</div>"
            ],
            "text/plain": [
              "         date       close   neg    neu    pos  compound\n",
              "0  2021-03-10  498.730011  0.07  0.751  0.180    0.4767\n",
              "1  2021-03-10  498.730011  0.00  0.726  0.274    0.8074\n",
              "2  2021-03-10  498.730011  0.00  0.919  0.081    0.4404\n",
              "3  2021-03-10  498.730011  0.00  1.000  0.000    0.0000\n",
              "4  2021-03-10  498.730011  0.45  0.550  0.000   -0.9325"
            ]
          },
          "metadata": {
            "tags": []
          },
          "execution_count": 26
        }
      ]
    },
    {
      "cell_type": "code",
      "metadata": {
        "id": "-qKdLGxp3j0-"
      },
      "source": [
        "df_mergeds.to_csv('/content/drive/MyDrive/df_mergeds_nvidia.csv', index = False)"
      ],
      "execution_count": null,
      "outputs": []
    },
    {
      "cell_type": "code",
      "metadata": {
        "colab": {
          "base_uri": "https://localhost:8080/",
          "height": 195
        },
        "id": "d4J-fNk2KmDd",
        "outputId": "7068ccfc-9c47-4a49-8696-6f0dd8286cc7"
      },
      "source": [
        "df_mergeds=df_mergeds.drop_duplicates(subset='date', keep=\"last\")\n",
        "df_mergeds.head()"
      ],
      "execution_count": null,
      "outputs": [
        {
          "output_type": "execute_result",
          "data": {
            "text/html": [
              "<div>\n",
              "<style scoped>\n",
              "    .dataframe tbody tr th:only-of-type {\n",
              "        vertical-align: middle;\n",
              "    }\n",
              "\n",
              "    .dataframe tbody tr th {\n",
              "        vertical-align: top;\n",
              "    }\n",
              "\n",
              "    .dataframe thead th {\n",
              "        text-align: right;\n",
              "    }\n",
              "</style>\n",
              "<table border=\"1\" class=\"dataframe\">\n",
              "  <thead>\n",
              "    <tr style=\"text-align: right;\">\n",
              "      <th></th>\n",
              "      <th>date</th>\n",
              "      <th>close</th>\n",
              "      <th>neg</th>\n",
              "      <th>neu</th>\n",
              "      <th>pos</th>\n",
              "      <th>compound</th>\n",
              "    </tr>\n",
              "  </thead>\n",
              "  <tbody>\n",
              "    <tr>\n",
              "      <th>11136</th>\n",
              "      <td>2021-03-10</td>\n",
              "      <td>498.730011</td>\n",
              "      <td>0.091</td>\n",
              "      <td>0.767</td>\n",
              "      <td>0.142</td>\n",
              "      <td>0.1779</td>\n",
              "    </tr>\n",
              "    <tr>\n",
              "      <th>19378</th>\n",
              "      <td>2021-03-11</td>\n",
              "      <td>519.739990</td>\n",
              "      <td>0.085</td>\n",
              "      <td>0.826</td>\n",
              "      <td>0.088</td>\n",
              "      <td>0.0258</td>\n",
              "    </tr>\n",
              "    <tr>\n",
              "      <th>32067</th>\n",
              "      <td>2021-03-12</td>\n",
              "      <td>514.239990</td>\n",
              "      <td>0.091</td>\n",
              "      <td>0.767</td>\n",
              "      <td>0.142</td>\n",
              "      <td>0.1779</td>\n",
              "    </tr>\n",
              "    <tr>\n",
              "      <th>38676</th>\n",
              "      <td>2021-03-15</td>\n",
              "      <td>527.650024</td>\n",
              "      <td>0.085</td>\n",
              "      <td>0.826</td>\n",
              "      <td>0.088</td>\n",
              "      <td>0.0258</td>\n",
              "    </tr>\n",
              "    <tr>\n",
              "      <th>65551</th>\n",
              "      <td>2021-03-16</td>\n",
              "      <td>531.650024</td>\n",
              "      <td>0.091</td>\n",
              "      <td>0.767</td>\n",
              "      <td>0.142</td>\n",
              "      <td>0.1779</td>\n",
              "    </tr>\n",
              "  </tbody>\n",
              "</table>\n",
              "</div>"
            ],
            "text/plain": [
              "             date       close    neg    neu    pos  compound\n",
              "11136  2021-03-10  498.730011  0.091  0.767  0.142    0.1779\n",
              "19378  2021-03-11  519.739990  0.085  0.826  0.088    0.0258\n",
              "32067  2021-03-12  514.239990  0.091  0.767  0.142    0.1779\n",
              "38676  2021-03-15  527.650024  0.085  0.826  0.088    0.0258\n",
              "65551  2021-03-16  531.650024  0.091  0.767  0.142    0.1779"
            ]
          },
          "metadata": {
            "tags": []
          },
          "execution_count": 21
        }
      ]
    },
    {
      "cell_type": "code",
      "metadata": {
        "id": "dK15Enl3rDLz"
      },
      "source": [
        "df_mergeds.to_csv('/content/drive/MyDrive/nvidia.csv', index = False)"
      ],
      "execution_count": null,
      "outputs": []
    },
    {
      "cell_type": "code",
      "metadata": {
        "id": "diHz2kaTKpY7"
      },
      "source": [
        "# Min-Max Normalization \n",
        "from sklearn import preprocessing\n",
        "# Create x, where x the 'scores' column's values as floats\n",
        "x = df_mergeds[['close']].values.astype(float)\n",
        "# Create a minimum and maximum processor object\n",
        "min_max_scaler = preprocessing.MinMaxScaler()\n",
        "# Create an object to transform the data to fit minmax processor\n",
        "x_scaled = min_max_scaler.fit_transform(x)\n",
        "# adding the new column to our dataframe\n",
        "df_mergeds['normal_close']= x_scaled"
      ],
      "execution_count": null,
      "outputs": []
    },
    {
      "cell_type": "code",
      "metadata": {
        "colab": {
          "base_uri": "https://localhost:8080/",
          "height": 639
        },
        "id": "MmNhn9t7Kuel",
        "outputId": "539f8cf3-700e-48e6-a855-cb820aa02ddd"
      },
      "source": [
        "import matplotlib.pyplot as plt\n",
        "import pandas as pd\n",
        "# gca stands for 'get current axis'\n",
        "ax = plt.gca()\n",
        "df_mergeds.plot(kind='line',x='date',y='normal_close',ax=ax, figsize=(18,10))\n",
        "ax.set_ylabel(\"Normalized stock close\")\n",
        "df_mergeds.plot(kind='line',x='date',y='pos', color='red',title='Nvidia Stock prices and the News Sentiments', ax=ax, figsize=(18,10))\n",
        "#plt.show()"
      ],
      "execution_count": null,
      "outputs": [
        {
          "output_type": "execute_result",
          "data": {
            "text/plain": [
              "<matplotlib.axes._subplots.AxesSubplot at 0x7f4be0f4c510>"
            ]
          },
          "metadata": {
            "tags": []
          },
          "execution_count": 80
        },
        {
          "output_type": "execute_result",
          "data": {
            "text/plain": [
              "Text(0, 0.5, 'Normalized stock close')"
            ]
          },
          "metadata": {
            "tags": []
          },
          "execution_count": 80
        },
        {
          "output_type": "execute_result",
          "data": {
            "text/plain": [
              "<matplotlib.axes._subplots.AxesSubplot at 0x7f4be0f4c510>"
            ]
          },
          "metadata": {
            "tags": []
          },
          "execution_count": 80
        },
        {
          "output_type": "display_data",
          "data": {
            "image/png": "[encoded data removed]",
            "text/plain": [
              "<Figure size 1296x720 with 1 Axes>"
            ]
          },
          "metadata": {
            "tags": [],
            "needs_background": "light"
          }
        }
      ]
    },
    {
      "cell_type": "code",
      "metadata": {
        "colab": {
          "base_uri": "https://localhost:8080/"
        },
        "id": "eTU4fVEmLmpz",
        "outputId": "ae2c6ea4-a2dc-4742-8c19-f73c3992cc2f"
      },
      "source": [
        "from scipy.stats import pearsonr\n",
        "from scipy.stats import spearmanr\n",
        "# calculate the Pearsons and Spearmans correlation between two variables\n",
        "# prepare data\n",
        "data1 = df_mergeds['pos']  \n",
        "data2 = df_mergeds['normal_close'] \n",
        "# calculate Pearson's correlation\n",
        "corr, _ = pearsonr(data1, data2)\n",
        "print('Pearsons correlation: %.3f' % corr)\n",
        "# calculate Spearmans's correlation (non gaussian distribution)\n",
        "corr, _ = spearmanr(data1, data2)\n",
        "print('Spearmans correlation: %.3f' % corr)"
      ],
      "execution_count": null,
      "outputs": [
        {
          "output_type": "stream",
          "text": [
            "Pearsons correlation: -0.428\n",
            "Spearmans correlation: -0.483\n"
          ],
          "name": "stdout"
        }
      ]
    }
  ]
}